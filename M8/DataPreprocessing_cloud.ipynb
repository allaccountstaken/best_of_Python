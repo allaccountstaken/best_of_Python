{
  "nbformat": 4,
  "nbformat_minor": 0,
  "metadata": {
    "kernelspec": {
      "display_name": "Python 3",
      "language": "python",
      "name": "python3"
    },
    "language_info": {
      "codemirror_mode": {
        "name": "ipython",
        "version": 3
      },
      "file_extension": ".py",
      "mimetype": "text/x-python",
      "name": "python",
      "nbconvert_exporter": "python",
      "pygments_lexer": "ipython3",
      "version": "3.8.8"
    },
    "colab": {
      "name": "Exercise_DataPreprocessing.ipynb",
      "provenance": [],
      "collapsed_sections": []
    }
  },
  "cells": [
    {
      "cell_type": "markdown",
      "metadata": {
        "id": "dzEVkf4p3M4_"
      },
      "source": [
        "Exercise: Data Pre-processing\n",
        "- Name of activity: Data Pre-processing\n",
        "- Your name: Dima Mikhaylov\n",
        "- Your UVA computing ID: agp7dp"
      ]
    },
    {
      "cell_type": "code",
      "metadata": {
        "id": "ruRfWBFu3M5E"
      },
      "source": [
        "import pandas as pd\n",
        "import numpy as np\n",
        "\n",
        "from google.colab import drive\n",
        "from google.colab import files\n",
        "\n",
        "import io"
      ],
      "execution_count": null,
      "outputs": []
    },
    {
      "cell_type": "markdown",
      "metadata": {
        "id": "X5UtdAIf3M5F"
      },
      "source": [
        "## Step 1: load and inspect the dataset "
      ]
    },
    {
      "cell_type": "markdown",
      "metadata": {
        "id": "ORVj5dTk3M5F"
      },
      "source": [
        "#### The dataset was retrieved on 10/22/2021 using download functionality. It contains information about recently (last 20 years) failed banks, i.e. name of the bank and IDs, date of restructuring and costs, as well as location of headquarters and size of assets and deposits. Source: https://www.fdic.gov/resources/resolutions/bank-failures/failed-bank-list/"
      ]
    },
    {
      "cell_type": "code",
      "metadata": {
        "colab": {
          "base_uri": "https://localhost:8080/"
        },
        "id": "wbo6IXMd3pBW",
        "outputId": "0500c307-e14a-4d21-c2e5-8c80749d4ab4"
      },
      "source": [
        "# Mount the drive\n",
        "drive.mount('/content/drive')"
      ],
      "execution_count": null,
      "outputs": [
        {
          "output_type": "stream",
          "name": "stdout",
          "text": [
            "Mounted at /content/drive\n"
          ]
        }
      ]
    },
    {
      "cell_type": "code",
      "metadata": {
        "colab": {
          "resources": {
            "http://localhost:8080/nbextensions/google.colab/files.js": {
              "data": "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",
              "ok": true,
              "headers": [
                [
                  "content-type",
                  "application/javascript"
                ]
              ],
              "status": 200,
              "status_text": ""
            }
          },
          "base_uri": "https://localhost:8080/",
          "height": 72
        },
        "id": "-KlWJsXP3yeY",
        "outputId": "1b1cd819-d040-4504-c4d9-9730cee9fde5"
      },
      "source": [
        "# Upload data file\n",
        "uploaded = files.upload()"
      ],
      "execution_count": null,
      "outputs": [
        {
          "output_type": "display_data",
          "data": {
            "text/html": [
              "\n",
              "     <input type=\"file\" id=\"files-f0a5932a-3b79-472b-a519-288fff0cc06e\" name=\"files[]\" multiple disabled\n",
              "        style=\"border:none\" />\n",
              "     <output id=\"result-f0a5932a-3b79-472b-a519-288fff0cc06e\">\n",
              "      Upload widget is only available when the cell has been executed in the\n",
              "      current browser session. Please rerun this cell to enable.\n",
              "      </output>\n",
              "      <script src=\"/nbextensions/google.colab/files.js\"></script> "
            ],
            "text/plain": [
              "<IPython.core.display.HTML object>"
            ]
          },
          "metadata": {}
        },
        {
          "output_type": "stream",
          "name": "stdout",
          "text": [
            "Saving failed_banks.csv to failed_banks.csv\n"
          ]
        }
      ]
    },
    {
      "cell_type": "code",
      "metadata": {
        "colab": {
          "base_uri": "https://localhost:8080/"
        },
        "id": "cxk1FcuY37zb",
        "outputId": "69a4ce0a-5ffb-481f-cc24-66e1ecc36882"
      },
      "source": [
        "# Check if netflix file is present in the current directory\n",
        "!ls"
      ],
      "execution_count": null,
      "outputs": [
        {
          "output_type": "stream",
          "name": "stdout",
          "text": [
            "drive  failed_banks.csv  sample_data\n"
          ]
        }
      ]
    },
    {
      "cell_type": "code",
      "metadata": {
        "colab": {
          "base_uri": "https://localhost:8080/",
          "height": 204
        },
        "id": "Kblausgf3M5F",
        "outputId": "31773bfb-310c-4284-c51b-66bd2723432b"
      },
      "source": [
        "df = pd.read_csv('failed_banks.csv')\n",
        "df.head()"
      ],
      "execution_count": null,
      "outputs": [
        {
          "output_type": "execute_result",
          "data": {
            "text/html": [
              "<div>\n",
              "<style scoped>\n",
              "    .dataframe tbody tr th:only-of-type {\n",
              "        vertical-align: middle;\n",
              "    }\n",
              "\n",
              "    .dataframe tbody tr th {\n",
              "        vertical-align: top;\n",
              "    }\n",
              "\n",
              "    .dataframe thead th {\n",
              "        text-align: right;\n",
              "    }\n",
              "</style>\n",
              "<table border=\"1\" class=\"dataframe\">\n",
              "  <thead>\n",
              "    <tr style=\"text-align: right;\">\n",
              "      <th></th>\n",
              "      <th>CERT</th>\n",
              "      <th>CHCLASS1</th>\n",
              "      <th>CITYST</th>\n",
              "      <th>COST</th>\n",
              "      <th>FAILDATE</th>\n",
              "      <th>FIN</th>\n",
              "      <th>ID</th>\n",
              "      <th>NAME</th>\n",
              "      <th>QBFASSET</th>\n",
              "      <th>QBFDEP</th>\n",
              "      <th>RESTYPE</th>\n",
              "      <th>RESTYPE1</th>\n",
              "      <th>SAVR</th>\n",
              "    </tr>\n",
              "  </thead>\n",
              "  <tbody>\n",
              "    <tr>\n",
              "      <th>0</th>\n",
              "      <td>21111</td>\n",
              "      <td>N</td>\n",
              "      <td>NEWARK, NJ</td>\n",
              "      <td>2491.0</td>\n",
              "      <td>11/01/2019</td>\n",
              "      <td>10534</td>\n",
              "      <td>4100</td>\n",
              "      <td>CITY NATIONAL BANK OF NEW JERSEY</td>\n",
              "      <td>120574</td>\n",
              "      <td>111234</td>\n",
              "      <td>FAILURE</td>\n",
              "      <td>PA</td>\n",
              "      <td>DIF</td>\n",
              "    </tr>\n",
              "    <tr>\n",
              "      <th>1</th>\n",
              "      <td>58112</td>\n",
              "      <td>NM</td>\n",
              "      <td>LOUISA, KY</td>\n",
              "      <td>4547.0</td>\n",
              "      <td>10/25/2019</td>\n",
              "      <td>10532</td>\n",
              "      <td>4098</td>\n",
              "      <td>LOUISA COMMUNITY BANK</td>\n",
              "      <td>28163</td>\n",
              "      <td>25174</td>\n",
              "      <td>FAILURE</td>\n",
              "      <td>PA</td>\n",
              "      <td>DIF</td>\n",
              "    </tr>\n",
              "    <tr>\n",
              "      <th>2</th>\n",
              "      <td>58317</td>\n",
              "      <td>SB</td>\n",
              "      <td>MAUMEE, OH</td>\n",
              "      <td>2188.0</td>\n",
              "      <td>10/25/2019</td>\n",
              "      <td>10533</td>\n",
              "      <td>4099</td>\n",
              "      <td>RESOLUTE BANK</td>\n",
              "      <td>23292</td>\n",
              "      <td>22885</td>\n",
              "      <td>FAILURE</td>\n",
              "      <td>PA</td>\n",
              "      <td>DIF</td>\n",
              "    </tr>\n",
              "    <tr>\n",
              "      <th>3</th>\n",
              "      <td>10716</td>\n",
              "      <td>NM</td>\n",
              "      <td>COOPER, TX</td>\n",
              "      <td>21577.0</td>\n",
              "      <td>05/31/2019</td>\n",
              "      <td>10531</td>\n",
              "      <td>4097</td>\n",
              "      <td>ENLOE STATE BANK</td>\n",
              "      <td>36738</td>\n",
              "      <td>31254</td>\n",
              "      <td>FAILURE</td>\n",
              "      <td>PI</td>\n",
              "      <td>DIF</td>\n",
              "    </tr>\n",
              "    <tr>\n",
              "      <th>4</th>\n",
              "      <td>30570</td>\n",
              "      <td>SB</td>\n",
              "      <td>CHICAGO, IL</td>\n",
              "      <td>86826.0</td>\n",
              "      <td>12/15/2017</td>\n",
              "      <td>10530</td>\n",
              "      <td>4096</td>\n",
              "      <td>WASHINGTON FEDERAL BANK FOR SAVINGS</td>\n",
              "      <td>166345</td>\n",
              "      <td>143964</td>\n",
              "      <td>FAILURE</td>\n",
              "      <td>PI</td>\n",
              "      <td>DIF</td>\n",
              "    </tr>\n",
              "  </tbody>\n",
              "</table>\n",
              "</div>"
            ],
            "text/plain": [
              "    CERT CHCLASS1       CITYST     COST  ...  QBFDEP  RESTYPE  RESTYPE1 SAVR\n",
              "0  21111        N   NEWARK, NJ   2491.0  ...  111234  FAILURE        PA  DIF\n",
              "1  58112       NM   LOUISA, KY   4547.0  ...   25174  FAILURE        PA  DIF\n",
              "2  58317       SB   MAUMEE, OH   2188.0  ...   22885  FAILURE        PA  DIF\n",
              "3  10716       NM   COOPER, TX  21577.0  ...   31254  FAILURE        PI  DIF\n",
              "4  30570       SB  CHICAGO, IL  86826.0  ...  143964  FAILURE        PI  DIF\n",
              "\n",
              "[5 rows x 13 columns]"
            ]
          },
          "metadata": {},
          "execution_count": 5
        }
      ]
    },
    {
      "cell_type": "code",
      "metadata": {
        "colab": {
          "base_uri": "https://localhost:8080/"
        },
        "id": "JIeDjrTv3M5H",
        "outputId": "933733c1-5703-4919-b872-d5d9f810d462"
      },
      "source": [
        "df.shape"
      ],
      "execution_count": null,
      "outputs": [
        {
          "output_type": "execute_result",
          "data": {
            "text/plain": [
              "(577, 13)"
            ]
          },
          "metadata": {},
          "execution_count": 6
        }
      ]
    },
    {
      "cell_type": "code",
      "metadata": {
        "colab": {
          "base_uri": "https://localhost:8080/"
        },
        "id": "Fn1O279a3M5I",
        "outputId": "a932620e-f4bd-4252-d6c5-bd1bb6435459"
      },
      "source": [
        "df.info()"
      ],
      "execution_count": null,
      "outputs": [
        {
          "output_type": "stream",
          "name": "stdout",
          "text": [
            "<class 'pandas.core.frame.DataFrame'>\n",
            "RangeIndex: 577 entries, 0 to 576\n",
            "Data columns (total 13 columns):\n",
            " #   Column    Non-Null Count  Dtype  \n",
            "---  ------    --------------  -----  \n",
            " 0   CERT      577 non-null    int64  \n",
            " 1   CHCLASS1  577 non-null    object \n",
            " 2   CITYST    577 non-null    object \n",
            " 3   COST      563 non-null    float64\n",
            " 4   FAILDATE  577 non-null    object \n",
            " 5   FIN       577 non-null    int64  \n",
            " 6   ID        577 non-null    int64  \n",
            " 7   NAME      577 non-null    object \n",
            " 8   QBFASSET  577 non-null    int64  \n",
            " 9   QBFDEP    577 non-null    int64  \n",
            " 10  RESTYPE   577 non-null    object \n",
            " 11  RESTYPE1  577 non-null    object \n",
            " 12  SAVR      577 non-null    object \n",
            "dtypes: float64(1), int64(5), object(7)\n",
            "memory usage: 58.7+ KB\n"
          ]
        }
      ]
    },
    {
      "cell_type": "markdown",
      "metadata": {
        "id": "tmornpdM3M5I"
      },
      "source": [
        "## Step 2: drop unused columns"
      ]
    },
    {
      "cell_type": "markdown",
      "metadata": {
        "id": "CHPbkJzW3M5J"
      },
      "source": [
        "#### These columns will not be used in my analysis and should be dropped from memory:"
      ]
    },
    {
      "cell_type": "code",
      "metadata": {
        "colab": {
          "base_uri": "https://localhost:8080/",
          "height": 204
        },
        "id": "9SH6fHxt3M5J",
        "outputId": "18a95242-8ca1-4e84-cbd1-4f13ce1be2b8"
      },
      "source": [
        "df.drop(['FIN', 'ID', 'RESTYPE1', 'SAVR' ], axis=1, inplace=True)\n",
        "df.head()"
      ],
      "execution_count": null,
      "outputs": [
        {
          "output_type": "execute_result",
          "data": {
            "text/html": [
              "<div>\n",
              "<style scoped>\n",
              "    .dataframe tbody tr th:only-of-type {\n",
              "        vertical-align: middle;\n",
              "    }\n",
              "\n",
              "    .dataframe tbody tr th {\n",
              "        vertical-align: top;\n",
              "    }\n",
              "\n",
              "    .dataframe thead th {\n",
              "        text-align: right;\n",
              "    }\n",
              "</style>\n",
              "<table border=\"1\" class=\"dataframe\">\n",
              "  <thead>\n",
              "    <tr style=\"text-align: right;\">\n",
              "      <th></th>\n",
              "      <th>CERT</th>\n",
              "      <th>CHCLASS1</th>\n",
              "      <th>CITYST</th>\n",
              "      <th>COST</th>\n",
              "      <th>FAILDATE</th>\n",
              "      <th>NAME</th>\n",
              "      <th>QBFASSET</th>\n",
              "      <th>QBFDEP</th>\n",
              "      <th>RESTYPE</th>\n",
              "    </tr>\n",
              "  </thead>\n",
              "  <tbody>\n",
              "    <tr>\n",
              "      <th>0</th>\n",
              "      <td>21111</td>\n",
              "      <td>N</td>\n",
              "      <td>NEWARK, NJ</td>\n",
              "      <td>2491.0</td>\n",
              "      <td>11/01/2019</td>\n",
              "      <td>CITY NATIONAL BANK OF NEW JERSEY</td>\n",
              "      <td>120574</td>\n",
              "      <td>111234</td>\n",
              "      <td>FAILURE</td>\n",
              "    </tr>\n",
              "    <tr>\n",
              "      <th>1</th>\n",
              "      <td>58112</td>\n",
              "      <td>NM</td>\n",
              "      <td>LOUISA, KY</td>\n",
              "      <td>4547.0</td>\n",
              "      <td>10/25/2019</td>\n",
              "      <td>LOUISA COMMUNITY BANK</td>\n",
              "      <td>28163</td>\n",
              "      <td>25174</td>\n",
              "      <td>FAILURE</td>\n",
              "    </tr>\n",
              "    <tr>\n",
              "      <th>2</th>\n",
              "      <td>58317</td>\n",
              "      <td>SB</td>\n",
              "      <td>MAUMEE, OH</td>\n",
              "      <td>2188.0</td>\n",
              "      <td>10/25/2019</td>\n",
              "      <td>RESOLUTE BANK</td>\n",
              "      <td>23292</td>\n",
              "      <td>22885</td>\n",
              "      <td>FAILURE</td>\n",
              "    </tr>\n",
              "    <tr>\n",
              "      <th>3</th>\n",
              "      <td>10716</td>\n",
              "      <td>NM</td>\n",
              "      <td>COOPER, TX</td>\n",
              "      <td>21577.0</td>\n",
              "      <td>05/31/2019</td>\n",
              "      <td>ENLOE STATE BANK</td>\n",
              "      <td>36738</td>\n",
              "      <td>31254</td>\n",
              "      <td>FAILURE</td>\n",
              "    </tr>\n",
              "    <tr>\n",
              "      <th>4</th>\n",
              "      <td>30570</td>\n",
              "      <td>SB</td>\n",
              "      <td>CHICAGO, IL</td>\n",
              "      <td>86826.0</td>\n",
              "      <td>12/15/2017</td>\n",
              "      <td>WASHINGTON FEDERAL BANK FOR SAVINGS</td>\n",
              "      <td>166345</td>\n",
              "      <td>143964</td>\n",
              "      <td>FAILURE</td>\n",
              "    </tr>\n",
              "  </tbody>\n",
              "</table>\n",
              "</div>"
            ],
            "text/plain": [
              "    CERT CHCLASS1       CITYST  ...  QBFASSET  QBFDEP  RESTYPE\n",
              "0  21111        N   NEWARK, NJ  ...    120574  111234  FAILURE\n",
              "1  58112       NM   LOUISA, KY  ...     28163   25174  FAILURE\n",
              "2  58317       SB   MAUMEE, OH  ...     23292   22885  FAILURE\n",
              "3  10716       NM   COOPER, TX  ...     36738   31254  FAILURE\n",
              "4  30570       SB  CHICAGO, IL  ...    166345  143964  FAILURE\n",
              "\n",
              "[5 rows x 9 columns]"
            ]
          },
          "metadata": {},
          "execution_count": 8
        }
      ]
    },
    {
      "cell_type": "markdown",
      "metadata": {
        "id": "w2BHuPjg3M5K"
      },
      "source": [
        "## Step 3: find and impute missing values"
      ]
    },
    {
      "cell_type": "markdown",
      "metadata": {
        "id": "4I3jEwQB3M5K"
      },
      "source": [
        "#### Checking if there are any missing data points:"
      ]
    },
    {
      "cell_type": "code",
      "metadata": {
        "colab": {
          "base_uri": "https://localhost:8080/"
        },
        "id": "i5bbsmKY3M5K",
        "outputId": "80634423-aec7-44be-b1b4-a5d0f73abb01"
      },
      "source": [
        "df.isnull().sum().sum()"
      ],
      "execution_count": null,
      "outputs": [
        {
          "output_type": "execute_result",
          "data": {
            "text/plain": [
              "14"
            ]
          },
          "metadata": {},
          "execution_count": 9
        }
      ]
    },
    {
      "cell_type": "code",
      "metadata": {
        "colab": {
          "base_uri": "https://localhost:8080/",
          "height": 483
        },
        "id": "K2htyxnK3M5K",
        "outputId": "a5723bee-70a5-45e1-8d0e-3e0b4f4c57e7"
      },
      "source": [
        "missing_data = df[df.isnull().any(axis=1)]\n",
        "missing_data"
      ],
      "execution_count": null,
      "outputs": [
        {
          "output_type": "execute_result",
          "data": {
            "text/html": [
              "<div>\n",
              "<style scoped>\n",
              "    .dataframe tbody tr th:only-of-type {\n",
              "        vertical-align: middle;\n",
              "    }\n",
              "\n",
              "    .dataframe tbody tr th {\n",
              "        vertical-align: top;\n",
              "    }\n",
              "\n",
              "    .dataframe thead th {\n",
              "        text-align: right;\n",
              "    }\n",
              "</style>\n",
              "<table border=\"1\" class=\"dataframe\">\n",
              "  <thead>\n",
              "    <tr style=\"text-align: right;\">\n",
              "      <th></th>\n",
              "      <th>CERT</th>\n",
              "      <th>CHCLASS1</th>\n",
              "      <th>CITYST</th>\n",
              "      <th>COST</th>\n",
              "      <th>FAILDATE</th>\n",
              "      <th>NAME</th>\n",
              "      <th>QBFASSET</th>\n",
              "      <th>QBFDEP</th>\n",
              "      <th>RESTYPE</th>\n",
              "    </tr>\n",
              "  </thead>\n",
              "  <tbody>\n",
              "    <tr>\n",
              "      <th>505</th>\n",
              "      <td>3510</td>\n",
              "      <td>N</td>\n",
              "      <td>CHARLOTTE, NC</td>\n",
              "      <td>NaN</td>\n",
              "      <td>01/16/2009</td>\n",
              "      <td>BANK OF AMERICA N.A.</td>\n",
              "      <td>1471631047</td>\n",
              "      <td>954677580</td>\n",
              "      <td>ASSISTANCE</td>\n",
              "    </tr>\n",
              "    <tr>\n",
              "      <th>507</th>\n",
              "      <td>25178</td>\n",
              "      <td>N</td>\n",
              "      <td>SAN FRANCISCO, CA</td>\n",
              "      <td>NaN</td>\n",
              "      <td>01/16/2009</td>\n",
              "      <td>BANK OF AMERICA CALIFORNIA N.A.</td>\n",
              "      <td>21502223</td>\n",
              "      <td>500</td>\n",
              "      <td>ASSISTANCE</td>\n",
              "    </tr>\n",
              "    <tr>\n",
              "      <th>508</th>\n",
              "      <td>27374</td>\n",
              "      <td>NM</td>\n",
              "      <td>SALT LAKE CITY, UT</td>\n",
              "      <td>NaN</td>\n",
              "      <td>01/16/2009</td>\n",
              "      <td>MERRILL LYNCH BANK USA</td>\n",
              "      <td>61809503</td>\n",
              "      <td>53620324</td>\n",
              "      <td>ASSISTANCE</td>\n",
              "    </tr>\n",
              "    <tr>\n",
              "      <th>509</th>\n",
              "      <td>33143</td>\n",
              "      <td>SB</td>\n",
              "      <td>ALEXANDRIA, VA</td>\n",
              "      <td>NaN</td>\n",
              "      <td>01/16/2009</td>\n",
              "      <td>COUNTRYWIDE BANK FSB</td>\n",
              "      <td>117978966</td>\n",
              "      <td>43663251</td>\n",
              "      <td>ASSISTANCE</td>\n",
              "    </tr>\n",
              "    <tr>\n",
              "      <th>510</th>\n",
              "      <td>33318</td>\n",
              "      <td>N</td>\n",
              "      <td>WILMINGTON, DE</td>\n",
              "      <td>NaN</td>\n",
              "      <td>01/16/2009</td>\n",
              "      <td>FIA CARD SERVICES N.A.</td>\n",
              "      <td>159637136</td>\n",
              "      <td>9816599</td>\n",
              "      <td>ASSISTANCE</td>\n",
              "    </tr>\n",
              "    <tr>\n",
              "      <th>511</th>\n",
              "      <td>34571</td>\n",
              "      <td>SB</td>\n",
              "      <td>NEW YORK, NY</td>\n",
              "      <td>NaN</td>\n",
              "      <td>01/16/2009</td>\n",
              "      <td>MERRILL LYNCH BANK &amp; TRUST CO FSB</td>\n",
              "      <td>37986413</td>\n",
              "      <td>28539028</td>\n",
              "      <td>ASSISTANCE</td>\n",
              "    </tr>\n",
              "    <tr>\n",
              "      <th>513</th>\n",
              "      <td>35453</td>\n",
              "      <td>N</td>\n",
              "      <td>PORTLAND, OR</td>\n",
              "      <td>NaN</td>\n",
              "      <td>01/16/2009</td>\n",
              "      <td>BANK OF AMERICA OREGON N.A.</td>\n",
              "      <td>11526309</td>\n",
              "      <td>500</td>\n",
              "      <td>ASSISTANCE</td>\n",
              "    </tr>\n",
              "    <tr>\n",
              "      <th>514</th>\n",
              "      <td>58032</td>\n",
              "      <td>N</td>\n",
              "      <td>PROVIDENCE, RI</td>\n",
              "      <td>NaN</td>\n",
              "      <td>01/16/2009</td>\n",
              "      <td>BANK OF AMERICA RHODE ISLAND N.A.</td>\n",
              "      <td>35410586</td>\n",
              "      <td>500</td>\n",
              "      <td>ASSISTANCE</td>\n",
              "    </tr>\n",
              "    <tr>\n",
              "      <th>518</th>\n",
              "      <td>7213</td>\n",
              "      <td>N</td>\n",
              "      <td>LAS VEGAS, NV</td>\n",
              "      <td>NaN</td>\n",
              "      <td>11/23/2008</td>\n",
              "      <td>CITIBANK, NATIONAL ASSOCIATION</td>\n",
              "      <td>1207007000</td>\n",
              "      <td>230042000</td>\n",
              "      <td>ASSISTANCE</td>\n",
              "    </tr>\n",
              "    <tr>\n",
              "      <th>519</th>\n",
              "      <td>18708</td>\n",
              "      <td>SB</td>\n",
              "      <td>WILMINGTON, DE</td>\n",
              "      <td>NaN</td>\n",
              "      <td>11/23/2008</td>\n",
              "      <td>CITICORP TRUST BANK, FSB</td>\n",
              "      <td>19599414</td>\n",
              "      <td>7231013</td>\n",
              "      <td>ASSISTANCE</td>\n",
              "    </tr>\n",
              "    <tr>\n",
              "      <th>520</th>\n",
              "      <td>18923</td>\n",
              "      <td>NM</td>\n",
              "      <td>CENTURY CITY, CA</td>\n",
              "      <td>NaN</td>\n",
              "      <td>11/23/2008</td>\n",
              "      <td>CITIBANK (BANAMEX USA)</td>\n",
              "      <td>1322720</td>\n",
              "      <td>876086</td>\n",
              "      <td>ASSISTANCE</td>\n",
              "    </tr>\n",
              "    <tr>\n",
              "      <th>521</th>\n",
              "      <td>23360</td>\n",
              "      <td>N</td>\n",
              "      <td>SIOUX FALLS, SD</td>\n",
              "      <td>NaN</td>\n",
              "      <td>11/23/2008</td>\n",
              "      <td>CITIBANK (SOUTH DAKOTA), N.A.</td>\n",
              "      <td>77737957</td>\n",
              "      <td>42356986</td>\n",
              "      <td>ASSISTANCE</td>\n",
              "    </tr>\n",
              "    <tr>\n",
              "      <th>522</th>\n",
              "      <td>58180</td>\n",
              "      <td>N</td>\n",
              "      <td>SIOUX FALLS, SD</td>\n",
              "      <td>NaN</td>\n",
              "      <td>11/23/2008</td>\n",
              "      <td>DEPARTMENT STORES NATIONAL BANK</td>\n",
              "      <td>374903</td>\n",
              "      <td>300881</td>\n",
              "      <td>ASSISTANCE</td>\n",
              "    </tr>\n",
              "    <tr>\n",
              "      <th>561</th>\n",
              "      <td>26652</td>\n",
              "      <td>N</td>\n",
              "      <td>BOCA RATON, FL</td>\n",
              "      <td>NaN</td>\n",
              "      <td>03/01/2002</td>\n",
              "      <td>NET FIRST NATIONAL BANK</td>\n",
              "      <td>37207</td>\n",
              "      <td>31601</td>\n",
              "      <td>FAILURE</td>\n",
              "    </tr>\n",
              "  </tbody>\n",
              "</table>\n",
              "</div>"
            ],
            "text/plain": [
              "      CERT CHCLASS1              CITYST  ...    QBFASSET     QBFDEP     RESTYPE\n",
              "505   3510        N       CHARLOTTE, NC  ...  1471631047  954677580  ASSISTANCE\n",
              "507  25178        N   SAN FRANCISCO, CA  ...    21502223        500  ASSISTANCE\n",
              "508  27374       NM  SALT LAKE CITY, UT  ...    61809503   53620324  ASSISTANCE\n",
              "509  33143       SB      ALEXANDRIA, VA  ...   117978966   43663251  ASSISTANCE\n",
              "510  33318        N      WILMINGTON, DE  ...   159637136    9816599  ASSISTANCE\n",
              "511  34571       SB        NEW YORK, NY  ...    37986413   28539028  ASSISTANCE\n",
              "513  35453        N        PORTLAND, OR  ...    11526309        500  ASSISTANCE\n",
              "514  58032        N      PROVIDENCE, RI  ...    35410586        500  ASSISTANCE\n",
              "518   7213        N       LAS VEGAS, NV  ...  1207007000  230042000  ASSISTANCE\n",
              "519  18708       SB      WILMINGTON, DE  ...    19599414    7231013  ASSISTANCE\n",
              "520  18923       NM    CENTURY CITY, CA  ...     1322720     876086  ASSISTANCE\n",
              "521  23360        N     SIOUX FALLS, SD  ...    77737957   42356986  ASSISTANCE\n",
              "522  58180        N     SIOUX FALLS, SD  ...      374903     300881  ASSISTANCE\n",
              "561  26652        N      BOCA RATON, FL  ...       37207      31601     FAILURE\n",
              "\n",
              "[14 rows x 9 columns]"
            ]
          },
          "metadata": {},
          "execution_count": 10
        }
      ]
    },
    {
      "cell_type": "markdown",
      "metadata": {
        "id": "oTcv1Zob3M5L"
      },
      "source": [
        "#### It appears that 14 failed banks have `NaN` for restructuring costs. These missing values can be imputed either with zeros, or column average, or, even better, average % of costs to assets, as restructuring a bigger bank is more expensive. Need to check how these missing values related to the type pf resolution, `RESTYPE`. As shown below, there are 2 types - `ASSISTANCE` and `FAILURE`."
      ]
    },
    {
      "cell_type": "code",
      "metadata": {
        "colab": {
          "base_uri": "https://localhost:8080/",
          "height": 142
        },
        "id": "3qcO4raW3M5L",
        "outputId": "6330851b-1e6e-409a-929e-cb423376cb26"
      },
      "source": [
        "df.groupby([df['RESTYPE']]).count()"
      ],
      "execution_count": null,
      "outputs": [
        {
          "output_type": "execute_result",
          "data": {
            "text/html": [
              "<div>\n",
              "<style scoped>\n",
              "    .dataframe tbody tr th:only-of-type {\n",
              "        vertical-align: middle;\n",
              "    }\n",
              "\n",
              "    .dataframe tbody tr th {\n",
              "        vertical-align: top;\n",
              "    }\n",
              "\n",
              "    .dataframe thead th {\n",
              "        text-align: right;\n",
              "    }\n",
              "</style>\n",
              "<table border=\"1\" class=\"dataframe\">\n",
              "  <thead>\n",
              "    <tr style=\"text-align: right;\">\n",
              "      <th></th>\n",
              "      <th>CERT</th>\n",
              "      <th>CHCLASS1</th>\n",
              "      <th>CITYST</th>\n",
              "      <th>COST</th>\n",
              "      <th>FAILDATE</th>\n",
              "      <th>NAME</th>\n",
              "      <th>QBFASSET</th>\n",
              "      <th>QBFDEP</th>\n",
              "    </tr>\n",
              "    <tr>\n",
              "      <th>RESTYPE</th>\n",
              "      <th></th>\n",
              "      <th></th>\n",
              "      <th></th>\n",
              "      <th></th>\n",
              "      <th></th>\n",
              "      <th></th>\n",
              "      <th></th>\n",
              "      <th></th>\n",
              "    </tr>\n",
              "  </thead>\n",
              "  <tbody>\n",
              "    <tr>\n",
              "      <th>ASSISTANCE</th>\n",
              "      <td>13</td>\n",
              "      <td>13</td>\n",
              "      <td>13</td>\n",
              "      <td>0</td>\n",
              "      <td>13</td>\n",
              "      <td>13</td>\n",
              "      <td>13</td>\n",
              "      <td>13</td>\n",
              "    </tr>\n",
              "    <tr>\n",
              "      <th>FAILURE</th>\n",
              "      <td>564</td>\n",
              "      <td>564</td>\n",
              "      <td>564</td>\n",
              "      <td>563</td>\n",
              "      <td>564</td>\n",
              "      <td>564</td>\n",
              "      <td>564</td>\n",
              "      <td>564</td>\n",
              "    </tr>\n",
              "  </tbody>\n",
              "</table>\n",
              "</div>"
            ],
            "text/plain": [
              "            CERT  CHCLASS1  CITYST  COST  FAILDATE  NAME  QBFASSET  QBFDEP\n",
              "RESTYPE                                                                   \n",
              "ASSISTANCE    13        13      13     0        13    13        13      13\n",
              "FAILURE      564       564     564   563       564   564       564     564"
            ]
          },
          "metadata": {},
          "execution_count": 11
        }
      ]
    },
    {
      "cell_type": "markdown",
      "metadata": {
        "id": "Uu3sXqNc3M5L"
      },
      "source": [
        "#### Comparing groupings with missing values. It appears that all 13 `ASSISTANCE` cases have `NaN` for `COST` and thus it is warranted to impute these values with zeros. In other words, assistance is not a failure and there are no direct costs associated with bank's restructuring in this case. There is only one (\"NET FIRST NATIONAL BANK\") missing value in case of an actual `FAILURE` and it should probably be imputed with some kind of proxy for `COST`."
      ]
    },
    {
      "cell_type": "code",
      "metadata": {
        "colab": {
          "base_uri": "https://localhost:8080/",
          "height": 142
        },
        "id": "IsJrpBjf3M5M",
        "outputId": "0c573cae-1857-4334-b656-4e2760d2910b"
      },
      "source": [
        "missing_data.groupby([missing_data['RESTYPE']]).count()"
      ],
      "execution_count": null,
      "outputs": [
        {
          "output_type": "execute_result",
          "data": {
            "text/html": [
              "<div>\n",
              "<style scoped>\n",
              "    .dataframe tbody tr th:only-of-type {\n",
              "        vertical-align: middle;\n",
              "    }\n",
              "\n",
              "    .dataframe tbody tr th {\n",
              "        vertical-align: top;\n",
              "    }\n",
              "\n",
              "    .dataframe thead th {\n",
              "        text-align: right;\n",
              "    }\n",
              "</style>\n",
              "<table border=\"1\" class=\"dataframe\">\n",
              "  <thead>\n",
              "    <tr style=\"text-align: right;\">\n",
              "      <th></th>\n",
              "      <th>CERT</th>\n",
              "      <th>CHCLASS1</th>\n",
              "      <th>CITYST</th>\n",
              "      <th>COST</th>\n",
              "      <th>FAILDATE</th>\n",
              "      <th>NAME</th>\n",
              "      <th>QBFASSET</th>\n",
              "      <th>QBFDEP</th>\n",
              "    </tr>\n",
              "    <tr>\n",
              "      <th>RESTYPE</th>\n",
              "      <th></th>\n",
              "      <th></th>\n",
              "      <th></th>\n",
              "      <th></th>\n",
              "      <th></th>\n",
              "      <th></th>\n",
              "      <th></th>\n",
              "      <th></th>\n",
              "    </tr>\n",
              "  </thead>\n",
              "  <tbody>\n",
              "    <tr>\n",
              "      <th>ASSISTANCE</th>\n",
              "      <td>13</td>\n",
              "      <td>13</td>\n",
              "      <td>13</td>\n",
              "      <td>0</td>\n",
              "      <td>13</td>\n",
              "      <td>13</td>\n",
              "      <td>13</td>\n",
              "      <td>13</td>\n",
              "    </tr>\n",
              "    <tr>\n",
              "      <th>FAILURE</th>\n",
              "      <td>1</td>\n",
              "      <td>1</td>\n",
              "      <td>1</td>\n",
              "      <td>0</td>\n",
              "      <td>1</td>\n",
              "      <td>1</td>\n",
              "      <td>1</td>\n",
              "      <td>1</td>\n",
              "    </tr>\n",
              "  </tbody>\n",
              "</table>\n",
              "</div>"
            ],
            "text/plain": [
              "            CERT  CHCLASS1  CITYST  COST  FAILDATE  NAME  QBFASSET  QBFDEP\n",
              "RESTYPE                                                                   \n",
              "ASSISTANCE    13        13      13     0        13    13        13      13\n",
              "FAILURE        1         1       1     0         1     1         1       1"
            ]
          },
          "metadata": {},
          "execution_count": 12
        }
      ]
    },
    {
      "cell_type": "markdown",
      "metadata": {
        "id": "AIvkq7473M5M"
      },
      "source": [
        "#### Average `COST` of restructuring in case of failure come out to be around 130 million what is probably way too high for small \"NET FIRST NATIONAL BANK\" (Cert=26652) bank with total assets of only 37 million. "
      ]
    },
    {
      "cell_type": "code",
      "metadata": {
        "colab": {
          "base_uri": "https://localhost:8080/"
        },
        "id": "y0nplmbH3M5M",
        "outputId": "16f880c7-5982-4656-b340-8e6ff3168799"
      },
      "source": [
        "df.loc[df['RESTYPE']=='FAILURE']['COST'].mean()"
      ],
      "execution_count": null,
      "outputs": [
        {
          "output_type": "execute_result",
          "data": {
            "text/plain": [
              "130299.83836589698"
            ]
          },
          "metadata": {},
          "execution_count": 13
        }
      ]
    },
    {
      "cell_type": "markdown",
      "metadata": {
        "id": "i68fccw43M5N"
      },
      "source": [
        "#### Using relative costs seems warranted in this case - need to compute mean of `COST` / `QBFASSET` and apply it to the bank's assets to estimate possible restructuring costs. The overall average is around 23%."
      ]
    },
    {
      "cell_type": "code",
      "metadata": {
        "colab": {
          "base_uri": "https://localhost:8080/"
        },
        "id": "2cDzVZsz3M5O",
        "outputId": "04579063-2d81-43f4-f748-c14cf63e88b6"
      },
      "source": [
        "avg_CostsToAssets  = np.round(np.mean(df['COST']/df['QBFASSET']), 2)\n",
        "avg_CostsToAssets"
      ],
      "execution_count": null,
      "outputs": [
        {
          "output_type": "execute_result",
          "data": {
            "text/plain": [
              "0.23"
            ]
          },
          "metadata": {},
          "execution_count": 14
        }
      ]
    },
    {
      "cell_type": "markdown",
      "metadata": {
        "id": "JmQYtCH73M5O"
      },
      "source": [
        "#### Applying this `avg_CostsToAssets` multiplier to the bank's assets produced estimated costs of 8.6 million."
      ]
    },
    {
      "cell_type": "code",
      "metadata": {
        "colab": {
          "base_uri": "https://localhost:8080/"
        },
        "id": "bKzoO2wm3M5R",
        "outputId": "7afc4070-7570-46cb-e53f-f850d5814897"
      },
      "source": [
        "df.iloc[561, ]"
      ],
      "execution_count": null,
      "outputs": [
        {
          "output_type": "execute_result",
          "data": {
            "text/plain": [
              "CERT                          26652\n",
              "CHCLASS1                          N\n",
              "CITYST               BOCA RATON, FL\n",
              "COST                            NaN\n",
              "FAILDATE                 03/01/2002\n",
              "NAME        NET FIRST NATIONAL BANK\n",
              "QBFASSET                      37207\n",
              "QBFDEP                        31601\n",
              "RESTYPE                     FAILURE\n",
              "Name: 561, dtype: object"
            ]
          },
          "metadata": {},
          "execution_count": 15
        }
      ]
    },
    {
      "cell_type": "markdown",
      "metadata": {
        "id": "WKH2jAZf3M5R"
      },
      "source": [
        "#### After the `COST` value was imputed with the multiplier `avg_CostsToAssets`:"
      ]
    },
    {
      "cell_type": "code",
      "metadata": {
        "colab": {
          "base_uri": "https://localhost:8080/"
        },
        "id": "_d2Q7gxe3M5R",
        "outputId": "28b65df2-af12-49a3-99f9-eae85ddb315c"
      },
      "source": [
        "df.iloc[561, 3] = df.iloc[561, 6] * avg_CostsToAssets\n",
        "df.iloc[561, ]"
      ],
      "execution_count": null,
      "outputs": [
        {
          "output_type": "execute_result",
          "data": {
            "text/plain": [
              "CERT                          26652\n",
              "CHCLASS1                          N\n",
              "CITYST               BOCA RATON, FL\n",
              "COST                        8557.61\n",
              "FAILDATE                 03/01/2002\n",
              "NAME        NET FIRST NATIONAL BANK\n",
              "QBFASSET                      37207\n",
              "QBFDEP                        31601\n",
              "RESTYPE                     FAILURE\n",
              "Name: 561, dtype: object"
            ]
          },
          "metadata": {},
          "execution_count": 16
        }
      ]
    },
    {
      "cell_type": "markdown",
      "metadata": {
        "id": "Fv_YjY3M3M5R"
      },
      "source": [
        "#### After this imputation all remaining 13 missing values are associated with assistance `RESTYPE`  and thus should have zero `COST`, i.e. one can impute these missing values with zeros."
      ]
    },
    {
      "cell_type": "code",
      "metadata": {
        "colab": {
          "base_uri": "https://localhost:8080/",
          "height": 111
        },
        "id": "8RKKmZmS3M5R",
        "outputId": "ee1620f2-cacf-4456-df99-7b66269483e5"
      },
      "source": [
        "df[df.isnull().any(axis=1)].groupby(\"RESTYPE\").count()"
      ],
      "execution_count": null,
      "outputs": [
        {
          "output_type": "execute_result",
          "data": {
            "text/html": [
              "<div>\n",
              "<style scoped>\n",
              "    .dataframe tbody tr th:only-of-type {\n",
              "        vertical-align: middle;\n",
              "    }\n",
              "\n",
              "    .dataframe tbody tr th {\n",
              "        vertical-align: top;\n",
              "    }\n",
              "\n",
              "    .dataframe thead th {\n",
              "        text-align: right;\n",
              "    }\n",
              "</style>\n",
              "<table border=\"1\" class=\"dataframe\">\n",
              "  <thead>\n",
              "    <tr style=\"text-align: right;\">\n",
              "      <th></th>\n",
              "      <th>CERT</th>\n",
              "      <th>CHCLASS1</th>\n",
              "      <th>CITYST</th>\n",
              "      <th>COST</th>\n",
              "      <th>FAILDATE</th>\n",
              "      <th>NAME</th>\n",
              "      <th>QBFASSET</th>\n",
              "      <th>QBFDEP</th>\n",
              "    </tr>\n",
              "    <tr>\n",
              "      <th>RESTYPE</th>\n",
              "      <th></th>\n",
              "      <th></th>\n",
              "      <th></th>\n",
              "      <th></th>\n",
              "      <th></th>\n",
              "      <th></th>\n",
              "      <th></th>\n",
              "      <th></th>\n",
              "    </tr>\n",
              "  </thead>\n",
              "  <tbody>\n",
              "    <tr>\n",
              "      <th>ASSISTANCE</th>\n",
              "      <td>13</td>\n",
              "      <td>13</td>\n",
              "      <td>13</td>\n",
              "      <td>0</td>\n",
              "      <td>13</td>\n",
              "      <td>13</td>\n",
              "      <td>13</td>\n",
              "      <td>13</td>\n",
              "    </tr>\n",
              "  </tbody>\n",
              "</table>\n",
              "</div>"
            ],
            "text/plain": [
              "            CERT  CHCLASS1  CITYST  COST  FAILDATE  NAME  QBFASSET  QBFDEP\n",
              "RESTYPE                                                                   \n",
              "ASSISTANCE    13        13      13     0        13    13        13      13"
            ]
          },
          "metadata": {},
          "execution_count": 17
        }
      ]
    },
    {
      "cell_type": "code",
      "metadata": {
        "id": "X-cwc9vY3M5S"
      },
      "source": [
        "df['COST'].replace(np.nan, 0, inplace=True)"
      ],
      "execution_count": null,
      "outputs": []
    },
    {
      "cell_type": "markdown",
      "metadata": {
        "id": "K4dz94M-3M5S"
      },
      "source": [
        "#### The resulting DataFrame `df` does not have any missing values. "
      ]
    },
    {
      "cell_type": "code",
      "metadata": {
        "colab": {
          "base_uri": "https://localhost:8080/"
        },
        "id": "jsmgn4Of3M5S",
        "outputId": "af43de04-815a-41f3-8de9-801bae357304"
      },
      "source": [
        "df.isnull().sum().sum()"
      ],
      "execution_count": null,
      "outputs": [
        {
          "output_type": "execute_result",
          "data": {
            "text/plain": [
              "0"
            ]
          },
          "metadata": {},
          "execution_count": 19
        }
      ]
    },
    {
      "cell_type": "markdown",
      "metadata": {
        "id": "MO2zNW613M5S"
      },
      "source": [
        "## Step 4: split location into City and State"
      ]
    },
    {
      "cell_type": "markdown",
      "metadata": {
        "id": "sXA7R3Gg3M5S"
      },
      "source": [
        "#### It turns out that column `CITYST` has valuable information about headquarter's location, namely City and State, separated by column. These data can be split into 2 separate columns to be later used for state-level aggregation."
      ]
    },
    {
      "cell_type": "code",
      "metadata": {
        "colab": {
          "base_uri": "https://localhost:8080/",
          "height": 111
        },
        "id": "_qsHRKFq3M5S",
        "outputId": "aafb31ee-a49e-4344-db5d-7e2fce3e3a33"
      },
      "source": [
        "df.head(2)"
      ],
      "execution_count": null,
      "outputs": [
        {
          "output_type": "execute_result",
          "data": {
            "text/html": [
              "<div>\n",
              "<style scoped>\n",
              "    .dataframe tbody tr th:only-of-type {\n",
              "        vertical-align: middle;\n",
              "    }\n",
              "\n",
              "    .dataframe tbody tr th {\n",
              "        vertical-align: top;\n",
              "    }\n",
              "\n",
              "    .dataframe thead th {\n",
              "        text-align: right;\n",
              "    }\n",
              "</style>\n",
              "<table border=\"1\" class=\"dataframe\">\n",
              "  <thead>\n",
              "    <tr style=\"text-align: right;\">\n",
              "      <th></th>\n",
              "      <th>CERT</th>\n",
              "      <th>CHCLASS1</th>\n",
              "      <th>CITYST</th>\n",
              "      <th>COST</th>\n",
              "      <th>FAILDATE</th>\n",
              "      <th>NAME</th>\n",
              "      <th>QBFASSET</th>\n",
              "      <th>QBFDEP</th>\n",
              "      <th>RESTYPE</th>\n",
              "    </tr>\n",
              "  </thead>\n",
              "  <tbody>\n",
              "    <tr>\n",
              "      <th>0</th>\n",
              "      <td>21111</td>\n",
              "      <td>N</td>\n",
              "      <td>NEWARK, NJ</td>\n",
              "      <td>2491.0</td>\n",
              "      <td>11/01/2019</td>\n",
              "      <td>CITY NATIONAL BANK OF NEW JERSEY</td>\n",
              "      <td>120574</td>\n",
              "      <td>111234</td>\n",
              "      <td>FAILURE</td>\n",
              "    </tr>\n",
              "    <tr>\n",
              "      <th>1</th>\n",
              "      <td>58112</td>\n",
              "      <td>NM</td>\n",
              "      <td>LOUISA, KY</td>\n",
              "      <td>4547.0</td>\n",
              "      <td>10/25/2019</td>\n",
              "      <td>LOUISA COMMUNITY BANK</td>\n",
              "      <td>28163</td>\n",
              "      <td>25174</td>\n",
              "      <td>FAILURE</td>\n",
              "    </tr>\n",
              "  </tbody>\n",
              "</table>\n",
              "</div>"
            ],
            "text/plain": [
              "    CERT CHCLASS1      CITYST  ...  QBFASSET  QBFDEP  RESTYPE\n",
              "0  21111        N  NEWARK, NJ  ...    120574  111234  FAILURE\n",
              "1  58112       NM  LOUISA, KY  ...     28163   25174  FAILURE\n",
              "\n",
              "[2 rows x 9 columns]"
            ]
          },
          "metadata": {},
          "execution_count": 20
        }
      ]
    },
    {
      "cell_type": "markdown",
      "metadata": {
        "id": "-npGdCOC3M5S"
      },
      "source": [
        "#### Drop the original location column and inspect the resulting DataFrame:"
      ]
    },
    {
      "cell_type": "code",
      "metadata": {
        "colab": {
          "base_uri": "https://localhost:8080/",
          "height": 111
        },
        "id": "SkVQ0Yzq3M5T",
        "outputId": "33b9e860-0bfa-4a04-86c5-afc385c87412"
      },
      "source": [
        "df[['CITY', 'STATE']] = df['CITYST'].str.split(',', expand=True)\n",
        "df.drop('CITYST', axis=1, inplace=True)\n",
        "df.head(2)"
      ],
      "execution_count": null,
      "outputs": [
        {
          "output_type": "execute_result",
          "data": {
            "text/html": [
              "<div>\n",
              "<style scoped>\n",
              "    .dataframe tbody tr th:only-of-type {\n",
              "        vertical-align: middle;\n",
              "    }\n",
              "\n",
              "    .dataframe tbody tr th {\n",
              "        vertical-align: top;\n",
              "    }\n",
              "\n",
              "    .dataframe thead th {\n",
              "        text-align: right;\n",
              "    }\n",
              "</style>\n",
              "<table border=\"1\" class=\"dataframe\">\n",
              "  <thead>\n",
              "    <tr style=\"text-align: right;\">\n",
              "      <th></th>\n",
              "      <th>CERT</th>\n",
              "      <th>CHCLASS1</th>\n",
              "      <th>COST</th>\n",
              "      <th>FAILDATE</th>\n",
              "      <th>NAME</th>\n",
              "      <th>QBFASSET</th>\n",
              "      <th>QBFDEP</th>\n",
              "      <th>RESTYPE</th>\n",
              "      <th>CITY</th>\n",
              "      <th>STATE</th>\n",
              "    </tr>\n",
              "  </thead>\n",
              "  <tbody>\n",
              "    <tr>\n",
              "      <th>0</th>\n",
              "      <td>21111</td>\n",
              "      <td>N</td>\n",
              "      <td>2491.0</td>\n",
              "      <td>11/01/2019</td>\n",
              "      <td>CITY NATIONAL BANK OF NEW JERSEY</td>\n",
              "      <td>120574</td>\n",
              "      <td>111234</td>\n",
              "      <td>FAILURE</td>\n",
              "      <td>NEWARK</td>\n",
              "      <td>NJ</td>\n",
              "    </tr>\n",
              "    <tr>\n",
              "      <th>1</th>\n",
              "      <td>58112</td>\n",
              "      <td>NM</td>\n",
              "      <td>4547.0</td>\n",
              "      <td>10/25/2019</td>\n",
              "      <td>LOUISA COMMUNITY BANK</td>\n",
              "      <td>28163</td>\n",
              "      <td>25174</td>\n",
              "      <td>FAILURE</td>\n",
              "      <td>LOUISA</td>\n",
              "      <td>KY</td>\n",
              "    </tr>\n",
              "  </tbody>\n",
              "</table>\n",
              "</div>"
            ],
            "text/plain": [
              "    CERT CHCLASS1    COST    FAILDATE  ...  QBFDEP  RESTYPE    CITY STATE\n",
              "0  21111        N  2491.0  11/01/2019  ...  111234  FAILURE  NEWARK    NJ\n",
              "1  58112       NM  4547.0  10/25/2019  ...   25174  FAILURE  LOUISA    KY\n",
              "\n",
              "[2 rows x 10 columns]"
            ]
          },
          "metadata": {},
          "execution_count": 21
        }
      ]
    },
    {
      "cell_type": "markdown",
      "metadata": {
        "id": "03nhsoio3M5T"
      },
      "source": [
        "## Step 5: convert and split the date"
      ]
    },
    {
      "cell_type": "markdown",
      "metadata": {
        "id": "lFDjVn9Y3M5T"
      },
      "source": [
        "#### Let's take another look at the resulting DataFrame `df`, what are the types of the remaining columns?"
      ]
    },
    {
      "cell_type": "code",
      "metadata": {
        "colab": {
          "base_uri": "https://localhost:8080/"
        },
        "id": "HHBR0ahA3M5T",
        "outputId": "6c1ad18b-c11b-49a7-81a0-d4deb6a01864"
      },
      "source": [
        "df.info()"
      ],
      "execution_count": null,
      "outputs": [
        {
          "output_type": "stream",
          "name": "stdout",
          "text": [
            "<class 'pandas.core.frame.DataFrame'>\n",
            "RangeIndex: 577 entries, 0 to 576\n",
            "Data columns (total 10 columns):\n",
            " #   Column    Non-Null Count  Dtype  \n",
            "---  ------    --------------  -----  \n",
            " 0   CERT      577 non-null    int64  \n",
            " 1   CHCLASS1  577 non-null    object \n",
            " 2   COST      577 non-null    float64\n",
            " 3   FAILDATE  577 non-null    object \n",
            " 4   NAME      577 non-null    object \n",
            " 5   QBFASSET  577 non-null    int64  \n",
            " 6   QBFDEP    577 non-null    int64  \n",
            " 7   RESTYPE   577 non-null    object \n",
            " 8   CITY      577 non-null    object \n",
            " 9   STATE     577 non-null    object \n",
            "dtypes: float64(1), int64(3), object(6)\n",
            "memory usage: 45.2+ KB\n"
          ]
        }
      ]
    },
    {
      "cell_type": "markdown",
      "metadata": {
        "id": "qqJEP1yT3M5T"
      },
      "source": [
        "#### Column `FAILDATE` has information about when the bank has failed, it needs to be converted to `datetime` type and preferably split into for time series analysis."
      ]
    },
    {
      "cell_type": "code",
      "metadata": {
        "colab": {
          "base_uri": "https://localhost:8080/",
          "height": 111
        },
        "id": "-9hBLhhx3M5T",
        "outputId": "45766ddc-3b03-4c02-bea6-34640c576153"
      },
      "source": [
        "df['DATE'] = pd.to_datetime(df['FAILDATE'])\n",
        "df.drop('FAILDATE', axis=1, inplace=True)\n",
        "df.head(2)"
      ],
      "execution_count": null,
      "outputs": [
        {
          "output_type": "execute_result",
          "data": {
            "text/html": [
              "<div>\n",
              "<style scoped>\n",
              "    .dataframe tbody tr th:only-of-type {\n",
              "        vertical-align: middle;\n",
              "    }\n",
              "\n",
              "    .dataframe tbody tr th {\n",
              "        vertical-align: top;\n",
              "    }\n",
              "\n",
              "    .dataframe thead th {\n",
              "        text-align: right;\n",
              "    }\n",
              "</style>\n",
              "<table border=\"1\" class=\"dataframe\">\n",
              "  <thead>\n",
              "    <tr style=\"text-align: right;\">\n",
              "      <th></th>\n",
              "      <th>CERT</th>\n",
              "      <th>CHCLASS1</th>\n",
              "      <th>COST</th>\n",
              "      <th>NAME</th>\n",
              "      <th>QBFASSET</th>\n",
              "      <th>QBFDEP</th>\n",
              "      <th>RESTYPE</th>\n",
              "      <th>CITY</th>\n",
              "      <th>STATE</th>\n",
              "      <th>DATE</th>\n",
              "    </tr>\n",
              "  </thead>\n",
              "  <tbody>\n",
              "    <tr>\n",
              "      <th>0</th>\n",
              "      <td>21111</td>\n",
              "      <td>N</td>\n",
              "      <td>2491.0</td>\n",
              "      <td>CITY NATIONAL BANK OF NEW JERSEY</td>\n",
              "      <td>120574</td>\n",
              "      <td>111234</td>\n",
              "      <td>FAILURE</td>\n",
              "      <td>NEWARK</td>\n",
              "      <td>NJ</td>\n",
              "      <td>2019-11-01</td>\n",
              "    </tr>\n",
              "    <tr>\n",
              "      <th>1</th>\n",
              "      <td>58112</td>\n",
              "      <td>NM</td>\n",
              "      <td>4547.0</td>\n",
              "      <td>LOUISA COMMUNITY BANK</td>\n",
              "      <td>28163</td>\n",
              "      <td>25174</td>\n",
              "      <td>FAILURE</td>\n",
              "      <td>LOUISA</td>\n",
              "      <td>KY</td>\n",
              "      <td>2019-10-25</td>\n",
              "    </tr>\n",
              "  </tbody>\n",
              "</table>\n",
              "</div>"
            ],
            "text/plain": [
              "    CERT CHCLASS1    COST  ...    CITY  STATE       DATE\n",
              "0  21111        N  2491.0  ...  NEWARK     NJ 2019-11-01\n",
              "1  58112       NM  4547.0  ...  LOUISA     KY 2019-10-25\n",
              "\n",
              "[2 rows x 10 columns]"
            ]
          },
          "metadata": {},
          "execution_count": 23
        }
      ]
    },
    {
      "cell_type": "markdown",
      "metadata": {
        "id": "pRDb9eoq3M5T"
      },
      "source": [
        "#### Split the `DATE` column so that information about the year and month of failure are stored in separate columns. I don't think I will ever need the day of failure, so this information can be ignored."
      ]
    },
    {
      "cell_type": "code",
      "metadata": {
        "colab": {
          "base_uri": "https://localhost:8080/",
          "height": 444
        },
        "id": "VhZFgX0O3M5U",
        "outputId": "85ce8288-56ba-47ff-b046-b402c60f721d"
      },
      "source": [
        "df['YEAR_FAILED'] = df['DATE'].dt.year.astype('Int64')\n",
        "df['MONTH_FAILED'] = df['DATE'].dt.month.astype('Int64')\n",
        "df['QUARTER_FAILED'] = pd.PeriodIndex(df.DATE, freq='Q')\n",
        "df.drop('DATE', axis=1, inplace=True)\n",
        "df.head(10)"
      ],
      "execution_count": null,
      "outputs": [
        {
          "output_type": "execute_result",
          "data": {
            "text/html": [
              "<div>\n",
              "<style scoped>\n",
              "    .dataframe tbody tr th:only-of-type {\n",
              "        vertical-align: middle;\n",
              "    }\n",
              "\n",
              "    .dataframe tbody tr th {\n",
              "        vertical-align: top;\n",
              "    }\n",
              "\n",
              "    .dataframe thead th {\n",
              "        text-align: right;\n",
              "    }\n",
              "</style>\n",
              "<table border=\"1\" class=\"dataframe\">\n",
              "  <thead>\n",
              "    <tr style=\"text-align: right;\">\n",
              "      <th></th>\n",
              "      <th>CERT</th>\n",
              "      <th>CHCLASS1</th>\n",
              "      <th>COST</th>\n",
              "      <th>NAME</th>\n",
              "      <th>QBFASSET</th>\n",
              "      <th>QBFDEP</th>\n",
              "      <th>RESTYPE</th>\n",
              "      <th>CITY</th>\n",
              "      <th>STATE</th>\n",
              "      <th>YEAR_FAILED</th>\n",
              "      <th>MONTH_FAILED</th>\n",
              "      <th>QUARTER_FAILED</th>\n",
              "    </tr>\n",
              "  </thead>\n",
              "  <tbody>\n",
              "    <tr>\n",
              "      <th>0</th>\n",
              "      <td>21111</td>\n",
              "      <td>N</td>\n",
              "      <td>2491.0</td>\n",
              "      <td>CITY NATIONAL BANK OF NEW JERSEY</td>\n",
              "      <td>120574</td>\n",
              "      <td>111234</td>\n",
              "      <td>FAILURE</td>\n",
              "      <td>NEWARK</td>\n",
              "      <td>NJ</td>\n",
              "      <td>2019</td>\n",
              "      <td>11</td>\n",
              "      <td>2019Q4</td>\n",
              "    </tr>\n",
              "    <tr>\n",
              "      <th>1</th>\n",
              "      <td>58112</td>\n",
              "      <td>NM</td>\n",
              "      <td>4547.0</td>\n",
              "      <td>LOUISA COMMUNITY BANK</td>\n",
              "      <td>28163</td>\n",
              "      <td>25174</td>\n",
              "      <td>FAILURE</td>\n",
              "      <td>LOUISA</td>\n",
              "      <td>KY</td>\n",
              "      <td>2019</td>\n",
              "      <td>10</td>\n",
              "      <td>2019Q4</td>\n",
              "    </tr>\n",
              "    <tr>\n",
              "      <th>2</th>\n",
              "      <td>58317</td>\n",
              "      <td>SB</td>\n",
              "      <td>2188.0</td>\n",
              "      <td>RESOLUTE BANK</td>\n",
              "      <td>23292</td>\n",
              "      <td>22885</td>\n",
              "      <td>FAILURE</td>\n",
              "      <td>MAUMEE</td>\n",
              "      <td>OH</td>\n",
              "      <td>2019</td>\n",
              "      <td>10</td>\n",
              "      <td>2019Q4</td>\n",
              "    </tr>\n",
              "    <tr>\n",
              "      <th>3</th>\n",
              "      <td>10716</td>\n",
              "      <td>NM</td>\n",
              "      <td>21577.0</td>\n",
              "      <td>ENLOE STATE BANK</td>\n",
              "      <td>36738</td>\n",
              "      <td>31254</td>\n",
              "      <td>FAILURE</td>\n",
              "      <td>COOPER</td>\n",
              "      <td>TX</td>\n",
              "      <td>2019</td>\n",
              "      <td>5</td>\n",
              "      <td>2019Q2</td>\n",
              "    </tr>\n",
              "    <tr>\n",
              "      <th>4</th>\n",
              "      <td>30570</td>\n",
              "      <td>SB</td>\n",
              "      <td>86826.0</td>\n",
              "      <td>WASHINGTON FEDERAL BANK FOR SAVINGS</td>\n",
              "      <td>166345</td>\n",
              "      <td>143964</td>\n",
              "      <td>FAILURE</td>\n",
              "      <td>CHICAGO</td>\n",
              "      <td>IL</td>\n",
              "      <td>2017</td>\n",
              "      <td>12</td>\n",
              "      <td>2017Q4</td>\n",
              "    </tr>\n",
              "    <tr>\n",
              "      <th>5</th>\n",
              "      <td>17719</td>\n",
              "      <td>NM</td>\n",
              "      <td>280.0</td>\n",
              "      <td>THE FARMERS AND MERCHANTS STATE BANK OF ARGONIA</td>\n",
              "      <td>33012</td>\n",
              "      <td>27466</td>\n",
              "      <td>FAILURE</td>\n",
              "      <td>ARGONIA</td>\n",
              "      <td>KS</td>\n",
              "      <td>2017</td>\n",
              "      <td>10</td>\n",
              "      <td>2017Q4</td>\n",
              "    </tr>\n",
              "    <tr>\n",
              "      <th>6</th>\n",
              "      <td>1802</td>\n",
              "      <td>SM</td>\n",
              "      <td>8544.0</td>\n",
              "      <td>FAYETTE COUNTY BANK</td>\n",
              "      <td>34370</td>\n",
              "      <td>33972</td>\n",
              "      <td>FAILURE</td>\n",
              "      <td>SAINT ELMO</td>\n",
              "      <td>IL</td>\n",
              "      <td>2017</td>\n",
              "      <td>5</td>\n",
              "      <td>2017Q2</td>\n",
              "    </tr>\n",
              "    <tr>\n",
              "      <th>7</th>\n",
              "      <td>30003</td>\n",
              "      <td>SB</td>\n",
              "      <td>133914.0</td>\n",
              "      <td>GUARANTY BANK</td>\n",
              "      <td>1031900</td>\n",
              "      <td>1002026</td>\n",
              "      <td>FAILURE</td>\n",
              "      <td>MILWAUKEE</td>\n",
              "      <td>WI</td>\n",
              "      <td>2017</td>\n",
              "      <td>5</td>\n",
              "      <td>2017Q2</td>\n",
              "    </tr>\n",
              "    <tr>\n",
              "      <th>8</th>\n",
              "      <td>58302</td>\n",
              "      <td>NM</td>\n",
              "      <td>858100.0</td>\n",
              "      <td>FIRST NBC BANK</td>\n",
              "      <td>3325870</td>\n",
              "      <td>3032208</td>\n",
              "      <td>FAILURE</td>\n",
              "      <td>NEW ORLEANS</td>\n",
              "      <td>LA</td>\n",
              "      <td>2017</td>\n",
              "      <td>4</td>\n",
              "      <td>2017Q2</td>\n",
              "    </tr>\n",
              "    <tr>\n",
              "      <th>9</th>\n",
              "      <td>35495</td>\n",
              "      <td>NM</td>\n",
              "      <td>9302.0</td>\n",
              "      <td>PROFICIO BANK</td>\n",
              "      <td>68208</td>\n",
              "      <td>65042</td>\n",
              "      <td>FAILURE</td>\n",
              "      <td>COTTONWOOD HEIGHTS</td>\n",
              "      <td>UT</td>\n",
              "      <td>2017</td>\n",
              "      <td>3</td>\n",
              "      <td>2017Q1</td>\n",
              "    </tr>\n",
              "  </tbody>\n",
              "</table>\n",
              "</div>"
            ],
            "text/plain": [
              "    CERT CHCLASS1      COST  ... YEAR_FAILED  MONTH_FAILED  QUARTER_FAILED\n",
              "0  21111        N    2491.0  ...        2019            11          2019Q4\n",
              "1  58112       NM    4547.0  ...        2019            10          2019Q4\n",
              "2  58317       SB    2188.0  ...        2019            10          2019Q4\n",
              "3  10716       NM   21577.0  ...        2019             5          2019Q2\n",
              "4  30570       SB   86826.0  ...        2017            12          2017Q4\n",
              "5  17719       NM     280.0  ...        2017            10          2017Q4\n",
              "6   1802       SM    8544.0  ...        2017             5          2017Q2\n",
              "7  30003       SB  133914.0  ...        2017             5          2017Q2\n",
              "8  58302       NM  858100.0  ...        2017             4          2017Q2\n",
              "9  35495       NM    9302.0  ...        2017             3          2017Q1\n",
              "\n",
              "[10 rows x 12 columns]"
            ]
          },
          "metadata": {},
          "execution_count": 24
        }
      ]
    },
    {
      "cell_type": "markdown",
      "metadata": {
        "id": "mR6HAwPi3M5U"
      },
      "source": [
        "## Step 6: mapping bank type to human readable terms"
      ]
    },
    {
      "cell_type": "markdown",
      "metadata": {
        "id": "Ynu_6yr_3M5U"
      },
      "source": [
        "#### Finally, column `CHCLASS1` contains somewhat cryptic values that indicate institution type. "
      ]
    },
    {
      "cell_type": "code",
      "metadata": {
        "colab": {
          "base_uri": "https://localhost:8080/"
        },
        "id": "xkQF5eqo3M5U",
        "outputId": "85ac3b63-71d0-4483-e89b-80c155e0a0a2"
      },
      "source": [
        "df['CHCLASS1'].unique()"
      ],
      "execution_count": null,
      "outputs": [
        {
          "output_type": "execute_result",
          "data": {
            "text/plain": [
              "array(['N', 'NM', 'SB', 'SM', 'SI', 'SA'], dtype=object)"
            ]
          },
          "metadata": {},
          "execution_count": 25
        }
      ]
    },
    {
      "cell_type": "markdown",
      "metadata": {
        "id": "fNoTWn_d3M5U"
      },
      "source": [
        "#### They can be mapped to more user friendly human readable terms as explained in the FDIC info page: https://fdicbanksinsured.com/fdic-insured-bank-glossary-of-terms/. In short, FDIC insured banks fall into two types, Commercial or Savings and three classes, based on charter and supervising agency."
      ]
    },
    {
      "cell_type": "code",
      "metadata": {
        "id": "KblXHjts3M5U"
      },
      "source": [
        "fdic_terms = {'N':'Commercial, National FRS Banks', \n",
        "              'NM': 'Commercial, State Chartered non-FRS Banks', \n",
        "              'SB':'Savings, Federal Savings Bank', \n",
        "              'SM':'Commercial, State Chartered FRS Banks', \n",
        "              'SI':'Savings, State Savings FDIC Banks', \n",
        "              'SA':'Savings, Federal & State Savings and Loans'}"
      ],
      "execution_count": null,
      "outputs": []
    },
    {
      "cell_type": "markdown",
      "metadata": {
        "id": "KtCjz5fF3M5U"
      },
      "source": [
        "#### Once the mapping is created, values of `CHCLASS1` can be replaced by `fdic_terms` and split on comma to populate two new columns `BANK_TYPE` and `BANK_CLASS`:"
      ]
    },
    {
      "cell_type": "code",
      "metadata": {
        "colab": {
          "base_uri": "https://localhost:8080/",
          "height": 162
        },
        "id": "fWyhJkbl3M5U",
        "outputId": "ca8ae288-35d3-430f-f55a-aca12ec989e4"
      },
      "source": [
        "df['CHCLASS1'].replace(fdic_terms, inplace=True)\n",
        "df[['BANK_TYPE', 'BANK_CLASS']] = df['CHCLASS1'].str.split(',', expand=True)\n",
        "df.drop('CHCLASS1', axis=1, inplace=True)\n",
        "df.head(2)"
      ],
      "execution_count": null,
      "outputs": [
        {
          "output_type": "execute_result",
          "data": {
            "text/html": [
              "<div>\n",
              "<style scoped>\n",
              "    .dataframe tbody tr th:only-of-type {\n",
              "        vertical-align: middle;\n",
              "    }\n",
              "\n",
              "    .dataframe tbody tr th {\n",
              "        vertical-align: top;\n",
              "    }\n",
              "\n",
              "    .dataframe thead th {\n",
              "        text-align: right;\n",
              "    }\n",
              "</style>\n",
              "<table border=\"1\" class=\"dataframe\">\n",
              "  <thead>\n",
              "    <tr style=\"text-align: right;\">\n",
              "      <th></th>\n",
              "      <th>CERT</th>\n",
              "      <th>COST</th>\n",
              "      <th>NAME</th>\n",
              "      <th>QBFASSET</th>\n",
              "      <th>QBFDEP</th>\n",
              "      <th>RESTYPE</th>\n",
              "      <th>CITY</th>\n",
              "      <th>STATE</th>\n",
              "      <th>YEAR_FAILED</th>\n",
              "      <th>MONTH_FAILED</th>\n",
              "      <th>QUARTER_FAILED</th>\n",
              "      <th>BANK_TYPE</th>\n",
              "      <th>BANK_CLASS</th>\n",
              "    </tr>\n",
              "  </thead>\n",
              "  <tbody>\n",
              "    <tr>\n",
              "      <th>0</th>\n",
              "      <td>21111</td>\n",
              "      <td>2491.0</td>\n",
              "      <td>CITY NATIONAL BANK OF NEW JERSEY</td>\n",
              "      <td>120574</td>\n",
              "      <td>111234</td>\n",
              "      <td>FAILURE</td>\n",
              "      <td>NEWARK</td>\n",
              "      <td>NJ</td>\n",
              "      <td>2019</td>\n",
              "      <td>11</td>\n",
              "      <td>2019Q4</td>\n",
              "      <td>Commercial</td>\n",
              "      <td>National FRS Banks</td>\n",
              "    </tr>\n",
              "    <tr>\n",
              "      <th>1</th>\n",
              "      <td>58112</td>\n",
              "      <td>4547.0</td>\n",
              "      <td>LOUISA COMMUNITY BANK</td>\n",
              "      <td>28163</td>\n",
              "      <td>25174</td>\n",
              "      <td>FAILURE</td>\n",
              "      <td>LOUISA</td>\n",
              "      <td>KY</td>\n",
              "      <td>2019</td>\n",
              "      <td>10</td>\n",
              "      <td>2019Q4</td>\n",
              "      <td>Commercial</td>\n",
              "      <td>State Chartered non-FRS Banks</td>\n",
              "    </tr>\n",
              "  </tbody>\n",
              "</table>\n",
              "</div>"
            ],
            "text/plain": [
              "    CERT    COST  ...   BANK_TYPE                      BANK_CLASS\n",
              "0  21111  2491.0  ...  Commercial              National FRS Banks\n",
              "1  58112  4547.0  ...  Commercial   State Chartered non-FRS Banks\n",
              "\n",
              "[2 rows x 13 columns]"
            ]
          },
          "metadata": {},
          "execution_count": 27
        }
      ]
    },
    {
      "cell_type": "markdown",
      "metadata": {
        "id": "RmeHRPx13M5V"
      },
      "source": [
        "## Step 7: saving to .csv file:"
      ]
    },
    {
      "cell_type": "code",
      "metadata": {
        "id": "lDqqbrpD3M5V"
      },
      "source": [
        "df.to_csv('failed_banks_cleaned.csv')"
      ],
      "execution_count": null,
      "outputs": []
    },
    {
      "cell_type": "code",
      "metadata": {
        "colab": {
          "base_uri": "https://localhost:8080/"
        },
        "id": "LH1YOhBq3M5V",
        "outputId": "f767a63e-5057-427f-dd17-aada805db841"
      },
      "source": [
        "!ls"
      ],
      "execution_count": null,
      "outputs": [
        {
          "output_type": "stream",
          "name": "stdout",
          "text": [
            "drive  failed_banks_cleaned.csv  failed_banks.csv  sample_data\n"
          ]
        }
      ]
    },
    {
      "cell_type": "code",
      "metadata": {
        "id": "D7WQZYeu4IFF"
      },
      "source": [
        ""
      ],
      "execution_count": null,
      "outputs": []
    }
  ]
}