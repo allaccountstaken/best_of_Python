{
 "cells": [
  {
   "cell_type": "markdown",
   "metadata": {},
   "source": [
    "Exercise: Data Pre-processing\n",
    "- Name of activity: Data Pre-processing\n",
    "- Your name: Dima Mikhaylov\n",
    "- Your UVA computing ID: agp7dp"
   ]
  },
  {
   "cell_type": "code",
   "execution_count": 1,
   "metadata": {},
   "outputs": [],
   "source": [
    "import pandas as pd\n",
    "import numpy as np"
   ]
  },
  {
   "cell_type": "markdown",
   "metadata": {},
   "source": [
    "## Step 1: load and inspect the dataset "
   ]
  },
  {
   "cell_type": "markdown",
   "metadata": {},
   "source": [
    "#### The dataset was retrieved on 10/22/2021 using download functionality. It contains information about recently (last 20 years) failed banks, i.e. name of the bank and IDs, date of restructuring and costs, as well as location of headquarters and size of assets and deposits. Source: https://www.fdic.gov/resources/resolutions/bank-failures/failed-bank-list/"
   ]
  },
  {
   "cell_type": "code",
   "execution_count": 2,
   "metadata": {},
   "outputs": [
    {
     "data": {
      "text/html": [
       "<div>\n",
       "<style scoped>\n",
       "    .dataframe tbody tr th:only-of-type {\n",
       "        vertical-align: middle;\n",
       "    }\n",
       "\n",
       "    .dataframe tbody tr th {\n",
       "        vertical-align: top;\n",
       "    }\n",
       "\n",
       "    .dataframe thead th {\n",
       "        text-align: right;\n",
       "    }\n",
       "</style>\n",
       "<table border=\"1\" class=\"dataframe\">\n",
       "  <thead>\n",
       "    <tr style=\"text-align: right;\">\n",
       "      <th></th>\n",
       "      <th>CERT</th>\n",
       "      <th>CHCLASS1</th>\n",
       "      <th>CITYST</th>\n",
       "      <th>COST</th>\n",
       "      <th>FAILDATE</th>\n",
       "      <th>FIN</th>\n",
       "      <th>ID</th>\n",
       "      <th>NAME</th>\n",
       "      <th>QBFASSET</th>\n",
       "      <th>QBFDEP</th>\n",
       "      <th>RESTYPE</th>\n",
       "      <th>RESTYPE1</th>\n",
       "      <th>SAVR</th>\n",
       "    </tr>\n",
       "  </thead>\n",
       "  <tbody>\n",
       "    <tr>\n",
       "      <th>0</th>\n",
       "      <td>21111</td>\n",
       "      <td>N</td>\n",
       "      <td>NEWARK, NJ</td>\n",
       "      <td>2491.0</td>\n",
       "      <td>11/01/2019</td>\n",
       "      <td>10534</td>\n",
       "      <td>4100</td>\n",
       "      <td>CITY NATIONAL BANK OF NEW JERSEY</td>\n",
       "      <td>120574</td>\n",
       "      <td>111234</td>\n",
       "      <td>FAILURE</td>\n",
       "      <td>PA</td>\n",
       "      <td>DIF</td>\n",
       "    </tr>\n",
       "    <tr>\n",
       "      <th>1</th>\n",
       "      <td>58112</td>\n",
       "      <td>NM</td>\n",
       "      <td>LOUISA, KY</td>\n",
       "      <td>4547.0</td>\n",
       "      <td>10/25/2019</td>\n",
       "      <td>10532</td>\n",
       "      <td>4098</td>\n",
       "      <td>LOUISA COMMUNITY BANK</td>\n",
       "      <td>28163</td>\n",
       "      <td>25174</td>\n",
       "      <td>FAILURE</td>\n",
       "      <td>PA</td>\n",
       "      <td>DIF</td>\n",
       "    </tr>\n",
       "    <tr>\n",
       "      <th>2</th>\n",
       "      <td>58317</td>\n",
       "      <td>SB</td>\n",
       "      <td>MAUMEE, OH</td>\n",
       "      <td>2188.0</td>\n",
       "      <td>10/25/2019</td>\n",
       "      <td>10533</td>\n",
       "      <td>4099</td>\n",
       "      <td>RESOLUTE BANK</td>\n",
       "      <td>23292</td>\n",
       "      <td>22885</td>\n",
       "      <td>FAILURE</td>\n",
       "      <td>PA</td>\n",
       "      <td>DIF</td>\n",
       "    </tr>\n",
       "    <tr>\n",
       "      <th>3</th>\n",
       "      <td>10716</td>\n",
       "      <td>NM</td>\n",
       "      <td>COOPER, TX</td>\n",
       "      <td>21577.0</td>\n",
       "      <td>05/31/2019</td>\n",
       "      <td>10531</td>\n",
       "      <td>4097</td>\n",
       "      <td>ENLOE STATE BANK</td>\n",
       "      <td>36738</td>\n",
       "      <td>31254</td>\n",
       "      <td>FAILURE</td>\n",
       "      <td>PI</td>\n",
       "      <td>DIF</td>\n",
       "    </tr>\n",
       "    <tr>\n",
       "      <th>4</th>\n",
       "      <td>30570</td>\n",
       "      <td>SB</td>\n",
       "      <td>CHICAGO, IL</td>\n",
       "      <td>86826.0</td>\n",
       "      <td>12/15/2017</td>\n",
       "      <td>10530</td>\n",
       "      <td>4096</td>\n",
       "      <td>WASHINGTON FEDERAL BANK FOR SAVINGS</td>\n",
       "      <td>166345</td>\n",
       "      <td>143964</td>\n",
       "      <td>FAILURE</td>\n",
       "      <td>PI</td>\n",
       "      <td>DIF</td>\n",
       "    </tr>\n",
       "  </tbody>\n",
       "</table>\n",
       "</div>"
      ],
      "text/plain": [
       "    CERT CHCLASS1       CITYST     COST    FAILDATE    FIN    ID  \\\n",
       "0  21111        N   NEWARK, NJ   2491.0  11/01/2019  10534  4100   \n",
       "1  58112       NM   LOUISA, KY   4547.0  10/25/2019  10532  4098   \n",
       "2  58317       SB   MAUMEE, OH   2188.0  10/25/2019  10533  4099   \n",
       "3  10716       NM   COOPER, TX  21577.0  05/31/2019  10531  4097   \n",
       "4  30570       SB  CHICAGO, IL  86826.0  12/15/2017  10530  4096   \n",
       "\n",
       "                                  NAME  QBFASSET  QBFDEP  RESTYPE RESTYPE1  \\\n",
       "0     CITY NATIONAL BANK OF NEW JERSEY    120574  111234  FAILURE       PA   \n",
       "1                LOUISA COMMUNITY BANK     28163   25174  FAILURE       PA   \n",
       "2                        RESOLUTE BANK     23292   22885  FAILURE       PA   \n",
       "3                     ENLOE STATE BANK     36738   31254  FAILURE       PI   \n",
       "4  WASHINGTON FEDERAL BANK FOR SAVINGS    166345  143964  FAILURE       PI   \n",
       "\n",
       "  SAVR  \n",
       "0  DIF  \n",
       "1  DIF  \n",
       "2  DIF  \n",
       "3  DIF  \n",
       "4  DIF  "
      ]
     },
     "execution_count": 2,
     "metadata": {},
     "output_type": "execute_result"
    }
   ],
   "source": [
    "df = pd.read_csv('failed_banks.csv')\n",
    "df.head()"
   ]
  },
  {
   "cell_type": "code",
   "execution_count": 3,
   "metadata": {},
   "outputs": [
    {
     "data": {
      "text/plain": [
       "(577, 13)"
      ]
     },
     "execution_count": 3,
     "metadata": {},
     "output_type": "execute_result"
    }
   ],
   "source": [
    "df.shape"
   ]
  },
  {
   "cell_type": "code",
   "execution_count": 4,
   "metadata": {},
   "outputs": [
    {
     "name": "stdout",
     "output_type": "stream",
     "text": [
      "<class 'pandas.core.frame.DataFrame'>\n",
      "RangeIndex: 577 entries, 0 to 576\n",
      "Data columns (total 13 columns):\n",
      " #   Column    Non-Null Count  Dtype  \n",
      "---  ------    --------------  -----  \n",
      " 0   CERT      577 non-null    int64  \n",
      " 1   CHCLASS1  577 non-null    object \n",
      " 2   CITYST    577 non-null    object \n",
      " 3   COST      563 non-null    float64\n",
      " 4   FAILDATE  577 non-null    object \n",
      " 5   FIN       577 non-null    int64  \n",
      " 6   ID        577 non-null    int64  \n",
      " 7   NAME      577 non-null    object \n",
      " 8   QBFASSET  577 non-null    int64  \n",
      " 9   QBFDEP    577 non-null    int64  \n",
      " 10  RESTYPE   577 non-null    object \n",
      " 11  RESTYPE1  577 non-null    object \n",
      " 12  SAVR      577 non-null    object \n",
      "dtypes: float64(1), int64(5), object(7)\n",
      "memory usage: 58.7+ KB\n"
     ]
    }
   ],
   "source": [
    "df.info()"
   ]
  },
  {
   "cell_type": "markdown",
   "metadata": {},
   "source": [
    "## Step 2: drop unused columns"
   ]
  },
  {
   "cell_type": "markdown",
   "metadata": {},
   "source": [
    "#### These columns will not be used in my analysis and should be dropped from memory:"
   ]
  },
  {
   "cell_type": "code",
   "execution_count": 5,
   "metadata": {},
   "outputs": [
    {
     "data": {
      "text/html": [
       "<div>\n",
       "<style scoped>\n",
       "    .dataframe tbody tr th:only-of-type {\n",
       "        vertical-align: middle;\n",
       "    }\n",
       "\n",
       "    .dataframe tbody tr th {\n",
       "        vertical-align: top;\n",
       "    }\n",
       "\n",
       "    .dataframe thead th {\n",
       "        text-align: right;\n",
       "    }\n",
       "</style>\n",
       "<table border=\"1\" class=\"dataframe\">\n",
       "  <thead>\n",
       "    <tr style=\"text-align: right;\">\n",
       "      <th></th>\n",
       "      <th>CERT</th>\n",
       "      <th>CHCLASS1</th>\n",
       "      <th>CITYST</th>\n",
       "      <th>COST</th>\n",
       "      <th>FAILDATE</th>\n",
       "      <th>NAME</th>\n",
       "      <th>QBFASSET</th>\n",
       "      <th>QBFDEP</th>\n",
       "      <th>RESTYPE</th>\n",
       "    </tr>\n",
       "  </thead>\n",
       "  <tbody>\n",
       "    <tr>\n",
       "      <th>0</th>\n",
       "      <td>21111</td>\n",
       "      <td>N</td>\n",
       "      <td>NEWARK, NJ</td>\n",
       "      <td>2491.0</td>\n",
       "      <td>11/01/2019</td>\n",
       "      <td>CITY NATIONAL BANK OF NEW JERSEY</td>\n",
       "      <td>120574</td>\n",
       "      <td>111234</td>\n",
       "      <td>FAILURE</td>\n",
       "    </tr>\n",
       "    <tr>\n",
       "      <th>1</th>\n",
       "      <td>58112</td>\n",
       "      <td>NM</td>\n",
       "      <td>LOUISA, KY</td>\n",
       "      <td>4547.0</td>\n",
       "      <td>10/25/2019</td>\n",
       "      <td>LOUISA COMMUNITY BANK</td>\n",
       "      <td>28163</td>\n",
       "      <td>25174</td>\n",
       "      <td>FAILURE</td>\n",
       "    </tr>\n",
       "    <tr>\n",
       "      <th>2</th>\n",
       "      <td>58317</td>\n",
       "      <td>SB</td>\n",
       "      <td>MAUMEE, OH</td>\n",
       "      <td>2188.0</td>\n",
       "      <td>10/25/2019</td>\n",
       "      <td>RESOLUTE BANK</td>\n",
       "      <td>23292</td>\n",
       "      <td>22885</td>\n",
       "      <td>FAILURE</td>\n",
       "    </tr>\n",
       "    <tr>\n",
       "      <th>3</th>\n",
       "      <td>10716</td>\n",
       "      <td>NM</td>\n",
       "      <td>COOPER, TX</td>\n",
       "      <td>21577.0</td>\n",
       "      <td>05/31/2019</td>\n",
       "      <td>ENLOE STATE BANK</td>\n",
       "      <td>36738</td>\n",
       "      <td>31254</td>\n",
       "      <td>FAILURE</td>\n",
       "    </tr>\n",
       "    <tr>\n",
       "      <th>4</th>\n",
       "      <td>30570</td>\n",
       "      <td>SB</td>\n",
       "      <td>CHICAGO, IL</td>\n",
       "      <td>86826.0</td>\n",
       "      <td>12/15/2017</td>\n",
       "      <td>WASHINGTON FEDERAL BANK FOR SAVINGS</td>\n",
       "      <td>166345</td>\n",
       "      <td>143964</td>\n",
       "      <td>FAILURE</td>\n",
       "    </tr>\n",
       "  </tbody>\n",
       "</table>\n",
       "</div>"
      ],
      "text/plain": [
       "    CERT CHCLASS1       CITYST     COST    FAILDATE  \\\n",
       "0  21111        N   NEWARK, NJ   2491.0  11/01/2019   \n",
       "1  58112       NM   LOUISA, KY   4547.0  10/25/2019   \n",
       "2  58317       SB   MAUMEE, OH   2188.0  10/25/2019   \n",
       "3  10716       NM   COOPER, TX  21577.0  05/31/2019   \n",
       "4  30570       SB  CHICAGO, IL  86826.0  12/15/2017   \n",
       "\n",
       "                                  NAME  QBFASSET  QBFDEP  RESTYPE  \n",
       "0     CITY NATIONAL BANK OF NEW JERSEY    120574  111234  FAILURE  \n",
       "1                LOUISA COMMUNITY BANK     28163   25174  FAILURE  \n",
       "2                        RESOLUTE BANK     23292   22885  FAILURE  \n",
       "3                     ENLOE STATE BANK     36738   31254  FAILURE  \n",
       "4  WASHINGTON FEDERAL BANK FOR SAVINGS    166345  143964  FAILURE  "
      ]
     },
     "execution_count": 5,
     "metadata": {},
     "output_type": "execute_result"
    }
   ],
   "source": [
    "df.drop(['FIN', 'ID', 'RESTYPE1', 'SAVR' ], axis=1, inplace=True)\n",
    "df.head()"
   ]
  },
  {
   "cell_type": "markdown",
   "metadata": {},
   "source": [
    "## Step 3: find and impute missing values"
   ]
  },
  {
   "cell_type": "markdown",
   "metadata": {},
   "source": [
    "#### Checking if there are any missing data points:"
   ]
  },
  {
   "cell_type": "code",
   "execution_count": 6,
   "metadata": {},
   "outputs": [
    {
     "data": {
      "text/plain": [
       "14"
      ]
     },
     "execution_count": 6,
     "metadata": {},
     "output_type": "execute_result"
    }
   ],
   "source": [
    "df.isnull().sum().sum()"
   ]
  },
  {
   "cell_type": "code",
   "execution_count": 7,
   "metadata": {},
   "outputs": [
    {
     "data": {
      "text/html": [
       "<div>\n",
       "<style scoped>\n",
       "    .dataframe tbody tr th:only-of-type {\n",
       "        vertical-align: middle;\n",
       "    }\n",
       "\n",
       "    .dataframe tbody tr th {\n",
       "        vertical-align: top;\n",
       "    }\n",
       "\n",
       "    .dataframe thead th {\n",
       "        text-align: right;\n",
       "    }\n",
       "</style>\n",
       "<table border=\"1\" class=\"dataframe\">\n",
       "  <thead>\n",
       "    <tr style=\"text-align: right;\">\n",
       "      <th></th>\n",
       "      <th>CERT</th>\n",
       "      <th>CHCLASS1</th>\n",
       "      <th>CITYST</th>\n",
       "      <th>COST</th>\n",
       "      <th>FAILDATE</th>\n",
       "      <th>NAME</th>\n",
       "      <th>QBFASSET</th>\n",
       "      <th>QBFDEP</th>\n",
       "      <th>RESTYPE</th>\n",
       "    </tr>\n",
       "  </thead>\n",
       "  <tbody>\n",
       "    <tr>\n",
       "      <th>505</th>\n",
       "      <td>3510</td>\n",
       "      <td>N</td>\n",
       "      <td>CHARLOTTE, NC</td>\n",
       "      <td>NaN</td>\n",
       "      <td>01/16/2009</td>\n",
       "      <td>BANK OF AMERICA N.A.</td>\n",
       "      <td>1471631047</td>\n",
       "      <td>954677580</td>\n",
       "      <td>ASSISTANCE</td>\n",
       "    </tr>\n",
       "    <tr>\n",
       "      <th>507</th>\n",
       "      <td>25178</td>\n",
       "      <td>N</td>\n",
       "      <td>SAN FRANCISCO, CA</td>\n",
       "      <td>NaN</td>\n",
       "      <td>01/16/2009</td>\n",
       "      <td>BANK OF AMERICA CALIFORNIA N.A.</td>\n",
       "      <td>21502223</td>\n",
       "      <td>500</td>\n",
       "      <td>ASSISTANCE</td>\n",
       "    </tr>\n",
       "    <tr>\n",
       "      <th>508</th>\n",
       "      <td>27374</td>\n",
       "      <td>NM</td>\n",
       "      <td>SALT LAKE CITY, UT</td>\n",
       "      <td>NaN</td>\n",
       "      <td>01/16/2009</td>\n",
       "      <td>MERRILL LYNCH BANK USA</td>\n",
       "      <td>61809503</td>\n",
       "      <td>53620324</td>\n",
       "      <td>ASSISTANCE</td>\n",
       "    </tr>\n",
       "    <tr>\n",
       "      <th>509</th>\n",
       "      <td>33143</td>\n",
       "      <td>SB</td>\n",
       "      <td>ALEXANDRIA, VA</td>\n",
       "      <td>NaN</td>\n",
       "      <td>01/16/2009</td>\n",
       "      <td>COUNTRYWIDE BANK FSB</td>\n",
       "      <td>117978966</td>\n",
       "      <td>43663251</td>\n",
       "      <td>ASSISTANCE</td>\n",
       "    </tr>\n",
       "    <tr>\n",
       "      <th>510</th>\n",
       "      <td>33318</td>\n",
       "      <td>N</td>\n",
       "      <td>WILMINGTON, DE</td>\n",
       "      <td>NaN</td>\n",
       "      <td>01/16/2009</td>\n",
       "      <td>FIA CARD SERVICES N.A.</td>\n",
       "      <td>159637136</td>\n",
       "      <td>9816599</td>\n",
       "      <td>ASSISTANCE</td>\n",
       "    </tr>\n",
       "    <tr>\n",
       "      <th>511</th>\n",
       "      <td>34571</td>\n",
       "      <td>SB</td>\n",
       "      <td>NEW YORK, NY</td>\n",
       "      <td>NaN</td>\n",
       "      <td>01/16/2009</td>\n",
       "      <td>MERRILL LYNCH BANK &amp; TRUST CO FSB</td>\n",
       "      <td>37986413</td>\n",
       "      <td>28539028</td>\n",
       "      <td>ASSISTANCE</td>\n",
       "    </tr>\n",
       "    <tr>\n",
       "      <th>513</th>\n",
       "      <td>35453</td>\n",
       "      <td>N</td>\n",
       "      <td>PORTLAND, OR</td>\n",
       "      <td>NaN</td>\n",
       "      <td>01/16/2009</td>\n",
       "      <td>BANK OF AMERICA OREGON N.A.</td>\n",
       "      <td>11526309</td>\n",
       "      <td>500</td>\n",
       "      <td>ASSISTANCE</td>\n",
       "    </tr>\n",
       "    <tr>\n",
       "      <th>514</th>\n",
       "      <td>58032</td>\n",
       "      <td>N</td>\n",
       "      <td>PROVIDENCE, RI</td>\n",
       "      <td>NaN</td>\n",
       "      <td>01/16/2009</td>\n",
       "      <td>BANK OF AMERICA RHODE ISLAND N.A.</td>\n",
       "      <td>35410586</td>\n",
       "      <td>500</td>\n",
       "      <td>ASSISTANCE</td>\n",
       "    </tr>\n",
       "    <tr>\n",
       "      <th>518</th>\n",
       "      <td>7213</td>\n",
       "      <td>N</td>\n",
       "      <td>LAS VEGAS, NV</td>\n",
       "      <td>NaN</td>\n",
       "      <td>11/23/2008</td>\n",
       "      <td>CITIBANK, NATIONAL ASSOCIATION</td>\n",
       "      <td>1207007000</td>\n",
       "      <td>230042000</td>\n",
       "      <td>ASSISTANCE</td>\n",
       "    </tr>\n",
       "    <tr>\n",
       "      <th>519</th>\n",
       "      <td>18708</td>\n",
       "      <td>SB</td>\n",
       "      <td>WILMINGTON, DE</td>\n",
       "      <td>NaN</td>\n",
       "      <td>11/23/2008</td>\n",
       "      <td>CITICORP TRUST BANK, FSB</td>\n",
       "      <td>19599414</td>\n",
       "      <td>7231013</td>\n",
       "      <td>ASSISTANCE</td>\n",
       "    </tr>\n",
       "    <tr>\n",
       "      <th>520</th>\n",
       "      <td>18923</td>\n",
       "      <td>NM</td>\n",
       "      <td>CENTURY CITY, CA</td>\n",
       "      <td>NaN</td>\n",
       "      <td>11/23/2008</td>\n",
       "      <td>CITIBANK (BANAMEX USA)</td>\n",
       "      <td>1322720</td>\n",
       "      <td>876086</td>\n",
       "      <td>ASSISTANCE</td>\n",
       "    </tr>\n",
       "    <tr>\n",
       "      <th>521</th>\n",
       "      <td>23360</td>\n",
       "      <td>N</td>\n",
       "      <td>SIOUX FALLS, SD</td>\n",
       "      <td>NaN</td>\n",
       "      <td>11/23/2008</td>\n",
       "      <td>CITIBANK (SOUTH DAKOTA), N.A.</td>\n",
       "      <td>77737957</td>\n",
       "      <td>42356986</td>\n",
       "      <td>ASSISTANCE</td>\n",
       "    </tr>\n",
       "    <tr>\n",
       "      <th>522</th>\n",
       "      <td>58180</td>\n",
       "      <td>N</td>\n",
       "      <td>SIOUX FALLS, SD</td>\n",
       "      <td>NaN</td>\n",
       "      <td>11/23/2008</td>\n",
       "      <td>DEPARTMENT STORES NATIONAL BANK</td>\n",
       "      <td>374903</td>\n",
       "      <td>300881</td>\n",
       "      <td>ASSISTANCE</td>\n",
       "    </tr>\n",
       "    <tr>\n",
       "      <th>561</th>\n",
       "      <td>26652</td>\n",
       "      <td>N</td>\n",
       "      <td>BOCA RATON, FL</td>\n",
       "      <td>NaN</td>\n",
       "      <td>03/01/2002</td>\n",
       "      <td>NET FIRST NATIONAL BANK</td>\n",
       "      <td>37207</td>\n",
       "      <td>31601</td>\n",
       "      <td>FAILURE</td>\n",
       "    </tr>\n",
       "  </tbody>\n",
       "</table>\n",
       "</div>"
      ],
      "text/plain": [
       "      CERT CHCLASS1              CITYST  COST    FAILDATE  \\\n",
       "505   3510        N       CHARLOTTE, NC   NaN  01/16/2009   \n",
       "507  25178        N   SAN FRANCISCO, CA   NaN  01/16/2009   \n",
       "508  27374       NM  SALT LAKE CITY, UT   NaN  01/16/2009   \n",
       "509  33143       SB      ALEXANDRIA, VA   NaN  01/16/2009   \n",
       "510  33318        N      WILMINGTON, DE   NaN  01/16/2009   \n",
       "511  34571       SB        NEW YORK, NY   NaN  01/16/2009   \n",
       "513  35453        N        PORTLAND, OR   NaN  01/16/2009   \n",
       "514  58032        N      PROVIDENCE, RI   NaN  01/16/2009   \n",
       "518   7213        N       LAS VEGAS, NV   NaN  11/23/2008   \n",
       "519  18708       SB      WILMINGTON, DE   NaN  11/23/2008   \n",
       "520  18923       NM    CENTURY CITY, CA   NaN  11/23/2008   \n",
       "521  23360        N     SIOUX FALLS, SD   NaN  11/23/2008   \n",
       "522  58180        N     SIOUX FALLS, SD   NaN  11/23/2008   \n",
       "561  26652        N      BOCA RATON, FL   NaN  03/01/2002   \n",
       "\n",
       "                                  NAME    QBFASSET     QBFDEP     RESTYPE  \n",
       "505               BANK OF AMERICA N.A.  1471631047  954677580  ASSISTANCE  \n",
       "507    BANK OF AMERICA CALIFORNIA N.A.    21502223        500  ASSISTANCE  \n",
       "508             MERRILL LYNCH BANK USA    61809503   53620324  ASSISTANCE  \n",
       "509               COUNTRYWIDE BANK FSB   117978966   43663251  ASSISTANCE  \n",
       "510             FIA CARD SERVICES N.A.   159637136    9816599  ASSISTANCE  \n",
       "511  MERRILL LYNCH BANK & TRUST CO FSB    37986413   28539028  ASSISTANCE  \n",
       "513        BANK OF AMERICA OREGON N.A.    11526309        500  ASSISTANCE  \n",
       "514  BANK OF AMERICA RHODE ISLAND N.A.    35410586        500  ASSISTANCE  \n",
       "518     CITIBANK, NATIONAL ASSOCIATION  1207007000  230042000  ASSISTANCE  \n",
       "519           CITICORP TRUST BANK, FSB    19599414    7231013  ASSISTANCE  \n",
       "520             CITIBANK (BANAMEX USA)     1322720     876086  ASSISTANCE  \n",
       "521      CITIBANK (SOUTH DAKOTA), N.A.    77737957   42356986  ASSISTANCE  \n",
       "522    DEPARTMENT STORES NATIONAL BANK      374903     300881  ASSISTANCE  \n",
       "561            NET FIRST NATIONAL BANK       37207      31601     FAILURE  "
      ]
     },
     "execution_count": 7,
     "metadata": {},
     "output_type": "execute_result"
    }
   ],
   "source": [
    "missing_data = df[df.isnull().any(axis=1)]\n",
    "missing_data"
   ]
  },
  {
   "cell_type": "markdown",
   "metadata": {},
   "source": [
    "#### It appears that 14 failed banks have `NaN` for restructuring costs. These missing values can be imputed either with zeros, or column average, or, even better, average % of costs to assets, as restructuring a bigger bank is more expensive. Need to check how these missing values related to the type pf resolution, `RESTYPE`. As shown below, there are 2 types - `ASSISTANCE` and `FAILURE`."
   ]
  },
  {
   "cell_type": "code",
   "execution_count": 8,
   "metadata": {},
   "outputs": [
    {
     "data": {
      "text/html": [
       "<div>\n",
       "<style scoped>\n",
       "    .dataframe tbody tr th:only-of-type {\n",
       "        vertical-align: middle;\n",
       "    }\n",
       "\n",
       "    .dataframe tbody tr th {\n",
       "        vertical-align: top;\n",
       "    }\n",
       "\n",
       "    .dataframe thead th {\n",
       "        text-align: right;\n",
       "    }\n",
       "</style>\n",
       "<table border=\"1\" class=\"dataframe\">\n",
       "  <thead>\n",
       "    <tr style=\"text-align: right;\">\n",
       "      <th></th>\n",
       "      <th>CERT</th>\n",
       "      <th>CHCLASS1</th>\n",
       "      <th>CITYST</th>\n",
       "      <th>COST</th>\n",
       "      <th>FAILDATE</th>\n",
       "      <th>NAME</th>\n",
       "      <th>QBFASSET</th>\n",
       "      <th>QBFDEP</th>\n",
       "    </tr>\n",
       "    <tr>\n",
       "      <th>RESTYPE</th>\n",
       "      <th></th>\n",
       "      <th></th>\n",
       "      <th></th>\n",
       "      <th></th>\n",
       "      <th></th>\n",
       "      <th></th>\n",
       "      <th></th>\n",
       "      <th></th>\n",
       "    </tr>\n",
       "  </thead>\n",
       "  <tbody>\n",
       "    <tr>\n",
       "      <th>ASSISTANCE</th>\n",
       "      <td>13</td>\n",
       "      <td>13</td>\n",
       "      <td>13</td>\n",
       "      <td>0</td>\n",
       "      <td>13</td>\n",
       "      <td>13</td>\n",
       "      <td>13</td>\n",
       "      <td>13</td>\n",
       "    </tr>\n",
       "    <tr>\n",
       "      <th>FAILURE</th>\n",
       "      <td>564</td>\n",
       "      <td>564</td>\n",
       "      <td>564</td>\n",
       "      <td>563</td>\n",
       "      <td>564</td>\n",
       "      <td>564</td>\n",
       "      <td>564</td>\n",
       "      <td>564</td>\n",
       "    </tr>\n",
       "  </tbody>\n",
       "</table>\n",
       "</div>"
      ],
      "text/plain": [
       "            CERT  CHCLASS1  CITYST  COST  FAILDATE  NAME  QBFASSET  QBFDEP\n",
       "RESTYPE                                                                   \n",
       "ASSISTANCE    13        13      13     0        13    13        13      13\n",
       "FAILURE      564       564     564   563       564   564       564     564"
      ]
     },
     "execution_count": 8,
     "metadata": {},
     "output_type": "execute_result"
    }
   ],
   "source": [
    "df.groupby([df['RESTYPE']]).count()"
   ]
  },
  {
   "cell_type": "markdown",
   "metadata": {},
   "source": [
    "#### Comparing groupings with missing values. It appears that all 13 `ASSISTANCE` cases have `NaN` for `COST` and thus it is warranted to impute these values with zeros. In other words, assistance is not a failure and there are no direct costs associated with bank's restructuring in this case. There is only one (\"NET FIRST NATIONAL BANK\") missing value in case of an actual `FAILURE` and it should probably be imputed with some kind of proxy for `COST`."
   ]
  },
  {
   "cell_type": "code",
   "execution_count": 9,
   "metadata": {},
   "outputs": [
    {
     "data": {
      "text/html": [
       "<div>\n",
       "<style scoped>\n",
       "    .dataframe tbody tr th:only-of-type {\n",
       "        vertical-align: middle;\n",
       "    }\n",
       "\n",
       "    .dataframe tbody tr th {\n",
       "        vertical-align: top;\n",
       "    }\n",
       "\n",
       "    .dataframe thead th {\n",
       "        text-align: right;\n",
       "    }\n",
       "</style>\n",
       "<table border=\"1\" class=\"dataframe\">\n",
       "  <thead>\n",
       "    <tr style=\"text-align: right;\">\n",
       "      <th></th>\n",
       "      <th>CERT</th>\n",
       "      <th>CHCLASS1</th>\n",
       "      <th>CITYST</th>\n",
       "      <th>COST</th>\n",
       "      <th>FAILDATE</th>\n",
       "      <th>NAME</th>\n",
       "      <th>QBFASSET</th>\n",
       "      <th>QBFDEP</th>\n",
       "    </tr>\n",
       "    <tr>\n",
       "      <th>RESTYPE</th>\n",
       "      <th></th>\n",
       "      <th></th>\n",
       "      <th></th>\n",
       "      <th></th>\n",
       "      <th></th>\n",
       "      <th></th>\n",
       "      <th></th>\n",
       "      <th></th>\n",
       "    </tr>\n",
       "  </thead>\n",
       "  <tbody>\n",
       "    <tr>\n",
       "      <th>ASSISTANCE</th>\n",
       "      <td>13</td>\n",
       "      <td>13</td>\n",
       "      <td>13</td>\n",
       "      <td>0</td>\n",
       "      <td>13</td>\n",
       "      <td>13</td>\n",
       "      <td>13</td>\n",
       "      <td>13</td>\n",
       "    </tr>\n",
       "    <tr>\n",
       "      <th>FAILURE</th>\n",
       "      <td>1</td>\n",
       "      <td>1</td>\n",
       "      <td>1</td>\n",
       "      <td>0</td>\n",
       "      <td>1</td>\n",
       "      <td>1</td>\n",
       "      <td>1</td>\n",
       "      <td>1</td>\n",
       "    </tr>\n",
       "  </tbody>\n",
       "</table>\n",
       "</div>"
      ],
      "text/plain": [
       "            CERT  CHCLASS1  CITYST  COST  FAILDATE  NAME  QBFASSET  QBFDEP\n",
       "RESTYPE                                                                   \n",
       "ASSISTANCE    13        13      13     0        13    13        13      13\n",
       "FAILURE        1         1       1     0         1     1         1       1"
      ]
     },
     "execution_count": 9,
     "metadata": {},
     "output_type": "execute_result"
    }
   ],
   "source": [
    "missing_data.groupby([missing_data['RESTYPE']]).count()"
   ]
  },
  {
   "cell_type": "markdown",
   "metadata": {},
   "source": [
    "#### Average `COST` of restructuring in case of failure come out to be around 130 million what is probably way too high for small \"NET FIRST NATIONAL BANK\" (Cert=26652) bank with total assets of only 37 million. "
   ]
  },
  {
   "cell_type": "code",
   "execution_count": 10,
   "metadata": {},
   "outputs": [
    {
     "data": {
      "text/plain": [
       "130299.83836589698"
      ]
     },
     "execution_count": 10,
     "metadata": {},
     "output_type": "execute_result"
    }
   ],
   "source": [
    "df.loc[df['RESTYPE']=='FAILURE']['COST'].mean()"
   ]
  },
  {
   "cell_type": "markdown",
   "metadata": {},
   "source": [
    "#### Using relative costs seems warranted in this case - need to compute mean of `COST` / `QBFASSET` and apply it to the bank's assets to estimate possible restructuring costs. The overall average is around 23%."
   ]
  },
  {
   "cell_type": "code",
   "execution_count": 11,
   "metadata": {},
   "outputs": [
    {
     "data": {
      "text/plain": [
       "0.23"
      ]
     },
     "execution_count": 11,
     "metadata": {},
     "output_type": "execute_result"
    }
   ],
   "source": [
    "avg_CostsToAssets  = np.round(np.mean(df['COST']/df['QBFASSET']), 2)\n",
    "avg_CostsToAssets"
   ]
  },
  {
   "cell_type": "markdown",
   "metadata": {},
   "source": [
    "#### Applying this `avg_CostsToAssets` multiplier to the bank's assets produced estimated costs of 8.6 million."
   ]
  },
  {
   "cell_type": "code",
   "execution_count": 12,
   "metadata": {},
   "outputs": [
    {
     "data": {
      "text/plain": [
       "CERT                          26652\n",
       "CHCLASS1                          N\n",
       "CITYST               BOCA RATON, FL\n",
       "COST                            NaN\n",
       "FAILDATE                 03/01/2002\n",
       "NAME        NET FIRST NATIONAL BANK\n",
       "QBFASSET                      37207\n",
       "QBFDEP                        31601\n",
       "RESTYPE                     FAILURE\n",
       "Name: 561, dtype: object"
      ]
     },
     "execution_count": 12,
     "metadata": {},
     "output_type": "execute_result"
    }
   ],
   "source": [
    "df.iloc[561, ]"
   ]
  },
  {
   "cell_type": "markdown",
   "metadata": {},
   "source": [
    "#### After the `COST` value was imputed with the multiplier `avg_CostsToAssets`:"
   ]
  },
  {
   "cell_type": "code",
   "execution_count": 13,
   "metadata": {},
   "outputs": [
    {
     "data": {
      "text/plain": [
       "CERT                          26652\n",
       "CHCLASS1                          N\n",
       "CITYST               BOCA RATON, FL\n",
       "COST                        8557.61\n",
       "FAILDATE                 03/01/2002\n",
       "NAME        NET FIRST NATIONAL BANK\n",
       "QBFASSET                      37207\n",
       "QBFDEP                        31601\n",
       "RESTYPE                     FAILURE\n",
       "Name: 561, dtype: object"
      ]
     },
     "execution_count": 13,
     "metadata": {},
     "output_type": "execute_result"
    }
   ],
   "source": [
    "df.iloc[561, 3] = df.iloc[561, 6] * avg_CostsToAssets\n",
    "df.iloc[561, ]"
   ]
  },
  {
   "cell_type": "markdown",
   "metadata": {},
   "source": [
    "#### After this imputation all remaining 13 missing values are associated with assistance `RESTYPE`  and thus should have zero `COST`, i.e. one can impute these missing values with zeros."
   ]
  },
  {
   "cell_type": "code",
   "execution_count": 14,
   "metadata": {},
   "outputs": [
    {
     "data": {
      "text/html": [
       "<div>\n",
       "<style scoped>\n",
       "    .dataframe tbody tr th:only-of-type {\n",
       "        vertical-align: middle;\n",
       "    }\n",
       "\n",
       "    .dataframe tbody tr th {\n",
       "        vertical-align: top;\n",
       "    }\n",
       "\n",
       "    .dataframe thead th {\n",
       "        text-align: right;\n",
       "    }\n",
       "</style>\n",
       "<table border=\"1\" class=\"dataframe\">\n",
       "  <thead>\n",
       "    <tr style=\"text-align: right;\">\n",
       "      <th></th>\n",
       "      <th>CERT</th>\n",
       "      <th>CHCLASS1</th>\n",
       "      <th>CITYST</th>\n",
       "      <th>COST</th>\n",
       "      <th>FAILDATE</th>\n",
       "      <th>NAME</th>\n",
       "      <th>QBFASSET</th>\n",
       "      <th>QBFDEP</th>\n",
       "    </tr>\n",
       "    <tr>\n",
       "      <th>RESTYPE</th>\n",
       "      <th></th>\n",
       "      <th></th>\n",
       "      <th></th>\n",
       "      <th></th>\n",
       "      <th></th>\n",
       "      <th></th>\n",
       "      <th></th>\n",
       "      <th></th>\n",
       "    </tr>\n",
       "  </thead>\n",
       "  <tbody>\n",
       "    <tr>\n",
       "      <th>ASSISTANCE</th>\n",
       "      <td>13</td>\n",
       "      <td>13</td>\n",
       "      <td>13</td>\n",
       "      <td>0</td>\n",
       "      <td>13</td>\n",
       "      <td>13</td>\n",
       "      <td>13</td>\n",
       "      <td>13</td>\n",
       "    </tr>\n",
       "  </tbody>\n",
       "</table>\n",
       "</div>"
      ],
      "text/plain": [
       "            CERT  CHCLASS1  CITYST  COST  FAILDATE  NAME  QBFASSET  QBFDEP\n",
       "RESTYPE                                                                   \n",
       "ASSISTANCE    13        13      13     0        13    13        13      13"
      ]
     },
     "execution_count": 14,
     "metadata": {},
     "output_type": "execute_result"
    }
   ],
   "source": [
    "df[df.isnull().any(axis=1)].groupby(\"RESTYPE\").count()"
   ]
  },
  {
   "cell_type": "code",
   "execution_count": 15,
   "metadata": {},
   "outputs": [],
   "source": [
    "df['COST'].replace(np.nan, 0, inplace=True)"
   ]
  },
  {
   "cell_type": "markdown",
   "metadata": {},
   "source": [
    "#### The resulting DataFrame `df` does not have any missing values. "
   ]
  },
  {
   "cell_type": "code",
   "execution_count": 16,
   "metadata": {},
   "outputs": [
    {
     "data": {
      "text/plain": [
       "0"
      ]
     },
     "execution_count": 16,
     "metadata": {},
     "output_type": "execute_result"
    }
   ],
   "source": [
    "df.isnull().sum().sum()"
   ]
  },
  {
   "cell_type": "markdown",
   "metadata": {},
   "source": [
    "## Step 4: split location into City and State"
   ]
  },
  {
   "cell_type": "markdown",
   "metadata": {},
   "source": [
    "#### It turns out that column `CITYST` has valuable information about headquarter's location, namely City and State, separated by column. These data can be split into 2 separate columns to be later used for state-level aggregation."
   ]
  },
  {
   "cell_type": "code",
   "execution_count": 17,
   "metadata": {},
   "outputs": [
    {
     "data": {
      "text/html": [
       "<div>\n",
       "<style scoped>\n",
       "    .dataframe tbody tr th:only-of-type {\n",
       "        vertical-align: middle;\n",
       "    }\n",
       "\n",
       "    .dataframe tbody tr th {\n",
       "        vertical-align: top;\n",
       "    }\n",
       "\n",
       "    .dataframe thead th {\n",
       "        text-align: right;\n",
       "    }\n",
       "</style>\n",
       "<table border=\"1\" class=\"dataframe\">\n",
       "  <thead>\n",
       "    <tr style=\"text-align: right;\">\n",
       "      <th></th>\n",
       "      <th>CERT</th>\n",
       "      <th>CHCLASS1</th>\n",
       "      <th>CITYST</th>\n",
       "      <th>COST</th>\n",
       "      <th>FAILDATE</th>\n",
       "      <th>NAME</th>\n",
       "      <th>QBFASSET</th>\n",
       "      <th>QBFDEP</th>\n",
       "      <th>RESTYPE</th>\n",
       "    </tr>\n",
       "  </thead>\n",
       "  <tbody>\n",
       "    <tr>\n",
       "      <th>0</th>\n",
       "      <td>21111</td>\n",
       "      <td>N</td>\n",
       "      <td>NEWARK, NJ</td>\n",
       "      <td>2491.0</td>\n",
       "      <td>11/01/2019</td>\n",
       "      <td>CITY NATIONAL BANK OF NEW JERSEY</td>\n",
       "      <td>120574</td>\n",
       "      <td>111234</td>\n",
       "      <td>FAILURE</td>\n",
       "    </tr>\n",
       "    <tr>\n",
       "      <th>1</th>\n",
       "      <td>58112</td>\n",
       "      <td>NM</td>\n",
       "      <td>LOUISA, KY</td>\n",
       "      <td>4547.0</td>\n",
       "      <td>10/25/2019</td>\n",
       "      <td>LOUISA COMMUNITY BANK</td>\n",
       "      <td>28163</td>\n",
       "      <td>25174</td>\n",
       "      <td>FAILURE</td>\n",
       "    </tr>\n",
       "  </tbody>\n",
       "</table>\n",
       "</div>"
      ],
      "text/plain": [
       "    CERT CHCLASS1      CITYST    COST    FAILDATE  \\\n",
       "0  21111        N  NEWARK, NJ  2491.0  11/01/2019   \n",
       "1  58112       NM  LOUISA, KY  4547.0  10/25/2019   \n",
       "\n",
       "                               NAME  QBFASSET  QBFDEP  RESTYPE  \n",
       "0  CITY NATIONAL BANK OF NEW JERSEY    120574  111234  FAILURE  \n",
       "1             LOUISA COMMUNITY BANK     28163   25174  FAILURE  "
      ]
     },
     "execution_count": 17,
     "metadata": {},
     "output_type": "execute_result"
    }
   ],
   "source": [
    "df.head(2)"
   ]
  },
  {
   "cell_type": "markdown",
   "metadata": {},
   "source": [
    "#### Drop the original location column and inspect the resulting DataFrame:"
   ]
  },
  {
   "cell_type": "code",
   "execution_count": 18,
   "metadata": {},
   "outputs": [
    {
     "data": {
      "text/html": [
       "<div>\n",
       "<style scoped>\n",
       "    .dataframe tbody tr th:only-of-type {\n",
       "        vertical-align: middle;\n",
       "    }\n",
       "\n",
       "    .dataframe tbody tr th {\n",
       "        vertical-align: top;\n",
       "    }\n",
       "\n",
       "    .dataframe thead th {\n",
       "        text-align: right;\n",
       "    }\n",
       "</style>\n",
       "<table border=\"1\" class=\"dataframe\">\n",
       "  <thead>\n",
       "    <tr style=\"text-align: right;\">\n",
       "      <th></th>\n",
       "      <th>CERT</th>\n",
       "      <th>CHCLASS1</th>\n",
       "      <th>COST</th>\n",
       "      <th>FAILDATE</th>\n",
       "      <th>NAME</th>\n",
       "      <th>QBFASSET</th>\n",
       "      <th>QBFDEP</th>\n",
       "      <th>RESTYPE</th>\n",
       "      <th>CITY</th>\n",
       "      <th>STATE</th>\n",
       "    </tr>\n",
       "  </thead>\n",
       "  <tbody>\n",
       "    <tr>\n",
       "      <th>0</th>\n",
       "      <td>21111</td>\n",
       "      <td>N</td>\n",
       "      <td>2491.0</td>\n",
       "      <td>11/01/2019</td>\n",
       "      <td>CITY NATIONAL BANK OF NEW JERSEY</td>\n",
       "      <td>120574</td>\n",
       "      <td>111234</td>\n",
       "      <td>FAILURE</td>\n",
       "      <td>NEWARK</td>\n",
       "      <td>NJ</td>\n",
       "    </tr>\n",
       "    <tr>\n",
       "      <th>1</th>\n",
       "      <td>58112</td>\n",
       "      <td>NM</td>\n",
       "      <td>4547.0</td>\n",
       "      <td>10/25/2019</td>\n",
       "      <td>LOUISA COMMUNITY BANK</td>\n",
       "      <td>28163</td>\n",
       "      <td>25174</td>\n",
       "      <td>FAILURE</td>\n",
       "      <td>LOUISA</td>\n",
       "      <td>KY</td>\n",
       "    </tr>\n",
       "  </tbody>\n",
       "</table>\n",
       "</div>"
      ],
      "text/plain": [
       "    CERT CHCLASS1    COST    FAILDATE                              NAME  \\\n",
       "0  21111        N  2491.0  11/01/2019  CITY NATIONAL BANK OF NEW JERSEY   \n",
       "1  58112       NM  4547.0  10/25/2019             LOUISA COMMUNITY BANK   \n",
       "\n",
       "   QBFASSET  QBFDEP  RESTYPE    CITY STATE  \n",
       "0    120574  111234  FAILURE  NEWARK    NJ  \n",
       "1     28163   25174  FAILURE  LOUISA    KY  "
      ]
     },
     "execution_count": 18,
     "metadata": {},
     "output_type": "execute_result"
    }
   ],
   "source": [
    "df[['CITY', 'STATE']] = df['CITYST'].str.split(',', expand=True)\n",
    "df.drop('CITYST', axis=1, inplace=True)\n",
    "df.head(2)"
   ]
  },
  {
   "cell_type": "markdown",
   "metadata": {},
   "source": [
    "## Step 5: convert and split the date"
   ]
  },
  {
   "cell_type": "markdown",
   "metadata": {},
   "source": [
    "#### Let's take another look at the resulting DataFrame `df`, what are the types of the remaining columns?"
   ]
  },
  {
   "cell_type": "code",
   "execution_count": 19,
   "metadata": {},
   "outputs": [
    {
     "name": "stdout",
     "output_type": "stream",
     "text": [
      "<class 'pandas.core.frame.DataFrame'>\n",
      "RangeIndex: 577 entries, 0 to 576\n",
      "Data columns (total 10 columns):\n",
      " #   Column    Non-Null Count  Dtype  \n",
      "---  ------    --------------  -----  \n",
      " 0   CERT      577 non-null    int64  \n",
      " 1   CHCLASS1  577 non-null    object \n",
      " 2   COST      577 non-null    float64\n",
      " 3   FAILDATE  577 non-null    object \n",
      " 4   NAME      577 non-null    object \n",
      " 5   QBFASSET  577 non-null    int64  \n",
      " 6   QBFDEP    577 non-null    int64  \n",
      " 7   RESTYPE   577 non-null    object \n",
      " 8   CITY      577 non-null    object \n",
      " 9   STATE     577 non-null    object \n",
      "dtypes: float64(1), int64(3), object(6)\n",
      "memory usage: 45.2+ KB\n"
     ]
    }
   ],
   "source": [
    "df.info()"
   ]
  },
  {
   "cell_type": "markdown",
   "metadata": {},
   "source": [
    "#### Column `FAILDATE` has information about when the bank has failed, it needs to be converted to `datetime` type and preferably split into for time series analysis."
   ]
  },
  {
   "cell_type": "code",
   "execution_count": 20,
   "metadata": {},
   "outputs": [
    {
     "data": {
      "text/html": [
       "<div>\n",
       "<style scoped>\n",
       "    .dataframe tbody tr th:only-of-type {\n",
       "        vertical-align: middle;\n",
       "    }\n",
       "\n",
       "    .dataframe tbody tr th {\n",
       "        vertical-align: top;\n",
       "    }\n",
       "\n",
       "    .dataframe thead th {\n",
       "        text-align: right;\n",
       "    }\n",
       "</style>\n",
       "<table border=\"1\" class=\"dataframe\">\n",
       "  <thead>\n",
       "    <tr style=\"text-align: right;\">\n",
       "      <th></th>\n",
       "      <th>CERT</th>\n",
       "      <th>CHCLASS1</th>\n",
       "      <th>COST</th>\n",
       "      <th>NAME</th>\n",
       "      <th>QBFASSET</th>\n",
       "      <th>QBFDEP</th>\n",
       "      <th>RESTYPE</th>\n",
       "      <th>CITY</th>\n",
       "      <th>STATE</th>\n",
       "      <th>DATE</th>\n",
       "    </tr>\n",
       "  </thead>\n",
       "  <tbody>\n",
       "    <tr>\n",
       "      <th>0</th>\n",
       "      <td>21111</td>\n",
       "      <td>N</td>\n",
       "      <td>2491.0</td>\n",
       "      <td>CITY NATIONAL BANK OF NEW JERSEY</td>\n",
       "      <td>120574</td>\n",
       "      <td>111234</td>\n",
       "      <td>FAILURE</td>\n",
       "      <td>NEWARK</td>\n",
       "      <td>NJ</td>\n",
       "      <td>2019-11-01</td>\n",
       "    </tr>\n",
       "    <tr>\n",
       "      <th>1</th>\n",
       "      <td>58112</td>\n",
       "      <td>NM</td>\n",
       "      <td>4547.0</td>\n",
       "      <td>LOUISA COMMUNITY BANK</td>\n",
       "      <td>28163</td>\n",
       "      <td>25174</td>\n",
       "      <td>FAILURE</td>\n",
       "      <td>LOUISA</td>\n",
       "      <td>KY</td>\n",
       "      <td>2019-10-25</td>\n",
       "    </tr>\n",
       "  </tbody>\n",
       "</table>\n",
       "</div>"
      ],
      "text/plain": [
       "    CERT CHCLASS1    COST                              NAME  QBFASSET  QBFDEP  \\\n",
       "0  21111        N  2491.0  CITY NATIONAL BANK OF NEW JERSEY    120574  111234   \n",
       "1  58112       NM  4547.0             LOUISA COMMUNITY BANK     28163   25174   \n",
       "\n",
       "   RESTYPE    CITY STATE       DATE  \n",
       "0  FAILURE  NEWARK    NJ 2019-11-01  \n",
       "1  FAILURE  LOUISA    KY 2019-10-25  "
      ]
     },
     "execution_count": 20,
     "metadata": {},
     "output_type": "execute_result"
    }
   ],
   "source": [
    "df['DATE'] = pd.to_datetime(df['FAILDATE'])\n",
    "df.drop('FAILDATE', axis=1, inplace=True)\n",
    "df.head(2)"
   ]
  },
  {
   "cell_type": "markdown",
   "metadata": {},
   "source": [
    "#### Split the `DATE` column so that information about the year and month of failure are stored in separate columns. I don't think I will ever need the day of failure, so this information can be ignored."
   ]
  },
  {
   "cell_type": "code",
   "execution_count": 23,
   "metadata": {},
   "outputs": [
    {
     "data": {
      "text/html": [
       "<div>\n",
       "<style scoped>\n",
       "    .dataframe tbody tr th:only-of-type {\n",
       "        vertical-align: middle;\n",
       "    }\n",
       "\n",
       "    .dataframe tbody tr th {\n",
       "        vertical-align: top;\n",
       "    }\n",
       "\n",
       "    .dataframe thead th {\n",
       "        text-align: right;\n",
       "    }\n",
       "</style>\n",
       "<table border=\"1\" class=\"dataframe\">\n",
       "  <thead>\n",
       "    <tr style=\"text-align: right;\">\n",
       "      <th></th>\n",
       "      <th>CERT</th>\n",
       "      <th>CHCLASS1</th>\n",
       "      <th>COST</th>\n",
       "      <th>NAME</th>\n",
       "      <th>QBFASSET</th>\n",
       "      <th>QBFDEP</th>\n",
       "      <th>RESTYPE</th>\n",
       "      <th>CITY</th>\n",
       "      <th>STATE</th>\n",
       "      <th>YEAR_FAILED</th>\n",
       "      <th>MONTH_FAILED</th>\n",
       "      <th>QUARTER_FAILED</th>\n",
       "    </tr>\n",
       "  </thead>\n",
       "  <tbody>\n",
       "    <tr>\n",
       "      <th>0</th>\n",
       "      <td>21111</td>\n",
       "      <td>N</td>\n",
       "      <td>2491.0</td>\n",
       "      <td>CITY NATIONAL BANK OF NEW JERSEY</td>\n",
       "      <td>120574</td>\n",
       "      <td>111234</td>\n",
       "      <td>FAILURE</td>\n",
       "      <td>NEWARK</td>\n",
       "      <td>NJ</td>\n",
       "      <td>2019</td>\n",
       "      <td>11</td>\n",
       "      <td>2019Q4</td>\n",
       "    </tr>\n",
       "    <tr>\n",
       "      <th>1</th>\n",
       "      <td>58112</td>\n",
       "      <td>NM</td>\n",
       "      <td>4547.0</td>\n",
       "      <td>LOUISA COMMUNITY BANK</td>\n",
       "      <td>28163</td>\n",
       "      <td>25174</td>\n",
       "      <td>FAILURE</td>\n",
       "      <td>LOUISA</td>\n",
       "      <td>KY</td>\n",
       "      <td>2019</td>\n",
       "      <td>10</td>\n",
       "      <td>2019Q4</td>\n",
       "    </tr>\n",
       "    <tr>\n",
       "      <th>2</th>\n",
       "      <td>58317</td>\n",
       "      <td>SB</td>\n",
       "      <td>2188.0</td>\n",
       "      <td>RESOLUTE BANK</td>\n",
       "      <td>23292</td>\n",
       "      <td>22885</td>\n",
       "      <td>FAILURE</td>\n",
       "      <td>MAUMEE</td>\n",
       "      <td>OH</td>\n",
       "      <td>2019</td>\n",
       "      <td>10</td>\n",
       "      <td>2019Q4</td>\n",
       "    </tr>\n",
       "    <tr>\n",
       "      <th>3</th>\n",
       "      <td>10716</td>\n",
       "      <td>NM</td>\n",
       "      <td>21577.0</td>\n",
       "      <td>ENLOE STATE BANK</td>\n",
       "      <td>36738</td>\n",
       "      <td>31254</td>\n",
       "      <td>FAILURE</td>\n",
       "      <td>COOPER</td>\n",
       "      <td>TX</td>\n",
       "      <td>2019</td>\n",
       "      <td>5</td>\n",
       "      <td>2019Q2</td>\n",
       "    </tr>\n",
       "    <tr>\n",
       "      <th>4</th>\n",
       "      <td>30570</td>\n",
       "      <td>SB</td>\n",
       "      <td>86826.0</td>\n",
       "      <td>WASHINGTON FEDERAL BANK FOR SAVINGS</td>\n",
       "      <td>166345</td>\n",
       "      <td>143964</td>\n",
       "      <td>FAILURE</td>\n",
       "      <td>CHICAGO</td>\n",
       "      <td>IL</td>\n",
       "      <td>2017</td>\n",
       "      <td>12</td>\n",
       "      <td>2017Q4</td>\n",
       "    </tr>\n",
       "    <tr>\n",
       "      <th>5</th>\n",
       "      <td>17719</td>\n",
       "      <td>NM</td>\n",
       "      <td>280.0</td>\n",
       "      <td>THE FARMERS AND MERCHANTS STATE BANK OF ARGONIA</td>\n",
       "      <td>33012</td>\n",
       "      <td>27466</td>\n",
       "      <td>FAILURE</td>\n",
       "      <td>ARGONIA</td>\n",
       "      <td>KS</td>\n",
       "      <td>2017</td>\n",
       "      <td>10</td>\n",
       "      <td>2017Q4</td>\n",
       "    </tr>\n",
       "    <tr>\n",
       "      <th>6</th>\n",
       "      <td>1802</td>\n",
       "      <td>SM</td>\n",
       "      <td>8544.0</td>\n",
       "      <td>FAYETTE COUNTY BANK</td>\n",
       "      <td>34370</td>\n",
       "      <td>33972</td>\n",
       "      <td>FAILURE</td>\n",
       "      <td>SAINT ELMO</td>\n",
       "      <td>IL</td>\n",
       "      <td>2017</td>\n",
       "      <td>5</td>\n",
       "      <td>2017Q2</td>\n",
       "    </tr>\n",
       "    <tr>\n",
       "      <th>7</th>\n",
       "      <td>30003</td>\n",
       "      <td>SB</td>\n",
       "      <td>133914.0</td>\n",
       "      <td>GUARANTY BANK</td>\n",
       "      <td>1031900</td>\n",
       "      <td>1002026</td>\n",
       "      <td>FAILURE</td>\n",
       "      <td>MILWAUKEE</td>\n",
       "      <td>WI</td>\n",
       "      <td>2017</td>\n",
       "      <td>5</td>\n",
       "      <td>2017Q2</td>\n",
       "    </tr>\n",
       "    <tr>\n",
       "      <th>8</th>\n",
       "      <td>58302</td>\n",
       "      <td>NM</td>\n",
       "      <td>858100.0</td>\n",
       "      <td>FIRST NBC BANK</td>\n",
       "      <td>3325870</td>\n",
       "      <td>3032208</td>\n",
       "      <td>FAILURE</td>\n",
       "      <td>NEW ORLEANS</td>\n",
       "      <td>LA</td>\n",
       "      <td>2017</td>\n",
       "      <td>4</td>\n",
       "      <td>2017Q2</td>\n",
       "    </tr>\n",
       "    <tr>\n",
       "      <th>9</th>\n",
       "      <td>35495</td>\n",
       "      <td>NM</td>\n",
       "      <td>9302.0</td>\n",
       "      <td>PROFICIO BANK</td>\n",
       "      <td>68208</td>\n",
       "      <td>65042</td>\n",
       "      <td>FAILURE</td>\n",
       "      <td>COTTONWOOD HEIGHTS</td>\n",
       "      <td>UT</td>\n",
       "      <td>2017</td>\n",
       "      <td>3</td>\n",
       "      <td>2017Q1</td>\n",
       "    </tr>\n",
       "  </tbody>\n",
       "</table>\n",
       "</div>"
      ],
      "text/plain": [
       "    CERT CHCLASS1      COST                                             NAME  \\\n",
       "0  21111        N    2491.0                 CITY NATIONAL BANK OF NEW JERSEY   \n",
       "1  58112       NM    4547.0                            LOUISA COMMUNITY BANK   \n",
       "2  58317       SB    2188.0                                    RESOLUTE BANK   \n",
       "3  10716       NM   21577.0                                 ENLOE STATE BANK   \n",
       "4  30570       SB   86826.0              WASHINGTON FEDERAL BANK FOR SAVINGS   \n",
       "5  17719       NM     280.0  THE FARMERS AND MERCHANTS STATE BANK OF ARGONIA   \n",
       "6   1802       SM    8544.0                              FAYETTE COUNTY BANK   \n",
       "7  30003       SB  133914.0                                    GUARANTY BANK   \n",
       "8  58302       NM  858100.0                                   FIRST NBC BANK   \n",
       "9  35495       NM    9302.0                                    PROFICIO BANK   \n",
       "\n",
       "   QBFASSET   QBFDEP  RESTYPE                CITY STATE  YEAR_FAILED  \\\n",
       "0    120574   111234  FAILURE              NEWARK    NJ         2019   \n",
       "1     28163    25174  FAILURE              LOUISA    KY         2019   \n",
       "2     23292    22885  FAILURE              MAUMEE    OH         2019   \n",
       "3     36738    31254  FAILURE              COOPER    TX         2019   \n",
       "4    166345   143964  FAILURE             CHICAGO    IL         2017   \n",
       "5     33012    27466  FAILURE             ARGONIA    KS         2017   \n",
       "6     34370    33972  FAILURE          SAINT ELMO    IL         2017   \n",
       "7   1031900  1002026  FAILURE           MILWAUKEE    WI         2017   \n",
       "8   3325870  3032208  FAILURE         NEW ORLEANS    LA         2017   \n",
       "9     68208    65042  FAILURE  COTTONWOOD HEIGHTS    UT         2017   \n",
       "\n",
       "   MONTH_FAILED QUARTER_FAILED  \n",
       "0            11         2019Q4  \n",
       "1            10         2019Q4  \n",
       "2            10         2019Q4  \n",
       "3             5         2019Q2  \n",
       "4            12         2017Q4  \n",
       "5            10         2017Q4  \n",
       "6             5         2017Q2  \n",
       "7             5         2017Q2  \n",
       "8             4         2017Q2  \n",
       "9             3         2017Q1  "
      ]
     },
     "execution_count": 23,
     "metadata": {},
     "output_type": "execute_result"
    }
   ],
   "source": [
    "df['YEAR_FAILED'] = df['DATE'].dt.year.astype('Int64')\n",
    "df['MONTH_FAILED'] = df['DATE'].dt.month.astype('Int64')\n",
    "df['QUARTER_FAILED'] = pd.PeriodIndex(df.DATE, freq='Q')\n",
    "df.drop('DATE', axis=1, inplace=True)\n",
    "df.head(10)"
   ]
  },
  {
   "cell_type": "markdown",
   "metadata": {},
   "source": [
    "## Step 6: mapping bank type to human readable terms"
   ]
  },
  {
   "cell_type": "markdown",
   "metadata": {},
   "source": [
    "#### Finally, column `CHCLASS1` contains somewhat cryptic values that indicate institution type. "
   ]
  },
  {
   "cell_type": "code",
   "execution_count": 24,
   "metadata": {},
   "outputs": [
    {
     "data": {
      "text/plain": [
       "array(['N', 'NM', 'SB', 'SM', 'SI', 'SA'], dtype=object)"
      ]
     },
     "execution_count": 24,
     "metadata": {},
     "output_type": "execute_result"
    }
   ],
   "source": [
    "df['CHCLASS1'].unique()"
   ]
  },
  {
   "cell_type": "markdown",
   "metadata": {},
   "source": [
    "#### They can be mapped to more user friendly human readable terms as explained in the FDIC info page: https://fdicbanksinsured.com/fdic-insured-bank-glossary-of-terms/. In short, FDIC insured banks fall into two types, Commercial or Savings and three classes, based on charter and supervising agency."
   ]
  },
  {
   "cell_type": "code",
   "execution_count": 25,
   "metadata": {},
   "outputs": [],
   "source": [
    "fdic_terms = {'N':'Commercial, National FRS Banks', \n",
    "              'NM': 'Commercial, State Chartered non-FRS Banks', \n",
    "              'SB':'Savings, Federal Savings Bank', \n",
    "              'SM':'Commercial, State Chartered FRS Banks', \n",
    "              'SI':'Savings, State Savings FDIC Banks', \n",
    "              'SA':'Savings, Federal & State Savings and Loans'}"
   ]
  },
  {
   "cell_type": "markdown",
   "metadata": {},
   "source": [
    "#### Once the mapping is created, values of `CHCLASS1` can be replaced by `fdic_terms` and split on comma to populate two new columns `BANK_TYPE` and `BANK_CLASS`:"
   ]
  },
  {
   "cell_type": "code",
   "execution_count": 26,
   "metadata": {},
   "outputs": [
    {
     "data": {
      "text/html": [
       "<div>\n",
       "<style scoped>\n",
       "    .dataframe tbody tr th:only-of-type {\n",
       "        vertical-align: middle;\n",
       "    }\n",
       "\n",
       "    .dataframe tbody tr th {\n",
       "        vertical-align: top;\n",
       "    }\n",
       "\n",
       "    .dataframe thead th {\n",
       "        text-align: right;\n",
       "    }\n",
       "</style>\n",
       "<table border=\"1\" class=\"dataframe\">\n",
       "  <thead>\n",
       "    <tr style=\"text-align: right;\">\n",
       "      <th></th>\n",
       "      <th>CERT</th>\n",
       "      <th>COST</th>\n",
       "      <th>NAME</th>\n",
       "      <th>QBFASSET</th>\n",
       "      <th>QBFDEP</th>\n",
       "      <th>RESTYPE</th>\n",
       "      <th>CITY</th>\n",
       "      <th>STATE</th>\n",
       "      <th>YEAR_FAILED</th>\n",
       "      <th>MONTH_FAILED</th>\n",
       "      <th>QUARTER_FAILED</th>\n",
       "      <th>BANK_TYPE</th>\n",
       "      <th>BANK_CLASS</th>\n",
       "    </tr>\n",
       "  </thead>\n",
       "  <tbody>\n",
       "    <tr>\n",
       "      <th>0</th>\n",
       "      <td>21111</td>\n",
       "      <td>2491.0</td>\n",
       "      <td>CITY NATIONAL BANK OF NEW JERSEY</td>\n",
       "      <td>120574</td>\n",
       "      <td>111234</td>\n",
       "      <td>FAILURE</td>\n",
       "      <td>NEWARK</td>\n",
       "      <td>NJ</td>\n",
       "      <td>2019</td>\n",
       "      <td>11</td>\n",
       "      <td>2019Q4</td>\n",
       "      <td>Commercial</td>\n",
       "      <td>National FRS Banks</td>\n",
       "    </tr>\n",
       "    <tr>\n",
       "      <th>1</th>\n",
       "      <td>58112</td>\n",
       "      <td>4547.0</td>\n",
       "      <td>LOUISA COMMUNITY BANK</td>\n",
       "      <td>28163</td>\n",
       "      <td>25174</td>\n",
       "      <td>FAILURE</td>\n",
       "      <td>LOUISA</td>\n",
       "      <td>KY</td>\n",
       "      <td>2019</td>\n",
       "      <td>10</td>\n",
       "      <td>2019Q4</td>\n",
       "      <td>Commercial</td>\n",
       "      <td>State Chartered non-FRS Banks</td>\n",
       "    </tr>\n",
       "  </tbody>\n",
       "</table>\n",
       "</div>"
      ],
      "text/plain": [
       "    CERT    COST                              NAME  QBFASSET  QBFDEP  RESTYPE  \\\n",
       "0  21111  2491.0  CITY NATIONAL BANK OF NEW JERSEY    120574  111234  FAILURE   \n",
       "1  58112  4547.0             LOUISA COMMUNITY BANK     28163   25174  FAILURE   \n",
       "\n",
       "     CITY STATE  YEAR_FAILED  MONTH_FAILED QUARTER_FAILED   BANK_TYPE  \\\n",
       "0  NEWARK    NJ         2019            11         2019Q4  Commercial   \n",
       "1  LOUISA    KY         2019            10         2019Q4  Commercial   \n",
       "\n",
       "                       BANK_CLASS  \n",
       "0              National FRS Banks  \n",
       "1   State Chartered non-FRS Banks  "
      ]
     },
     "execution_count": 26,
     "metadata": {},
     "output_type": "execute_result"
    }
   ],
   "source": [
    "df['CHCLASS1'].replace(fdic_terms, inplace=True)\n",
    "df[['BANK_TYPE', 'BANK_CLASS']] = df['CHCLASS1'].str.split(',', expand=True)\n",
    "df.drop('CHCLASS1', axis=1, inplace=True)\n",
    "df.head(2)"
   ]
  },
  {
   "cell_type": "markdown",
   "metadata": {},
   "source": [
    "## Step 7: saving to .csv file:"
   ]
  },
  {
   "cell_type": "code",
   "execution_count": 27,
   "metadata": {},
   "outputs": [],
   "source": [
    "df.to_csv('failed_banks_cleaned.csv')"
   ]
  },
  {
   "cell_type": "code",
   "execution_count": null,
   "metadata": {},
   "outputs": [],
   "source": []
  }
 ],
 "metadata": {
  "kernelspec": {
   "display_name": "Python 3",
   "language": "python",
   "name": "python3"
  },
  "language_info": {
   "codemirror_mode": {
    "name": "ipython",
    "version": 3
   },
   "file_extension": ".py",
   "mimetype": "text/x-python",
   "name": "python",
   "nbconvert_exporter": "python",
   "pygments_lexer": "ipython3",
   "version": "3.8.8"
  }
 },
 "nbformat": 4,
 "nbformat_minor": 4
}
