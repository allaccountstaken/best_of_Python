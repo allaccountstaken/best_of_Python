{
  "nbformat": 4,
  "nbformat_minor": 0,
  "metadata": {
    "colab": {
      "name": "Homework1.ipynb",
      "provenance": [],
      "collapsed_sections": []
    },
    "kernelspec": {
      "name": "python3",
      "display_name": "Python 3"
    },
    "language_info": {
      "name": "python"
    }
  },
  "cells": [
    {
      "cell_type": "markdown",
      "metadata": {
        "id": "4H3jEzUpj_6L"
      },
      "source": [
        "- Name of activity: Python Part A\n",
        "- Name: Dmitry Mikhaylov\n",
        "- UVA computing ID: agp7dp"
      ]
    },
    {
      "cell_type": "markdown",
      "metadata": {
        "id": "dQatVDzpk6xF"
      },
      "source": [
        "## Homework 1"
      ]
    },
    {
      "cell_type": "markdown",
      "metadata": {
        "id": "bB2vR_9iky6J"
      },
      "source": [
        "#### Exercise: Python Part A\n",
        "TODO:\n",
        "1. Prompt user for:   First name, Last name,  and Age. [Note: Feel free to be creative here if you like!] \n",
        "2. After fetching First name, Last name, and Age, eliminate any whitespace from either the left-hand side or the right-hand side.\n",
        "3. Concatenate the First name and the Last name into a single string so it looks like “Last-First” (with a dash separating the last and first names).\n",
        "4. Create a dictionary and add this information to it where the name (“Last-First”) is the key and the age (an integer) is the value.\n",
        "Simulate gathering information for four people. Your program should add each person’s information to the dictionary as described.\n",
        "5. Print out the dictionary to a simple text file (e.g., “myOutput.txt”). "
      ]
    },
    {
      "cell_type": "code",
      "metadata": {
        "colab": {
          "base_uri": "https://localhost:8080/"
        },
        "id": "4jyOYSY5lGU8",
        "outputId": "b276e93d-4afe-49a4-917a-849a0e7947f0"
      },
      "source": [
        "users_prompt = \"Please give me your first and last name, as well as your age.\"\n",
        "users_dict ={} # Dictionary of names to return at the end \n",
        "max_iter = 4\n",
        "\n",
        "\n",
        "# While loop to collect inputs from several users as controlled by max_iter parameter\n",
        "while len(users_dict) < max_iter:\n",
        "\n",
        "  try:\n",
        "    input_str = input(users_prompt) # Prompt user for: First name, Last name, and Age.\n",
        "    input_list = input_str.split()\n",
        "    age_num = int(input_list[-1])\n",
        "    firstlast = input_list[0]+\"-\"+input_list[1]\n",
        "    users_dict[firstlast] = age_num\n",
        "  except ValueError:\n",
        "       print (\"Age must be an integer, please\")\n",
        "       continue\n",
        "\n",
        "print(users_dict)"
      ],
      "execution_count": 148,
      "outputs": [
        {
          "output_type": "stream",
          "name": "stdout",
          "text": [
            "Please give me your first and last name, as well as your age.Dima Mik 40\n",
            "Please give me your first and last name, as well as your age.not Dima Mik 25\n",
            "Please give me your first and last name, as well as your age.another guy 12\n",
            "Please give me your first and last name, as well as your age.big big #\n",
            "Age must be an integer, please\n",
            "Please give me your first and last name, as well as your age.big bug 45\n",
            "{'Dima-Mik': 40, 'not-Dima': 25, 'another-guy': 12, 'big-bug': 45}\n"
          ]
        }
      ]
    },
    {
      "cell_type": "code",
      "metadata": {
        "colab": {
          "base_uri": "https://localhost:8080/"
        },
        "id": "c4Oo_2ePWJL4",
        "outputId": "5c0b7a4f-75ce-4ad1-b080-86731d8dacc3"
      },
      "source": [
        "\n",
        "len(users_dict)"
      ],
      "execution_count": 149,
      "outputs": [
        {
          "output_type": "execute_result",
          "data": {
            "text/plain": [
              "4"
            ]
          },
          "metadata": {},
          "execution_count": 149
        }
      ]
    },
    {
      "cell_type": "code",
      "metadata": {
        "colab": {
          "base_uri": "https://localhost:8080/"
        },
        "id": "1Plxaq4L1IkD",
        "outputId": "bfa75364-5b44-442e-e802-40f715c50871"
      },
      "source": [
        "print(users_dict)"
      ],
      "execution_count": 150,
      "outputs": [
        {
          "output_type": "stream",
          "name": "stdout",
          "text": [
            "{'Dima-Mik': 40, 'not-Dima': 25, 'another-guy': 12, 'big-bug': 45}\n"
          ]
        }
      ]
    },
    {
      "cell_type": "code",
      "metadata": {
        "id": "YNroF8NkmrRG"
      },
      "source": [
        "3# Print out the dictionary to a simple text file (e.g., “myOutput.txt”).\n",
        "\n",
        "with open(\"myOutput.txt\", 'w') as f: \n",
        "    for key, value in users_dict.items(): \n",
        "        f.write('%s:%s\\n' % (key, value))"
      ],
      "execution_count": 153,
      "outputs": []
    },
    {
      "cell_type": "code",
      "metadata": {
        "colab": {
          "base_uri": "https://localhost:8080/"
        },
        "id": "xtH0I7bb1REW",
        "outputId": "7f13082c-aedb-4fdc-af90-e73af4f9187a"
      },
      "source": [
        "!ls"
      ],
      "execution_count": 154,
      "outputs": [
        {
          "output_type": "stream",
          "name": "stdout",
          "text": [
            "myOutput.txt  sample_data\n"
          ]
        }
      ]
    },
    {
      "cell_type": "code",
      "metadata": {
        "colab": {
          "base_uri": "https://localhost:8080/"
        },
        "id": "uzQT5CBPXJH3",
        "outputId": "265f90d5-005c-4d76-b132-2a58d9ee5669"
      },
      "source": [
        "!cat myOutput.txt"
      ],
      "execution_count": 155,
      "outputs": [
        {
          "output_type": "stream",
          "name": "stdout",
          "text": [
            "Dima-Mik:40\n",
            "not-Dima:25\n",
            "another-guy:12\n",
            "big-bug:45\n"
          ]
        }
      ]
    },
    {
      "cell_type": "markdown",
      "metadata": {
        "id": "H7OcBb5l3L0y"
      },
      "source": [
        "### Exercise: Python Part B\n",
        "TODO:\n",
        "1. Create a long sentence of words [assume NO punctuation].\n",
        "2. Put the words into a list. (Hint: How are the words separated?) (Separating the words can be done before the list comprehension.)\n",
        "3. Use a list comprehension to return the word along with the length of it. Use this →  (word, len(word)).\n",
        "4. Finally, print out all the words (along with the word length).\n",
        "If you’ve finished . . .\n",
        " \n",
        "- Print out the word-size tuples in sorted order by length (smallest to largest)\n",
        "\n",
        "- Done that, too?   Print out only unique words (i.e., no repetitions)."
      ]
    },
    {
      "cell_type": "code",
      "metadata": {
        "id": "gUpdbRKB3KWN"
      },
      "source": [
        "sentence = \"\"\"Lawmakers over four days accused his government of mishandling the \n",
        "pandemic and criticized him for the severe economic impact, taking aim at the government's \n",
        "slow vaccine rollout as a result of not making advance vaccine \n",
        "orders and deciding not to join the international Covax vaccine-supply scheme.\"\"\""
      ],
      "execution_count": 203,
      "outputs": []
    },
    {
      "cell_type": "code",
      "metadata": {
        "id": "6uoTBO-MX0f5"
      },
      "source": [
        "words_lenght = [(word, len(word)) for word in sentence.split()]"
      ],
      "execution_count": 204,
      "outputs": []
    },
    {
      "cell_type": "code",
      "metadata": {
        "id": "aSYz5aB4c1t0"
      },
      "source": [
        "words_lenght.sort(key=lambda x: x[1])"
      ],
      "execution_count": 205,
      "outputs": []
    },
    {
      "cell_type": "code",
      "metadata": {
        "colab": {
          "base_uri": "https://localhost:8080/"
        },
        "id": "3Xm7l9f8cV8u",
        "outputId": "d466d7de-8c4c-43c6-a2a3-24f43c102e75"
      },
      "source": [
        "words_lenght # word-size tuples in sorted order by length (smallest to largest)"
      ],
      "execution_count": 206,
      "outputs": [
        {
          "output_type": "execute_result",
          "data": {
            "text/plain": [
              "[('a', 1),\n",
              " ('of', 2),\n",
              " ('at', 2),\n",
              " ('as', 2),\n",
              " ('of', 2),\n",
              " ('to', 2),\n",
              " ('his', 3),\n",
              " ('the', 3),\n",
              " ('and', 3),\n",
              " ('him', 3),\n",
              " ('for', 3),\n",
              " ('the', 3),\n",
              " ('aim', 3),\n",
              " ('the', 3),\n",
              " ('not', 3),\n",
              " ('and', 3),\n",
              " ('not', 3),\n",
              " ('the', 3),\n",
              " ('over', 4),\n",
              " ('four', 4),\n",
              " ('days', 4),\n",
              " ('slow', 4),\n",
              " ('join', 4),\n",
              " ('Covax', 5),\n",
              " ('severe', 6),\n",
              " ('taking', 6),\n",
              " ('result', 6),\n",
              " ('making', 6),\n",
              " ('orders', 6),\n",
              " ('accused', 7),\n",
              " ('impact,', 7),\n",
              " ('vaccine', 7),\n",
              " ('rollout', 7),\n",
              " ('advance', 7),\n",
              " ('vaccine', 7),\n",
              " ('scheme.', 7),\n",
              " ('pandemic', 8),\n",
              " ('economic', 8),\n",
              " ('deciding', 8),\n",
              " ('Lawmakers', 9),\n",
              " ('government', 10),\n",
              " ('criticized', 10),\n",
              " ('mishandling', 11),\n",
              " (\"government's\", 12),\n",
              " ('international', 13),\n",
              " ('vaccine-supply', 14)]"
            ]
          },
          "metadata": {},
          "execution_count": 206
        }
      ]
    },
    {
      "cell_type": "code",
      "metadata": {
        "colab": {
          "base_uri": "https://localhost:8080/"
        },
        "id": "63oNS3lTcjhS",
        "outputId": "d0d913c9-71be-4d2c-a122-70938f4f4f94"
      },
      "source": [
        "set(words_lenght) # Print out only unique words (i.e., no repetitions)"
      ],
      "execution_count": 207,
      "outputs": [
        {
          "output_type": "execute_result",
          "data": {
            "text/plain": [
              "{('Covax', 5),\n",
              " ('Lawmakers', 9),\n",
              " ('a', 1),\n",
              " ('accused', 7),\n",
              " ('advance', 7),\n",
              " ('aim', 3),\n",
              " ('and', 3),\n",
              " ('as', 2),\n",
              " ('at', 2),\n",
              " ('criticized', 10),\n",
              " ('days', 4),\n",
              " ('deciding', 8),\n",
              " ('economic', 8),\n",
              " ('for', 3),\n",
              " ('four', 4),\n",
              " ('government', 10),\n",
              " (\"government's\", 12),\n",
              " ('him', 3),\n",
              " ('his', 3),\n",
              " ('impact,', 7),\n",
              " ('international', 13),\n",
              " ('join', 4),\n",
              " ('making', 6),\n",
              " ('mishandling', 11),\n",
              " ('not', 3),\n",
              " ('of', 2),\n",
              " ('orders', 6),\n",
              " ('over', 4),\n",
              " ('pandemic', 8),\n",
              " ('result', 6),\n",
              " ('rollout', 7),\n",
              " ('scheme.', 7),\n",
              " ('severe', 6),\n",
              " ('slow', 4),\n",
              " ('taking', 6),\n",
              " ('the', 3),\n",
              " ('to', 2),\n",
              " ('vaccine', 7),\n",
              " ('vaccine-supply', 14)}"
            ]
          },
          "metadata": {},
          "execution_count": 207
        }
      ]
    },
    {
      "cell_type": "code",
      "metadata": {
        "id": "jcy373lZe01o"
      },
      "source": [
        ""
      ],
      "execution_count": null,
      "outputs": []
    }
  ]
}