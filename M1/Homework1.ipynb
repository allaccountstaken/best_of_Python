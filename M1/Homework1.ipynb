{
  "nbformat": 4,
  "nbformat_minor": 0,
  "metadata": {
    "colab": {
      "name": "Homework1.ipynb",
      "provenance": [],
      "collapsed_sections": [],
      "toc_visible": true
    },
    "kernelspec": {
      "name": "python3",
      "display_name": "Python 3"
    },
    "language_info": {
      "name": "python"
    }
  },
  "cells": [
    {
      "cell_type": "code",
      "metadata": {
        "id": "d7DROjTdrM4e"
      },
      "source": [
        ""
      ],
      "execution_count": null,
      "outputs": []
    },
    {
      "cell_type": "markdown",
      "metadata": {
        "id": "4H3jEzUpj_6L"
      },
      "source": [
        "- Name of activity: Python Part A\n",
        "- Name: Dmitry Mikhaylov\n",
        "- UVA computing ID: agp7dp"
      ]
    },
    {
      "cell_type": "markdown",
      "metadata": {
        "id": "dQatVDzpk6xF"
      },
      "source": [
        "## Homework 1"
      ]
    },
    {
      "cell_type": "markdown",
      "metadata": {
        "id": "bB2vR_9iky6J"
      },
      "source": [
        "#### Exercise: Python Part A\n",
        "TODO:\n",
        "1. Prompt user for:   First name, Last name,  and Age. [Note: Feel free to be creative here if you like!] \n",
        "2. After fetching First name, Last name, and Age, eliminate any whitespace from either the left-hand side or the right-hand side.\n",
        "3. Concatenate the First name and the Last name into a single string so it looks like “Last-First” (with a dash separating the last and first names).\n",
        "4. Create a dictionary and add this information to it where the name (“Last-First”) is the key and the age (an integer) is the value.\n",
        "Simulate gathering information for four people. Your program should add each person’s information to the dictionary as described.\n",
        "5. Print out the dictionary to a simple text file (e.g., “myOutput.txt”). "
      ]
    },
    {
      "cell_type": "code",
      "metadata": {
        "colab": {
          "base_uri": "https://localhost:8080/"
        },
        "id": "4jyOYSY5lGU8",
        "outputId": "cf7dcb4c-844f-47d9-f1a2-391b64a3f116"
      },
      "source": [
        "users_prompt = \"Please give me your first and last name, as well as your age\"\n",
        "users_dict ={} # Dictionary of names to return at the end \n",
        "max_iter = 4\n",
        "\n",
        "# While loop to collect inputs from several users as controlled by max_iter parameter\n",
        "while len(users_dict) < max_iter:\n",
        "\n",
        "  try:\n",
        "    input_str = input(users_prompt) # Prompt user for: First name, Last name, and Age.\n",
        "    input_list = input_str.split()\n",
        "    age_num = int(input_list[-1])\n",
        "  except ValueError:\n",
        "       print (\"Age must be an integer, please\")\n",
        "       continue\n",
        "  \n",
        "  else:\n",
        "    try:\n",
        "      firstlast = input_list[0]+\"-\"+input_list[1] # Concatenate the First name and the Last name into a single string so it looks like “Last-First”\n",
        "      users_dict[firstlast] = age_num \n",
        "    except:\n",
        "      print(\"Whew!, something else occurred. Please try again\")\n",
        "      continue \n"
      ],
      "execution_count": 128,
      "outputs": [
        {
          "name": "stdout",
          "output_type": "stream",
          "text": [
            "Please give me your first and last name, as well as your ageD D 11\n",
            "Please give me your first and last name, as well as your ageD ..   .. 2. 1 1\n",
            "Please give me your first and last name, as well as your ageS D\n",
            "Age must be an integer, please\n",
            "Please give me your first and last name, as well as your ageD D 1\n",
            "Please give me your first and last name, as well as your age11 qq qq \n",
            "Age must be an integer, please\n",
            "Please give me your first and last name, as well as your ageD D D \n",
            "Age must be an integer, please\n",
            "Please give me your first and last name, as well as your age333\n",
            "Whew!, something else occurred. Please try again\n",
            "Please give me your first and last name, as well as your age33\n",
            "Whew!, something else occurred. Please try again\n",
            "Please give me your first and last name, as well as your age3 3 3 \n",
            "Please give me your first and last name, as well as your age3 33 333 3 3 3\n"
          ]
        }
      ]
    },
    {
      "cell_type": "code",
      "metadata": {
        "colab": {
          "base_uri": "https://localhost:8080/"
        },
        "id": "1Plxaq4L1IkD",
        "outputId": "64131c59-23df-43ab-b3b5-7712f7fcc609"
      },
      "source": [
        "print(users_dict)"
      ],
      "execution_count": 129,
      "outputs": [
        {
          "output_type": "stream",
          "name": "stdout",
          "text": [
            "{'D-D': 1, 'D-..': 1, '3-3': 3, '3-33': 3}\n"
          ]
        }
      ]
    },
    {
      "cell_type": "code",
      "metadata": {
        "id": "YNroF8NkmrRG"
      },
      "source": [
        "3# Print out the dictionary to a simple text file (e.g., “myOutput.txt”).\n",
        "\n",
        "with open(\"myOutput.txt\", 'w') as f: \n",
        "    for key, value in users_dict.items(): \n",
        "        f.write('%s:%s\\n' % (key, value))"
      ],
      "execution_count": 130,
      "outputs": []
    },
    {
      "cell_type": "code",
      "metadata": {
        "colab": {
          "base_uri": "https://localhost:8080/"
        },
        "id": "xtH0I7bb1REW",
        "outputId": "25ab7b56-e020-4c16-8aeb-887fd8aeae23"
      },
      "source": [
        "!ls"
      ],
      "execution_count": 131,
      "outputs": [
        {
          "output_type": "stream",
          "name": "stdout",
          "text": [
            "myOutput.txt  sample_data\n"
          ]
        }
      ]
    }
  ]
}