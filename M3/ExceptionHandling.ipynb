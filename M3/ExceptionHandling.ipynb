{
  "nbformat": 4,
  "nbformat_minor": 0,
  "metadata": {
    "colab": {
      "name": "ExceptionHandling.ipynb",
      "provenance": [],
      "collapsed_sections": []
    },
    "kernelspec": {
      "name": "python3",
      "display_name": "Python 3"
    },
    "language_info": {
      "name": "python"
    }
  },
  "cells": [
    {
      "cell_type": "markdown",
      "metadata": {
        "id": "V3JgAyAciHG0"
      },
      "source": [
        "* Module 3 live session activity: Exception Handling\n",
        "* Dima Mikhaylov\n",
        "* UVA ID: agp7dp\n"
      ]
    },
    {
      "cell_type": "markdown",
      "metadata": {
        "id": "x3uaHZMAIyGB"
      },
      "source": [
        "1. [Reference pyScript25; and https://docs.python.org/3/library/exceptions.html#exception-hierarchy]\n",
        " \n",
        "The order of the \"except\" blocks matter because once an exception occurs, control is transferred to the exception handler, which is one of the \"except\" blocks. Which one? The very first exception of the right kind. Reference the exception hierarchy (see link.) A more general exception will also be able to catch any of its subclass exceptions (remember \"is-a\" relationships).\n",
        " \n",
        "Look at pyScript25. Comment back in the commented FileNotFoundError exception and comment out the earlier FileNotFoundError exception. Now, cause a file-not-found error to occur. You'll see the general 'IOError' message. Write down your observations and explain in your own words what happened. [Note: “IOError” and “OSError” are aliases; “IOError” is kept for compatibility with previous Python versions.]\n",
        " "
      ]
    },
    {
      "cell_type": "code",
      "metadata": {
        "colab": {
          "base_uri": "https://localhost:8080/",
          "height": 453
        },
        "id": "YlkT4LChI3Ba",
        "outputId": "307f39f7-72a5-4584-b854-5d6813ac6b0f"
      },
      "source": [
        "try:\n",
        "    name = input(\"Enter the name of a file: \")\n",
        "    file = open(name, 'r')  # try to open this file for reading\n",
        "    \n",
        "    numer = int(input(\"Enter a numerator: \"))\n",
        "    denom = int(input(\"Enter a denominator: \"))\n",
        "    quotient = numer / denom\n",
        "    print(str(numer) + \" / \" + str(denom) + \" = \" + str(quotient))\n",
        "#except FileNotFoundError:   # specifically for file errors [BEFORE IOError!]\n",
        "#    print(\"** FileNotFoundError >> Cannot open file! **\")\n",
        "#    name = input(\"Enter the name of a file to open: \") # w2filegrades.txt\n",
        "#    file = open(name, 'r')\n",
        "except IOError:  # for general IO errors\n",
        "    print(\"** You caught a general IOError! **\")\n",
        "    name = input(\"Enter the name of a file to open: \") # w2filegrades.txt\n",
        "    file = open(name, 'r')\n",
        "except FileNotFoundError:\n",
        "    print(\"** FileNotFoundError >> Cannot open file! **\")\n",
        "    name = input(\"Enter the name of a file to open: \") # w2filegrades.txt\n",
        "    file = open(name, 'r')    \n",
        "except ZeroDivisionError:  # for divide by zero error\n",
        "    print(\"** Cannot divide by zero! **\")\n",
        "    denom = int(input(\"Enter a non-zero denominator: \"))\n",
        "    quotient = numer / denom\n",
        "    print(str(numer) + \" / \" + str(denom) + \" = \" + str(quotient))\n",
        "\n",
        "\n"
      ],
      "execution_count": 3,
      "outputs": [
        {
          "name": "stdout",
          "output_type": "stream",
          "text": [
            "Enter the name of a file: i\n",
            "** You caught a general IOError! **\n",
            "Enter the name of a file to open: i\n"
          ]
        },
        {
          "output_type": "error",
          "ename": "FileNotFoundError",
          "evalue": "ignored",
          "traceback": [
            "\u001b[0;31m---------------------------------------------------------------------------\u001b[0m",
            "\u001b[0;31mFileNotFoundError\u001b[0m                         Traceback (most recent call last)",
            "\u001b[0;32m<ipython-input-3-264d79da7096>\u001b[0m in \u001b[0;36m<module>\u001b[0;34m()\u001b[0m\n\u001b[1;32m     10\u001b[0m     \u001b[0mname\u001b[0m \u001b[0;34m=\u001b[0m \u001b[0minput\u001b[0m\u001b[0;34m(\u001b[0m\u001b[0;34m\"Enter the name of a file: \"\u001b[0m\u001b[0;34m)\u001b[0m\u001b[0;34m\u001b[0m\u001b[0;34m\u001b[0m\u001b[0m\n\u001b[0;32m---> 11\u001b[0;31m     \u001b[0mfile\u001b[0m \u001b[0;34m=\u001b[0m \u001b[0mopen\u001b[0m\u001b[0;34m(\u001b[0m\u001b[0mname\u001b[0m\u001b[0;34m,\u001b[0m \u001b[0;34m'r'\u001b[0m\u001b[0;34m)\u001b[0m  \u001b[0;31m# try to open this file for reading\u001b[0m\u001b[0;34m\u001b[0m\u001b[0;34m\u001b[0m\u001b[0m\n\u001b[0m\u001b[1;32m     12\u001b[0m \u001b[0;34m\u001b[0m\u001b[0m\n",
            "\u001b[0;31mFileNotFoundError\u001b[0m: [Errno 2] No such file or directory: 'i'",
            "\nDuring handling of the above exception, another exception occurred:\n",
            "\u001b[0;31mFileNotFoundError\u001b[0m                         Traceback (most recent call last)",
            "\u001b[0;32m<ipython-input-3-264d79da7096>\u001b[0m in \u001b[0;36m<module>\u001b[0;34m()\u001b[0m\n\u001b[1;32m     22\u001b[0m     \u001b[0mprint\u001b[0m\u001b[0;34m(\u001b[0m\u001b[0;34m\"** You caught a general IOError! **\"\u001b[0m\u001b[0;34m)\u001b[0m\u001b[0;34m\u001b[0m\u001b[0;34m\u001b[0m\u001b[0m\n\u001b[1;32m     23\u001b[0m     \u001b[0mname\u001b[0m \u001b[0;34m=\u001b[0m \u001b[0minput\u001b[0m\u001b[0;34m(\u001b[0m\u001b[0;34m\"Enter the name of a file to open: \"\u001b[0m\u001b[0;34m)\u001b[0m \u001b[0;31m# w2filegrades.txt\u001b[0m\u001b[0;34m\u001b[0m\u001b[0;34m\u001b[0m\u001b[0m\n\u001b[0;32m---> 24\u001b[0;31m     \u001b[0mfile\u001b[0m \u001b[0;34m=\u001b[0m \u001b[0mopen\u001b[0m\u001b[0;34m(\u001b[0m\u001b[0mname\u001b[0m\u001b[0;34m,\u001b[0m \u001b[0;34m'r'\u001b[0m\u001b[0;34m)\u001b[0m\u001b[0;34m\u001b[0m\u001b[0;34m\u001b[0m\u001b[0m\n\u001b[0m\u001b[1;32m     25\u001b[0m \u001b[0;32mexcept\u001b[0m \u001b[0mFileNotFoundError\u001b[0m\u001b[0;34m:\u001b[0m\u001b[0;34m\u001b[0m\u001b[0;34m\u001b[0m\u001b[0m\n\u001b[1;32m     26\u001b[0m     \u001b[0mprint\u001b[0m\u001b[0;34m(\u001b[0m\u001b[0;34m\"** FileNotFoundError >> Cannot open file! **\"\u001b[0m\u001b[0;34m)\u001b[0m\u001b[0;34m\u001b[0m\u001b[0;34m\u001b[0m\u001b[0m\n",
            "\u001b[0;31mFileNotFoundError\u001b[0m: [Errno 2] No such file or directory: 'i'"
          ]
        }
      ]
    },
    {
      "cell_type": "markdown",
      "metadata": {
        "id": "dYodMSxJgPhb"
      },
      "source": [
        "#### Observation:\n",
        "A more specific exception `FileNotFoundError` is only caught if it comes prior to a more general `IOError` case. The code is evaluated from top down to bottom, so specific cases should be addressed in the code before a catch-all, more genreal, but possibly less informative, exceptions."
      ]
    },
    {
      "cell_type": "markdown",
      "metadata": {
        "id": "ZhIpj7XSI3iq"
      },
      "source": [
        "2. [Reference pyScript25 and pyScript26]\n",
        " \n",
        "Write some code using try-except-finally blocks that has the potential to throw a lot of errors. Include the following \"except\" blocks: \n",
        " \n",
        "Exception (all built-in exceptions are derived from this class — yes, it's simply called \"Exception\")\n",
        "- TypeError\n",
        "- ValueError\n",
        "- ZeroDivisionError\n",
        "- FileNotFoundError\n",
        "- IOError\n",
        "- ArithmeticError\n",
        "\n",
        "Your task is to figure out the appropriate order of these \"except\" blocks so that no \"except\" block is unreachable.\n",
        " \n",
        "Test your code out by running it multiple times and allowing your code to encounter various kinds of exceptions (you can do this by incorporating user input or otherwise.) Have unique bodies of code in each of the \"except\" blocks (at the very least, different print() statements), and run your code enough times and force your code to encounter the various kinds of exceptions such that output from EACH \"except\" block is printed, proving that no \"except\" block is unreachable."
      ]
    },
    {
      "cell_type": "code",
      "metadata": {
        "colab": {
          "base_uri": "https://localhost:8080/",
          "height": 834
        },
        "id": "ahkFLncKIZNW",
        "outputId": "072942a5-24f6-47c1-d49e-e25112f3a750"
      },
      "source": [
        "# This is a toy application that asks user how much (budget, float) the user is prepared to pay \n",
        "# for the hosting and how many (size, int) files will be uploaded, 2 or 3 would be expected. \n",
        "# Once the price per file is computed (budget / size) and displayed, the user is prompted\n",
        "# to enter several file names (as per the order size, 2 or 3 would be expected) for the upload.\n",
        "# Nothing is actually uploaded, the code only trys to open the file and closes it in finally.\n",
        "\n",
        "\n",
        "while True:\n",
        "\n",
        "  budget = input(\"What is you budget? (float) \")  # ask user for budget to spend on hosting\n",
        "  try:\n",
        "    checked_budget = abs(float(budget)) # check if budget can be converted to positive float\n",
        "    \n",
        "    try:\n",
        "      nonzero_budget = 1/checked_budget # check if budget is not zero\n",
        "      \n",
        "      size = input(\"How many files do you wish to upload? (integer) \")  # ask user how many files to upload\n",
        "      try:\n",
        "        checked_size = abs(int(size)) # check is size can be converted to positive integer\n",
        "        \n",
        "        try:\n",
        "          price = checked_budget / checked_size # compute the price per file\n",
        "          print(\"You will pay per file: \", price)\n",
        "          \n",
        "          for n in range(0, checked_size): # start for loop to collect several files as per size of upload\n",
        "            try:\n",
        "              name = input(\"Enter the name of a file: \")\n",
        "              file = open(name, 'r')  # try to open this file for reading\n",
        "              n +=1\n",
        "\n",
        "            except FileNotFoundError: # could not open the file provided by the user\n",
        "              print(\"** FileNotFoundError >> Cannot open file! **\")\n",
        "              continue\n",
        "\n",
        "            except IOError: # something else is wrong with the file\n",
        "                print(\"** You caught a general IOError! Termiating file upload. **\")\n",
        "                continue \n",
        "            \n",
        "            finally:\n",
        "              print(\"Close the file in finally and move on to next.\")\n",
        "              try:\n",
        "                file.close() # try to close the file\n",
        "              except Exception:\n",
        "                print(\"Something is wrong with your file. Nothing uploaded.\")\n",
        "\n",
        "        except ArithmeticError: # something else is wrong with the price \n",
        "          print(\"Something is wrong with these inputs - can't compute the price.\")\n",
        "          continue\n",
        "\n",
        "      except (ValueError, TypeError): # size is not usable\n",
        "        print(\"Size must be integer.\")\n",
        "        continue\n",
        "\n",
        "    except ZeroDivisionError: # budget was zero\n",
        "      print(\"Can't have zero budget.\")\n",
        "      continue\n",
        "\n",
        "  except (ValueError, TypeError): # budget is not usable \n",
        "    print(\"Budget must be float or integer.\")\n",
        "    continue\n"
      ],
      "execution_count": 116,
      "outputs": [
        {
          "name": "stdout",
          "output_type": "stream",
          "text": [
            "What is you budget? (float) 3\n",
            "How many files do you wish to upload? (integer) 2\n",
            "You will pay per file:  1.5\n",
            "Enter the name of a file: d\n",
            "** FileNotFoundError >> Cannot open file! **\n",
            "Close the file in finally and move on to next.\n",
            "Something is wrong with your file. Nothing uploaded.\n",
            "Enter the name of a file: d\n",
            "** FileNotFoundError >> Cannot open file! **\n",
            "Close the file in finally and move on to next.\n",
            "Something is wrong with your file. Nothing uploaded.\n",
            "What is you budget? (float) 3\n",
            "How many files do you wish to upload? (integer) 3\n",
            "You will pay per file:  1.0\n",
            "Enter the name of a file: 1\n",
            "** FileNotFoundError >> Cannot open file! **\n",
            "Close the file in finally and move on to next.\n",
            "Something is wrong with your file. Nothing uploaded.\n",
            "Enter the name of a file: 2\n",
            "** FileNotFoundError >> Cannot open file! **\n",
            "Close the file in finally and move on to next.\n",
            "Something is wrong with your file. Nothing uploaded.\n",
            "Enter the name of a file: 3\n",
            "** FileNotFoundError >> Cannot open file! **\n",
            "Close the file in finally and move on to next.\n",
            "Something is wrong with your file. Nothing uploaded.\n",
            "What is you budget? (float) \u0004\n"
          ]
        },
        {
          "output_type": "error",
          "ename": "EOFError",
          "evalue": "ignored",
          "traceback": [
            "\u001b[0;31m---------------------------------------------------------------------------\u001b[0m",
            "\u001b[0;31mEOFError\u001b[0m                                  Traceback (most recent call last)",
            "\u001b[0;32m<ipython-input-116-2e49a603295e>\u001b[0m in \u001b[0;36m<module>\u001b[0;34m()\u001b[0m\n\u001b[1;32m      7\u001b[0m \u001b[0;32mwhile\u001b[0m \u001b[0;32mTrue\u001b[0m\u001b[0;34m:\u001b[0m\u001b[0;34m\u001b[0m\u001b[0;34m\u001b[0m\u001b[0m\n\u001b[1;32m      8\u001b[0m \u001b[0;34m\u001b[0m\u001b[0m\n\u001b[0;32m----> 9\u001b[0;31m   \u001b[0mbudget\u001b[0m \u001b[0;34m=\u001b[0m \u001b[0minput\u001b[0m\u001b[0;34m(\u001b[0m\u001b[0;34m\"What is you budget? (float) \"\u001b[0m\u001b[0;34m)\u001b[0m  \u001b[0;31m# ask user for budget to spend on hosting\u001b[0m\u001b[0;34m\u001b[0m\u001b[0;34m\u001b[0m\u001b[0m\n\u001b[0m\u001b[1;32m     10\u001b[0m   \u001b[0;32mtry\u001b[0m\u001b[0;34m:\u001b[0m\u001b[0;34m\u001b[0m\u001b[0;34m\u001b[0m\u001b[0m\n\u001b[1;32m     11\u001b[0m     \u001b[0mchecked_budget\u001b[0m \u001b[0;34m=\u001b[0m \u001b[0mabs\u001b[0m\u001b[0;34m(\u001b[0m\u001b[0mfloat\u001b[0m\u001b[0;34m(\u001b[0m\u001b[0mbudget\u001b[0m\u001b[0;34m)\u001b[0m\u001b[0;34m)\u001b[0m \u001b[0;31m# check if budget can be converted to positive float\u001b[0m\u001b[0;34m\u001b[0m\u001b[0;34m\u001b[0m\u001b[0m\n",
            "\u001b[0;32m/usr/local/lib/python3.7/dist-packages/ipykernel/kernelbase.py\u001b[0m in \u001b[0;36mraw_input\u001b[0;34m(self, prompt)\u001b[0m\n\u001b[1;32m    702\u001b[0m             \u001b[0mself\u001b[0m\u001b[0;34m.\u001b[0m\u001b[0m_parent_ident\u001b[0m\u001b[0;34m,\u001b[0m\u001b[0;34m\u001b[0m\u001b[0;34m\u001b[0m\u001b[0m\n\u001b[1;32m    703\u001b[0m             \u001b[0mself\u001b[0m\u001b[0;34m.\u001b[0m\u001b[0m_parent_header\u001b[0m\u001b[0;34m,\u001b[0m\u001b[0;34m\u001b[0m\u001b[0;34m\u001b[0m\u001b[0m\n\u001b[0;32m--> 704\u001b[0;31m             \u001b[0mpassword\u001b[0m\u001b[0;34m=\u001b[0m\u001b[0;32mFalse\u001b[0m\u001b[0;34m,\u001b[0m\u001b[0;34m\u001b[0m\u001b[0;34m\u001b[0m\u001b[0m\n\u001b[0m\u001b[1;32m    705\u001b[0m         )\n\u001b[1;32m    706\u001b[0m \u001b[0;34m\u001b[0m\u001b[0m\n",
            "\u001b[0;32m/usr/local/lib/python3.7/dist-packages/ipykernel/kernelbase.py\u001b[0m in \u001b[0;36m_input_request\u001b[0;34m(self, prompt, ident, parent, password)\u001b[0m\n\u001b[1;32m    742\u001b[0m         \u001b[0;32mif\u001b[0m \u001b[0mvalue\u001b[0m \u001b[0;34m==\u001b[0m \u001b[0;34m'\\x04'\u001b[0m\u001b[0;34m:\u001b[0m\u001b[0;34m\u001b[0m\u001b[0;34m\u001b[0m\u001b[0m\n\u001b[1;32m    743\u001b[0m             \u001b[0;31m# EOF\u001b[0m\u001b[0;34m\u001b[0m\u001b[0;34m\u001b[0m\u001b[0;34m\u001b[0m\u001b[0m\n\u001b[0;32m--> 744\u001b[0;31m             \u001b[0;32mraise\u001b[0m \u001b[0mEOFError\u001b[0m\u001b[0;34m\u001b[0m\u001b[0;34m\u001b[0m\u001b[0m\n\u001b[0m\u001b[1;32m    745\u001b[0m         \u001b[0;32mreturn\u001b[0m \u001b[0mvalue\u001b[0m\u001b[0;34m\u001b[0m\u001b[0;34m\u001b[0m\u001b[0m\n\u001b[1;32m    746\u001b[0m \u001b[0;34m\u001b[0m\u001b[0m\n",
            "\u001b[0;31mEOFError\u001b[0m: "
          ]
        }
      ]
    },
    {
      "cell_type": "code",
      "metadata": {
        "id": "7OWi5EMe0A3p"
      },
      "source": [
        ""
      ],
      "execution_count": 57,
      "outputs": []
    }
  ]
}