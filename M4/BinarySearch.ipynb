{
  "nbformat": 4,
  "nbformat_minor": 0,
  "metadata": {
    "colab": {
      "name": "BinarySearch.ipynb",
      "provenance": [],
      "collapsed_sections": []
    },
    "kernelspec": {
      "name": "python3",
      "display_name": "Python 3"
    },
    "language_info": {
      "name": "python"
    }
  },
  "cells": [
    {
      "cell_type": "markdown",
      "metadata": {
        "id": "Ci_3r6ahA0Ng"
      },
      "source": [
        "* Module 4 live session activity: Binary Search\n",
        "* Dima Mikhaylov and Anoop\n",
        "* UVA ID: agp7dp"
      ]
    },
    {
      "cell_type": "code",
      "metadata": {
        "id": "4Utb_h03Uw2S"
      },
      "source": [
        "# Test array and taret element, x:\n",
        "arr = [0, 1, 2, 3, 4, 5]\n",
        "x = 90\n"
      ],
      "execution_count": 275,
      "outputs": []
    },
    {
      "cell_type": "code",
      "metadata": {
        "id": "kS606JOEC2T2"
      },
      "source": [
        "def binary_search_iterative(arr, elem):\n",
        "\"\"\"\n",
        "Serches sorted array for an element following an iterative workflow.\n",
        "Returns index position of the element if found, -1 otheriwse\n",
        "\"\"\"\n",
        "\n",
        "    lower, upper = 0, (len(arr) - 1) # get the ower/upper bounds of index window, lower and upper ends of subarrays\n",
        "    \n",
        "    while lower <= upper: # if the index window still has size upper-lower > 0\n",
        "\n",
        "        mid = (lower + upper) // 2 # get the index of the mid point\n",
        "        if elem == arr[mid]: # check if it also happens to be the target\n",
        "            return mid\n",
        "\n",
        "        if elem < arr[mid]: # if target is smaller\n",
        "            upper = mid - 1 # move the uper bound of window below the midpoint \n",
        "\n",
        "        else:  # elem > arr[mid]\n",
        "            lower = mid + 1 # else, move lower bound of window above the midpoint\n",
        "\n",
        "    return -1 # if not found, return -1"
      ],
      "execution_count": 276,
      "outputs": []
    },
    {
      "cell_type": "code",
      "metadata": {
        "colab": {
          "base_uri": "https://localhost:8080/"
        },
        "id": "MhQaDowhC3b1",
        "outputId": "38666a99-4cd4-4f11-cc41-3cad11ad3366"
      },
      "source": [
        "binary_search(arr, x)"
      ],
      "execution_count": 277,
      "outputs": [
        {
          "output_type": "execute_result",
          "data": {
            "text/plain": [
              "-1"
            ]
          },
          "metadata": {},
          "execution_count": 277
        }
      ]
    },
    {
      "cell_type": "code",
      "metadata": {
        "id": "v2KSPqUFC72_"
      },
      "source": [
        "def binary_search_recursive(arr, elem):\n",
        "\"\"\"\n",
        "Serches sorted array for an element following a recursive workflow.\n",
        "Returns index position of the element if found, -1 otheriwse\n",
        "\"\"\"\n",
        "\n",
        "    if len(arr) > 0: # check if array still has any elements in it, otherwise -1 not found\n",
        "        mid = len(arr) // 2 # if it still has elements, get index of the middle elements\n",
        "        \n",
        "        if (elem == arr[mid]): # check if target==middle index\n",
        "            return arr[mid]\n",
        "        \n",
        "        else:\n",
        "            if elem > arr[mid]: # if tagret is larger, check the right subarray \n",
        "                return binary_search_recursive(arr[mid+1:], elem) # recursively calling the same functions\n",
        "            else: # if target is smaller, check the left subarray\n",
        "                return binary_search_recursive(arr[:mid], elem) # using slicing to get the lower end\n",
        "    else:\n",
        "      return -1 # if not found, return -1\n"
      ],
      "execution_count": 278,
      "outputs": []
    },
    {
      "cell_type": "code",
      "metadata": {
        "colab": {
          "base_uri": "https://localhost:8080/"
        },
        "id": "eJUQEYQPFZyZ",
        "outputId": "ed715b0d-5b64-4094-d21f-8ca46a984af9"
      },
      "source": [
        "binary_search_recursive(arr, x)"
      ],
      "execution_count": 279,
      "outputs": [
        {
          "output_type": "execute_result",
          "data": {
            "text/plain": [
              "-1"
            ]
          },
          "metadata": {},
          "execution_count": 279
        }
      ]
    },
    {
      "cell_type": "code",
      "metadata": {
        "id": "bnEIkz1oUnMh"
      },
      "source": [
        ""
      ],
      "execution_count": null,
      "outputs": []
    }
  ]
}