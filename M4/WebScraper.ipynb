{
  "nbformat": 4,
  "nbformat_minor": 0,
  "metadata": {
    "colab": {
      "name": "WebScraper.ipynb",
      "provenance": [],
      "collapsed_sections": []
    },
    "kernelspec": {
      "name": "python3",
      "display_name": "Python 3"
    },
    "language_info": {
      "name": "python"
    }
  },
  "cells": [
    {
      "cell_type": "markdown",
      "metadata": {
        "id": "le5xpgHkUeat"
      },
      "source": [
        "- Name of activity (Homework 3: Python and Web Scraper)\n",
        "- Your name: Dima Mikhaylov\n",
        "- Your UVA computing IDs: agp7dp@virginia.edu"
      ]
    },
    {
      "cell_type": "markdown",
      "metadata": {
        "id": "elfbTc0xU5DH"
      },
      "source": [
        "TODO:\n",
        "\n",
        "- Write a simple web crawler / web scraper. [Focus of the assignment.]\n",
        "    - Choose your own website(s).\n",
        "    - Choose what information (hyperlinks and/or other data) you wish to extract from the website(s).\n",
        "\n",
        "Note, not all websites can be scraped due to security settings."
      ]
    },
    {
      "cell_type": "code",
      "metadata": {
        "id": "aSe5HaPY1ArR"
      },
      "source": [
        "# Website to scrape\n",
        "path = \"https://www.fdic.gov/resources/resolutions/bank-failures/failed-bank-list/\""
      ],
      "execution_count": 78,
      "outputs": []
    },
    {
      "cell_type": "code",
      "metadata": {
        "id": "rx9zMLPOTUw8"
      },
      "source": [
        "# Import library to connect to a web resourse without browser\n",
        "import requests \n",
        "\n",
        "# Import library to manipulate html tags\n",
        "from bs4 import BeautifulSoup "
      ],
      "execution_count": 79,
      "outputs": []
    },
    {
      "cell_type": "code",
      "metadata": {
        "id": "4AhmDtlrqs8Y"
      },
      "source": [
        "# Get the web page(s), html expected\n",
        "page = requests.get(path).text \n",
        "\n",
        "# Parse html into tags object\n",
        "soup = BeautifulSoup(page, \"html.parser\")"
      ],
      "execution_count": 80,
      "outputs": []
    },
    {
      "cell_type": "code",
      "metadata": {
        "id": "oFf2UPyFWuRc"
      },
      "source": [
        "# Pick up the content of the table\n",
        "match = soup.find(attrs={\"dataTables-content-main\"})"
      ],
      "execution_count": 81,
      "outputs": []
    },
    {
      "cell_type": "code",
      "metadata": {
        "id": "vFamxTZ7Zcko"
      },
      "source": [
        "# Prepare a placeholder for output\n",
        "data = []\n",
        "\n",
        "# Get all rows of the table\n",
        "rows = match.find_all('tr')\n",
        "\n",
        "# Loop through the rows ...\n",
        "for row in rows:\n",
        "    # and get all the columns\n",
        "    cols = row.find_all('td')\n",
        "\n",
        "    # get the content of every cell\n",
        "    cols = [ele.text.strip() for ele in cols]\n",
        "\n",
        "    # append to output and get rid of empty values, if any\n",
        "    data.append([ele for ele in cols if ele])"
      ],
      "execution_count": 83,
      "outputs": []
    },
    {
      "cell_type": "code",
      "metadata": {
        "id": "3H2iEPR4UfBY"
      },
      "source": [
        "# Import pandas library \n",
        "import pandas as pd\n",
        "\n",
        "# Create a dataframe by providing records (as list of litsts) and column names\n",
        "df = pd.DataFrame(data, columns=['bank', 'city', 'state', 'cert', 'AI', 'date', 'fund'])"
      ],
      "execution_count": 85,
      "outputs": []
    },
    {
      "cell_type": "code",
      "metadata": {
        "colab": {
          "base_uri": "https://localhost:8080/",
          "height": 204
        },
        "id": "Z5upzS2KV7e4",
        "outputId": "d76edc53-891c-489d-b4ad-263bd55297e6"
      },
      "source": [
        "# Inspect the resulting dataframe\n",
        "df.tail()"
      ],
      "execution_count": 86,
      "outputs": [
        {
          "output_type": "execute_result",
          "data": {
            "text/html": [
              "<div>\n",
              "<style scoped>\n",
              "    .dataframe tbody tr th:only-of-type {\n",
              "        vertical-align: middle;\n",
              "    }\n",
              "\n",
              "    .dataframe tbody tr th {\n",
              "        vertical-align: top;\n",
              "    }\n",
              "\n",
              "    .dataframe thead th {\n",
              "        text-align: right;\n",
              "    }\n",
              "</style>\n",
              "<table border=\"1\" class=\"dataframe\">\n",
              "  <thead>\n",
              "    <tr style=\"text-align: right;\">\n",
              "      <th></th>\n",
              "      <th>bank</th>\n",
              "      <th>city</th>\n",
              "      <th>state</th>\n",
              "      <th>cert</th>\n",
              "      <th>AI</th>\n",
              "      <th>date</th>\n",
              "      <th>fund</th>\n",
              "    </tr>\n",
              "  </thead>\n",
              "  <tbody>\n",
              "    <tr>\n",
              "      <th>558</th>\n",
              "      <td>Superior Bank, FSB</td>\n",
              "      <td>Hinsdale</td>\n",
              "      <td>IL</td>\n",
              "      <td>32646</td>\n",
              "      <td>Superior Federal, FSB</td>\n",
              "      <td>July 27, 2001</td>\n",
              "      <td>6004</td>\n",
              "    </tr>\n",
              "    <tr>\n",
              "      <th>559</th>\n",
              "      <td>Malta National Bank</td>\n",
              "      <td>Malta</td>\n",
              "      <td>OH</td>\n",
              "      <td>6629</td>\n",
              "      <td>North Valley Bank</td>\n",
              "      <td>May 3, 2001</td>\n",
              "      <td>4648</td>\n",
              "    </tr>\n",
              "    <tr>\n",
              "      <th>560</th>\n",
              "      <td>First Alliance Bank &amp; Trust Co.</td>\n",
              "      <td>Manchester</td>\n",
              "      <td>NH</td>\n",
              "      <td>34264</td>\n",
              "      <td>Southern New Hampshire Bank &amp; Trust</td>\n",
              "      <td>February 2, 2001</td>\n",
              "      <td>4647</td>\n",
              "    </tr>\n",
              "    <tr>\n",
              "      <th>561</th>\n",
              "      <td>National State Bank of Metropolis</td>\n",
              "      <td>Metropolis</td>\n",
              "      <td>IL</td>\n",
              "      <td>3815</td>\n",
              "      <td>Banterra Bank of Marion</td>\n",
              "      <td>December 14, 2000</td>\n",
              "      <td>4646</td>\n",
              "    </tr>\n",
              "    <tr>\n",
              "      <th>562</th>\n",
              "      <td>Bank of Honolulu</td>\n",
              "      <td>Honolulu</td>\n",
              "      <td>HI</td>\n",
              "      <td>21029</td>\n",
              "      <td>Bank of the Orient</td>\n",
              "      <td>October 13, 2000</td>\n",
              "      <td>4645</td>\n",
              "    </tr>\n",
              "  </tbody>\n",
              "</table>\n",
              "</div>"
            ],
            "text/plain": [
              "                                  bank        city  ...               date  fund\n",
              "558                 Superior Bank, FSB    Hinsdale  ...      July 27, 2001  6004\n",
              "559                Malta National Bank       Malta  ...        May 3, 2001  4648\n",
              "560    First Alliance Bank & Trust Co.  Manchester  ...   February 2, 2001  4647\n",
              "561  National State Bank of Metropolis  Metropolis  ...  December 14, 2000  4646\n",
              "562                   Bank of Honolulu    Honolulu  ...   October 13, 2000  4645\n",
              "\n",
              "[5 rows x 7 columns]"
            ]
          },
          "metadata": {},
          "execution_count": 86
        }
      ]
    },
    {
      "cell_type": "code",
      "metadata": {
        "colab": {
          "base_uri": "https://localhost:8080/"
        },
        "id": "SZv2u_tNb8Sq",
        "outputId": "4a13af84-d5a2-427a-862d-86b3728235f3"
      },
      "source": [
        "# Note: from literature review:563 records expected \n",
        "len(df)"
      ],
      "execution_count": 87,
      "outputs": [
        {
          "output_type": "execute_result",
          "data": {
            "text/plain": [
              "563"
            ]
          },
          "metadata": {},
          "execution_count": 87
        }
      ]
    },
    {
      "cell_type": "code",
      "metadata": {
        "colab": {
          "base_uri": "https://localhost:8080/"
        },
        "id": "Dck7z1u6ff-G",
        "outputId": "20dfbf67-9d14-4981-e245-e3275de981d8"
      },
      "source": [
        "# Check the data types, objects expected\n",
        "df.info()"
      ],
      "execution_count": 88,
      "outputs": [
        {
          "output_type": "stream",
          "name": "stdout",
          "text": [
            "<class 'pandas.core.frame.DataFrame'>\n",
            "RangeIndex: 563 entries, 0 to 562\n",
            "Data columns (total 7 columns):\n",
            " #   Column  Non-Null Count  Dtype \n",
            "---  ------  --------------  ----- \n",
            " 0   bank    563 non-null    object\n",
            " 1   city    563 non-null    object\n",
            " 2   state   563 non-null    object\n",
            " 3   cert    563 non-null    object\n",
            " 4   AI      563 non-null    object\n",
            " 5   date    563 non-null    object\n",
            " 6   fund    563 non-null    object\n",
            "dtypes: object(7)\n",
            "memory usage: 30.9+ KB\n"
          ]
        }
      ]
    },
    {
      "cell_type": "markdown",
      "metadata": {
        "id": "bBLjzkbOVKwj"
      },
      "source": [
        "TODO:\n",
        "\n",
        "- Store the obtained information in a CSV file (or other as appropriate).\n",
        "- Read the data from the CSV file into the program for analysis."
      ]
    },
    {
      "cell_type": "code",
      "metadata": {
        "id": "OdOui7JWVUb1"
      },
      "source": [
        "# Store the dataframe in csv file\n",
        "df.to_csv(\"dataTables-content-main.csv\")"
      ],
      "execution_count": 8,
      "outputs": []
    },
    {
      "cell_type": "code",
      "metadata": {
        "colab": {
          "base_uri": "https://localhost:8080/",
          "height": 204
        },
        "id": "753sJqOwVgIt",
        "outputId": "8e382c64-becb-4636-ea8f-5cb1884b843d"
      },
      "source": [
        "# Read the csv file and inspect the data\n",
        "analysis_set = pd.read_csv(\"dataTables-content-main.csv\", index_col=0)\n",
        "analysis_set.head()"
      ],
      "execution_count": 89,
      "outputs": [
        {
          "output_type": "execute_result",
          "data": {
            "text/html": [
              "<div>\n",
              "<style scoped>\n",
              "    .dataframe tbody tr th:only-of-type {\n",
              "        vertical-align: middle;\n",
              "    }\n",
              "\n",
              "    .dataframe tbody tr th {\n",
              "        vertical-align: top;\n",
              "    }\n",
              "\n",
              "    .dataframe thead th {\n",
              "        text-align: right;\n",
              "    }\n",
              "</style>\n",
              "<table border=\"1\" class=\"dataframe\">\n",
              "  <thead>\n",
              "    <tr style=\"text-align: right;\">\n",
              "      <th></th>\n",
              "      <th>bank</th>\n",
              "      <th>city</th>\n",
              "      <th>state</th>\n",
              "      <th>cert</th>\n",
              "      <th>AI</th>\n",
              "      <th>date</th>\n",
              "      <th>fund</th>\n",
              "    </tr>\n",
              "  </thead>\n",
              "  <tbody>\n",
              "    <tr>\n",
              "      <th>0</th>\n",
              "      <td>Almena State Bank</td>\n",
              "      <td>Almena</td>\n",
              "      <td>KS</td>\n",
              "      <td>15426</td>\n",
              "      <td>Equity Bank</td>\n",
              "      <td>October 23, 2020</td>\n",
              "      <td>10538</td>\n",
              "    </tr>\n",
              "    <tr>\n",
              "      <th>1</th>\n",
              "      <td>First City Bank of Florida</td>\n",
              "      <td>Fort Walton Beach</td>\n",
              "      <td>FL</td>\n",
              "      <td>16748</td>\n",
              "      <td>United Fidelity Bank, fsb</td>\n",
              "      <td>October 16, 2020</td>\n",
              "      <td>10537</td>\n",
              "    </tr>\n",
              "    <tr>\n",
              "      <th>2</th>\n",
              "      <td>The First State Bank</td>\n",
              "      <td>Barboursville</td>\n",
              "      <td>WV</td>\n",
              "      <td>14361</td>\n",
              "      <td>MVB Bank, Inc.</td>\n",
              "      <td>April 3, 2020</td>\n",
              "      <td>10536</td>\n",
              "    </tr>\n",
              "    <tr>\n",
              "      <th>3</th>\n",
              "      <td>Ericson State Bank</td>\n",
              "      <td>Ericson</td>\n",
              "      <td>NE</td>\n",
              "      <td>18265</td>\n",
              "      <td>Farmers and Merchants Bank</td>\n",
              "      <td>February 14, 2020</td>\n",
              "      <td>10535</td>\n",
              "    </tr>\n",
              "    <tr>\n",
              "      <th>4</th>\n",
              "      <td>City National Bank of New Jersey</td>\n",
              "      <td>Newark</td>\n",
              "      <td>NJ</td>\n",
              "      <td>21111</td>\n",
              "      <td>Industrial Bank</td>\n",
              "      <td>November 1, 2019</td>\n",
              "      <td>10534</td>\n",
              "    </tr>\n",
              "  </tbody>\n",
              "</table>\n",
              "</div>"
            ],
            "text/plain": [
              "                               bank  ...   fund\n",
              "0                 Almena State Bank  ...  10538\n",
              "1        First City Bank of Florida  ...  10537\n",
              "2              The First State Bank  ...  10536\n",
              "3                Ericson State Bank  ...  10535\n",
              "4  City National Bank of New Jersey  ...  10534\n",
              "\n",
              "[5 rows x 7 columns]"
            ]
          },
          "metadata": {},
          "execution_count": 89
        }
      ]
    },
    {
      "cell_type": "markdown",
      "metadata": {
        "id": "NIIz7ujjV5Cq"
      },
      "source": [
        "TODO:\n",
        "- Turn “data” into (“information” and then) “knowledge.” Analyze the data and provide some interesting statistics/results. (This can be quite simple.)  From the analysis, be able to tell a story about the data; describe any trends/patterns found in the data; if applicable, describe any interesting or unusual results (e.g., outliers) and try to come up with an explanation for these anomalies."
      ]
    },
    {
      "cell_type": "code",
      "metadata": {
        "id": "wR8YCF-Wym_U"
      },
      "source": [
        "# First, convert date to datetime type\n",
        "analysis_set.date = pd.to_datetime(analysis_set['date'])"
      ],
      "execution_count": 52,
      "outputs": []
    },
    {
      "cell_type": "code",
      "metadata": {
        "id": "1yL5ArJTzJms"
      },
      "source": [
        "# Move datetype year into a separate column\n",
        "analysis_set['year'] = analysis_set['date'].dt.year"
      ],
      "execution_count": 53,
      "outputs": []
    },
    {
      "cell_type": "code",
      "metadata": {
        "colab": {
          "base_uri": "https://localhost:8080/",
          "height": 436
        },
        "id": "Tio1clAnzLzV",
        "outputId": "19f7bcb1-ead7-4f18-d1e4-15b5ccd87401"
      },
      "source": [
        "# Import matplotlib pyplot for better visuals\n",
        "import matplotlib.pyplot as plt\n",
        "\n",
        "# Group observation (failed banks) by year and produce bar plot\n",
        "analysis_set['bank'].groupby(analysis_set.year).count().plot(\n",
        "    kind='bar', figsize=(10, 6), label=\"counts of failed banks\")\n",
        "\n",
        "# Plot appearance management\n",
        "plt.title(\"Annual number of failed banks by year, 2000-2020\", y=1.01, fontsize=16)\n",
        "plt.ylabel(\"Number of failed banks\", labelpad=15)\n",
        "plt.xlabel(\"Year\", labelpad=15)\n",
        "plt.legend()\n",
        "plt.show()"
      ],
      "execution_count": 77,
      "outputs": [
        {
          "output_type": "display_data",
          "data": {
            "image/png": "[encoded data removed]",
            "text/plain": [
              "<Figure size 720x432 with 1 Axes>"
            ]
          },
          "metadata": {
            "needs_background": "light"
          }
        }
      ]
    },
    {
      "cell_type": "markdown",
      "metadata": {
        "id": "cG9OrZv-eU4H"
      },
      "source": [
        "TODO:\n",
        "- If you have time or want to be challenged further, add extra functionality to the program or manipulate the data further in some way to produce additional useful/interesting results. Be sure to include a section in your write-up (see below) to explain what you did and what additional results you obtained (if appropriate)."
      ]
    },
    {
      "cell_type": "code",
      "metadata": {
        "colab": {
          "base_uri": "https://localhost:8080/",
          "height": 436
        },
        "id": "FirjiJz2099p",
        "outputId": "ca1d7164-e0d5-4117-b8c9-9f6814cfd9ed"
      },
      "source": [
        "# Same as above, but now calculatate cumulative sum of annual counts of failed banks\n",
        "analysis_set.groupby(analysis_set['year'])['bank'].count().cumsum(axis=0).plot(\n",
        "    kind='bar', figsize=(10, 6), label=\"counts of failed banks\")\n",
        "\n",
        "# Plot appearance management\n",
        "plt.title(\"Cumulative number of failed banks by year, 2000-2020\", y=1.01, fontsize=16)\n",
        "plt.ylabel(\"Number of failed banks\", labelpad=5)\n",
        "plt.xlabel(\"Year\", labelpad=15)\n",
        "plt.legend()\n",
        "plt.show()"
      ],
      "execution_count": 66,
      "outputs": [
        {
          "output_type": "display_data",
          "data": {
            "image/png": "[encoded data removed]",
            "text/plain": [
              "<Figure size 720x432 with 1 Axes>"
            ]
          },
          "metadata": {
            "needs_background": "light"
          }
        }
      ]
    },
    {
      "cell_type": "markdown",
      "metadata": {
        "id": "I5_UWi2DeoFX"
      },
      "source": [
        "A short report (maximum three pages) detailing:\n",
        "- an overview of what you accomplished (introduction)\n",
        "your approach to this assignment\n",
        "- what kind of data you decided to crawl/scrape (domain, etc.)\n",
        "the algorithm of your Python code and what libraries, etc., you used (focus on which library/libraries you used, and remember to cite sources!) \n",
        "- reasons why someone might want to use your program (utility of the data you scraped - this can be simple/straightforward) \n",
        "- (optional) ways your program could be extended to include additional features\n",
        "- (optional) any extra functionality you added to the program beyond the given requirements, as well as any additional results you obtained as a result of it (if appropriate). Call this section “Extra Credit.”"
      ]
    },
    {
      "cell_type": "code",
      "metadata": {
        "id": "tvFdZkC1Y7Mo"
      },
      "source": [
        ""
      ],
      "execution_count": null,
      "outputs": []
    }
  ]
}