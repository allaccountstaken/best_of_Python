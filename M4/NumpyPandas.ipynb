{
 "cells": [
  {
   "cell_type": "markdown",
   "metadata": {},
   "source": [
    "- Name of activity: Live session: Search with Numpy and Pandas\n",
    "- Your name, or both names if you worked with a partner\n",
    "- Your UVA computing IDs, or both UVA computing IDs if you worked with a partner"
   ]
  },
  {
   "cell_type": "code",
   "execution_count": 22,
   "metadata": {},
   "outputs": [
    {
     "data": {
      "text/html": [
       "<div>\n",
       "<style scoped>\n",
       "    .dataframe tbody tr th:only-of-type {\n",
       "        vertical-align: middle;\n",
       "    }\n",
       "\n",
       "    .dataframe tbody tr th {\n",
       "        vertical-align: top;\n",
       "    }\n",
       "\n",
       "    .dataframe thead th {\n",
       "        text-align: right;\n",
       "    }\n",
       "</style>\n",
       "<table border=\"1\" class=\"dataframe\">\n",
       "  <thead>\n",
       "    <tr style=\"text-align: right;\">\n",
       "      <th></th>\n",
       "      <th>Date Time</th>\n",
       "      <th>p (mbar)</th>\n",
       "      <th>T (degC)</th>\n",
       "      <th>rho (g/m**3)</th>\n",
       "    </tr>\n",
       "  </thead>\n",
       "  <tbody>\n",
       "    <tr>\n",
       "      <th>0</th>\n",
       "      <td>01.01.2009 00:10:00</td>\n",
       "      <td>996.52</td>\n",
       "      <td>-8.02</td>\n",
       "      <td>1307.75</td>\n",
       "    </tr>\n",
       "    <tr>\n",
       "      <th>1</th>\n",
       "      <td>01.01.2009 00:20:00</td>\n",
       "      <td>996.57</td>\n",
       "      <td>-8.41</td>\n",
       "      <td>1309.80</td>\n",
       "    </tr>\n",
       "    <tr>\n",
       "      <th>2</th>\n",
       "      <td>01.01.2009 00:30:00</td>\n",
       "      <td>996.53</td>\n",
       "      <td>-8.51</td>\n",
       "      <td>1310.24</td>\n",
       "    </tr>\n",
       "  </tbody>\n",
       "</table>\n",
       "</div>"
      ],
      "text/plain": [
       "             Date Time  p (mbar)  T (degC)  rho (g/m**3)\n",
       "0  01.01.2009 00:10:00    996.52     -8.02       1307.75\n",
       "1  01.01.2009 00:20:00    996.57     -8.41       1309.80\n",
       "2  01.01.2009 00:30:00    996.53     -8.51       1310.24"
      ]
     },
     "execution_count": 22,
     "metadata": {},
     "output_type": "execute_result"
    }
   ],
   "source": [
    "# import pandas and inspect get column names\n",
    "import pandas as pd\n",
    "df = pd.read_csv('weather.csv', index_col=0)\n",
    "df.head(3)"
   ]
  },
  {
   "cell_type": "code",
   "execution_count": 23,
   "metadata": {},
   "outputs": [
    {
     "data": {
      "text/html": [
       "<div>\n",
       "<style scoped>\n",
       "    .dataframe tbody tr th:only-of-type {\n",
       "        vertical-align: middle;\n",
       "    }\n",
       "\n",
       "    .dataframe tbody tr th {\n",
       "        vertical-align: top;\n",
       "    }\n",
       "\n",
       "    .dataframe thead th {\n",
       "        text-align: right;\n",
       "    }\n",
       "</style>\n",
       "<table border=\"1\" class=\"dataframe\">\n",
       "  <thead>\n",
       "    <tr style=\"text-align: right;\">\n",
       "      <th></th>\n",
       "      <th>Date Time</th>\n",
       "      <th>p (mbar)</th>\n",
       "      <th>T (degC)</th>\n",
       "      <th>rho (g/m**3)</th>\n",
       "      <th>AsOfDate</th>\n",
       "      <th>AsOfYear</th>\n",
       "    </tr>\n",
       "  </thead>\n",
       "  <tbody>\n",
       "    <tr>\n",
       "      <th>0</th>\n",
       "      <td>01.01.2009 00:10:00</td>\n",
       "      <td>996.52</td>\n",
       "      <td>-8.02</td>\n",
       "      <td>1307.75</td>\n",
       "      <td>2009-01-01 00:10:00</td>\n",
       "      <td>2009</td>\n",
       "    </tr>\n",
       "    <tr>\n",
       "      <th>1</th>\n",
       "      <td>01.01.2009 00:20:00</td>\n",
       "      <td>996.57</td>\n",
       "      <td>-8.41</td>\n",
       "      <td>1309.80</td>\n",
       "      <td>2009-01-01 00:20:00</td>\n",
       "      <td>2009</td>\n",
       "    </tr>\n",
       "    <tr>\n",
       "      <th>2</th>\n",
       "      <td>01.01.2009 00:30:00</td>\n",
       "      <td>996.53</td>\n",
       "      <td>-8.51</td>\n",
       "      <td>1310.24</td>\n",
       "      <td>2009-01-01 00:30:00</td>\n",
       "      <td>2009</td>\n",
       "    </tr>\n",
       "    <tr>\n",
       "      <th>3</th>\n",
       "      <td>01.01.2009 00:40:00</td>\n",
       "      <td>996.51</td>\n",
       "      <td>-8.31</td>\n",
       "      <td>1309.19</td>\n",
       "      <td>2009-01-01 00:40:00</td>\n",
       "      <td>2009</td>\n",
       "    </tr>\n",
       "    <tr>\n",
       "      <th>4</th>\n",
       "      <td>01.01.2009 00:50:00</td>\n",
       "      <td>996.51</td>\n",
       "      <td>-8.27</td>\n",
       "      <td>1309.00</td>\n",
       "      <td>2009-01-01 00:50:00</td>\n",
       "      <td>2009</td>\n",
       "    </tr>\n",
       "  </tbody>\n",
       "</table>\n",
       "</div>"
      ],
      "text/plain": [
       "             Date Time  p (mbar)  T (degC)  rho (g/m**3)            AsOfDate  \\\n",
       "0  01.01.2009 00:10:00    996.52     -8.02       1307.75 2009-01-01 00:10:00   \n",
       "1  01.01.2009 00:20:00    996.57     -8.41       1309.80 2009-01-01 00:20:00   \n",
       "2  01.01.2009 00:30:00    996.53     -8.51       1310.24 2009-01-01 00:30:00   \n",
       "3  01.01.2009 00:40:00    996.51     -8.31       1309.19 2009-01-01 00:40:00   \n",
       "4  01.01.2009 00:50:00    996.51     -8.27       1309.00 2009-01-01 00:50:00   \n",
       "\n",
       "   AsOfYear  \n",
       "0      2009  \n",
       "1      2009  \n",
       "2      2009  \n",
       "3      2009  \n",
       "4      2009  "
      ]
     },
     "execution_count": 23,
     "metadata": {},
     "output_type": "execute_result"
    }
   ],
   "source": [
    "# Convert date to_datetime type and separate year into a new column\n",
    "df[\"AsOfDate\"] = pd.to_datetime(df['Date Time'])\n",
    "df[\"AsOfYear\"] = df.AsOfDate.dt.year\n",
    "df.head()"
   ]
  },
  {
   "cell_type": "markdown",
   "metadata": {},
   "source": [
    "TODO:\n",
    "- What was the average temperature in 2009?\n",
    "- What was the highest temperature in 2010? When did it happen?\n",
    "- Which year has the lowest average temperature?"
   ]
  },
  {
   "cell_type": "code",
   "execution_count": 20,
   "metadata": {},
   "outputs": [
    {
     "data": {
      "text/plain": [
       "Date Time\n",
       "2009     8.830284\n",
       "2010     7.504652\n",
       "2011     9.303914\n",
       "2012     9.655535\n",
       "2013     9.093978\n",
       "2014    10.718917\n",
       "2015    10.511207\n",
       "2016     9.988671\n",
       "2017    -4.820000\n",
       "Name: T (degC), dtype: float64"
      ]
     },
     "execution_count": 20,
     "metadata": {},
     "output_type": "execute_result"
    }
   ],
   "source": [
    "# Group by temp by year and use mean() for aggregation\n",
    "df[\"T (degC)\"].groupby(df.AsOfYear).mean()"
   ]
  },
  {
   "cell_type": "markdown",
   "metadata": {},
   "source": [
    "#### Observation 1: the average temperature in 2009 was 8.83"
   ]
  },
  {
   "cell_type": "code",
   "execution_count": 17,
   "metadata": {},
   "outputs": [
    {
     "data": {
      "text/plain": [
       "T (degC)                   34.92\n",
       "Date Time    31.12.2010 23:50:00\n",
       "dtype: object"
      ]
     },
     "execution_count": 17,
     "metadata": {},
     "output_type": "execute_result"
    }
   ],
   "source": [
    "# Take all temp and date records for 2010, use max() to aggregate\n",
    "df[[\"T (degC)\", \"Date Time\"]].loc[df.AsOfYear==2010].max()"
   ]
  },
  {
   "cell_type": "markdown",
   "metadata": {},
   "source": [
    "#### Observation 2: the highest temperature in 2010 was almost 35 degrees."
   ]
  },
  {
   "cell_type": "code",
   "execution_count": 24,
   "metadata": {},
   "outputs": [
    {
     "data": {
      "text/plain": [
       "T (degC)   -4.82\n",
       "dtype: float64"
      ]
     },
     "execution_count": 24,
     "metadata": {},
     "output_type": "execute_result"
    }
   ],
   "source": [
    "df[[\"T (degC)\"]].loc[df.AsOfYear==2017].mean()"
   ]
  },
  {
   "cell_type": "code",
   "execution_count": 25,
   "metadata": {},
   "outputs": [
    {
     "data": {
      "text/html": [
       "<div>\n",
       "<style scoped>\n",
       "    .dataframe tbody tr th:only-of-type {\n",
       "        vertical-align: middle;\n",
       "    }\n",
       "\n",
       "    .dataframe tbody tr th {\n",
       "        vertical-align: top;\n",
       "    }\n",
       "\n",
       "    .dataframe thead th {\n",
       "        text-align: right;\n",
       "    }\n",
       "</style>\n",
       "<table border=\"1\" class=\"dataframe\">\n",
       "  <thead>\n",
       "    <tr style=\"text-align: right;\">\n",
       "      <th></th>\n",
       "      <th>Date Time</th>\n",
       "      <th>p (mbar)</th>\n",
       "      <th>T (degC)</th>\n",
       "      <th>rho (g/m**3)</th>\n",
       "      <th>AsOfDate</th>\n",
       "      <th>AsOfYear</th>\n",
       "    </tr>\n",
       "  </thead>\n",
       "  <tbody>\n",
       "    <tr>\n",
       "      <th>420546</th>\n",
       "      <td>31.12.2016 23:20:00</td>\n",
       "      <td>1000.07</td>\n",
       "      <td>-4.05</td>\n",
       "      <td>1292.98</td>\n",
       "      <td>2016-12-31 23:20:00</td>\n",
       "      <td>2016</td>\n",
       "    </tr>\n",
       "    <tr>\n",
       "      <th>420547</th>\n",
       "      <td>31.12.2016 23:30:00</td>\n",
       "      <td>999.93</td>\n",
       "      <td>-3.35</td>\n",
       "      <td>1289.44</td>\n",
       "      <td>2016-12-31 23:30:00</td>\n",
       "      <td>2016</td>\n",
       "    </tr>\n",
       "    <tr>\n",
       "      <th>420548</th>\n",
       "      <td>31.12.2016 23:40:00</td>\n",
       "      <td>999.82</td>\n",
       "      <td>-3.16</td>\n",
       "      <td>1288.39</td>\n",
       "      <td>2016-12-31 23:40:00</td>\n",
       "      <td>2016</td>\n",
       "    </tr>\n",
       "    <tr>\n",
       "      <th>420549</th>\n",
       "      <td>31.12.2016 23:50:00</td>\n",
       "      <td>999.81</td>\n",
       "      <td>-4.23</td>\n",
       "      <td>1293.56</td>\n",
       "      <td>2016-12-31 23:50:00</td>\n",
       "      <td>2016</td>\n",
       "    </tr>\n",
       "    <tr>\n",
       "      <th>420550</th>\n",
       "      <td>01.01.2017 00:00:00</td>\n",
       "      <td>999.82</td>\n",
       "      <td>-4.82</td>\n",
       "      <td>1296.38</td>\n",
       "      <td>2017-01-01 00:00:00</td>\n",
       "      <td>2017</td>\n",
       "    </tr>\n",
       "  </tbody>\n",
       "</table>\n",
       "</div>"
      ],
      "text/plain": [
       "                  Date Time  p (mbar)  T (degC)  rho (g/m**3)  \\\n",
       "420546  31.12.2016 23:20:00   1000.07     -4.05       1292.98   \n",
       "420547  31.12.2016 23:30:00    999.93     -3.35       1289.44   \n",
       "420548  31.12.2016 23:40:00    999.82     -3.16       1288.39   \n",
       "420549  31.12.2016 23:50:00    999.81     -4.23       1293.56   \n",
       "420550  01.01.2017 00:00:00    999.82     -4.82       1296.38   \n",
       "\n",
       "                  AsOfDate  AsOfYear  \n",
       "420546 2016-12-31 23:20:00      2016  \n",
       "420547 2016-12-31 23:30:00      2016  \n",
       "420548 2016-12-31 23:40:00      2016  \n",
       "420549 2016-12-31 23:50:00      2016  \n",
       "420550 2017-01-01 00:00:00      2017  "
      ]
     },
     "execution_count": 25,
     "metadata": {},
     "output_type": "execute_result"
    }
   ],
   "source": [
    "df.tail()"
   ]
  },
  {
   "cell_type": "code",
   "execution_count": 32,
   "metadata": {},
   "outputs": [
    {
     "data": {
      "text/plain": [
       "AsOfYear\n",
       "2009     8.830284\n",
       "2010     7.504652\n",
       "2011     9.303914\n",
       "2012     9.655535\n",
       "2013     9.093978\n",
       "2014    10.718917\n",
       "2015    10.511207\n",
       "2016     9.988671\n",
       "2017    -4.820000\n",
       "Name: T (degC), dtype: float64"
      ]
     },
     "execution_count": 32,
     "metadata": {},
     "output_type": "execute_result"
    }
   ],
   "source": [
    "df[\"T (degC)\"].groupby(df.AsOfYear).mean()"
   ]
  },
  {
   "cell_type": "markdown",
   "metadata": {},
   "source": [
    "#### Observation 3: surprisingly, 2017 has average temperature of only -4.8 degrees what is due to the lack of meaningful data, i.e. only one observation 420550. Therefore, a better answer for the lowest average temperature is probably 2010 with 7.5"
   ]
  },
  {
   "cell_type": "code",
   "execution_count": null,
   "metadata": {},
   "outputs": [],
   "source": []
  }
 ],
 "metadata": {
  "kernelspec": {
   "display_name": "Python 3",
   "language": "python",
   "name": "python3"
  },
  "language_info": {
   "codemirror_mode": {
    "name": "ipython",
    "version": 3
   },
   "file_extension": ".py",
   "mimetype": "text/x-python",
   "name": "python",
   "nbconvert_exporter": "python",
   "pygments_lexer": "ipython3",
   "version": "3.8.3"
  }
 },
 "nbformat": 4,
 "nbformat_minor": 4
}
