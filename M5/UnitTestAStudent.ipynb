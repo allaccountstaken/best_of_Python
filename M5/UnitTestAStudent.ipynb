{
  "nbformat": 4,
  "nbformat_minor": 0,
  "metadata": {
    "colab": {
      "name": "UnitTestAStudent.ipynb",
      "provenance": [],
      "collapsed_sections": []
    },
    "kernelspec": {
      "name": "python3",
      "display_name": "Python 3"
    },
    "language_info": {
      "name": "python"
    }
  },
  "cells": [
    {
      "cell_type": "markdown",
      "metadata": {
        "id": "4mdzUJzOEjhk"
      },
      "source": [
        "* Name of activity (Exercise: Python Unit Testing)\n",
        "* Your name: Dima Mikhaylov\n",
        "* Your UVA computing ID: agp7dp"
      ]
    },
    {
      "cell_type": "markdown",
      "metadata": {
        "id": "rQoQYGAtEjVf"
      },
      "source": [
        ""
      ]
    },
    {
      "cell_type": "code",
      "metadata": {
        "colab": {
          "base_uri": "https://localhost:8080/"
        },
        "id": "dYBnPZAtEbEX",
        "outputId": "e3e3f8b9-65ab-4d91-9e06-e320ff2e28e5"
      },
      "source": [
        "# File: AStudent_Class.py\n",
        "# Learning Python (Python version: 3)\n",
        "# Topics:\n",
        "#     - Used for demonstrating Unit Testing (see AStudent_Class_numCourses_test.py)\n",
        "\n",
        "class AStudent:\n",
        "    # fields: name, sid, grades(a list), numCourses\n",
        "    # Local variables\n",
        "    # grades = []   # to hold grades \n",
        "    # courses = []  # to hold enrolled course names e.g. CS5010\n",
        "    \n",
        "    def __init__(self, name, sid, numCourses, grades=None, courses=None):  # constructor\n",
        "        self.name = name    # Student name\t\n",
        "        self.id = sid\t      # Student id \n",
        "        self.numCourses = numCourses  # The number of courses a student is enrolled in\n",
        "        if grades is None:  # If no grades parameter was provided\n",
        "            grades = []     # Empty list, until values added\n",
        "        #else:\n",
        "        self.grades = grades  # However, if grades is provided, handle it here\n",
        "        if courses is None:     # If no courses parameter was provided\n",
        "            courses = []        # Empty list, until values added\n",
        "        #else:\n",
        "        self.courses = courses # However, if courses is provided, handle it here\n",
        "    \n",
        "    def enrollInCourse(self, cname): # Enroll in a course\n",
        "        courseName = cname\n",
        "        self.courses.append(courseName)\n",
        "        self.numCourses += 1 # increment the number of courses\n",
        "            \n",
        "    def addGrade(self, grade): # add the grade to the list of grades\n",
        "        self.grades.append(grade)\n",
        "    \n",
        "    def showGrades(self): # displaying the grades\n",
        "        grds = '' # empty string\n",
        "        for grade in self.grades: # Loop through grades list\n",
        "            grds += str(grade) + ' '  # assign each grade to the string grds\n",
        "        return grds\n",
        "    \n",
        "    def __str__(self):\n",
        "        return \"Name: \" + self.name + \"\\n\" + \\\n",
        "        \"Id: \" + self.id + \"\\n\" + \\\n",
        "        \"Grades: \" + self.showGrades() + \"\\n\" + \\\n",
        "        \"Courses: \" + str(self.courses)\n",
        "        \n",
        "    def average(self): # compute the average grade\n",
        "        total = 0\n",
        "        for grade in self.grades:\n",
        "            total += grade\n",
        "        return total / len(self.grades)\n",
        "        \n",
        "# Testing / Usage\n",
        "s1 = AStudent(\"Nada\", \"711\", 0)\n",
        "s1.enrollInCourse(\"CS9999\")\n",
        "s1.addGrade(99)\n",
        "print(s1)"
      ],
      "execution_count": null,
      "outputs": [
        {
          "output_type": "stream",
          "name": "stdout",
          "text": [
            "Name: Nada\n",
            "Id: 711\n",
            "Grades: 99 \n",
            "Courses: ['CS9999']\n"
          ]
        }
      ]
    },
    {
      "cell_type": "code",
      "metadata": {
        "colab": {
          "base_uri": "https://localhost:8080/"
        },
        "id": "Fki7wTtNtsLa",
        "outputId": "0bf37686-32aa-4354-8716-e0fdee0e5a72"
      },
      "source": [
        "len(s1.grades)"
      ],
      "execution_count": null,
      "outputs": [
        {
          "output_type": "execute_result",
          "data": {
            "text/plain": [
              "1"
            ]
          },
          "metadata": {},
          "execution_count": 9
        }
      ]
    },
    {
      "cell_type": "markdown",
      "metadata": {
        "id": "9_zI2h4PE06g"
      },
      "source": [
        "TODO:\n",
        "\n",
        "* The first unit test should test if the addGrade(..) method is working properly.\n",
        "* The second unit test can test any other aspect of the program.\n",
        " \n",
        "Notes:\n",
        " \n",
        "* Create a new Python file called AStudent_Class_addGrade_test.py. You can write both unit tests in this file.\n",
        "* Use an assertEqual() method (or other as appropriate).\n",
        "* Run your unit tests to check that no errors are reported.\n",
        "* Show your output in the notebook (or save your output in a text file, e.g., inClass_unittests_Out.txt).\n"
      ]
    },
    {
      "cell_type": "code",
      "metadata": {
        "colab": {
          "base_uri": "https://localhost:8080/"
        },
        "id": "StCVSrbTFBpg",
        "outputId": "8f78938b-4756-40c6-a431-1c623ea04fc8"
      },
      "source": [
        "# File: AStudent_Class_addGrade_test.py\n",
        "\n",
        "import unittest\n",
        "\n",
        "class AddGradeTestCase(unittest.TestCase): # inheriting from unittest.TestCase\n",
        "# This is to test addGrade() method of an AStudent class\n",
        "\n",
        "  def test_gradesCountsIncememented(self):\n",
        "    # Testing if addGrades method is incrementing the count of grades correctly\n",
        "    \n",
        "    # Set up - create a new student, enroll, and start aading grades\n",
        "    student = AStudent(\"Sam\", \"777\", 0)\n",
        "    student.enrollInCourse(\"CS101\")\n",
        "    student.addGrade(11)\n",
        "    student.addGrade(22)\n",
        "    student.addGrade(33)\n",
        "    student.addGrade(44)\n",
        "    student.addGrade(55)\n",
        "    \n",
        "    print(len(student.grades))\n",
        "    \n",
        "    # Test\n",
        "    self.assertEquals(len(student.grades), 5)\n",
        "\n",
        "\n",
        "  def test_averageGradeComputation(self):\n",
        "    # Testing if average method is computing averages of grades correctly\n",
        "\n",
        "    # Set up of a simple studnet -- all 4 grades are 100\n",
        "    student2 = AStudent(\"Bob\", \"100\", 0)\n",
        "    student2.enrollInCourse(\"CS101\")\n",
        "    student2.addGrade(100)\n",
        "    student2.addGrade(100)\n",
        "    student2.addGrade(100)\n",
        "    student2.addGrade(100)\n",
        "\n",
        "    print(student2.average()) \n",
        "\n",
        "    # Test \n",
        "    self.assertEquals(student2.average(), 100.0)\n",
        "\n",
        "\n",
        "\n",
        "if __name__ == \"__main__\":\n",
        "  #unittest.main()\n",
        "  unittest.main(argv=[''], exit=False)"
      ],
      "execution_count": null,
      "outputs": [
        {
          "output_type": "stream",
          "name": "stderr",
          "text": [
            "/usr/local/lib/python3.7/dist-packages/ipykernel_launcher.py:40: DeprecationWarning: Please use assertEqual instead.\n",
            "./usr/local/lib/python3.7/dist-packages/ipykernel_launcher.py:23: DeprecationWarning: Please use assertEqual instead.\n",
            "."
          ]
        },
        {
          "output_type": "stream",
          "name": "stdout",
          "text": [
            "100.0\n",
            "5\n"
          ]
        },
        {
          "output_type": "stream",
          "name": "stderr",
          "text": [
            "\n",
            "----------------------------------------------------------------------\n",
            "Ran 2 tests in 0.004s\n",
            "\n",
            "OK\n"
          ]
        }
      ]
    },
    {
      "cell_type": "code",
      "metadata": {
        "id": "jXLQzdQ3rkLt"
      },
      "source": [
        ""
      ],
      "execution_count": null,
      "outputs": []
    }
  ]
}