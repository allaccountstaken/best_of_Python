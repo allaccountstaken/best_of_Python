{
  "nbformat": 4,
  "nbformat_minor": 0,
  "metadata": {
    "colab": {
      "name": "UnitTestAStudent.ipynb",
      "provenance": [],
      "collapsed_sections": []
    },
    "kernelspec": {
      "name": "python3",
      "display_name": "Python 3"
    },
    "language_info": {
      "name": "python"
    }
  },
  "cells": [
    {
      "cell_type": "markdown",
      "metadata": {
        "id": "4mdzUJzOEjhk"
      },
      "source": [
        "* Name of activity (Exercise: Python Unit Testing)\n",
        "* Your name\n",
        "* Your UVA computing ID"
      ]
    },
    {
      "cell_type": "markdown",
      "metadata": {
        "id": "rQoQYGAtEjVf"
      },
      "source": [
        ""
      ]
    },
    {
      "cell_type": "code",
      "metadata": {
        "id": "dYBnPZAtEbEX"
      },
      "source": [
        "# File: AStudent_Class.py\n",
        "# Learning Python (Python version: 3)\n",
        "# Topics:\n",
        "#     - Used for demonstrating Unit Testing (see AStudent_Class_numCourses_test.py)\n",
        "\n",
        "class AStudent:\n",
        "    # fields: name, sid, grades(a list), numCourses\n",
        "    \n",
        "    # Local variables\n",
        "    # grades = []   # to hold grades \n",
        "    # courses = []  # to hold enrolled course names e.g. CS5010\n",
        "    \n",
        "    def __init__(self, name, sid, numCourses, grades=None, courses=None):  # constructor\n",
        "        self.name = name    # Student name\t\n",
        "        self.id = sid\t      # Student id \n",
        "        self.numCourses = numCourses  # The number of courses a student is enrolled in\n",
        "        if grades is None:  # If no grades parameter was provided\n",
        "            grades = []     # Empty list, until values added\n",
        "        #else:\n",
        "        self.grades = grades  # However, if grades is provided, handle it here\n",
        "        if courses is None:     # If no courses parameter was provided\n",
        "            courses = []        # Empty list, until values added\n",
        "        #else:\n",
        "        self.courses = courses # However, if courses is provided, handle it here\n",
        "    \n",
        "    def enrollInCourse(self, cname): # Enroll in a course\n",
        "        courseName = cname\n",
        "        self.courses.append(courseName)\n",
        "        self.numCourses += 1 # increment the number of courses\n",
        "            \n",
        "    def addGrade(self, grade): # add the grade to the list of grades\n",
        "        self.grades.append(grade)\n",
        "    \n",
        "    def showGrades(self): # displaying the grades\n",
        "        grds = '' # empty string\n",
        "        for grade in self.grades: # Loop through grades list\n",
        "            grds += str(grade) + ' '  # assign each grade to the string grds\n",
        "        return grds\n",
        "    \n",
        "    def __str__(self):\n",
        "        return \"Name: \" + self.name + \"\\n\" + \\\n",
        "        \"Id: \" + self.id + \"\\n\" + \\\n",
        "        \"Grades: \" + self.showGrades() + \"\\n\" + \\\n",
        "        \"Courses: \" + str(self.courses)\n",
        "        \n",
        "    def average(self): # compute the average grade\n",
        "        total = 0\n",
        "        for grade in self.grades:\n",
        "            total += grade\n",
        "        return total / len(self.grades)\n",
        "        \n",
        "# Testing / Usage\n",
        "#s1 = AStudent(\"Nada\", \"711\", 0)\n",
        "#s1.enrollInCourse(\"CS9999\")\n",
        "#s1.addGrade(99)\n",
        "#print(s1)"
      ],
      "execution_count": null,
      "outputs": []
    },
    {
      "cell_type": "markdown",
      "metadata": {
        "id": "9_zI2h4PE06g"
      },
      "source": [
        "TODO:\n",
        "\n",
        "* The first unit test should test if the addGrade(..) method is working properly.\n",
        "* The second unit test can test any other aspect of the program.\n",
        " \n",
        "Notes:\n",
        " \n",
        "* Create a new Python file called AStudent_Class_addGrade_test.py. You can write both unit tests in this file.\n",
        "* Use an assertEqual() method (or other as appropriate).\n",
        "* Run your unit tests to check that no errors are reported.\n",
        "* Show your output in the notebook (or save your output in a text file, e.g., inClass_unittests_Out.txt).\n"
      ]
    },
    {
      "cell_type": "code",
      "metadata": {
        "id": "StCVSrbTFBpg"
      },
      "source": [
        ""
      ],
      "execution_count": null,
      "outputs": []
    }
  ]
}