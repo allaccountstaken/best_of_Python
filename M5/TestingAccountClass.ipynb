{
  "nbformat": 4,
  "nbformat_minor": 0,
  "metadata": {
    "colab": {
      "name": "TestingAccountClass.ipynb",
      "provenance": [],
      "collapsed_sections": []
    },
    "kernelspec": {
      "name": "python3",
      "display_name": "Python 3"
    },
    "language_info": {
      "name": "python"
    }
  },
  "cells": [
    {
      "cell_type": "markdown",
      "metadata": {
        "id": "wyaqCooB56L7"
      },
      "source": [
        "- Name of activity (Homework 4: Testing and Debugging) \n",
        "- Your name: Dima Mikhaylov\n",
        "- Your UVA computing ID: agp7dp"
      ]
    },
    {
      "cell_type": "code",
      "metadata": {
        "colab": {
          "base_uri": "https://localhost:8080/"
        },
        "id": "7s6DLzbq55lB",
        "outputId": "b557c4c5-adbf-4ca6-e3f7-77a8a416fb3f"
      },
      "source": [
        "class ACCOUNT(): # Base class. Note: naming with caps as per requirements is unusual \n",
        "    \n",
        "    \n",
        "    def __init__(self, accountNumber, balance): # only has ID and Balance\n",
        "        self.accountNumber = accountNumber\n",
        "        self.balance = balance\n",
        "    \n",
        "    def __str__(self): # and knows how to print itself using 2 lines\n",
        "      result = \"Account number {}\\r\\nBalance: {}\".format(\n",
        "          (self.accountNumber), (self.balance)\n",
        "          )\n",
        "      return result\n",
        "\n",
        "\n",
        "class CHECKING(ACCOUNT): # Derived class inherits from the base class. Note: naming with caps as per requirements is unusual \n",
        "    \n",
        "\n",
        "    def __init__(self, accountNumber, balance, fee): # and has a unique attribute, fee\n",
        "        ACCOUNT.__init__(self, accountNumber, balance)\n",
        "        self.fee = fee\n",
        "        \n",
        "    def __str__(self): # prints itself using 3 lines\n",
        "      result = \"Account number {}\\r\\nBalance: {}\\r\\nAccount type: Checking\".format(\n",
        "          (self.accountNumber), (self.balance)\n",
        "          )\n",
        "      return result\n",
        "\n",
        "    def getFee(self): # reports the fee\n",
        "        return self.fee\n",
        "\n",
        "    def deposit(self, amount): # increases the balance by adding the amount\n",
        "        self.balance = self.balance + amount\n",
        "\n",
        "\n",
        "    def withdraw(self, amount): # decreases the balance by subtracting the amount and fee\n",
        "        if amount+self.fee > self.balance: # checks the balance after transaction\n",
        "            print(\"Insufficient funds!\")\n",
        "        else:\n",
        "            self.balance = self.balance -  amount - self.fee\n",
        "\n",
        "\n",
        "# Testing for Q7\n",
        "check1 = CHECKING(\"1234\", 500, 0.5)\n",
        "print(check1)\n",
        "check1.withdraw(100)\n",
        "print(check1)\n",
        "check1.deposit(200)\n",
        "print(check1)"
      ],
      "execution_count": 2,
      "outputs": [
        {
          "output_type": "stream",
          "name": "stdout",
          "text": [
            "Account number 1234\r\n",
            "Balance: 500\r\n",
            "Account type: Checking\n",
            "Account number 1234\r\n",
            "Balance: 399.5\r\n",
            "Account type: Checking\n",
            "Account number 1234\r\n",
            "Balance: 599.5\r\n",
            "Account type: Checking\n"
          ]
        }
      ]
    },
    {
      "cell_type": "code",
      "metadata": {
        "colab": {
          "base_uri": "https://localhost:8080/"
        },
        "id": "YONIQClBCL0z",
        "outputId": "b6567256-ab64-4879-8b49-dd665b9f5357"
      },
      "source": [
        "# First, set up test objects with test fixtures\n",
        "\n",
        "import unittest\n",
        "\n",
        "class AddNewAccount(unittest.TestCase):\n",
        "\n",
        "  def setUp(self):\n",
        "    self.check1 = CHECKING(\"1234\", 500, 0.5)\n",
        "    self.check1.withdraw(100)\n",
        "    self.check1.deposit(200)\n",
        "\n",
        "  def test_balance(self):\n",
        "\n",
        "    self.assertEqual(self.check1.balance, 599.5)\n",
        "\n",
        "  def test_number(self):\n",
        "\n",
        "    self.assertEqual(self.check1.accountNumber,'1234')\n",
        "\n",
        "unittest.main(argv=[''],exit=False)\n"
      ],
      "execution_count": 5,
      "outputs": [
        {
          "output_type": "stream",
          "name": "stderr",
          "text": [
            "..\n",
            "----------------------------------------------------------------------\n",
            "Ran 2 tests in 0.006s\n",
            "\n",
            "OK\n"
          ]
        },
        {
          "output_type": "execute_result",
          "data": {
            "text/plain": [
              "<unittest.main.TestProgram at 0x7fc74ea443d0>"
            ]
          },
          "metadata": {},
          "execution_count": 5
        }
      ]
    },
    {
      "cell_type": "code",
      "metadata": {
        "id": "2xqyhI1DCLsG"
      },
      "source": [
        "# # Parameterised aproach for through testing\n",
        "\n",
        "import unittest\n",
        "\n",
        "\n",
        "class EnrollInTestCase(unittest.TestCase): # inherit from unittest.TestCase\n",
        "    # Unit testing enrollInCourse() method in AStudent_Class.py\n",
        "    \n",
        "    def test_is_numCoursincremented_correctly(self):\n",
        "      pass"
      ],
      "execution_count": 3,
      "outputs": []
    },
    {
      "cell_type": "code",
      "metadata": {
        "colab": {
          "base_uri": "https://localhost:8080/",
          "height": 317
        },
        "id": "snN63tINCLhg",
        "outputId": "37a2ff4b-2668-456d-f997-8f67b0a5c822"
      },
      "source": [
        "if __name__ == '__main__':\n",
        "    unittest.main()   "
      ],
      "execution_count": 4,
      "outputs": [
        {
          "output_type": "stream",
          "name": "stderr",
          "text": [
            "E\n",
            "======================================================================\n",
            "ERROR: /root/ (unittest.loader._FailedTest)\n",
            "----------------------------------------------------------------------\n",
            "AttributeError: module '__main__' has no attribute '/root/'\n",
            "\n",
            "----------------------------------------------------------------------\n",
            "Ran 1 test in 0.003s\n",
            "\n",
            "FAILED (errors=1)\n"
          ]
        },
        {
          "output_type": "error",
          "ename": "SystemExit",
          "evalue": "ignored",
          "traceback": [
            "An exception has occurred, use %tb to see the full traceback.\n",
            "\u001b[0;31mSystemExit\u001b[0m\u001b[0;31m:\u001b[0m True\n"
          ]
        },
        {
          "output_type": "stream",
          "name": "stderr",
          "text": [
            "/usr/local/lib/python3.7/dist-packages/IPython/core/interactiveshell.py:2890: UserWarning: To exit: use 'exit', 'quit', or Ctrl-D.\n",
            "  warn(\"To exit: use 'exit', 'quit', or Ctrl-D.\", stacklevel=1)\n"
          ]
        }
      ]
    },
    {
      "cell_type": "code",
      "metadata": {
        "id": "IaB734aNCSLd"
      },
      "source": [
        "# Mount google drive and write to log files\n",
        "\n",
        "from google.colab import drive\n",
        "drive.mount('/content/drive')\n",
        "\n",
        "\n",
        "import unittest\n",
        "\n",
        "class AddGradeTest(unittest.TestCase):\n",
        "  def test_1(self):\n",
        "    student1=AStudent('Clayton','CS5010')\n",
        "    student1.addGrade(90)\n",
        "    self.assertEqual(student1.grades,[90])\n",
        "  def test_2(self):\n",
        "    student2=AStudent('Mary','CS5010')\n",
        "    student2.addGrade(100)\n",
        "    self.assertEqual(student2.grades,[90])\n",
        "\n",
        "log_file = '/content/drive/MyDrive/log_file.txt'\n",
        "with open(log_file,'w') as f:\n",
        "  runner = unittest.TextTestRunner(f)\n",
        "  unittest.main(argv=[''],testRunner=runner,exit=False)"
      ],
      "execution_count": null,
      "outputs": []
    }
  ]
}