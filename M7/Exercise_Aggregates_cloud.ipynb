{
  "nbformat": 4,
  "nbformat_minor": 0,
  "metadata": {
    "colab": {
      "name": "Exercise_Aggregates.ipynb",
      "provenance": [],
      "collapsed_sections": []
    },
    "kernelspec": {
      "display_name": "Python 3",
      "language": "python",
      "name": "python3"
    },
    "language_info": {
      "codemirror_mode": {
        "name": "ipython",
        "version": 3
      },
      "file_extension": ".py",
      "mimetype": "text/x-python",
      "name": "python",
      "nbconvert_exporter": "python",
      "pygments_lexer": "ipython3",
      "version": "3.8.8"
    }
  },
  "cells": [
    {
      "cell_type": "markdown",
      "metadata": {
        "id": "kIfWLJTC4RK-"
      },
      "source": [
        "- Name of activity: Exercise: Aggregates\n",
        "- Your name: Dima Mikhaylov\n",
        "- Your UVA computing ID: agp7dp"
      ]
    },
    {
      "cell_type": "markdown",
      "metadata": {
        "id": "8lMKxJxjODsK"
      },
      "source": [
        "# Exercise: Aggregates\n",
        "Directions: Complete all three parts of the assignment."
      ]
    },
    {
      "cell_type": "markdown",
      "metadata": {
        "id": "Me-CM1sL4RLC"
      },
      "source": [
        "## 1. Write a summary about each aggregate function mentioned (np.mean, np.std, np.var, np.argmin, np.argmax, np.median, np.percentile)."
      ]
    },
    {
      "cell_type": "markdown",
      "metadata": {
        "id": "MNsCKBNY4RLD"
      },
      "source": [
        "\n",
        "* `mean()` returns the arithmetic mean along the specified axis.\n",
        "    * Optional `out` can be used to specify alternative output array.\n",
        "    * Optional `keepdims` cab be used for broadcasting against the original array.\n",
        "\n",
        "* `std()` returns the standard deviation along the specified axis.\n",
        "    * In addition to similar use of `out` and `keepdims` , it also supports `ddof` that stands fpr degrees of freedom, zero by default.\n",
        "    \n",
        "* `var()` return the variance along the specified axis.\n",
        "    * Similarly to `std()`, this function supports `out`, `keepdims`, and `ddof`.\n",
        "\n",
        "* `argmin()` returns the index of the first occurrence of the **mimimum** value along the specified axis of an array. \n",
        "    * Optional parameter `out` can be used to insert the result into the array.\n",
        "\n",
        "* `argmax()` returns the index of the first occurrence of the **maximum** value along the specified axis of an array. \n",
        "    * Optional parameter `out` can be used to insert the result into the array.\n",
        "\n",
        "* `median()` returns the **median** of an array along the specified axis. \n",
        "    * Optional `out` can be used to specify alternative output array. \n",
        "    * Moreover, `overwrite_input` can be specified to allow use of memory of the input array and `keepdims` cab be used for broadcasting against the original array.\n",
        "\n",
        "* `percentile()` returns the **q-th percentiles** of the array elements along the specified axis. \n",
        "    * In addition to similar use of `out`, `overwrite_input` and `keepdims` , it also supports optional `interpolation` for cases when the selected percentile falls between two data points."
      ]
    },
    {
      "cell_type": "markdown",
      "metadata": {
        "id": "5ybD8rtA4RLE"
      },
      "source": [
        "## 2. Come up with a small sample of code (with appropriate setup/data) that illustrates the usage of at least four (4) of the aggregate functions (from Part 1). Include the results/output as well."
      ]
    },
    {
      "cell_type": "code",
      "metadata": {
        "id": "JPebHTJ14RLE"
      },
      "source": [
        "import pandas as pd\n",
        "import numpy as np\n",
        "import matplotlib.pyplot as plt\n",
        "from sklearn.datasets import make_blobs"
      ],
      "execution_count": 2,
      "outputs": []
    },
    {
      "cell_type": "markdown",
      "metadata": {
        "id": "vKcy8dl14RLF"
      },
      "source": [
        "#### First, generating random data points:"
      ]
    },
    {
      "cell_type": "code",
      "metadata": {
        "id": "4bUyRwxL4RLF"
      },
      "source": [
        "input_array, output_array = make_blobs(n_samples=30, centers=2, n_features=1, random_state=123)"
      ],
      "execution_count": 3,
      "outputs": []
    },
    {
      "cell_type": "markdown",
      "metadata": {
        "id": "xjYP9a7P4RLG"
      },
      "source": [
        "#### 1. Using and testing Numpy `mean()`"
      ]
    },
    {
      "cell_type": "code",
      "metadata": {
        "colab": {
          "base_uri": "https://localhost:8080/"
        },
        "id": "oO9yOxlU4RLH",
        "outputId": "3bdfcf30-f1aa-4e7d-c0fa-4ae93c7a571b"
      },
      "source": [
        "np.round(np.mean(input_array), 3)"
      ],
      "execution_count": 4,
      "outputs": [
        {
          "output_type": "execute_result",
          "data": {
            "text/plain": [
              "-0.228"
            ]
          },
          "metadata": {},
          "execution_count": 4
        }
      ]
    },
    {
      "cell_type": "code",
      "metadata": {
        "colab": {
          "base_uri": "https://localhost:8080/"
        },
        "id": "9tNu8fEv4RLI",
        "outputId": "6717280a-6445-47ed-991d-70163ec133e3"
      },
      "source": [
        "mean = np.round(np.sum(input_array)/len(input_array), 3)\n",
        "mean"
      ],
      "execution_count": 5,
      "outputs": [
        {
          "output_type": "execute_result",
          "data": {
            "text/plain": [
              "-0.228"
            ]
          },
          "metadata": {},
          "execution_count": 5
        }
      ]
    },
    {
      "cell_type": "markdown",
      "metadata": {
        "id": "hw8Rxxzs4RLI"
      },
      "source": [
        "#### 2. Using and testing Numpy `var()`"
      ]
    },
    {
      "cell_type": "code",
      "metadata": {
        "colab": {
          "base_uri": "https://localhost:8080/"
        },
        "id": "agbDu8xo4RLJ",
        "outputId": "4bb67c22-4fb6-41d0-f265-7242260a5c4a"
      },
      "source": [
        "np.round(np.var(input_array), 3)"
      ],
      "execution_count": 6,
      "outputs": [
        {
          "output_type": "execute_result",
          "data": {
            "text/plain": [
              "18.177"
            ]
          },
          "metadata": {},
          "execution_count": 6
        }
      ]
    },
    {
      "cell_type": "code",
      "metadata": {
        "colab": {
          "base_uri": "https://localhost:8080/"
        },
        "id": "cRq7fHSk4RLJ",
        "outputId": "c15305a4-f47a-46c5-ad6d-44e59050ff12"
      },
      "source": [
        "var = np.round(float(sum([(x - mean) ** 2 for x in input_array])/len(input_array)), 3)\n",
        "var"
      ],
      "execution_count": 7,
      "outputs": [
        {
          "output_type": "execute_result",
          "data": {
            "text/plain": [
              "18.177"
            ]
          },
          "metadata": {},
          "execution_count": 7
        }
      ]
    },
    {
      "cell_type": "markdown",
      "metadata": {
        "id": "DinbLrJa4RLK"
      },
      "source": [
        "#### 3. Using and testing Numpy `std()`"
      ]
    },
    {
      "cell_type": "code",
      "metadata": {
        "colab": {
          "base_uri": "https://localhost:8080/"
        },
        "id": "qJ0QDMv44RLK",
        "outputId": "045c036c-df88-4ce0-ac57-239dbc4050cd"
      },
      "source": [
        "np.round(np.std(input_array), 3)"
      ],
      "execution_count": 8,
      "outputs": [
        {
          "output_type": "execute_result",
          "data": {
            "text/plain": [
              "4.263"
            ]
          },
          "metadata": {},
          "execution_count": 8
        }
      ]
    },
    {
      "cell_type": "code",
      "metadata": {
        "colab": {
          "base_uri": "https://localhost:8080/"
        },
        "id": "auokQ7yq4RLK",
        "outputId": "bbd86c9c-c3d2-4652-ef64-65b4e9a52a5e"
      },
      "source": [
        "np.round(var ** (1/2), 3)"
      ],
      "execution_count": 9,
      "outputs": [
        {
          "output_type": "execute_result",
          "data": {
            "text/plain": [
              "4.263"
            ]
          },
          "metadata": {},
          "execution_count": 9
        }
      ]
    },
    {
      "cell_type": "markdown",
      "metadata": {
        "id": "2e3qu_0w4RLK"
      },
      "source": [
        "#### 4. Using and testing Numpy `argmin()`"
      ]
    },
    {
      "cell_type": "code",
      "metadata": {
        "colab": {
          "base_uri": "https://localhost:8080/"
        },
        "id": "V0dpVO814RLL",
        "outputId": "d1558ac8-a070-44a5-968c-05f51861ffd1"
      },
      "source": [
        "input_array[np.argmin(input_array)]"
      ],
      "execution_count": 10,
      "outputs": [
        {
          "output_type": "execute_result",
          "data": {
            "text/plain": [
              "array([-7.07580241])"
            ]
          },
          "metadata": {},
          "execution_count": 10
        }
      ]
    },
    {
      "cell_type": "code",
      "metadata": {
        "colab": {
          "base_uri": "https://localhost:8080/"
        },
        "id": "Ew1HMOuf4RLL",
        "outputId": "98e1c63c-366a-472e-990f-a26f0d20e8eb"
      },
      "source": [
        "sorted(input_array)[0]"
      ],
      "execution_count": 11,
      "outputs": [
        {
          "output_type": "execute_result",
          "data": {
            "text/plain": [
              "array([-7.07580241])"
            ]
          },
          "metadata": {},
          "execution_count": 11
        }
      ]
    },
    {
      "cell_type": "markdown",
      "metadata": {
        "id": "rf5sz93N4RLL"
      },
      "source": [
        "## 3. Find a sample data set (or create a reasonable data set and place in an appropriate structure, e.g., DataFrame or other). Using GroupBy and splitting using more than one key, perform some queries against that data. Explain what question you’re trying to answer and show the results/output. Come up with a total of three (3) different queries."
      ]
    },
    {
      "cell_type": "markdown",
      "metadata": {
        "id": "rxRGOPar4RLM"
      },
      "source": [
        "#### Loading and inspecting the dataset. The dataset was retrieved on 10/22/2021 using download functionality. It contains information about recently (last 20 years) failed banks, i.e. name of the bank and IDs, date of restructuring and costs, as well as location of headquarters and size of assets and deposits. Source: https://www.fdic.gov/resources/resolutions/bank-failures/failed-bank-list/"
      ]
    },
    {
      "cell_type": "code",
      "metadata": {
        "id": "V8_QJHqV4dVw"
      },
      "source": [
        "from google.colab import drive\n",
        "from google.colab import files\n",
        "import io"
      ],
      "execution_count": 12,
      "outputs": []
    },
    {
      "cell_type": "code",
      "metadata": {
        "colab": {
          "base_uri": "https://localhost:8080/"
        },
        "id": "JF_pm5qa4qtI",
        "outputId": "da09b851-76a3-45f7-e804-a4e8d0df80f5"
      },
      "source": [
        "# Mount the drive\n",
        "drive.mount('/content/drive')"
      ],
      "execution_count": 13,
      "outputs": [
        {
          "output_type": "stream",
          "name": "stdout",
          "text": [
            "Mounted at /content/drive\n"
          ]
        }
      ]
    },
    {
      "cell_type": "code",
      "metadata": {
        "colab": {
          "resources": {
            "http://localhost:8080/nbextensions/google.colab/files.js": {
              "data": "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",
              "ok": true,
              "headers": [
                [
                  "content-type",
                  "application/javascript"
                ]
              ],
              "status": 200,
              "status_text": ""
            }
          },
          "base_uri": "https://localhost:8080/",
          "height": 72
        },
        "id": "n_0MsTtW41aj",
        "outputId": "993accc0-fec2-423e-89ba-eb429cc8f768"
      },
      "source": [
        "# Upload data file\n",
        "uploaded = files.upload()"
      ],
      "execution_count": 15,
      "outputs": [
        {
          "output_type": "display_data",
          "data": {
            "text/html": [
              "\n",
              "     <input type=\"file\" id=\"files-caed949f-2286-4ddc-ad00-ae5628e96e4d\" name=\"files[]\" multiple disabled\n",
              "        style=\"border:none\" />\n",
              "     <output id=\"result-caed949f-2286-4ddc-ad00-ae5628e96e4d\">\n",
              "      Upload widget is only available when the cell has been executed in the\n",
              "      current browser session. Please rerun this cell to enable.\n",
              "      </output>\n",
              "      <script src=\"/nbextensions/google.colab/files.js\"></script> "
            ],
            "text/plain": [
              "<IPython.core.display.HTML object>"
            ]
          },
          "metadata": {}
        },
        {
          "output_type": "stream",
          "name": "stdout",
          "text": [
            "Saving failed_banks_cleaned.csv to failed_banks_cleaned.csv\n"
          ]
        }
      ]
    },
    {
      "cell_type": "code",
      "metadata": {
        "colab": {
          "base_uri": "https://localhost:8080/"
        },
        "id": "T8HLrRH54xlU",
        "outputId": "9a600bd9-571f-4c82-84e0-99c9f57b4397"
      },
      "source": [
        "# Check if netflix file is present in the current directory\n",
        "!ls"
      ],
      "execution_count": 16,
      "outputs": [
        {
          "output_type": "stream",
          "name": "stdout",
          "text": [
            "drive  failed_banks_cleaned.csv  sample_data\n"
          ]
        }
      ]
    },
    {
      "cell_type": "code",
      "metadata": {
        "colab": {
          "base_uri": "https://localhost:8080/",
          "height": 162
        },
        "id": "tdq5lxcu4RLM",
        "outputId": "0d0b0b97-38e1-41ba-983b-ae42a442c9fa"
      },
      "source": [
        "df = pd.read_csv(\"failed_banks_cleaned.csv\", index_col=0)\n",
        "df.head(2)"
      ],
      "execution_count": 17,
      "outputs": [
        {
          "output_type": "execute_result",
          "data": {
            "text/html": [
              "<div>\n",
              "<style scoped>\n",
              "    .dataframe tbody tr th:only-of-type {\n",
              "        vertical-align: middle;\n",
              "    }\n",
              "\n",
              "    .dataframe tbody tr th {\n",
              "        vertical-align: top;\n",
              "    }\n",
              "\n",
              "    .dataframe thead th {\n",
              "        text-align: right;\n",
              "    }\n",
              "</style>\n",
              "<table border=\"1\" class=\"dataframe\">\n",
              "  <thead>\n",
              "    <tr style=\"text-align: right;\">\n",
              "      <th></th>\n",
              "      <th>CERT</th>\n",
              "      <th>COST</th>\n",
              "      <th>NAME</th>\n",
              "      <th>QBFASSET</th>\n",
              "      <th>QBFDEP</th>\n",
              "      <th>RESTYPE</th>\n",
              "      <th>CITY</th>\n",
              "      <th>STATE</th>\n",
              "      <th>YEAR_FAILED</th>\n",
              "      <th>MONTH_FAILED</th>\n",
              "      <th>QUARTER_FAILED</th>\n",
              "      <th>BANK_TYPE</th>\n",
              "      <th>BANK_CLASS</th>\n",
              "    </tr>\n",
              "  </thead>\n",
              "  <tbody>\n",
              "    <tr>\n",
              "      <th>0</th>\n",
              "      <td>21111</td>\n",
              "      <td>2491.0</td>\n",
              "      <td>CITY NATIONAL BANK OF NEW JERSEY</td>\n",
              "      <td>120574</td>\n",
              "      <td>111234</td>\n",
              "      <td>FAILURE</td>\n",
              "      <td>NEWARK</td>\n",
              "      <td>NJ</td>\n",
              "      <td>2019</td>\n",
              "      <td>11</td>\n",
              "      <td>2019Q4</td>\n",
              "      <td>Commercial</td>\n",
              "      <td>National FRS Banks</td>\n",
              "    </tr>\n",
              "    <tr>\n",
              "      <th>1</th>\n",
              "      <td>58112</td>\n",
              "      <td>4547.0</td>\n",
              "      <td>LOUISA COMMUNITY BANK</td>\n",
              "      <td>28163</td>\n",
              "      <td>25174</td>\n",
              "      <td>FAILURE</td>\n",
              "      <td>LOUISA</td>\n",
              "      <td>KY</td>\n",
              "      <td>2019</td>\n",
              "      <td>10</td>\n",
              "      <td>2019Q4</td>\n",
              "      <td>Commercial</td>\n",
              "      <td>State Chartered non-FRS Banks</td>\n",
              "    </tr>\n",
              "  </tbody>\n",
              "</table>\n",
              "</div>"
            ],
            "text/plain": [
              "    CERT    COST  ...   BANK_TYPE                      BANK_CLASS\n",
              "0  21111  2491.0  ...  Commercial              National FRS Banks\n",
              "1  58112  4547.0  ...  Commercial   State Chartered non-FRS Banks\n",
              "\n",
              "[2 rows x 13 columns]"
            ]
          },
          "metadata": {},
          "execution_count": 17
        }
      ]
    },
    {
      "cell_type": "markdown",
      "metadata": {
        "id": "7TfQ-JDc4RLM"
      },
      "source": [
        "#### Checking observations counts and data types:"
      ]
    },
    {
      "cell_type": "code",
      "metadata": {
        "colab": {
          "base_uri": "https://localhost:8080/"
        },
        "id": "r8Of7noK4RLM",
        "outputId": "f84c121a-b40f-420e-d078-61c0b5599b68"
      },
      "source": [
        "df.info()"
      ],
      "execution_count": 18,
      "outputs": [
        {
          "output_type": "stream",
          "name": "stdout",
          "text": [
            "<class 'pandas.core.frame.DataFrame'>\n",
            "Int64Index: 577 entries, 0 to 576\n",
            "Data columns (total 13 columns):\n",
            " #   Column          Non-Null Count  Dtype  \n",
            "---  ------          --------------  -----  \n",
            " 0   CERT            577 non-null    int64  \n",
            " 1   COST            577 non-null    float64\n",
            " 2   NAME            577 non-null    object \n",
            " 3   QBFASSET        577 non-null    int64  \n",
            " 4   QBFDEP          577 non-null    int64  \n",
            " 5   RESTYPE         577 non-null    object \n",
            " 6   CITY            577 non-null    object \n",
            " 7   STATE           577 non-null    object \n",
            " 8   YEAR_FAILED     577 non-null    int64  \n",
            " 9   MONTH_FAILED    577 non-null    int64  \n",
            " 10  QUARTER_FAILED  577 non-null    object \n",
            " 11  BANK_TYPE       577 non-null    object \n",
            " 12  BANK_CLASS      577 non-null    object \n",
            "dtypes: float64(1), int64(5), object(7)\n",
            "memory usage: 63.1+ KB\n"
          ]
        }
      ]
    },
    {
      "cell_type": "markdown",
      "metadata": {
        "id": "srDOMhx04RLN"
      },
      "source": [
        "#### Using grouped to inspect the data types of the DataFrame"
      ]
    },
    {
      "cell_type": "code",
      "metadata": {
        "colab": {
          "base_uri": "https://localhost:8080/"
        },
        "id": "DO4hJqts4RLN",
        "outputId": "82755155-2687-4efa-9fc7-40f70f3163c7"
      },
      "source": [
        "grouped = df.groupby(df.dtypes, axis=1)\n",
        "for dtype, group in grouped:\n",
        "    print(dtype)\n",
        "    print(group)"
      ],
      "execution_count": 19,
      "outputs": [
        {
          "output_type": "stream",
          "name": "stdout",
          "text": [
            "int64\n",
            "      CERT  QBFASSET  QBFDEP  YEAR_FAILED  MONTH_FAILED\n",
            "0    21111    120574  111234         2019            11\n",
            "1    58112     28163   25174         2019            10\n",
            "2    58317     23292   22885         2019            10\n",
            "3    10716     36738   31254         2019             5\n",
            "4    30570    166345  143964         2017            12\n",
            "..     ...       ...     ...          ...           ...\n",
            "572    338     85485   77140         2000             9\n",
            "573  10985     25942   26667         2000             7\n",
            "574  25056      7923    7680         2000             6\n",
            "575  27886     31479   32234         2000             3\n",
            "576  14228    105044   68549         2000             1\n",
            "\n",
            "[577 rows x 5 columns]\n",
            "float64\n",
            "        COST\n",
            "0     2491.0\n",
            "1     4547.0\n",
            "2     2188.0\n",
            "3    21577.0\n",
            "4    86826.0\n",
            "..       ...\n",
            "572  14592.0\n",
            "573   1363.0\n",
            "574    617.0\n",
            "575   1322.0\n",
            "576  11574.0\n",
            "\n",
            "[577 rows x 1 columns]\n",
            "object\n",
            "                                       NAME  ...                      BANK_CLASS\n",
            "0          CITY NATIONAL BANK OF NEW JERSEY  ...              National FRS Banks\n",
            "1                     LOUISA COMMUNITY BANK  ...   State Chartered non-FRS Banks\n",
            "2                             RESOLUTE BANK  ...            Federal Savings Bank\n",
            "3                          ENLOE STATE BANK  ...   State Chartered non-FRS Banks\n",
            "4       WASHINGTON FEDERAL BANK FOR SAVINGS  ...            Federal Savings Bank\n",
            "..                                      ...  ...                             ...\n",
            "572                         BANK OF FALKNER  ...   State Chartered non-FRS Banks\n",
            "573         TOWN & COUNTRY BANK OF ALMELUND  ...   State Chartered non-FRS Banks\n",
            "574                  MONUMENT NATIONAL BANK  ...              National FRS Banks\n",
            "575  MUTUAL FEDERAL SAVINGS BANK OF ATLANTA  ...            Federal Savings Bank\n",
            "576                    HARTFORD-CARLISLE SB  ...   State Chartered non-FRS Banks\n",
            "\n",
            "[577 rows x 7 columns]\n"
          ]
        }
      ]
    },
    {
      "cell_type": "markdown",
      "metadata": {
        "id": "F2uLH0CB4RLN"
      },
      "source": [
        "#### Using describe() on the grouped DataFrame:"
      ]
    },
    {
      "cell_type": "code",
      "metadata": {
        "colab": {
          "base_uri": "https://localhost:8080/",
          "height": 452
        },
        "id": "raK6Nnak4RLN",
        "outputId": "b2528563-ae2c-4e3e-b844-17c790818e2c"
      },
      "source": [
        "grouped.describe()"
      ],
      "execution_count": 20,
      "outputs": [
        {
          "output_type": "execute_result",
          "data": {
            "text/html": [
              "<div>\n",
              "<style scoped>\n",
              "    .dataframe tbody tr th:only-of-type {\n",
              "        vertical-align: middle;\n",
              "    }\n",
              "\n",
              "    .dataframe tbody tr th {\n",
              "        vertical-align: top;\n",
              "    }\n",
              "\n",
              "    .dataframe thead th {\n",
              "        text-align: right;\n",
              "    }\n",
              "</style>\n",
              "<table border=\"1\" class=\"dataframe\">\n",
              "  <thead>\n",
              "    <tr style=\"text-align: right;\">\n",
              "      <th></th>\n",
              "      <th></th>\n",
              "      <th>count</th>\n",
              "      <th>mean</th>\n",
              "      <th>std</th>\n",
              "      <th>min</th>\n",
              "      <th>25%</th>\n",
              "      <th>50%</th>\n",
              "      <th>75%</th>\n",
              "      <th>max</th>\n",
              "      <th>unique</th>\n",
              "      <th>top</th>\n",
              "      <th>freq</th>\n",
              "    </tr>\n",
              "  </thead>\n",
              "  <tbody>\n",
              "    <tr>\n",
              "      <th rowspan=\"5\" valign=\"top\">int64</th>\n",
              "      <th>CERT</th>\n",
              "      <td>577</td>\n",
              "      <td>31539.9</td>\n",
              "      <td>16458.9</td>\n",
              "      <td>91</td>\n",
              "      <td>20115</td>\n",
              "      <td>32102</td>\n",
              "      <td>35356</td>\n",
              "      <td>58701</td>\n",
              "      <td>NaN</td>\n",
              "      <td>NaN</td>\n",
              "      <td>NaN</td>\n",
              "    </tr>\n",
              "    <tr>\n",
              "      <th>QBFASSET</th>\n",
              "      <td>577</td>\n",
              "      <td>6.8178e+06</td>\n",
              "      <td>8.06444e+07</td>\n",
              "      <td>3785</td>\n",
              "      <td>90867</td>\n",
              "      <td>203955</td>\n",
              "      <td>504816</td>\n",
              "      <td>1.47163e+09</td>\n",
              "      <td>NaN</td>\n",
              "      <td>NaN</td>\n",
              "      <td>NaN</td>\n",
              "    </tr>\n",
              "    <tr>\n",
              "      <th>QBFDEP</th>\n",
              "      <td>577</td>\n",
              "      <td>3.27468e+06</td>\n",
              "      <td>4.17251e+07</td>\n",
              "      <td>500</td>\n",
              "      <td>78549</td>\n",
              "      <td>182794</td>\n",
              "      <td>443481</td>\n",
              "      <td>9.54678e+08</td>\n",
              "      <td>NaN</td>\n",
              "      <td>NaN</td>\n",
              "      <td>NaN</td>\n",
              "    </tr>\n",
              "    <tr>\n",
              "      <th>YEAR_FAILED</th>\n",
              "      <td>577</td>\n",
              "      <td>2010.08</td>\n",
              "      <td>2.70244</td>\n",
              "      <td>2000</td>\n",
              "      <td>2009</td>\n",
              "      <td>2010</td>\n",
              "      <td>2011</td>\n",
              "      <td>2019</td>\n",
              "      <td>NaN</td>\n",
              "      <td>NaN</td>\n",
              "      <td>NaN</td>\n",
              "    </tr>\n",
              "    <tr>\n",
              "      <th>MONTH_FAILED</th>\n",
              "      <td>577</td>\n",
              "      <td>6.29809</td>\n",
              "      <td>3.39851</td>\n",
              "      <td>1</td>\n",
              "      <td>3</td>\n",
              "      <td>7</td>\n",
              "      <td>9</td>\n",
              "      <td>12</td>\n",
              "      <td>NaN</td>\n",
              "      <td>NaN</td>\n",
              "      <td>NaN</td>\n",
              "    </tr>\n",
              "    <tr>\n",
              "      <th>float64</th>\n",
              "      <th>COST</th>\n",
              "      <td>577</td>\n",
              "      <td>127153</td>\n",
              "      <td>580811</td>\n",
              "      <td>0</td>\n",
              "      <td>13697</td>\n",
              "      <td>36819</td>\n",
              "      <td>89121</td>\n",
              "      <td>1.20722e+07</td>\n",
              "      <td>NaN</td>\n",
              "      <td>NaN</td>\n",
              "      <td>NaN</td>\n",
              "    </tr>\n",
              "    <tr>\n",
              "      <th rowspan=\"7\" valign=\"top\">object</th>\n",
              "      <th>NAME</th>\n",
              "      <td>577</td>\n",
              "      <td>NaN</td>\n",
              "      <td>NaN</td>\n",
              "      <td>NaN</td>\n",
              "      <td>NaN</td>\n",
              "      <td>NaN</td>\n",
              "      <td>NaN</td>\n",
              "      <td>NaN</td>\n",
              "      <td>559</td>\n",
              "      <td>HORIZON BANK</td>\n",
              "      <td>3</td>\n",
              "    </tr>\n",
              "    <tr>\n",
              "      <th>RESTYPE</th>\n",
              "      <td>577</td>\n",
              "      <td>NaN</td>\n",
              "      <td>NaN</td>\n",
              "      <td>NaN</td>\n",
              "      <td>NaN</td>\n",
              "      <td>NaN</td>\n",
              "      <td>NaN</td>\n",
              "      <td>NaN</td>\n",
              "      <td>2</td>\n",
              "      <td>FAILURE</td>\n",
              "      <td>564</td>\n",
              "    </tr>\n",
              "    <tr>\n",
              "      <th>CITY</th>\n",
              "      <td>577</td>\n",
              "      <td>NaN</td>\n",
              "      <td>NaN</td>\n",
              "      <td>NaN</td>\n",
              "      <td>NaN</td>\n",
              "      <td>NaN</td>\n",
              "      <td>NaN</td>\n",
              "      <td>NaN</td>\n",
              "      <td>441</td>\n",
              "      <td>CHICAGO</td>\n",
              "      <td>20</td>\n",
              "    </tr>\n",
              "    <tr>\n",
              "      <th>STATE</th>\n",
              "      <td>577</td>\n",
              "      <td>NaN</td>\n",
              "      <td>NaN</td>\n",
              "      <td>NaN</td>\n",
              "      <td>NaN</td>\n",
              "      <td>NaN</td>\n",
              "      <td>NaN</td>\n",
              "      <td>NaN</td>\n",
              "      <td>46</td>\n",
              "      <td>GA</td>\n",
              "      <td>94</td>\n",
              "    </tr>\n",
              "    <tr>\n",
              "      <th>QUARTER_FAILED</th>\n",
              "      <td>577</td>\n",
              "      <td>NaN</td>\n",
              "      <td>NaN</td>\n",
              "      <td>NaN</td>\n",
              "      <td>NaN</td>\n",
              "      <td>NaN</td>\n",
              "      <td>NaN</td>\n",
              "      <td>NaN</td>\n",
              "      <td>59</td>\n",
              "      <td>2009Q3</td>\n",
              "      <td>50</td>\n",
              "    </tr>\n",
              "    <tr>\n",
              "      <th>BANK_TYPE</th>\n",
              "      <td>577</td>\n",
              "      <td>NaN</td>\n",
              "      <td>NaN</td>\n",
              "      <td>NaN</td>\n",
              "      <td>NaN</td>\n",
              "      <td>NaN</td>\n",
              "      <td>NaN</td>\n",
              "      <td>NaN</td>\n",
              "      <td>2</td>\n",
              "      <td>Commercial</td>\n",
              "      <td>489</td>\n",
              "    </tr>\n",
              "    <tr>\n",
              "      <th>BANK_CLASS</th>\n",
              "      <td>577</td>\n",
              "      <td>NaN</td>\n",
              "      <td>NaN</td>\n",
              "      <td>NaN</td>\n",
              "      <td>NaN</td>\n",
              "      <td>NaN</td>\n",
              "      <td>NaN</td>\n",
              "      <td>NaN</td>\n",
              "      <td>6</td>\n",
              "      <td>State Chartered non-FRS Banks</td>\n",
              "      <td>336</td>\n",
              "    </tr>\n",
              "  </tbody>\n",
              "</table>\n",
              "</div>"
            ],
            "text/plain": [
              "                       count         mean  ...                             top freq\n",
              "int64   CERT             577      31539.9  ...                             NaN  NaN\n",
              "        QBFASSET         577   6.8178e+06  ...                             NaN  NaN\n",
              "        QBFDEP           577  3.27468e+06  ...                             NaN  NaN\n",
              "        YEAR_FAILED      577      2010.08  ...                             NaN  NaN\n",
              "        MONTH_FAILED     577      6.29809  ...                             NaN  NaN\n",
              "float64 COST             577       127153  ...                             NaN  NaN\n",
              "object  NAME             577          NaN  ...                    HORIZON BANK    3\n",
              "        RESTYPE          577          NaN  ...                         FAILURE  564\n",
              "        CITY             577          NaN  ...                         CHICAGO   20\n",
              "        STATE            577          NaN  ...                              GA   94\n",
              "        QUARTER_FAILED   577          NaN  ...                          2009Q3   50\n",
              "        BANK_TYPE        577          NaN  ...                      Commercial  489\n",
              "        BANK_CLASS       577          NaN  ...   State Chartered non-FRS Banks  336\n",
              "\n",
              "[13 rows x 11 columns]"
            ]
          },
          "metadata": {},
          "execution_count": 20
        }
      ]
    },
    {
      "cell_type": "markdown",
      "metadata": {
        "id": "2wYUIQUb4RLN"
      },
      "source": [
        "#### Query 1: grouping counts of failed banks by their respective `'STATE'` and `'CITY'`:"
      ]
    },
    {
      "cell_type": "code",
      "metadata": {
        "colab": {
          "base_uri": "https://localhost:8080/"
        },
        "id": "sEPrsl764RLN",
        "outputId": "c283ed48-efc9-4827-c8a4-c5e4d363f4ee"
      },
      "source": [
        "grouped = df.groupby(['STATE', 'CITY'])['NAME'].count()\n",
        "grouped"
      ],
      "execution_count": 21,
      "outputs": [
        {
          "output_type": "execute_result",
          "data": {
            "text/plain": [
              "STATE  CITY        \n",
              " AL    BIRMINGHAM      3\n",
              "       FORT DEPOSIT    1\n",
              "       IRONDALE        1\n",
              "       MONTGOMERY      1\n",
              "       SYLACAUGA       1\n",
              "                      ..\n",
              " WI    STOUGHTON       1\n",
              "       WAUSAU          1\n",
              "       WEST ALLIS      1\n",
              " WV    NORTHFORK       1\n",
              " WY    THERMOPOLIS     1\n",
              "Name: NAME, Length: 451, dtype: int64"
            ]
          },
          "metadata": {},
          "execution_count": 21
        }
      ]
    },
    {
      "cell_type": "markdown",
      "metadata": {
        "id": "92ZOftzO4RLO"
      },
      "source": [
        "#### Similar results can be visualized when grouping by `'STATE'` only and taking count of `'NAME'`:"
      ]
    },
    {
      "cell_type": "code",
      "metadata": {
        "colab": {
          "base_uri": "https://localhost:8080/",
          "height": 360
        },
        "id": "0R62VExo4RLO",
        "outputId": "4ae39f71-826c-4107-b8ec-79ccafaa31ee"
      },
      "source": [
        "df.groupby(['STATE'])['NAME'].count().plot(kind='bar', \n",
        "                                           figsize=(20, 5),\n",
        "                                           color='red',\n",
        "                                           title=\"Counts of failed banks 'NAME' by 'STATE'\")\n",
        "plt.show()"
      ],
      "execution_count": 22,
      "outputs": [
        {
          "output_type": "display_data",
          "data": {
            "image/png": "[encoded data removed]",
            "text/plain": [
              "<Figure size 1440x360 with 1 Axes>"
            ]
          },
          "metadata": {
            "needs_background": "light"
          }
        }
      ]
    },
    {
      "cell_type": "markdown",
      "metadata": {
        "id": "vnM1VnWb4RLO"
      },
      "source": [
        "#### Query 2: grouping sums of `'COST'` of failed banks by Year and Quarter of failure:"
      ]
    },
    {
      "cell_type": "code",
      "metadata": {
        "colab": {
          "base_uri": "https://localhost:8080/"
        },
        "id": "_1ynTbUp4RLO",
        "outputId": "b523f192-30f5-433a-dd9f-b687076f42c8"
      },
      "source": [
        "df.groupby(['YEAR_FAILED', 'QUARTER_FAILED'])['COST'].sum()"
      ],
      "execution_count": 23,
      "outputs": [
        {
          "output_type": "execute_result",
          "data": {
            "text/plain": [
              "YEAR_FAILED  QUARTER_FAILED\n",
              "2000         2000Q1               12896.00\n",
              "             2000Q2                 617.00\n",
              "             2000Q3               15955.00\n",
              "             2000Q4                3070.00\n",
              "2001         2001Q1                 817.00\n",
              "             2001Q2                 769.00\n",
              "             2001Q3              290879.00\n",
              "2002         2002Q1              346966.61\n",
              "             2002Q2               54058.00\n",
              "             2002Q3                1326.00\n",
              "             2002Q4               21521.00\n",
              "2003         2003Q1               49179.00\n",
              "             2003Q2               12788.00\n",
              "             2003Q4                 679.00\n",
              "2004         2004Q1                 919.00\n",
              "             2004Q2                2998.00\n",
              "2007         2007Q1                9438.00\n",
              "             2007Q3              120702.00\n",
              "             2007Q4               28394.00\n",
              "2008         2008Q1               11046.00\n",
              "             2008Q2             1037273.00\n",
              "             2008Q3            14543164.00\n",
              "             2008Q4             2270594.00\n",
              "2009         2009Q1             2117005.00\n",
              "             2009Q2             8313880.00\n",
              "             2009Q3             9011201.00\n",
              "             2009Q4             6549350.00\n",
              "2010         2010Q1             4599434.00\n",
              "             2010Q2             6877462.00\n",
              "             2010Q3             2516655.00\n",
              "             2010Q4             1887003.00\n",
              "2011         2011Q1             1769349.00\n",
              "             2011Q2             1908450.00\n",
              "             2011Q3             1949505.00\n",
              "             2011Q4              919245.00\n",
              "2012         2012Q1             1151695.00\n",
              "             2012Q2              482105.00\n",
              "             2012Q3              445534.00\n",
              "             2012Q4              332600.00\n",
              "2013         2013Q1              128111.00\n",
              "             2013Q2              248470.00\n",
              "             2013Q3              821089.00\n",
              "             2013Q4               20052.00\n",
              "2014         2014Q1              121265.00\n",
              "             2014Q2              132554.00\n",
              "             2014Q3               56746.00\n",
              "             2014Q4               83961.00\n",
              "2015         2015Q1              801065.00\n",
              "             2015Q2               20651.00\n",
              "             2015Q3                1210.00\n",
              "             2015Q4               28755.00\n",
              "2016         2016Q1               11763.00\n",
              "             2016Q2               21197.00\n",
              "             2016Q3                9503.00\n",
              "2017         2017Q1               75986.00\n",
              "             2017Q2             1000558.00\n",
              "             2017Q4               87106.00\n",
              "2019         2019Q2               21577.00\n",
              "             2019Q4                9226.00\n",
              "Name: COST, dtype: float64"
            ]
          },
          "metadata": {},
          "execution_count": 23
        }
      ]
    },
    {
      "cell_type": "markdown",
      "metadata": {
        "id": "9FqVfz8K4RLO"
      },
      "source": [
        "#### Alternatively, this can be visualized simply by grouping by the `'YEAR_FAILED'` only:"
      ]
    },
    {
      "cell_type": "code",
      "metadata": {
        "colab": {
          "base_uri": "https://localhost:8080/",
          "height": 366
        },
        "id": "IKf5y0h84RLP",
        "outputId": "7a6e4f44-5a4f-4a97-fbf4-26a225622649"
      },
      "source": [
        "df.groupby(['YEAR_FAILED'])['COST'].sum().plot(kind='bar',\n",
        "                                               figsize=(20, 5),\n",
        "                                               color='red',\n",
        "                                               title=\"Sum of failed banks 'COST' by 'YEAR_FAILED'\")\n",
        "                                              \n",
        "plt.show()"
      ],
      "execution_count": 24,
      "outputs": [
        {
          "output_type": "display_data",
          "data": {
            "image/png": "[encoded data removed]",
            "text/plain": [
              "<Figure size 1440x360 with 1 Axes>"
            ]
          },
          "metadata": {
            "needs_background": "light"
          }
        }
      ]
    },
    {
      "cell_type": "code",
      "metadata": {
        "colab": {
          "base_uri": "https://localhost:8080/"
        },
        "id": "ZP0TaLb64RLP",
        "outputId": "ca420601-6b0c-4935-fd6c-1cab6ba9a7af"
      },
      "source": [
        "df.index"
      ],
      "execution_count": 25,
      "outputs": [
        {
          "output_type": "execute_result",
          "data": {
            "text/plain": [
              "Int64Index([  0,   1,   2,   3,   4,   5,   6,   7,   8,   9,\n",
              "            ...\n",
              "            567, 568, 569, 570, 571, 572, 573, 574, 575, 576],\n",
              "           dtype='int64', length=577)"
            ]
          },
          "metadata": {},
          "execution_count": 25
        }
      ]
    },
    {
      "cell_type": "markdown",
      "metadata": {
        "id": "yGUvM7yT4RLP"
      },
      "source": [
        "#### Query 3: grouping sums of `'COST'` of assistance v failure for different bank types and classes:"
      ]
    },
    {
      "cell_type": "code",
      "metadata": {
        "colab": {
          "base_uri": "https://localhost:8080/"
        },
        "id": "7TWtH3rh4RLP",
        "outputId": "9961085d-93df-4ce3-dd23-bbcabcf7ed64"
      },
      "source": [
        "df.groupby(['RESTYPE', 'BANK_TYPE', 'BANK_CLASS'])['COST'].sum()"
      ],
      "execution_count": 26,
      "outputs": [
        {
          "output_type": "execute_result",
          "data": {
            "text/plain": [
              "RESTYPE     BANK_TYPE   BANK_CLASS                        \n",
              "ASSISTANCE  Commercial   National FRS Banks                          0.00\n",
              "                         State Chartered non-FRS Banks               0.00\n",
              "            Savings      Federal Savings Bank                        0.00\n",
              "FAILURE     Commercial   National FRS Banks                    6768859.61\n",
              "                         State Chartered FRS Banks             5918281.00\n",
              "                         State Chartered non-FRS Banks        34959377.00\n",
              "            Savings      Federal & State Savings and Loans    12480114.00\n",
              "                         Federal Savings Bank                 11857724.00\n",
              "                         State Savings FDIC Banks              1383011.00\n",
              "Name: COST, dtype: float64"
            ]
          },
          "metadata": {},
          "execution_count": 26
        }
      ]
    },
    {
      "cell_type": "markdown",
      "metadata": {
        "id": "IMA_7yUP4RLP"
      },
      "source": [
        "#### Alternatively, similar grouping can be used to show `ASSETS` and `DEPOSITS` for different types and classes of failed banks:"
      ]
    },
    {
      "cell_type": "code",
      "metadata": {
        "colab": {
          "base_uri": "https://localhost:8080/",
          "height": 363
        },
        "id": "wWx-HufW4RLP",
        "outputId": "8d0569d7-ba72-4076-c4d6-4d306a5074c2"
      },
      "source": [
        "fig, ax = plt.subplots()\n",
        "title = \"Sum of failed banks 'ASSETS' and 'DEPOSITS' by 'TYPE' of institution\"\n",
        "keys = ['BANK_TYPE', 'BANK_CLASS']\n",
        "df.groupby(keys)['QBFASSET','QBFDEP'].sum().plot(kind='barh',\n",
        "                                                 figsize=(20, 5),\n",
        "                                                 title=title,  \n",
        "                                                 color=('red', 'pink'), \n",
        "                                                 ax=ax)\n",
        "\n",
        "ax.legend({\"Assets\":\"QBFASSET\", \"Deposits\":\"QBFDEP\"})\n",
        "                                                         \n",
        "                                                         \n",
        "plt.show()"
      ],
      "execution_count": 27,
      "outputs": [
        {
          "output_type": "stream",
          "name": "stderr",
          "text": [
            "/usr/local/lib/python3.7/dist-packages/ipykernel_launcher.py:4: FutureWarning: Indexing with multiple keys (implicitly converted to a tuple of keys) will be deprecated, use a list instead.\n",
            "  after removing the cwd from sys.path.\n"
          ]
        },
        {
          "output_type": "display_data",
          "data": {
            "image/png": "[encoded data removed]",
            "text/plain": [
              "<Figure size 1440x360 with 1 Axes>"
            ]
          },
          "metadata": {
            "needs_background": "light"
          }
        }
      ]
    },
    {
      "cell_type": "markdown",
      "metadata": {
        "id": "8jg1Z6js4RLQ"
      },
      "source": [
        "## Submission Instructions\n",
        "Submit your .ipynb file and its pdf output. "
      ]
    }
  ]
}