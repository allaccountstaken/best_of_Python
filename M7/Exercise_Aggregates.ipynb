{
 "cells": [
  {
   "cell_type": "markdown",
   "metadata": {},
   "source": [
    "- Name of activity: Exercise: Aggregates\n",
    "- Your name: Dima Mikhaylov\n",
    "- Your UVA computing ID: agp7dp"
   ]
  },
  {
   "cell_type": "markdown",
   "metadata": {
    "id": "8lMKxJxjODsK"
   },
   "source": [
    "# Exercise: Aggregates\n",
    "Directions: Complete all three parts of the assignment."
   ]
  },
  {
   "cell_type": "markdown",
   "metadata": {},
   "source": [
    "1. Write a summary about each aggregate function mentioned (np.mean, np.std, np.var, np.argmin, np.argmax, np.median, np.percentile)."
   ]
  },
  {
   "cell_type": "markdown",
   "metadata": {},
   "source": [
    "\n",
    "* `mean()` returns the arithmetic mean along the specified axis.\n",
    "    * Optional `out` can be used to specify alternative output array.\n",
    "    * Optional `keepdims` cab be used for broadcasting against the original array.\n",
    "\n",
    "* `std()` returns the standard deviation along the specified axis.\n",
    "    * In addition to similar use of `out` and `keepdims` , it also supports `ddof` that stands fpr degrees of freedom, zero by default.\n",
    "    \n",
    "* `var()` return the variance along the specified axis.\n",
    "    * Similarly to `std()`, this function supports `out`, `keepdims`, and `ddof`.\n",
    "\n",
    "* `argmin()` returns the index of the first occurrence of the **mimimum** value along the specified axis of an array. \n",
    "    * Optional parameter `out` can be used to insert the result into the array.\n",
    "\n",
    "* `argmax()` returns the index of the first occurrence of the **maximum** value along the specified axis of an array. \n",
    "    * Optional parameter `out` can be used to insert the result into the array.\n",
    "\n",
    "* `median()` returns the **median** of an array along the specified axis. \n",
    "    * Optional `out` can be used to specify alternative output array. \n",
    "    * Moreover, `overwrite_input` can be specified to allow use of memory of the input array and `keepdims` cab be used for broadcasting against the original array.\n",
    "\n",
    "* `percentile()` returns the **q-th percentiles** of the array elements along the specified axis. \n",
    "    * In addition to similar use of `out`, `overwrite_input` and `keepdims` , it also supports optional `interpolation` for cases when the selected percentile falls between two data points."
   ]
  },
  {
   "cell_type": "markdown",
   "metadata": {},
   "source": [
    "2. Come up with a small sample of code (with appropriate setup/data) that illustrates the usage of at least four (4) of the aggregate functions (from Part 1). Include the results/output as well."
   ]
  },
  {
   "cell_type": "code",
   "execution_count": 1,
   "metadata": {},
   "outputs": [],
   "source": [
    "import numpy as np\n",
    "from sklearn.datasets import make_blobs\n",
    "\n",
    "# Generating random data points\n",
    "input_array, output_array = make_blobs(n_samples=30, centers=2, n_features=1, random_state=123)"
   ]
  },
  {
   "cell_type": "code",
   "execution_count": 2,
   "metadata": {},
   "outputs": [
    {
     "data": {
      "text/plain": [
       "-0.228"
      ]
     },
     "execution_count": 2,
     "metadata": {},
     "output_type": "execute_result"
    }
   ],
   "source": [
    "# 1. Numpy mean\n",
    "np.round(np.mean(input_array), 3)"
   ]
  },
  {
   "cell_type": "code",
   "execution_count": 3,
   "metadata": {},
   "outputs": [
    {
     "data": {
      "text/plain": [
       "-0.228"
      ]
     },
     "execution_count": 3,
     "metadata": {},
     "output_type": "execute_result"
    }
   ],
   "source": [
    "# Check mean\n",
    "mean = np.round(np.sum(input_array)/len(input_array), 3)\n",
    "mean"
   ]
  },
  {
   "cell_type": "code",
   "execution_count": 4,
   "metadata": {},
   "outputs": [
    {
     "data": {
      "text/plain": [
       "18.177"
      ]
     },
     "execution_count": 4,
     "metadata": {},
     "output_type": "execute_result"
    }
   ],
   "source": [
    "# 2. Numpy variance\n",
    "np.round(np.var(input_array), 3)"
   ]
  },
  {
   "cell_type": "code",
   "execution_count": 5,
   "metadata": {},
   "outputs": [
    {
     "data": {
      "text/plain": [
       "18.177"
      ]
     },
     "execution_count": 5,
     "metadata": {},
     "output_type": "execute_result"
    }
   ],
   "source": [
    "# Check variance\n",
    "var = np.round(float(sum([(x - mean) ** 2 for x in input_array])/len(input_array)), 3)\n",
    "var"
   ]
  },
  {
   "cell_type": "code",
   "execution_count": 6,
   "metadata": {},
   "outputs": [
    {
     "data": {
      "text/plain": [
       "4.263"
      ]
     },
     "execution_count": 6,
     "metadata": {},
     "output_type": "execute_result"
    }
   ],
   "source": [
    "# 3. Numpy standard deviation\n",
    "np.round(np.std(input_array), 3)"
   ]
  },
  {
   "cell_type": "code",
   "execution_count": 7,
   "metadata": {},
   "outputs": [
    {
     "data": {
      "text/plain": [
       "4.263"
      ]
     },
     "execution_count": 7,
     "metadata": {},
     "output_type": "execute_result"
    }
   ],
   "source": [
    "# Check standard deviation\n",
    "np.round(var ** (1/2), 3)"
   ]
  },
  {
   "cell_type": "code",
   "execution_count": 8,
   "metadata": {},
   "outputs": [
    {
     "data": {
      "text/plain": [
       "array([-7.07580241])"
      ]
     },
     "execution_count": 8,
     "metadata": {},
     "output_type": "execute_result"
    }
   ],
   "source": [
    "# 4. Numpy argmin for the smallers value\n",
    "input_array[np.argmin(input_array)]"
   ]
  },
  {
   "cell_type": "code",
   "execution_count": 9,
   "metadata": {},
   "outputs": [
    {
     "data": {
      "text/plain": [
       "array([-7.07580241])"
      ]
     },
     "execution_count": 9,
     "metadata": {},
     "output_type": "execute_result"
    }
   ],
   "source": [
    "# Check the smallest value\n",
    "sorted(input_array)[0]"
   ]
  },
  {
   "cell_type": "markdown",
   "metadata": {},
   "source": [
    "3. Find a sample data set (or create a reasonable data set and place in an appropriate structure, e.g., DataFrame or other). Using GroupBy and splitting using more than one key, perform some queries against that data. Explain what question you’re trying to answer and show the results/output. Come up with a total of three (3) different queries."
   ]
  },
  {
   "cell_type": "code",
   "execution_count": 11,
   "metadata": {},
   "outputs": [],
   "source": [
    "import pandas as pd\n",
    "import numpy as np"
   ]
  },
  {
   "cell_type": "code",
   "execution_count": 13,
   "metadata": {},
   "outputs": [],
   "source": [
    "df = pd.DataFrame({'key1' : ['a', 'a', 'b', 'b', 'a'], \n",
    "                   'key2' : ['one', 'two', 'one', 'two', 'one'],\n",
    "                   'data1': np.random.rand(5),\n",
    "                   'data2': np.random.rand(5)\n",
    "                  })"
   ]
  },
  {
   "cell_type": "code",
   "execution_count": 14,
   "metadata": {},
   "outputs": [
    {
     "data": {
      "text/html": [
       "<div>\n",
       "<style scoped>\n",
       "    .dataframe tbody tr th:only-of-type {\n",
       "        vertical-align: middle;\n",
       "    }\n",
       "\n",
       "    .dataframe tbody tr th {\n",
       "        vertical-align: top;\n",
       "    }\n",
       "\n",
       "    .dataframe thead th {\n",
       "        text-align: right;\n",
       "    }\n",
       "</style>\n",
       "<table border=\"1\" class=\"dataframe\">\n",
       "  <thead>\n",
       "    <tr style=\"text-align: right;\">\n",
       "      <th></th>\n",
       "      <th>key1</th>\n",
       "      <th>key2</th>\n",
       "      <th>data1</th>\n",
       "      <th>data2</th>\n",
       "    </tr>\n",
       "  </thead>\n",
       "  <tbody>\n",
       "    <tr>\n",
       "      <th>0</th>\n",
       "      <td>a</td>\n",
       "      <td>one</td>\n",
       "      <td>0.665031</td>\n",
       "      <td>0.975766</td>\n",
       "    </tr>\n",
       "    <tr>\n",
       "      <th>1</th>\n",
       "      <td>a</td>\n",
       "      <td>two</td>\n",
       "      <td>0.831587</td>\n",
       "      <td>0.883100</td>\n",
       "    </tr>\n",
       "    <tr>\n",
       "      <th>2</th>\n",
       "      <td>b</td>\n",
       "      <td>one</td>\n",
       "      <td>0.338583</td>\n",
       "      <td>0.359070</td>\n",
       "    </tr>\n",
       "    <tr>\n",
       "      <th>3</th>\n",
       "      <td>b</td>\n",
       "      <td>two</td>\n",
       "      <td>0.032001</td>\n",
       "      <td>0.112870</td>\n",
       "    </tr>\n",
       "    <tr>\n",
       "      <th>4</th>\n",
       "      <td>a</td>\n",
       "      <td>one</td>\n",
       "      <td>0.574903</td>\n",
       "      <td>0.263431</td>\n",
       "    </tr>\n",
       "  </tbody>\n",
       "</table>\n",
       "</div>"
      ],
      "text/plain": [
       "  key1 key2     data1     data2\n",
       "0    a  one  0.665031  0.975766\n",
       "1    a  two  0.831587  0.883100\n",
       "2    b  one  0.338583  0.359070\n",
       "3    b  two  0.032001  0.112870\n",
       "4    a  one  0.574903  0.263431"
      ]
     },
     "execution_count": 14,
     "metadata": {},
     "output_type": "execute_result"
    }
   ],
   "source": [
    "df"
   ]
  },
  {
   "cell_type": "code",
   "execution_count": 18,
   "metadata": {},
   "outputs": [
    {
     "data": {
      "text/plain": [
       "key1\n",
       "a    0.690507\n",
       "b    0.185292\n",
       "Name: data1, dtype: float64"
      ]
     },
     "execution_count": 18,
     "metadata": {},
     "output_type": "execute_result"
    }
   ],
   "source": [
    "grouped = df['data1'].groupby(df['key1'])\n",
    "grouped.mean()"
   ]
  },
  {
   "cell_type": "code",
   "execution_count": 31,
   "metadata": {},
   "outputs": [
    {
     "data": {
      "text/html": [
       "<div>\n",
       "<style scoped>\n",
       "    .dataframe tbody tr th:only-of-type {\n",
       "        vertical-align: middle;\n",
       "    }\n",
       "\n",
       "    .dataframe tbody tr th {\n",
       "        vertical-align: top;\n",
       "    }\n",
       "\n",
       "    .dataframe thead th {\n",
       "        text-align: right;\n",
       "    }\n",
       "</style>\n",
       "<table border=\"1\" class=\"dataframe\">\n",
       "  <thead>\n",
       "    <tr style=\"text-align: right;\">\n",
       "      <th></th>\n",
       "      <th></th>\n",
       "      <th>data1</th>\n",
       "    </tr>\n",
       "    <tr>\n",
       "      <th>key1</th>\n",
       "      <th>key2</th>\n",
       "      <th></th>\n",
       "    </tr>\n",
       "  </thead>\n",
       "  <tbody>\n",
       "    <tr>\n",
       "      <th rowspan=\"2\" valign=\"top\">a</th>\n",
       "      <th>one</th>\n",
       "      <td>0.619967</td>\n",
       "    </tr>\n",
       "    <tr>\n",
       "      <th>two</th>\n",
       "      <td>0.831587</td>\n",
       "    </tr>\n",
       "    <tr>\n",
       "      <th rowspan=\"2\" valign=\"top\">b</th>\n",
       "      <th>one</th>\n",
       "      <td>0.338583</td>\n",
       "    </tr>\n",
       "    <tr>\n",
       "      <th>two</th>\n",
       "      <td>0.032001</td>\n",
       "    </tr>\n",
       "  </tbody>\n",
       "</table>\n",
       "</div>"
      ],
      "text/plain": [
       "              data1\n",
       "key1 key2          \n",
       "a    one   0.619967\n",
       "     two   0.831587\n",
       "b    one   0.338583\n",
       "     two   0.032001"
      ]
     },
     "execution_count": 31,
     "metadata": {},
     "output_type": "execute_result"
    }
   ],
   "source": [
    "means = df[['data1']].groupby([df['key1'], df['key2']]).mean()\n",
    "means"
   ]
  },
  {
   "cell_type": "code",
   "execution_count": 178,
   "metadata": {
    "id": "3TufXRM8OCLv"
   },
   "outputs": [],
   "source": [
    "import pandas as pd\n",
    "# Source: https://banks.data.fdic.gov/bankfind-suite/oscr\n",
    "df = pd.read_csv(\"events_summary_2000-2021.csv\", index_col=0)"
   ]
  },
  {
   "cell_type": "code",
   "execution_count": 184,
   "metadata": {},
   "outputs": [
    {
     "data": {
      "text/html": [
       "<div>\n",
       "<style scoped>\n",
       "    .dataframe tbody tr th:only-of-type {\n",
       "        vertical-align: middle;\n",
       "    }\n",
       "\n",
       "    .dataframe tbody tr th {\n",
       "        vertical-align: top;\n",
       "    }\n",
       "\n",
       "    .dataframe thead th {\n",
       "        text-align: right;\n",
       "    }\n",
       "</style>\n",
       "<table border=\"1\" class=\"dataframe\">\n",
       "  <thead>\n",
       "    <tr style=\"text-align: right;\">\n",
       "      <th></th>\n",
       "      <th>N: National Banks, member of the Federal Reserve System (FRS)</th>\n",
       "      <th>SM: State Chartered Banks, member of the Federal Reserve System (FRS)</th>\n",
       "      <th>NM: State Chartered Banks, not member of the Federal Reserve System (FRS)</th>\n",
       "      <th>OI: Insured Branches of Foreign Banks</th>\n",
       "      <th>SI: FDIC Supervised State Savings Banks</th>\n",
       "      <th>SB: Federal Savings Bank</th>\n",
       "      <th>SL: Federal &amp; State Savings and Loans</th>\n",
       "      <th>NC: Non-FDIC Insured Commercial Banks</th>\n",
       "      <th>NS: Non-FDIC Insured Thrifts</th>\n",
       "      <th>CU: Non-FDIC Insured Credit Unions</th>\n",
       "    </tr>\n",
       "    <tr>\n",
       "      <th>Event Types</th>\n",
       "      <th></th>\n",
       "      <th></th>\n",
       "      <th></th>\n",
       "      <th></th>\n",
       "      <th></th>\n",
       "      <th></th>\n",
       "      <th></th>\n",
       "      <th></th>\n",
       "      <th></th>\n",
       "      <th></th>\n",
       "    </tr>\n",
       "  </thead>\n",
       "  <tbody>\n",
       "    <tr>\n",
       "      <th>New Institutions</th>\n",
       "      <td>261</td>\n",
       "      <td>95</td>\n",
       "      <td>1043</td>\n",
       "      <td>0</td>\n",
       "      <td>30</td>\n",
       "      <td>101</td>\n",
       "      <td>8</td>\n",
       "      <td>167</td>\n",
       "      <td>5</td>\n",
       "      <td>16431</td>\n",
       "    </tr>\n",
       "    <tr>\n",
       "      <th>Business Combinations</th>\n",
       "      <td>1704</td>\n",
       "      <td>1134</td>\n",
       "      <td>2698</td>\n",
       "      <td>0</td>\n",
       "      <td>277</td>\n",
       "      <td>313</td>\n",
       "      <td>61</td>\n",
       "      <td>42</td>\n",
       "      <td>0</td>\n",
       "      <td>1472</td>\n",
       "    </tr>\n",
       "    <tr>\n",
       "      <th>Business Combinations - Failures</th>\n",
       "      <td>128</td>\n",
       "      <td>70</td>\n",
       "      <td>289</td>\n",
       "      <td>0</td>\n",
       "      <td>9</td>\n",
       "      <td>42</td>\n",
       "      <td>9</td>\n",
       "      <td>0</td>\n",
       "      <td>0</td>\n",
       "      <td>26</td>\n",
       "    </tr>\n",
       "    <tr>\n",
       "      <th>Interim Mergers &amp; Reorganizations</th>\n",
       "      <td>235</td>\n",
       "      <td>76</td>\n",
       "      <td>349</td>\n",
       "      <td>0</td>\n",
       "      <td>65</td>\n",
       "      <td>33</td>\n",
       "      <td>3</td>\n",
       "      <td>32</td>\n",
       "      <td>0</td>\n",
       "      <td>101</td>\n",
       "    </tr>\n",
       "    <tr>\n",
       "      <th>Conversions</th>\n",
       "      <td>834</td>\n",
       "      <td>2299</td>\n",
       "      <td>2189</td>\n",
       "      <td>0</td>\n",
       "      <td>570</td>\n",
       "      <td>1197</td>\n",
       "      <td>216</td>\n",
       "      <td>304</td>\n",
       "      <td>19</td>\n",
       "      <td>708</td>\n",
       "    </tr>\n",
       "    <tr>\n",
       "      <th>Title Changes</th>\n",
       "      <td>838</td>\n",
       "      <td>615</td>\n",
       "      <td>2586</td>\n",
       "      <td>1</td>\n",
       "      <td>334</td>\n",
       "      <td>410</td>\n",
       "      <td>161</td>\n",
       "      <td>193</td>\n",
       "      <td>1</td>\n",
       "      <td>5753</td>\n",
       "    </tr>\n",
       "    <tr>\n",
       "      <th>Main Office Relocations</th>\n",
       "      <td>1111</td>\n",
       "      <td>659</td>\n",
       "      <td>3749</td>\n",
       "      <td>14</td>\n",
       "      <td>249</td>\n",
       "      <td>581</td>\n",
       "      <td>171</td>\n",
       "      <td>221</td>\n",
       "      <td>1</td>\n",
       "      <td>4288</td>\n",
       "    </tr>\n",
       "    <tr>\n",
       "      <th>Liquidations</th>\n",
       "      <td>60</td>\n",
       "      <td>16</td>\n",
       "      <td>104</td>\n",
       "      <td>3</td>\n",
       "      <td>6</td>\n",
       "      <td>59</td>\n",
       "      <td>6</td>\n",
       "      <td>133</td>\n",
       "      <td>8</td>\n",
       "      <td>2534</td>\n",
       "    </tr>\n",
       "    <tr>\n",
       "      <th>Trust Powers</th>\n",
       "      <td>121</td>\n",
       "      <td>30</td>\n",
       "      <td>493</td>\n",
       "      <td>0</td>\n",
       "      <td>62</td>\n",
       "      <td>51</td>\n",
       "      <td>17</td>\n",
       "      <td>20</td>\n",
       "      <td>0</td>\n",
       "      <td>0</td>\n",
       "    </tr>\n",
       "    <tr>\n",
       "      <th>Branch Purchases &amp; Assumptions by Institution</th>\n",
       "      <td>638</td>\n",
       "      <td>360</td>\n",
       "      <td>1264</td>\n",
       "      <td>1</td>\n",
       "      <td>129</td>\n",
       "      <td>161</td>\n",
       "      <td>39</td>\n",
       "      <td>3</td>\n",
       "      <td>0</td>\n",
       "      <td>72</td>\n",
       "    </tr>\n",
       "  </tbody>\n",
       "</table>\n",
       "</div>"
      ],
      "text/plain": [
       "                                               N: National Banks, member of the Federal Reserve System (FRS)  \\\n",
       "Event Types                                                                                                    \n",
       "New Institutions                                                                             261               \n",
       "Business Combinations                                                                       1704               \n",
       "Business Combinations - Failures                                                             128               \n",
       "Interim Mergers & Reorganizations                                                            235               \n",
       "Conversions                                                                                  834               \n",
       "Title Changes                                                                                838               \n",
       "Main Office Relocations                                                                     1111               \n",
       "Liquidations                                                                                  60               \n",
       "Trust Powers                                                                                 121               \n",
       "Branch Purchases & Assumptions by Institution                                                638               \n",
       "\n",
       "                                               SM: State Chartered Banks, member of the Federal Reserve System (FRS)  \\\n",
       "Event Types                                                                                                            \n",
       "New Institutions                                                                              95                       \n",
       "Business Combinations                                                                       1134                       \n",
       "Business Combinations - Failures                                                              70                       \n",
       "Interim Mergers & Reorganizations                                                             76                       \n",
       "Conversions                                                                                 2299                       \n",
       "Title Changes                                                                                615                       \n",
       "Main Office Relocations                                                                      659                       \n",
       "Liquidations                                                                                  16                       \n",
       "Trust Powers                                                                                  30                       \n",
       "Branch Purchases & Assumptions by Institution                                                360                       \n",
       "\n",
       "                                               NM: State Chartered Banks, not member of the Federal Reserve System (FRS)  \\\n",
       "Event Types                                                                                                                \n",
       "New Institutions                                                                            1043                           \n",
       "Business Combinations                                                                       2698                           \n",
       "Business Combinations - Failures                                                             289                           \n",
       "Interim Mergers & Reorganizations                                                            349                           \n",
       "Conversions                                                                                 2189                           \n",
       "Title Changes                                                                               2586                           \n",
       "Main Office Relocations                                                                     3749                           \n",
       "Liquidations                                                                                 104                           \n",
       "Trust Powers                                                                                 493                           \n",
       "Branch Purchases & Assumptions by Institution                                               1264                           \n",
       "\n",
       "                                               OI: Insured Branches of Foreign Banks  \\\n",
       "Event Types                                                                            \n",
       "New Institutions                                                                   0   \n",
       "Business Combinations                                                              0   \n",
       "Business Combinations - Failures                                                   0   \n",
       "Interim Mergers & Reorganizations                                                  0   \n",
       "Conversions                                                                        0   \n",
       "Title Changes                                                                      1   \n",
       "Main Office Relocations                                                           14   \n",
       "Liquidations                                                                       3   \n",
       "Trust Powers                                                                       0   \n",
       "Branch Purchases & Assumptions by Institution                                      1   \n",
       "\n",
       "                                               SI: FDIC Supervised State Savings Banks  \\\n",
       "Event Types                                                                              \n",
       "New Institutions                                                                    30   \n",
       "Business Combinations                                                              277   \n",
       "Business Combinations - Failures                                                     9   \n",
       "Interim Mergers & Reorganizations                                                   65   \n",
       "Conversions                                                                        570   \n",
       "Title Changes                                                                      334   \n",
       "Main Office Relocations                                                            249   \n",
       "Liquidations                                                                         6   \n",
       "Trust Powers                                                                        62   \n",
       "Branch Purchases & Assumptions by Institution                                      129   \n",
       "\n",
       "                                               SB: Federal Savings Bank  \\\n",
       "Event Types                                                               \n",
       "New Institutions                                                    101   \n",
       "Business Combinations                                               313   \n",
       "Business Combinations - Failures                                     42   \n",
       "Interim Mergers & Reorganizations                                    33   \n",
       "Conversions                                                        1197   \n",
       "Title Changes                                                       410   \n",
       "Main Office Relocations                                             581   \n",
       "Liquidations                                                         59   \n",
       "Trust Powers                                                         51   \n",
       "Branch Purchases & Assumptions by Institution                       161   \n",
       "\n",
       "                                               SL: Federal & State Savings and Loans  \\\n",
       "Event Types                                                                            \n",
       "New Institutions                                                                   8   \n",
       "Business Combinations                                                             61   \n",
       "Business Combinations - Failures                                                   9   \n",
       "Interim Mergers & Reorganizations                                                  3   \n",
       "Conversions                                                                      216   \n",
       "Title Changes                                                                    161   \n",
       "Main Office Relocations                                                          171   \n",
       "Liquidations                                                                       6   \n",
       "Trust Powers                                                                      17   \n",
       "Branch Purchases & Assumptions by Institution                                     39   \n",
       "\n",
       "                                               NC: Non-FDIC Insured Commercial Banks  \\\n",
       "Event Types                                                                            \n",
       "New Institutions                                                                 167   \n",
       "Business Combinations                                                             42   \n",
       "Business Combinations - Failures                                                   0   \n",
       "Interim Mergers & Reorganizations                                                 32   \n",
       "Conversions                                                                      304   \n",
       "Title Changes                                                                    193   \n",
       "Main Office Relocations                                                          221   \n",
       "Liquidations                                                                     133   \n",
       "Trust Powers                                                                      20   \n",
       "Branch Purchases & Assumptions by Institution                                      3   \n",
       "\n",
       "                                               NS: Non-FDIC Insured Thrifts  \\\n",
       "Event Types                                                                   \n",
       "New Institutions                                                          5   \n",
       "Business Combinations                                                     0   \n",
       "Business Combinations - Failures                                          0   \n",
       "Interim Mergers & Reorganizations                                         0   \n",
       "Conversions                                                              19   \n",
       "Title Changes                                                             1   \n",
       "Main Office Relocations                                                   1   \n",
       "Liquidations                                                              8   \n",
       "Trust Powers                                                              0   \n",
       "Branch Purchases & Assumptions by Institution                             0   \n",
       "\n",
       "                                               CU: Non-FDIC Insured Credit Unions  \n",
       "Event Types                                                                        \n",
       "New Institutions                                                            16431  \n",
       "Business Combinations                                                        1472  \n",
       "Business Combinations - Failures                                               26  \n",
       "Interim Mergers & Reorganizations                                             101  \n",
       "Conversions                                                                   708  \n",
       "Title Changes                                                                5753  \n",
       "Main Office Relocations                                                      4288  \n",
       "Liquidations                                                                 2534  \n",
       "Trust Powers                                                                    0  \n",
       "Branch Purchases & Assumptions by Institution                                  72  "
      ]
     },
     "execution_count": 184,
     "metadata": {},
     "output_type": "execute_result"
    }
   ],
   "source": [
    "df"
   ]
  },
  {
   "cell_type": "code",
   "execution_count": 160,
   "metadata": {},
   "outputs": [
    {
     "name": "stdout",
     "output_type": "stream",
     "text": [
      "int64\n",
      "   N: National Banks, member of the Federal Reserve System (FRS)  \\\n",
      "0                                                261               \n",
      "1                                               1704               \n",
      "2                                                128               \n",
      "3                                                235               \n",
      "4                                                834               \n",
      "5                                                838               \n",
      "6                                               1111               \n",
      "7                                                 60               \n",
      "8                                                121               \n",
      "9                                                638               \n",
      "\n",
      "   SM: State Chartered Banks, member of the Federal Reserve System (FRS)  \\\n",
      "0                                                 95                       \n",
      "1                                               1134                       \n",
      "2                                                 70                       \n",
      "3                                                 76                       \n",
      "4                                               2299                       \n",
      "5                                                615                       \n",
      "6                                                659                       \n",
      "7                                                 16                       \n",
      "8                                                 30                       \n",
      "9                                                360                       \n",
      "\n",
      "   NM: State Chartered Banks, not member of the Federal Reserve System (FRS)  \\\n",
      "0                                               1043                           \n",
      "1                                               2698                           \n",
      "2                                                289                           \n",
      "3                                                349                           \n",
      "4                                               2189                           \n",
      "5                                               2586                           \n",
      "6                                               3749                           \n",
      "7                                                104                           \n",
      "8                                                493                           \n",
      "9                                               1264                           \n",
      "\n",
      "   OI: Insured Branches of Foreign Banks  \\\n",
      "0                                      0   \n",
      "1                                      0   \n",
      "2                                      0   \n",
      "3                                      0   \n",
      "4                                      0   \n",
      "5                                      1   \n",
      "6                                     14   \n",
      "7                                      3   \n",
      "8                                      0   \n",
      "9                                      1   \n",
      "\n",
      "   SI: FDIC Supervised State Savings Banks  SB: Federal Savings Bank  \\\n",
      "0                                       30                       101   \n",
      "1                                      277                       313   \n",
      "2                                        9                        42   \n",
      "3                                       65                        33   \n",
      "4                                      570                      1197   \n",
      "5                                      334                       410   \n",
      "6                                      249                       581   \n",
      "7                                        6                        59   \n",
      "8                                       62                        51   \n",
      "9                                      129                       161   \n",
      "\n",
      "   SL: Federal & State Savings and Loans  \\\n",
      "0                                      8   \n",
      "1                                     61   \n",
      "2                                      9   \n",
      "3                                      3   \n",
      "4                                    216   \n",
      "5                                    161   \n",
      "6                                    171   \n",
      "7                                      6   \n",
      "8                                     17   \n",
      "9                                     39   \n",
      "\n",
      "   NC: Non-FDIC Insured Commercial Banks  NS: Non-FDIC Insured Thrifts  \\\n",
      "0                                    167                             5   \n",
      "1                                     42                             0   \n",
      "2                                      0                             0   \n",
      "3                                     32                             0   \n",
      "4                                    304                            19   \n",
      "5                                    193                             1   \n",
      "6                                    221                             1   \n",
      "7                                    133                             8   \n",
      "8                                     20                             0   \n",
      "9                                      3                             0   \n",
      "\n",
      "   CU: Non-FDIC Insured Credit Unions  \n",
      "0                               16431  \n",
      "1                                1472  \n",
      "2                                  26  \n",
      "3                                 101  \n",
      "4                                 708  \n",
      "5                                5753  \n",
      "6                                4288  \n",
      "7                                2534  \n",
      "8                                   0  \n",
      "9                                  72  \n",
      "object\n",
      "                                     Event Types\n",
      "0                               New Institutions\n",
      "1                          Business Combinations\n",
      "2               Business Combinations - Failures\n",
      "3              Interim Mergers & Reorganizations\n",
      "4                                    Conversions\n",
      "5                                  Title Changes\n",
      "6                        Main Office Relocations\n",
      "7                                   Liquidations\n",
      "8                                   Trust Powers\n",
      "9  Branch Purchases & Assumptions by Institution\n"
     ]
    }
   ],
   "source": [
    "grouped = df.groupby(df.dtypes, axis=1)\n",
    "for dtype, group in grouped:\n",
    "    print(dtype)\n",
    "    print(group)"
   ]
  },
  {
   "cell_type": "raw",
   "metadata": {},
   "source": [
    "for name, group in df.groupby('key1'):\n",
    "    print(name)\n",
    "    print(group)\n",
    "    \n",
    " \n",
    " \n",
    "\n",
    "for (k1, k2), group in df.groupby(['key1', 'key2']):\n",
    "    print((k1, k2))\n",
    "    print(group)\n",
    "\n",
    "\n",
    "grouped = df.groupby(df.dtypes, axis=1)\n",
    "for dtype, group in grouped:\n",
    "    print(dtype)\n",
    "    print(group)\n",
    "\n",
    "\n",
    "pieces = dict(list(df.groupby('key1')))\n",
    "pieces['b']\n",
    "\n",
    "\n",
    "# Grouping with a funsction\n",
    "people.groupby(len).sum()\n",
    "\n",
    "\n",
    "\n",
    "\n",
    "\n",
    "# Aggregation \n",
    "def peak_to_peak(arr):\n",
    " ....: return arr.max() - arr.min()\n",
    "grouped.agg(peak_to_peak)\n",
    "\n",
    "# Other tools:\n",
    "grouped.describe()\n"
   ]
  },
  {
   "cell_type": "code",
   "execution_count": null,
   "metadata": {},
   "outputs": [],
   "source": []
  },
  {
   "cell_type": "markdown",
   "metadata": {},
   "source": [
    "## Submission Instructions\n",
    "Submit your .ipynb file and its pdf output. "
   ]
  },
  {
   "cell_type": "code",
   "execution_count": null,
   "metadata": {},
   "outputs": [],
   "source": []
  }
 ],
 "metadata": {
  "colab": {
   "collapsed_sections": [],
   "name": "Exercise: Aggregates.ipynb",
   "provenance": []
  },
  "kernelspec": {
   "display_name": "Python 3",
   "language": "python",
   "name": "python3"
  },
  "language_info": {
   "codemirror_mode": {
    "name": "ipython",
    "version": 3
   },
   "file_extension": ".py",
   "mimetype": "text/x-python",
   "name": "python",
   "nbconvert_exporter": "python",
   "pygments_lexer": "ipython3",
   "version": "3.8.3"
  }
 },
 "nbformat": 4,
 "nbformat_minor": 1
}
