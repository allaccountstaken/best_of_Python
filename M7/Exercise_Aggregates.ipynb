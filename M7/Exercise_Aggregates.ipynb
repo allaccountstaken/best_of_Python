{
 "cells": [
  {
   "cell_type": "markdown",
   "metadata": {},
   "source": [
    "- Name of activity: Exercise: Aggregates\n",
    "- Your name: Dima Mikhaylov\n",
    "- Your UVA computing ID: agp7dp"
   ]
  },
  {
   "cell_type": "markdown",
   "metadata": {
    "id": "8lMKxJxjODsK"
   },
   "source": [
    "# Exercise: Aggregates\n",
    "Directions: Complete all three parts of the assignment."
   ]
  },
  {
   "cell_type": "markdown",
   "metadata": {},
   "source": [
    "## 1. Write a summary about each aggregate function mentioned (np.mean, np.std, np.var, np.argmin, np.argmax, np.median, np.percentile)."
   ]
  },
  {
   "cell_type": "markdown",
   "metadata": {},
   "source": [
    "\n",
    "* `mean()` returns the arithmetic mean along the specified axis.\n",
    "    * Optional `out` can be used to specify alternative output array.\n",
    "    * Optional `keepdims` cab be used for broadcasting against the original array.\n",
    "\n",
    "* `std()` returns the standard deviation along the specified axis.\n",
    "    * In addition to similar use of `out` and `keepdims` , it also supports `ddof` that stands fpr degrees of freedom, zero by default.\n",
    "    \n",
    "* `var()` return the variance along the specified axis.\n",
    "    * Similarly to `std()`, this function supports `out`, `keepdims`, and `ddof`.\n",
    "\n",
    "* `argmin()` returns the index of the first occurrence of the **mimimum** value along the specified axis of an array. \n",
    "    * Optional parameter `out` can be used to insert the result into the array.\n",
    "\n",
    "* `argmax()` returns the index of the first occurrence of the **maximum** value along the specified axis of an array. \n",
    "    * Optional parameter `out` can be used to insert the result into the array.\n",
    "\n",
    "* `median()` returns the **median** of an array along the specified axis. \n",
    "    * Optional `out` can be used to specify alternative output array. \n",
    "    * Moreover, `overwrite_input` can be specified to allow use of memory of the input array and `keepdims` cab be used for broadcasting against the original array.\n",
    "\n",
    "* `percentile()` returns the **q-th percentiles** of the array elements along the specified axis. \n",
    "    * In addition to similar use of `out`, `overwrite_input` and `keepdims` , it also supports optional `interpolation` for cases when the selected percentile falls between two data points."
   ]
  },
  {
   "cell_type": "markdown",
   "metadata": {},
   "source": [
    "## 2. Come up with a small sample of code (with appropriate setup/data) that illustrates the usage of at least four (4) of the aggregate functions (from Part 1). Include the results/output as well."
   ]
  },
  {
   "cell_type": "code",
   "execution_count": 1,
   "metadata": {},
   "outputs": [],
   "source": [
    "import pandas as pd\n",
    "import numpy as np\n",
    "import matplotlib.pyplot as plt\n",
    "from sklearn.datasets import make_blobs"
   ]
  },
  {
   "cell_type": "markdown",
   "metadata": {},
   "source": [
    "#### First, generating random data points:"
   ]
  },
  {
   "cell_type": "code",
   "execution_count": null,
   "metadata": {},
   "outputs": [],
   "source": [
    "input_array, output_array = make_blobs(n_samples=30, centers=2, n_features=1, random_state=123)"
   ]
  },
  {
   "cell_type": "markdown",
   "metadata": {},
   "source": [
    "#### 1. Using and testing Numpy `mean()`"
   ]
  },
  {
   "cell_type": "code",
   "execution_count": 2,
   "metadata": {},
   "outputs": [
    {
     "data": {
      "text/plain": [
       "-0.228"
      ]
     },
     "execution_count": 2,
     "metadata": {},
     "output_type": "execute_result"
    }
   ],
   "source": [
    "np.round(np.mean(input_array), 3)"
   ]
  },
  {
   "cell_type": "code",
   "execution_count": 120,
   "metadata": {},
   "outputs": [
    {
     "data": {
      "text/plain": [
       "-0.228"
      ]
     },
     "execution_count": 120,
     "metadata": {},
     "output_type": "execute_result"
    }
   ],
   "source": [
    "mean = np.round(np.sum(input_array)/len(input_array), 3)\n",
    "mean"
   ]
  },
  {
   "cell_type": "markdown",
   "metadata": {},
   "source": [
    "#### 2. Using and testing Numpy `var()`"
   ]
  },
  {
   "cell_type": "code",
   "execution_count": 121,
   "metadata": {},
   "outputs": [
    {
     "data": {
      "text/plain": [
       "18.177"
      ]
     },
     "execution_count": 121,
     "metadata": {},
     "output_type": "execute_result"
    }
   ],
   "source": [
    "np.round(np.var(input_array), 3)"
   ]
  },
  {
   "cell_type": "code",
   "execution_count": 122,
   "metadata": {},
   "outputs": [
    {
     "data": {
      "text/plain": [
       "18.177"
      ]
     },
     "execution_count": 122,
     "metadata": {},
     "output_type": "execute_result"
    }
   ],
   "source": [
    "var = np.round(float(sum([(x - mean) ** 2 for x in input_array])/len(input_array)), 3)\n",
    "var"
   ]
  },
  {
   "cell_type": "markdown",
   "metadata": {},
   "source": [
    "#### 3. Using and testing Numpy `std()`"
   ]
  },
  {
   "cell_type": "code",
   "execution_count": 123,
   "metadata": {},
   "outputs": [
    {
     "data": {
      "text/plain": [
       "4.263"
      ]
     },
     "execution_count": 123,
     "metadata": {},
     "output_type": "execute_result"
    }
   ],
   "source": [
    "np.round(np.std(input_array), 3)"
   ]
  },
  {
   "cell_type": "code",
   "execution_count": 124,
   "metadata": {},
   "outputs": [
    {
     "data": {
      "text/plain": [
       "4.263"
      ]
     },
     "execution_count": 124,
     "metadata": {},
     "output_type": "execute_result"
    }
   ],
   "source": [
    "np.round(var ** (1/2), 3)"
   ]
  },
  {
   "cell_type": "markdown",
   "metadata": {},
   "source": [
    "#### 4. Using and testing Numpy `argmin()`"
   ]
  },
  {
   "cell_type": "code",
   "execution_count": 125,
   "metadata": {},
   "outputs": [
    {
     "data": {
      "text/plain": [
       "array([-7.07580241])"
      ]
     },
     "execution_count": 125,
     "metadata": {},
     "output_type": "execute_result"
    }
   ],
   "source": [
    "input_array[np.argmin(input_array)]"
   ]
  },
  {
   "cell_type": "code",
   "execution_count": 126,
   "metadata": {},
   "outputs": [
    {
     "data": {
      "text/plain": [
       "array([-7.07580241])"
      ]
     },
     "execution_count": 126,
     "metadata": {},
     "output_type": "execute_result"
    }
   ],
   "source": [
    "sorted(input_array)[0]"
   ]
  },
  {
   "cell_type": "markdown",
   "metadata": {},
   "source": [
    "## 3. Find a sample data set (or create a reasonable data set and place in an appropriate structure, e.g., DataFrame or other). Using GroupBy and splitting using more than one key, perform some queries against that data. Explain what question you’re trying to answer and show the results/output. Come up with a total of three (3) different queries."
   ]
  },
  {
   "cell_type": "markdown",
   "metadata": {},
   "source": [
    "#### Loading and inspecting the dataset. The dataset was retrieved on 10/22/2021 using download functionality. It contains information about recently (last 20 years) failed banks, i.e. name of the bank and IDs, date of restructuring and costs, as well as location of headquarters and size of assets and deposits. Source: https://www.fdic.gov/resources/resolutions/bank-failures/failed-bank-list/"
   ]
  },
  {
   "cell_type": "code",
   "execution_count": 2,
   "metadata": {},
   "outputs": [
    {
     "data": {
      "text/html": [
       "<div>\n",
       "<style scoped>\n",
       "    .dataframe tbody tr th:only-of-type {\n",
       "        vertical-align: middle;\n",
       "    }\n",
       "\n",
       "    .dataframe tbody tr th {\n",
       "        vertical-align: top;\n",
       "    }\n",
       "\n",
       "    .dataframe thead th {\n",
       "        text-align: right;\n",
       "    }\n",
       "</style>\n",
       "<table border=\"1\" class=\"dataframe\">\n",
       "  <thead>\n",
       "    <tr style=\"text-align: right;\">\n",
       "      <th></th>\n",
       "      <th>CERT</th>\n",
       "      <th>COST</th>\n",
       "      <th>NAME</th>\n",
       "      <th>QBFASSET</th>\n",
       "      <th>QBFDEP</th>\n",
       "      <th>RESTYPE</th>\n",
       "      <th>CITY</th>\n",
       "      <th>STATE</th>\n",
       "      <th>YEAR_FAILED</th>\n",
       "      <th>MONTH_FAILED</th>\n",
       "      <th>QUARTER_FAILED</th>\n",
       "      <th>BANK_TYPE</th>\n",
       "      <th>BANK_CLASS</th>\n",
       "    </tr>\n",
       "  </thead>\n",
       "  <tbody>\n",
       "    <tr>\n",
       "      <th>0</th>\n",
       "      <td>21111</td>\n",
       "      <td>2491.0</td>\n",
       "      <td>CITY NATIONAL BANK OF NEW JERSEY</td>\n",
       "      <td>120574</td>\n",
       "      <td>111234</td>\n",
       "      <td>FAILURE</td>\n",
       "      <td>NEWARK</td>\n",
       "      <td>NJ</td>\n",
       "      <td>2019</td>\n",
       "      <td>11</td>\n",
       "      <td>2019Q4</td>\n",
       "      <td>Commercial</td>\n",
       "      <td>National FRS Banks</td>\n",
       "    </tr>\n",
       "    <tr>\n",
       "      <th>1</th>\n",
       "      <td>58112</td>\n",
       "      <td>4547.0</td>\n",
       "      <td>LOUISA COMMUNITY BANK</td>\n",
       "      <td>28163</td>\n",
       "      <td>25174</td>\n",
       "      <td>FAILURE</td>\n",
       "      <td>LOUISA</td>\n",
       "      <td>KY</td>\n",
       "      <td>2019</td>\n",
       "      <td>10</td>\n",
       "      <td>2019Q4</td>\n",
       "      <td>Commercial</td>\n",
       "      <td>State Chartered non-FRS Banks</td>\n",
       "    </tr>\n",
       "  </tbody>\n",
       "</table>\n",
       "</div>"
      ],
      "text/plain": [
       "    CERT    COST                              NAME  QBFASSET  QBFDEP  RESTYPE  \\\n",
       "0  21111  2491.0  CITY NATIONAL BANK OF NEW JERSEY    120574  111234  FAILURE   \n",
       "1  58112  4547.0             LOUISA COMMUNITY BANK     28163   25174  FAILURE   \n",
       "\n",
       "     CITY STATE  YEAR_FAILED  MONTH_FAILED QUARTER_FAILED   BANK_TYPE  \\\n",
       "0  NEWARK    NJ         2019            11         2019Q4  Commercial   \n",
       "1  LOUISA    KY         2019            10         2019Q4  Commercial   \n",
       "\n",
       "                       BANK_CLASS  \n",
       "0              National FRS Banks  \n",
       "1   State Chartered non-FRS Banks  "
      ]
     },
     "execution_count": 2,
     "metadata": {},
     "output_type": "execute_result"
    }
   ],
   "source": [
    "df = pd.read_csv(\"failed_banks_cleaned.csv\", index_col=0)\n",
    "df.head(2)"
   ]
  },
  {
   "cell_type": "markdown",
   "metadata": {},
   "source": [
    "#### Checking observations counts and data types:"
   ]
  },
  {
   "cell_type": "code",
   "execution_count": 3,
   "metadata": {},
   "outputs": [
    {
     "name": "stdout",
     "output_type": "stream",
     "text": [
      "<class 'pandas.core.frame.DataFrame'>\n",
      "Int64Index: 577 entries, 0 to 576\n",
      "Data columns (total 13 columns):\n",
      " #   Column          Non-Null Count  Dtype  \n",
      "---  ------          --------------  -----  \n",
      " 0   CERT            577 non-null    int64  \n",
      " 1   COST            577 non-null    float64\n",
      " 2   NAME            577 non-null    object \n",
      " 3   QBFASSET        577 non-null    int64  \n",
      " 4   QBFDEP          577 non-null    int64  \n",
      " 5   RESTYPE         577 non-null    object \n",
      " 6   CITY            577 non-null    object \n",
      " 7   STATE           577 non-null    object \n",
      " 8   YEAR_FAILED     577 non-null    int64  \n",
      " 9   MONTH_FAILED    577 non-null    int64  \n",
      " 10  QUARTER_FAILED  577 non-null    object \n",
      " 11  BANK_TYPE       577 non-null    object \n",
      " 12  BANK_CLASS      577 non-null    object \n",
      "dtypes: float64(1), int64(5), object(7)\n",
      "memory usage: 63.1+ KB\n"
     ]
    }
   ],
   "source": [
    "df.info()"
   ]
  },
  {
   "cell_type": "markdown",
   "metadata": {},
   "source": [
    "#### Using grouped to inspect the data types of the DataFrame"
   ]
  },
  {
   "cell_type": "code",
   "execution_count": 4,
   "metadata": {},
   "outputs": [
    {
     "name": "stdout",
     "output_type": "stream",
     "text": [
      "int64\n",
      "      CERT  QBFASSET  QBFDEP  YEAR_FAILED  MONTH_FAILED\n",
      "0    21111    120574  111234         2019            11\n",
      "1    58112     28163   25174         2019            10\n",
      "2    58317     23292   22885         2019            10\n",
      "3    10716     36738   31254         2019             5\n",
      "4    30570    166345  143964         2017            12\n",
      "..     ...       ...     ...          ...           ...\n",
      "572    338     85485   77140         2000             9\n",
      "573  10985     25942   26667         2000             7\n",
      "574  25056      7923    7680         2000             6\n",
      "575  27886     31479   32234         2000             3\n",
      "576  14228    105044   68549         2000             1\n",
      "\n",
      "[577 rows x 5 columns]\n",
      "float64\n",
      "        COST\n",
      "0     2491.0\n",
      "1     4547.0\n",
      "2     2188.0\n",
      "3    21577.0\n",
      "4    86826.0\n",
      "..       ...\n",
      "572  14592.0\n",
      "573   1363.0\n",
      "574    617.0\n",
      "575   1322.0\n",
      "576  11574.0\n",
      "\n",
      "[577 rows x 1 columns]\n",
      "object\n",
      "                                       NAME  RESTYPE        CITY STATE  \\\n",
      "0          CITY NATIONAL BANK OF NEW JERSEY  FAILURE      NEWARK    NJ   \n",
      "1                     LOUISA COMMUNITY BANK  FAILURE      LOUISA    KY   \n",
      "2                             RESOLUTE BANK  FAILURE      MAUMEE    OH   \n",
      "3                          ENLOE STATE BANK  FAILURE      COOPER    TX   \n",
      "4       WASHINGTON FEDERAL BANK FOR SAVINGS  FAILURE     CHICAGO    IL   \n",
      "..                                      ...      ...         ...   ...   \n",
      "572                         BANK OF FALKNER  FAILURE     FALKNER    MS   \n",
      "573         TOWN & COUNTRY BANK OF ALMELUND  FAILURE    ALMELUND    MN   \n",
      "574                  MONUMENT NATIONAL BANK  FAILURE  RIDGECREST    CA   \n",
      "575  MUTUAL FEDERAL SAVINGS BANK OF ATLANTA  FAILURE     ATLANTA    GA   \n",
      "576                    HARTFORD-CARLISLE SB  FAILURE    CARLISLE    IA   \n",
      "\n",
      "    QUARTER_FAILED   BANK_TYPE                      BANK_CLASS  \n",
      "0           2019Q4  Commercial              National FRS Banks  \n",
      "1           2019Q4  Commercial   State Chartered non-FRS Banks  \n",
      "2           2019Q4     Savings            Federal Savings Bank  \n",
      "3           2019Q2  Commercial   State Chartered non-FRS Banks  \n",
      "4           2017Q4     Savings            Federal Savings Bank  \n",
      "..             ...         ...                             ...  \n",
      "572         2000Q3  Commercial   State Chartered non-FRS Banks  \n",
      "573         2000Q3  Commercial   State Chartered non-FRS Banks  \n",
      "574         2000Q2  Commercial              National FRS Banks  \n",
      "575         2000Q1     Savings            Federal Savings Bank  \n",
      "576         2000Q1  Commercial   State Chartered non-FRS Banks  \n",
      "\n",
      "[577 rows x 7 columns]\n"
     ]
    }
   ],
   "source": [
    "grouped = df.groupby(df.dtypes, axis=1)\n",
    "for dtype, group in grouped:\n",
    "    print(dtype)\n",
    "    print(group)"
   ]
  },
  {
   "cell_type": "markdown",
   "metadata": {},
   "source": [
    "#### Using describe() on the grouped DataFrame:"
   ]
  },
  {
   "cell_type": "code",
   "execution_count": 5,
   "metadata": {},
   "outputs": [
    {
     "data": {
      "text/html": [
       "<div>\n",
       "<style scoped>\n",
       "    .dataframe tbody tr th:only-of-type {\n",
       "        vertical-align: middle;\n",
       "    }\n",
       "\n",
       "    .dataframe tbody tr th {\n",
       "        vertical-align: top;\n",
       "    }\n",
       "\n",
       "    .dataframe thead th {\n",
       "        text-align: right;\n",
       "    }\n",
       "</style>\n",
       "<table border=\"1\" class=\"dataframe\">\n",
       "  <thead>\n",
       "    <tr style=\"text-align: right;\">\n",
       "      <th></th>\n",
       "      <th>count</th>\n",
       "      <th>mean</th>\n",
       "      <th>std</th>\n",
       "      <th>min</th>\n",
       "      <th>25%</th>\n",
       "      <th>50%</th>\n",
       "      <th>75%</th>\n",
       "      <th>max</th>\n",
       "      <th>unique</th>\n",
       "      <th>top</th>\n",
       "      <th>freq</th>\n",
       "    </tr>\n",
       "  </thead>\n",
       "  <tbody>\n",
       "    <tr>\n",
       "      <th>CERT</th>\n",
       "      <td>577.0</td>\n",
       "      <td>31539.859619</td>\n",
       "      <td>16458.879911</td>\n",
       "      <td>91.0</td>\n",
       "      <td>20115.0</td>\n",
       "      <td>32102.0</td>\n",
       "      <td>35356.0</td>\n",
       "      <td>58701.0</td>\n",
       "      <td>NaN</td>\n",
       "      <td>NaN</td>\n",
       "      <td>NaN</td>\n",
       "    </tr>\n",
       "    <tr>\n",
       "      <th>COST</th>\n",
       "      <td>577.0</td>\n",
       "      <td>127153.148371</td>\n",
       "      <td>580811.363767</td>\n",
       "      <td>0.0</td>\n",
       "      <td>13697.0</td>\n",
       "      <td>36819.0</td>\n",
       "      <td>89121.0</td>\n",
       "      <td>12072214.0</td>\n",
       "      <td>NaN</td>\n",
       "      <td>NaN</td>\n",
       "      <td>NaN</td>\n",
       "    </tr>\n",
       "    <tr>\n",
       "      <th>NAME</th>\n",
       "      <td>577</td>\n",
       "      <td>NaN</td>\n",
       "      <td>NaN</td>\n",
       "      <td>NaN</td>\n",
       "      <td>NaN</td>\n",
       "      <td>NaN</td>\n",
       "      <td>NaN</td>\n",
       "      <td>NaN</td>\n",
       "      <td>559</td>\n",
       "      <td>FIRST NATIONAL BANK</td>\n",
       "      <td>3</td>\n",
       "    </tr>\n",
       "    <tr>\n",
       "      <th>QBFASSET</th>\n",
       "      <td>577.0</td>\n",
       "      <td>6817803.140381</td>\n",
       "      <td>80644356.505914</td>\n",
       "      <td>3785.0</td>\n",
       "      <td>90867.0</td>\n",
       "      <td>203955.0</td>\n",
       "      <td>504816.0</td>\n",
       "      <td>1471631047.0</td>\n",
       "      <td>NaN</td>\n",
       "      <td>NaN</td>\n",
       "      <td>NaN</td>\n",
       "    </tr>\n",
       "    <tr>\n",
       "      <th>QBFDEP</th>\n",
       "      <td>577.0</td>\n",
       "      <td>3274679.369151</td>\n",
       "      <td>41725120.219646</td>\n",
       "      <td>500.0</td>\n",
       "      <td>78549.0</td>\n",
       "      <td>182794.0</td>\n",
       "      <td>443481.0</td>\n",
       "      <td>954677580.0</td>\n",
       "      <td>NaN</td>\n",
       "      <td>NaN</td>\n",
       "      <td>NaN</td>\n",
       "    </tr>\n",
       "    <tr>\n",
       "      <th>RESTYPE</th>\n",
       "      <td>577</td>\n",
       "      <td>NaN</td>\n",
       "      <td>NaN</td>\n",
       "      <td>NaN</td>\n",
       "      <td>NaN</td>\n",
       "      <td>NaN</td>\n",
       "      <td>NaN</td>\n",
       "      <td>NaN</td>\n",
       "      <td>2</td>\n",
       "      <td>FAILURE</td>\n",
       "      <td>564</td>\n",
       "    </tr>\n",
       "    <tr>\n",
       "      <th>CITY</th>\n",
       "      <td>577</td>\n",
       "      <td>NaN</td>\n",
       "      <td>NaN</td>\n",
       "      <td>NaN</td>\n",
       "      <td>NaN</td>\n",
       "      <td>NaN</td>\n",
       "      <td>NaN</td>\n",
       "      <td>NaN</td>\n",
       "      <td>441</td>\n",
       "      <td>CHICAGO</td>\n",
       "      <td>20</td>\n",
       "    </tr>\n",
       "    <tr>\n",
       "      <th>STATE</th>\n",
       "      <td>577</td>\n",
       "      <td>NaN</td>\n",
       "      <td>NaN</td>\n",
       "      <td>NaN</td>\n",
       "      <td>NaN</td>\n",
       "      <td>NaN</td>\n",
       "      <td>NaN</td>\n",
       "      <td>NaN</td>\n",
       "      <td>46</td>\n",
       "      <td>GA</td>\n",
       "      <td>94</td>\n",
       "    </tr>\n",
       "    <tr>\n",
       "      <th>YEAR_FAILED</th>\n",
       "      <td>577.0</td>\n",
       "      <td>2010.076256</td>\n",
       "      <td>2.702444</td>\n",
       "      <td>2000.0</td>\n",
       "      <td>2009.0</td>\n",
       "      <td>2010.0</td>\n",
       "      <td>2011.0</td>\n",
       "      <td>2019.0</td>\n",
       "      <td>NaN</td>\n",
       "      <td>NaN</td>\n",
       "      <td>NaN</td>\n",
       "    </tr>\n",
       "    <tr>\n",
       "      <th>MONTH_FAILED</th>\n",
       "      <td>577.0</td>\n",
       "      <td>6.298094</td>\n",
       "      <td>3.398511</td>\n",
       "      <td>1.0</td>\n",
       "      <td>3.0</td>\n",
       "      <td>7.0</td>\n",
       "      <td>9.0</td>\n",
       "      <td>12.0</td>\n",
       "      <td>NaN</td>\n",
       "      <td>NaN</td>\n",
       "      <td>NaN</td>\n",
       "    </tr>\n",
       "    <tr>\n",
       "      <th>QUARTER_FAILED</th>\n",
       "      <td>577</td>\n",
       "      <td>NaN</td>\n",
       "      <td>NaN</td>\n",
       "      <td>NaN</td>\n",
       "      <td>NaN</td>\n",
       "      <td>NaN</td>\n",
       "      <td>NaN</td>\n",
       "      <td>NaN</td>\n",
       "      <td>59</td>\n",
       "      <td>2009Q3</td>\n",
       "      <td>50</td>\n",
       "    </tr>\n",
       "    <tr>\n",
       "      <th>BANK_TYPE</th>\n",
       "      <td>577</td>\n",
       "      <td>NaN</td>\n",
       "      <td>NaN</td>\n",
       "      <td>NaN</td>\n",
       "      <td>NaN</td>\n",
       "      <td>NaN</td>\n",
       "      <td>NaN</td>\n",
       "      <td>NaN</td>\n",
       "      <td>2</td>\n",
       "      <td>Commercial</td>\n",
       "      <td>489</td>\n",
       "    </tr>\n",
       "    <tr>\n",
       "      <th>BANK_CLASS</th>\n",
       "      <td>577</td>\n",
       "      <td>NaN</td>\n",
       "      <td>NaN</td>\n",
       "      <td>NaN</td>\n",
       "      <td>NaN</td>\n",
       "      <td>NaN</td>\n",
       "      <td>NaN</td>\n",
       "      <td>NaN</td>\n",
       "      <td>6</td>\n",
       "      <td>State Chartered non-FRS Banks</td>\n",
       "      <td>336</td>\n",
       "    </tr>\n",
       "  </tbody>\n",
       "</table>\n",
       "</div>"
      ],
      "text/plain": [
       "                count            mean              std     min      25%  \\\n",
       "CERT            577.0    31539.859619     16458.879911    91.0  20115.0   \n",
       "COST            577.0   127153.148371    580811.363767     0.0  13697.0   \n",
       "NAME              577             NaN              NaN     NaN      NaN   \n",
       "QBFASSET        577.0  6817803.140381  80644356.505914  3785.0  90867.0   \n",
       "QBFDEP          577.0  3274679.369151  41725120.219646   500.0  78549.0   \n",
       "RESTYPE           577             NaN              NaN     NaN      NaN   \n",
       "CITY              577             NaN              NaN     NaN      NaN   \n",
       "STATE             577             NaN              NaN     NaN      NaN   \n",
       "YEAR_FAILED     577.0     2010.076256         2.702444  2000.0   2009.0   \n",
       "MONTH_FAILED    577.0        6.298094         3.398511     1.0      3.0   \n",
       "QUARTER_FAILED    577             NaN              NaN     NaN      NaN   \n",
       "BANK_TYPE         577             NaN              NaN     NaN      NaN   \n",
       "BANK_CLASS        577             NaN              NaN     NaN      NaN   \n",
       "\n",
       "                     50%       75%           max unique  \\\n",
       "CERT             32102.0   35356.0       58701.0    NaN   \n",
       "COST             36819.0   89121.0    12072214.0    NaN   \n",
       "NAME                 NaN       NaN           NaN    559   \n",
       "QBFASSET        203955.0  504816.0  1471631047.0    NaN   \n",
       "QBFDEP          182794.0  443481.0   954677580.0    NaN   \n",
       "RESTYPE              NaN       NaN           NaN      2   \n",
       "CITY                 NaN       NaN           NaN    441   \n",
       "STATE                NaN       NaN           NaN     46   \n",
       "YEAR_FAILED       2010.0    2011.0        2019.0    NaN   \n",
       "MONTH_FAILED         7.0       9.0          12.0    NaN   \n",
       "QUARTER_FAILED       NaN       NaN           NaN     59   \n",
       "BANK_TYPE            NaN       NaN           NaN      2   \n",
       "BANK_CLASS           NaN       NaN           NaN      6   \n",
       "\n",
       "                                           top freq  \n",
       "CERT                                       NaN  NaN  \n",
       "COST                                       NaN  NaN  \n",
       "NAME                       FIRST NATIONAL BANK    3  \n",
       "QBFASSET                                   NaN  NaN  \n",
       "QBFDEP                                     NaN  NaN  \n",
       "RESTYPE                                FAILURE  564  \n",
       "CITY                                   CHICAGO   20  \n",
       "STATE                                       GA   94  \n",
       "YEAR_FAILED                                NaN  NaN  \n",
       "MONTH_FAILED                               NaN  NaN  \n",
       "QUARTER_FAILED                          2009Q3   50  \n",
       "BANK_TYPE                           Commercial  489  \n",
       "BANK_CLASS       State Chartered non-FRS Banks  336  "
      ]
     },
     "execution_count": 5,
     "metadata": {},
     "output_type": "execute_result"
    }
   ],
   "source": [
    "grouped.describe()"
   ]
  },
  {
   "cell_type": "markdown",
   "metadata": {},
   "source": [
    "#### Query 1: grouping counts of failed banks by their respective `'STATE'` and `'CITY'`:"
   ]
  },
  {
   "cell_type": "code",
   "execution_count": 6,
   "metadata": {},
   "outputs": [
    {
     "data": {
      "text/plain": [
       "STATE  CITY        \n",
       " AL    BIRMINGHAM      3\n",
       "       FORT DEPOSIT    1\n",
       "       IRONDALE        1\n",
       "       MONTGOMERY      1\n",
       "       SYLACAUGA       1\n",
       "                      ..\n",
       " WI    STOUGHTON       1\n",
       "       WAUSAU          1\n",
       "       WEST ALLIS      1\n",
       " WV    NORTHFORK       1\n",
       " WY    THERMOPOLIS     1\n",
       "Name: NAME, Length: 451, dtype: int64"
      ]
     },
     "execution_count": 6,
     "metadata": {},
     "output_type": "execute_result"
    }
   ],
   "source": [
    "grouped = df.groupby(['STATE', 'CITY'])['NAME'].count()\n",
    "grouped"
   ]
  },
  {
   "cell_type": "markdown",
   "metadata": {},
   "source": [
    "#### Similar results can be visualized when grouping by `'STATE'` only and taking count of `'NAME'`:"
   ]
  },
  {
   "cell_type": "code",
   "execution_count": 7,
   "metadata": {},
   "outputs": [
    {
     "data": {
      "image/png": "[encoded data removed]",
      "text/plain": [
       "<Figure size 1440x360 with 1 Axes>"
      ]
     },
     "metadata": {
      "needs_background": "light"
     },
     "output_type": "display_data"
    }
   ],
   "source": [
    "df.groupby(['STATE'])['NAME'].count().plot(kind='bar', \n",
    "                                           figsize=(20, 5),\n",
    "                                           color='red',\n",
    "                                           title=\"Counts of failed banks 'NAME' by 'STATE'\")\n",
    "plt.show()"
   ]
  },
  {
   "cell_type": "markdown",
   "metadata": {},
   "source": [
    "#### Query 2: grouping sums of `'COST'` of failed banks by Year and Quarter of failure:"
   ]
  },
  {
   "cell_type": "code",
   "execution_count": 8,
   "metadata": {},
   "outputs": [
    {
     "data": {
      "text/plain": [
       "YEAR_FAILED  QUARTER_FAILED\n",
       "2000         2000Q1               12896.00\n",
       "             2000Q2                 617.00\n",
       "             2000Q3               15955.00\n",
       "             2000Q4                3070.00\n",
       "2001         2001Q1                 817.00\n",
       "             2001Q2                 769.00\n",
       "             2001Q3              290879.00\n",
       "2002         2002Q1              346966.61\n",
       "             2002Q2               54058.00\n",
       "             2002Q3                1326.00\n",
       "             2002Q4               21521.00\n",
       "2003         2003Q1               49179.00\n",
       "             2003Q2               12788.00\n",
       "             2003Q4                 679.00\n",
       "2004         2004Q1                 919.00\n",
       "             2004Q2                2998.00\n",
       "2007         2007Q1                9438.00\n",
       "             2007Q3              120702.00\n",
       "             2007Q4               28394.00\n",
       "2008         2008Q1               11046.00\n",
       "             2008Q2             1037273.00\n",
       "             2008Q3            14543164.00\n",
       "             2008Q4             2270594.00\n",
       "2009         2009Q1             2117005.00\n",
       "             2009Q2             8313880.00\n",
       "             2009Q3             9011201.00\n",
       "             2009Q4             6549350.00\n",
       "2010         2010Q1             4599434.00\n",
       "             2010Q2             6877462.00\n",
       "             2010Q3             2516655.00\n",
       "             2010Q4             1887003.00\n",
       "2011         2011Q1             1769349.00\n",
       "             2011Q2             1908450.00\n",
       "             2011Q3             1949505.00\n",
       "             2011Q4              919245.00\n",
       "2012         2012Q1             1151695.00\n",
       "             2012Q2              482105.00\n",
       "             2012Q3              445534.00\n",
       "             2012Q4              332600.00\n",
       "2013         2013Q1              128111.00\n",
       "             2013Q2              248470.00\n",
       "             2013Q3              821089.00\n",
       "             2013Q4               20052.00\n",
       "2014         2014Q1              121265.00\n",
       "             2014Q2              132554.00\n",
       "             2014Q3               56746.00\n",
       "             2014Q4               83961.00\n",
       "2015         2015Q1              801065.00\n",
       "             2015Q2               20651.00\n",
       "             2015Q3                1210.00\n",
       "             2015Q4               28755.00\n",
       "2016         2016Q1               11763.00\n",
       "             2016Q2               21197.00\n",
       "             2016Q3                9503.00\n",
       "2017         2017Q1               75986.00\n",
       "             2017Q2             1000558.00\n",
       "             2017Q4               87106.00\n",
       "2019         2019Q2               21577.00\n",
       "             2019Q4                9226.00\n",
       "Name: COST, dtype: float64"
      ]
     },
     "execution_count": 8,
     "metadata": {},
     "output_type": "execute_result"
    }
   ],
   "source": [
    "df.groupby(['YEAR_FAILED', 'QUARTER_FAILED'])['COST'].sum()"
   ]
  },
  {
   "cell_type": "markdown",
   "metadata": {},
   "source": [
    "#### Alternatively, this can be visualized simply by grouping by the `'YEAR_FAILED'` only:"
   ]
  },
  {
   "cell_type": "code",
   "execution_count": 12,
   "metadata": {},
   "outputs": [
    {
     "data": {
      "image/png": "[encoded data removed]",
      "text/plain": [
       "<Figure size 1440x360 with 1 Axes>"
      ]
     },
     "metadata": {
      "needs_background": "light"
     },
     "output_type": "display_data"
    }
   ],
   "source": [
    "df.groupby(['YEAR_FAILED'])['COST'].sum().plot(kind='bar',\n",
    "                                               figsize=(20, 5),\n",
    "                                               color='red',\n",
    "                                               title=\"Sum of failed banks 'COST' by 'YEAR_FAILED'\")\n",
    "                                              \n",
    "plt.show()"
   ]
  },
  {
   "cell_type": "code",
   "execution_count": 13,
   "metadata": {},
   "outputs": [
    {
     "data": {
      "text/plain": [
       "Int64Index([  0,   1,   2,   3,   4,   5,   6,   7,   8,   9,\n",
       "            ...\n",
       "            567, 568, 569, 570, 571, 572, 573, 574, 575, 576],\n",
       "           dtype='int64', length=577)"
      ]
     },
     "execution_count": 13,
     "metadata": {},
     "output_type": "execute_result"
    }
   ],
   "source": [
    "df.index"
   ]
  },
  {
   "cell_type": "markdown",
   "metadata": {},
   "source": [
    "#### Query 3: grouping sums of `'COST'` of assistance v failure for different bank types and classes:"
   ]
  },
  {
   "cell_type": "code",
   "execution_count": 14,
   "metadata": {},
   "outputs": [
    {
     "data": {
      "text/plain": [
       "RESTYPE     BANK_TYPE   BANK_CLASS                        \n",
       "ASSISTANCE  Commercial   National FRS Banks                          0.00\n",
       "                         State Chartered non-FRS Banks               0.00\n",
       "            Savings      Federal Savings Bank                        0.00\n",
       "FAILURE     Commercial   National FRS Banks                    6768859.61\n",
       "                         State Chartered FRS Banks             5918281.00\n",
       "                         State Chartered non-FRS Banks        34959377.00\n",
       "            Savings      Federal & State Savings and Loans    12480114.00\n",
       "                         Federal Savings Bank                 11857724.00\n",
       "                         State Savings FDIC Banks              1383011.00\n",
       "Name: COST, dtype: float64"
      ]
     },
     "execution_count": 14,
     "metadata": {},
     "output_type": "execute_result"
    }
   ],
   "source": [
    "df.groupby(['RESTYPE', 'BANK_TYPE', 'BANK_CLASS'])['COST'].sum()"
   ]
  },
  {
   "cell_type": "markdown",
   "metadata": {},
   "source": [
    "#### Alternatively, similar grouping can be used to show `ASSETS` and `DEPOSITS` for different types and classes of failed banks:"
   ]
  },
  {
   "cell_type": "code",
   "execution_count": 15,
   "metadata": {},
   "outputs": [
    {
     "name": "stderr",
     "output_type": "stream",
     "text": [
      "<ipython-input-15-7659222f765f>:4: FutureWarning: Indexing with multiple keys (implicitly converted to a tuple of keys) will be deprecated, use a list instead.\n",
      "  df.groupby(keys)['QBFASSET','QBFDEP'].sum().plot(kind='barh',\n"
     ]
    },
    {
     "data": {
      "image/png": "[encoded data removed]",
      "text/plain": [
       "<Figure size 1440x360 with 1 Axes>"
      ]
     },
     "metadata": {
      "needs_background": "light"
     },
     "output_type": "display_data"
    }
   ],
   "source": [
    "fig, ax = plt.subplots()\n",
    "title = \"Sum of failed banks 'ASSETS' and 'DEPOSITS' by 'TYPE' of institution\"\n",
    "keys = ['BANK_TYPE', 'BANK_CLASS']\n",
    "df.groupby(keys)['QBFASSET','QBFDEP'].sum().plot(kind='barh',\n",
    "                                                 figsize=(20, 5),\n",
    "                                                 title=title,  \n",
    "                                                 color=('red', 'pink'), \n",
    "                                                 ax=ax)\n",
    "\n",
    "ax.legend({\"Assets\":\"QBFASSET\", \"Deposits\":\"QBFDEP\"})\n",
    "                                                         \n",
    "                                                         \n",
    "plt.show()"
   ]
  },
  {
   "cell_type": "markdown",
   "metadata": {},
   "source": [
    "## Submission Instructions\n",
    "Submit your .ipynb file and its pdf output. "
   ]
  }
 ],
 "metadata": {
  "colab": {
   "collapsed_sections": [],
   "name": "Exercise: Aggregates.ipynb",
   "provenance": []
  },
  "kernelspec": {
   "display_name": "Python 3",
   "language": "python",
   "name": "python3"
  },
  "language_info": {
   "codemirror_mode": {
    "name": "ipython",
    "version": 3
   },
   "file_extension": ".py",
   "mimetype": "text/x-python",
   "name": "python",
   "nbconvert_exporter": "python",
   "pygments_lexer": "ipython3",
   "version": "3.8.8"
  }
 },
 "nbformat": 4,
 "nbformat_minor": 1
}
