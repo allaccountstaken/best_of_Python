{
 "cells": [
  {
   "cell_type": "markdown",
   "metadata": {
    "id": "lVsdY9tVJz8n"
   },
   "source": [
    "## Aggregates in Python (NumPy and Pandas)\n",
    "\n",
    "### University of Virginia\n",
    "### DS 5100: Programming for Data Science\n",
    "\n",
    "### Filename: Module 10 - Aggregates (Part II: Pandas)\n",
    "---  \n"
   ]
  },
  {
   "cell_type": "markdown",
   "metadata": {
    "id": "i4YF8KQEJz8s"
   },
   "source": [
    "# Aggregates using Pandas:"
   ]
  },
  {
   "cell_type": "markdown",
   "metadata": {
    "id": "wm-KFzJZJz8v"
   },
   "source": [
    "### Aggregation and Grouping\n",
    "\n",
    "An essential piece of analysis of large data is efficient summarization: computing aggregations like\n",
    "     sum(), mean(), median(), min(), and max(), \n",
    "in which a single number gives insight into the nature of a potentially large dataset. \n",
    "\n",
    "The following examples illustrate aggregations in Pandas. The previous Aggregates file illustrated aggregations in NumPy. "
   ]
  },
  {
   "cell_type": "markdown",
   "metadata": {
    "id": "RF0ktWzDJz8x"
   },
   "source": [
    "#### Simple Aggregation in Pandas\n",
    "\n",
    "Previously we explored some of the data aggregations available for NumPy arrays. As with a one-dimensionl NumPy array, for a Pandas Series the aggregates return a single value."
   ]
  },
  {
   "cell_type": "code",
   "execution_count": null,
   "metadata": {
    "id": "eFAK43kkJz80",
    "outputId": "52304d52-57df-4e87-a650-c703970a6a30"
   },
   "outputs": [
    {
     "data": {
      "text/plain": [
       "0    0.374540\n",
       "1    0.950714\n",
       "2    0.731994\n",
       "3    0.598658\n",
       "4    0.156019\n",
       "dtype: float64"
      ]
     },
     "execution_count": 3,
     "metadata": {
      "tags": []
     },
     "output_type": "execute_result"
    }
   ],
   "source": [
    "import pandas as pd\n",
    "import numpy as np\n",
    "\n",
    "X = np.random.RandomState(42)     # create a RandomState   ( <mtrand.RandomState at 0x252c464b3f0> )\n",
    "ser = pd.Series(X.rand(5))        # 5 random float values in a Pandas Series\n",
    "ser"
   ]
  },
  {
   "cell_type": "code",
   "execution_count": null,
   "metadata": {
    "id": "h0lEzOKOJz87",
    "outputId": "9224373b-9d72-470d-e582-18d9f157bfe9"
   },
   "outputs": [
    {
     "name": "stdout",
     "output_type": "stream",
     "text": [
      "2.811925491708157\n",
      "0.5623850983416314\n",
      "0.15601864044243652\n"
     ]
    }
   ],
   "source": [
    "theSum = ser.sum()\n",
    "print(theSum)\n",
    "\n",
    "theMean = ser.mean()\n",
    "print(theMean)\n",
    "\n",
    "theMin = ser.min()\n",
    "print(theMin)"
   ]
  },
  {
   "cell_type": "markdown",
   "metadata": {
    "id": "PmHz7hn0Jz9A"
   },
   "source": [
    "Pandas Series and DataFrames include all of the common aggregates mentioned previously (in relation to NumPy). In addition, there is a convenient method called 'describe()' that computes several common aggregates for each column and resturls the result. "
   ]
  },
  {
   "cell_type": "code",
   "execution_count": null,
   "metadata": {
    "id": "ucjJsccsJz9F",
    "outputId": "ec802326-c919-4ca6-e0c4-8b54967b971c"
   },
   "outputs": [
    {
     "data": {
      "text/plain": [
       "count    5.000000\n",
       "mean     0.562385\n",
       "std      0.308748\n",
       "min      0.156019\n",
       "25%      0.374540\n",
       "50%      0.598658\n",
       "75%      0.731994\n",
       "max      0.950714\n",
       "dtype: float64"
      ]
     },
     "execution_count": 5,
     "metadata": {
      "tags": []
     },
     "output_type": "execute_result"
    }
   ],
   "source": [
    "ser.describe()"
   ]
  },
  {
   "cell_type": "markdown",
   "metadata": {
    "id": "Mn8Xxqe1Jz9I"
   },
   "source": [
    "#### For a DataFrame, by default the aggregates return results within each column"
   ]
  },
  {
   "cell_type": "code",
   "execution_count": null,
   "metadata": {
    "id": "TK-eKN56Jz9K",
    "outputId": "2f868ed3-fbe0-46b8-8d13-479bf0778e39"
   },
   "outputs": [
    {
     "data": {
      "text/html": [
       "<div>\n",
       "<style scoped>\n",
       "    .dataframe tbody tr th:only-of-type {\n",
       "        vertical-align: middle;\n",
       "    }\n",
       "\n",
       "    .dataframe tbody tr th {\n",
       "        vertical-align: top;\n",
       "    }\n",
       "\n",
       "    .dataframe thead th {\n",
       "        text-align: right;\n",
       "    }\n",
       "</style>\n",
       "<table border=\"1\" class=\"dataframe\">\n",
       "  <thead>\n",
       "    <tr style=\"text-align: right;\">\n",
       "      <th></th>\n",
       "      <th>A</th>\n",
       "      <th>B</th>\n",
       "    </tr>\n",
       "  </thead>\n",
       "  <tbody>\n",
       "    <tr>\n",
       "      <th>0</th>\n",
       "      <td>0.155995</td>\n",
       "      <td>0.020584</td>\n",
       "    </tr>\n",
       "    <tr>\n",
       "      <th>1</th>\n",
       "      <td>0.058084</td>\n",
       "      <td>0.969910</td>\n",
       "    </tr>\n",
       "    <tr>\n",
       "      <th>2</th>\n",
       "      <td>0.866176</td>\n",
       "      <td>0.832443</td>\n",
       "    </tr>\n",
       "    <tr>\n",
       "      <th>3</th>\n",
       "      <td>0.601115</td>\n",
       "      <td>0.212339</td>\n",
       "    </tr>\n",
       "    <tr>\n",
       "      <th>4</th>\n",
       "      <td>0.708073</td>\n",
       "      <td>0.181825</td>\n",
       "    </tr>\n",
       "  </tbody>\n",
       "</table>\n",
       "</div>"
      ],
      "text/plain": [
       "          A         B\n",
       "0  0.155995  0.020584\n",
       "1  0.058084  0.969910\n",
       "2  0.866176  0.832443\n",
       "3  0.601115  0.212339\n",
       "4  0.708073  0.181825"
      ]
     },
     "execution_count": 6,
     "metadata": {
      "tags": []
     },
     "output_type": "execute_result"
    }
   ],
   "source": [
    "# Create a DataFrame with two columns\n",
    "df = pd.DataFrame({'A': X.rand(5),\n",
    "                   'B': X.rand(5)})\n",
    "df"
   ]
  },
  {
   "cell_type": "code",
   "execution_count": null,
   "metadata": {
    "id": "fhpMXibEJz9M",
    "outputId": "54ece393-ea40-4c85-953b-bcf299cf01bf"
   },
   "outputs": [
    {
     "data": {
      "text/plain": [
       "A    0.477888\n",
       "B    0.443420\n",
       "dtype: float64"
      ]
     },
     "execution_count": 7,
     "metadata": {
      "tags": []
     },
     "output_type": "execute_result"
    }
   ],
   "source": [
    "df.mean()\n",
    "# Note, the output is the mean of each column (\"A\" and \"B\" in this case)"
   ]
  },
  {
   "cell_type": "markdown",
   "metadata": {
    "id": "mHkgkF6BJz9R"
   },
   "source": [
    "#### By specifying the axis argument, you can instead aggregate within each row"
   ]
  },
  {
   "cell_type": "code",
   "execution_count": null,
   "metadata": {
    "id": "iNaQTQFAJz9X",
    "outputId": "9d00327a-d874-4e19-baa9-f8fc2fde89a0"
   },
   "outputs": [
    {
     "data": {
      "text/plain": [
       "0    0.088290\n",
       "1    0.513997\n",
       "2    0.849309\n",
       "3    0.406727\n",
       "4    0.444949\n",
       "dtype: float64"
      ]
     },
     "execution_count": 8,
     "metadata": {
      "tags": []
     },
     "output_type": "execute_result"
    }
   ],
   "source": [
    "df.mean(axis='columns')"
   ]
  },
  {
   "cell_type": "markdown",
   "metadata": {
    "id": "_raiGi3pJz9Y"
   },
   "source": [
    "#### Some Built-in Pandas aggregations:\n",
    "\n",
    "count()         - Total number of items\n",
    "\n",
    "first(), last() - First and last item\n",
    "\n",
    "mean(), median() - Mean and median\n",
    "\n",
    "min(), max() - Minimum and maximum\n",
    "\n",
    "std(), var() - Standard deviation and variance\n",
    "\n",
    "prod() - Product of all items\n",
    "\n",
    "sum() - Sum of all items"
   ]
  },
  {
   "cell_type": "markdown",
   "metadata": {
    "id": "6LNpxXXwJz9a"
   },
   "source": [
    "## -------------------\n",
    "\n",
    "## GroupBy: Split, Apply, Combine\n",
    "\n",
    "Simple aggregations can only take you so far; can only give you a flavor of the dataset at hand. However, sometimes it is preferable to aggregate conditionally on some label or index: this is implemented in the \"groupby\" operation. Under the hood, it performs the operations of \"split\", \"apply\", and \"combine.\" \n",
    "\n",
    "#### Split, Apply, Combine\n",
    "\n",
    "A canonical example of this split-apply-combine operation, where the \"apply\" is a summation aggregation, is illustrated next: "
   ]
  },
  {
   "cell_type": "markdown",
   "metadata": {
    "id": "l7mxDJfQJz9a"
   },
   "source": [
    "The *split* step involves breaking up and grouping a DataFrame depending on the value of the specified key\n",
    "\n",
    "The *apply* step involves computing some function, usually an aggregate, transformation, or filtering, within the individual groups\n",
    "\n",
    "The *combine* step merges the results of these operations into an output array"
   ]
  },
  {
   "cell_type": "code",
   "execution_count": null,
   "metadata": {
    "id": "u5I3lNh6Jz9b",
    "outputId": "68106787-78f6-478e-ef90-a22524ce804c"
   },
   "outputs": [
    {
     "data": {
      "text/html": [
       "<div>\n",
       "<style scoped>\n",
       "    .dataframe tbody tr th:only-of-type {\n",
       "        vertical-align: middle;\n",
       "    }\n",
       "\n",
       "    .dataframe tbody tr th {\n",
       "        vertical-align: top;\n",
       "    }\n",
       "\n",
       "    .dataframe thead th {\n",
       "        text-align: right;\n",
       "    }\n",
       "</style>\n",
       "<table border=\"1\" class=\"dataframe\">\n",
       "  <thead>\n",
       "    <tr style=\"text-align: right;\">\n",
       "      <th></th>\n",
       "      <th>key</th>\n",
       "      <th>data</th>\n",
       "    </tr>\n",
       "  </thead>\n",
       "  <tbody>\n",
       "    <tr>\n",
       "      <th>0</th>\n",
       "      <td>A</td>\n",
       "      <td>0</td>\n",
       "    </tr>\n",
       "    <tr>\n",
       "      <th>1</th>\n",
       "      <td>B</td>\n",
       "      <td>1</td>\n",
       "    </tr>\n",
       "    <tr>\n",
       "      <th>2</th>\n",
       "      <td>C</td>\n",
       "      <td>2</td>\n",
       "    </tr>\n",
       "    <tr>\n",
       "      <th>3</th>\n",
       "      <td>A</td>\n",
       "      <td>3</td>\n",
       "    </tr>\n",
       "    <tr>\n",
       "      <th>4</th>\n",
       "      <td>B</td>\n",
       "      <td>4</td>\n",
       "    </tr>\n",
       "    <tr>\n",
       "      <th>5</th>\n",
       "      <td>C</td>\n",
       "      <td>5</td>\n",
       "    </tr>\n",
       "  </tbody>\n",
       "</table>\n",
       "</div>"
      ],
      "text/plain": [
       "  key  data\n",
       "0   A     0\n",
       "1   B     1\n",
       "2   C     2\n",
       "3   A     3\n",
       "4   B     4\n",
       "5   C     5"
      ]
     },
     "execution_count": 9,
     "metadata": {
      "tags": []
     },
     "output_type": "execute_result"
    }
   ],
   "source": [
    "# Create the input DataFrame (two columns, \"key\" and \"data\")\n",
    "df = pd.DataFrame({'key': ['A', 'B', 'C', 'A', 'B', 'C'],      # key has some repetitions\n",
    "                   'data': range(6)}, columns=['key', 'data']) # data is very simply numbers 0 through 5\n",
    "df"
   ]
  },
  {
   "cell_type": "code",
   "execution_count": null,
   "metadata": {
    "id": "XFpCZqgwJz9d",
    "outputId": "3c06cb56-e91b-45b8-fee1-c1b91d00e560"
   },
   "outputs": [
    {
     "data": {
      "text/plain": [
       "<pandas.core.groupby.generic.DataFrameGroupBy object at 0x0000027A68A634A8>"
      ]
     },
     "execution_count": 10,
     "metadata": {
      "tags": []
     },
     "output_type": "execute_result"
    }
   ],
   "source": [
    "# Using groupby\n",
    "# Passing the name of the desired key column:\n",
    "df.groupby('key')\n",
    "\n",
    "# Notice the output! What is returned is not a set of DataFrames, but a DataFrameGroupBy object.\n",
    "# The object is where the magic is: you can think of it as a special view of the DataFrame"
   ]
  },
  {
   "cell_type": "code",
   "execution_count": null,
   "metadata": {
    "id": "jPUAxZ_CJz9f",
    "outputId": "759460d0-d073-43b0-d414-d599de01db00"
   },
   "outputs": [
    {
     "data": {
      "text/html": [
       "<div>\n",
       "<style scoped>\n",
       "    .dataframe tbody tr th:only-of-type {\n",
       "        vertical-align: middle;\n",
       "    }\n",
       "\n",
       "    .dataframe tbody tr th {\n",
       "        vertical-align: top;\n",
       "    }\n",
       "\n",
       "    .dataframe thead th {\n",
       "        text-align: right;\n",
       "    }\n",
       "</style>\n",
       "<table border=\"1\" class=\"dataframe\">\n",
       "  <thead>\n",
       "    <tr style=\"text-align: right;\">\n",
       "      <th></th>\n",
       "      <th>data</th>\n",
       "    </tr>\n",
       "    <tr>\n",
       "      <th>key</th>\n",
       "      <th></th>\n",
       "    </tr>\n",
       "  </thead>\n",
       "  <tbody>\n",
       "    <tr>\n",
       "      <th>A</th>\n",
       "      <td>3</td>\n",
       "    </tr>\n",
       "    <tr>\n",
       "      <th>B</th>\n",
       "      <td>5</td>\n",
       "    </tr>\n",
       "    <tr>\n",
       "      <th>C</th>\n",
       "      <td>7</td>\n",
       "    </tr>\n",
       "  </tbody>\n",
       "</table>\n",
       "</div>"
      ],
      "text/plain": [
       "     data\n",
       "key      \n",
       "A       3\n",
       "B       5\n",
       "C       7"
      ]
     },
     "execution_count": 11,
     "metadata": {
      "tags": []
     },
     "output_type": "execute_result"
    }
   ],
   "source": [
    "# To produce a result, we can apply an aggregate to this DataFrameGroupBy object, which will \n",
    "# perform the appropriate apply/combine steps to produce the desired result:\n",
    "df.groupby('key').sum()  # For each key, calculate the sum\n",
    "\n",
    "# The sum() method is just one possibility here; you can apply virtually any common Pandas or NumPy \n",
    "# aggregation function, as well as virtually any valid DataFrame operation\n"
   ]
  },
  {
   "cell_type": "markdown",
   "metadata": {
    "id": "om7Eg1xkJz9f"
   },
   "source": [
    "The GroupBy object is a very flexible abstraction. In many ways, you can simply treat it as if it's a collection of DataFrames, and it does the difficult things under the hood. "
   ]
  }
 ],
 "metadata": {
  "colab": {
   "name": "Aggregates _Part II - Pandas_.ipynb",
   "provenance": []
  },
  "kernelspec": {
   "display_name": "Python 3",
   "language": "python",
   "name": "python3"
  },
  "language_info": {
   "codemirror_mode": {
    "name": "ipython",
    "version": 3
   },
   "file_extension": ".py",
   "mimetype": "text/x-python",
   "name": "python",
   "nbconvert_exporter": "python",
   "pygments_lexer": "ipython3",
   "version": "3.8.3"
  }
 },
 "nbformat": 4,
 "nbformat_minor": 1
}
