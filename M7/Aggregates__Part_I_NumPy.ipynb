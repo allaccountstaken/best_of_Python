{
  "nbformat": 4,
  "nbformat_minor": 0,
  "metadata": {
    "kernelspec": {
      "display_name": "Python 3",
      "language": "python",
      "name": "python3"
    },
    "language_info": {
      "codemirror_mode": {
        "name": "ipython",
        "version": 3
      },
      "file_extension": ".py",
      "mimetype": "text/x-python",
      "name": "python",
      "nbconvert_exporter": "python",
      "pygments_lexer": "ipython3",
      "version": "3.6.5"
    },
    "colab": {
      "name": "Aggregates _Part I - NumPy.ipynb",
      "provenance": []
    }
  },
  "cells": [
    {
      "cell_type": "markdown",
      "metadata": {
        "id": "2pXKzt6oJ4rg"
      },
      "source": [
        "# CS 5010\n",
        "## Learning Python (Python version: 3)\n",
        "### Topics:\n",
        "###   - Aggregates in Python (NumPy and Pandas)\n",
        "\n",
        "### Filename: Module 10 - Aggregates (Part I: NumPy)"
      ]
    },
    {
      "cell_type": "markdown",
      "metadata": {
        "id": "EWeqe5DfJ4rl"
      },
      "source": [
        "# Aggregates using NumPy:"
      ]
    },
    {
      "cell_type": "markdown",
      "metadata": {
        "id": "IlE3SIrxJ4ro"
      },
      "source": [
        "#### Use of 'reduce' method with another function.\n",
        "\n",
        "If you would like to reduce an array with a particular operation you can\n",
        "use the reduce method with another function. The outcome of using reduce\n",
        "will repeatedly apply a given operation to the elements of an array until\n",
        "only a single result remains"
      ]
    },
    {
      "cell_type": "code",
      "metadata": {
        "id": "A6-uNDthJ4rq"
      },
      "source": [
        "import numpy as np"
      ],
      "execution_count": null,
      "outputs": []
    },
    {
      "cell_type": "code",
      "metadata": {
        "id": "Bpl26seBJ4rr"
      },
      "source": [
        "x = np.arange(4)"
      ],
      "execution_count": null,
      "outputs": []
    },
    {
      "cell_type": "code",
      "metadata": {
        "id": "ng6Cb74sJ4ru",
        "outputId": "97941d5b-506e-46f7-8b27-6bece31936e3"
      },
      "source": [
        "np.add.reduce(x) #np.ufunc.reduce (ufun: universal function)"
      ],
      "execution_count": null,
      "outputs": [
        {
          "output_type": "execute_result",
          "data": {
            "text/plain": [
              "6"
            ]
          },
          "metadata": {
            "tags": []
          },
          "execution_count": 3
        }
      ]
    },
    {
      "cell_type": "code",
      "metadata": {
        "id": "ceR5HikAJ4rz",
        "outputId": "72f263de-8bee-424e-b561-9b6313c1c1a1"
      },
      "source": [
        "# reduce with add function\n",
        "x = np.arange(1,6) # Create a list from 1-5\n",
        "print(\"The list:\")\n",
        "print(x)\n",
        "print(\"Using add and reduce\")\n",
        "print( np.add.reduce(x) )"
      ],
      "execution_count": null,
      "outputs": [
        {
          "output_type": "stream",
          "text": [
            "The list:\n",
            "[1 2 3 4 5]\n",
            "Using add and reduce\n",
            "15\n"
          ],
          "name": "stdout"
        }
      ]
    },
    {
      "cell_type": "code",
      "metadata": {
        "id": "O8ocjZGEJ4r1",
        "outputId": "db571e45-fd99-4732-e702-fdb04896f164"
      },
      "source": [
        "# reduce with multiply function\n",
        "print(\"Using multipily and reduce\")\n",
        "print( np.multiply.reduce(x) )"
      ],
      "execution_count": null,
      "outputs": [
        {
          "output_type": "stream",
          "text": [
            "Using multipily and reduce\n",
            "120\n"
          ],
          "name": "stdout"
        }
      ]
    },
    {
      "cell_type": "markdown",
      "metadata": {
        "id": "fG98QTxMJ4r4"
      },
      "source": [
        "#### Use of 'accumulate' method with another function for keeping intermediate results\n",
        "\n",
        "If you want to store all the intermediate results of the computation, use, instead, the 'accumulate' function"
      ]
    },
    {
      "cell_type": "code",
      "metadata": {
        "id": "kAAxckxNJ4r7",
        "outputId": "5c625095-0155-4e7a-dbd8-2ff962b1ec27"
      },
      "source": [
        "# accumulate with add function (showing intermediate results) \n",
        "print(\"Using add and accumulate\")\n",
        "print( np.add.accumulate(x) ) # np.ufunc.accumulate\n",
        "\n",
        "# accumulate with multiply function (showing intermediate results)\n",
        "print(\"Using multiply and accumulate\")\n",
        "print( np.multiply.accumulate(x) )"
      ],
      "execution_count": null,
      "outputs": [
        {
          "output_type": "stream",
          "text": [
            "Using add and accumulate\n",
            "[ 1  3  6 10 15]\n",
            "Using multiply and accumulate\n",
            "[  1   2   6  24 120]\n"
          ],
          "name": "stdout"
        }
      ]
    },
    {
      "cell_type": "code",
      "metadata": {
        "id": "Ot5y9jVFJ4sA",
        "outputId": "823fea95-89a1-42fd-f2bb-84c18af1907c"
      },
      "source": [
        "np.cumsum(x)"
      ],
      "execution_count": null,
      "outputs": [
        {
          "output_type": "execute_result",
          "data": {
            "text/plain": [
              "array([ 1,  3,  6, 10, 15], dtype=int32)"
            ]
          },
          "metadata": {
            "tags": []
          },
          "execution_count": 7
        }
      ]
    },
    {
      "cell_type": "markdown",
      "metadata": {
        "id": "iKlIBOFaJ4sC"
      },
      "source": [
        "#### Computing summary statistics\n",
        "\n",
        "Common summary statistics include mean and standard deviation, but other aggregates are useful as well, such as:\n",
        "      sum, product, median, minimum, maximum, etc..."
      ]
    },
    {
      "cell_type": "markdown",
      "metadata": {
        "id": "E7rt-2qcJ4sE"
      },
      "source": [
        "#### Summing the values in an array\n",
        "\n",
        "Computing the sum of all values in an array - use the built-in 'sum' function"
      ]
    },
    {
      "cell_type": "code",
      "metadata": {
        "id": "lIC681OXJ4sG",
        "outputId": "d93b1326-4bf9-498b-d8d2-25a35f4cac78"
      },
      "source": [
        "L = np.random.random(100)\n",
        "small = np.random.random(5)*10  # An example that's easier to view/visualize\n",
        "print ( small )\n",
        "#print( L ) # Can print out L just to see what it looks like\n",
        "print( sum(L) )\n",
        "print( sum(small) )\n",
        "\n",
        "# Note, quite similar to NumPy's 'sum' function (result is the same)\n",
        "print( np.sum(small) )\n",
        "\n",
        "# NumPy's version of the operation is computed much more quickly, however\n",
        "# the sum function and the np.sum function are not identical (e.g. their\n",
        "# optional arguments have different meanings and np.sum can work with \n",
        "# multiple array dimentions.)"
      ],
      "execution_count": null,
      "outputs": [
        {
          "output_type": "stream",
          "text": [
            "[1.13915505 8.43956176 1.26501049 4.96629375 5.63152811]\n",
            "51.29464452713995\n",
            "21.441549172290276\n",
            "21.441549172290276\n"
          ],
          "name": "stdout"
        }
      ]
    },
    {
      "cell_type": "markdown",
      "metadata": {
        "id": "J2yDicxAJ4sI"
      },
      "source": [
        "#### Minimum and Maximum\n",
        "\n",
        "Python has built-in min and max functions to find min or max value of any given array. NumPy's corresponding functions have similar syntax (but are much more efficient.) "
      ]
    },
    {
      "cell_type": "code",
      "metadata": {
        "id": "Z05qS3_aJ4sK",
        "outputId": "15b1d1d1-3913-41b5-9ef0-14951c0a1b3d"
      },
      "source": [
        "big_array = np.random.rand(1000000) # 1 million elements\n",
        "print( min(big_array), max(big_array) )         # built-in functions\n",
        "print( np.min(big_array), np.max(big_array) )   # NumPy functions "
      ],
      "execution_count": null,
      "outputs": [
        {
          "output_type": "stream",
          "text": [
            "3.1803013622599963e-07 0.9999995991102348\n",
            "3.1803013622599963e-07 0.9999995991102348\n"
          ],
          "name": "stdout"
        }
      ]
    },
    {
      "cell_type": "markdown",
      "metadata": {
        "id": "Ev_Prlh9J4sL"
      },
      "source": [
        "#### Let's run an experiment to time how long the built-in function works in comparison to the NumPy version of the same function"
      ]
    },
    {
      "cell_type": "code",
      "metadata": {
        "id": "GaKUxgyNJ4sL",
        "outputId": "dff7b8c0-5928-4821-c02b-0f8b713b625e"
      },
      "source": [
        "print(\"Let's time these two functions...\")\n",
        "\n",
        "import timeit\n",
        "# Any setup for the statements to be able to run:\n",
        "SETUP = '''\n",
        "import numpy as np\n",
        "big_array = np.random.rand(1000000)'''\n",
        "\n",
        "# Lines of code to time:\n",
        "CODE_TO_TIME1 = '''min(big_array)'''\n",
        "CODE_TO_TIME2 = '''np.min(big_array)'''\n",
        "\n",
        "# Time these lines of code to compare the difference (use timeit)\n",
        "# (NumPy version should execute quicker!) \n",
        "\n",
        "# ** May take a little while to execute ** \n",
        "\n",
        "t1 = timeit.timeit(setup = SETUP, stmt = CODE_TO_TIME1, number = 100) \n",
        "t2 = timeit.timeit(setup = SETUP, stmt = CODE_TO_TIME2, number = 100) \n",
        "\n",
        "print('min function time: {}'.format(t1)) \n",
        "print('np.min function time: {}'.format(t2)) \n",
        "print(\"===================\")"
      ],
      "execution_count": null,
      "outputs": [
        {
          "output_type": "stream",
          "text": [
            "Let's time these two functions...\n",
            "min function time: 9.315484100000006\n",
            "np.min function time: 0.03821299999999894\n",
            "===================\n"
          ],
          "name": "stdout"
        }
      ]
    },
    {
      "cell_type": "markdown",
      "metadata": {
        "id": "PkSwYVLLJ4sM"
      },
      "source": [
        "#### Using multidimensional aggregates\n",
        "\n",
        "Aggregation operation along a row or column"
      ]
    },
    {
      "cell_type": "code",
      "metadata": {
        "id": "xVU2kMLOJ4sN",
        "outputId": "d484e55c-8054-4248-d9c3-6adc9ed223e6"
      },
      "source": [
        "M = np.random.random((3,4)) # row=3; col=4\n",
        "print(M)\n",
        "\n",
        "print( M.sum() )  # NumPy aggregate fucntion over entire array"
      ],
      "execution_count": null,
      "outputs": [
        {
          "output_type": "stream",
          "text": [
            "[[0.43273427 0.01062151 0.34998607 0.07005416]\n",
            " [0.61219929 0.35412725 0.04994807 0.36241524]\n",
            " [0.27956238 0.4688512  0.58670271 0.61117799]]\n",
            "4.188380142988587\n"
          ],
          "name": "stdout"
        }
      ]
    },
    {
      "cell_type": "code",
      "metadata": {
        "id": "Fb7LQj2QJ4sP",
        "outputId": "303d40b7-31b5-4977-b2c2-7b909e602c31"
      },
      "source": [
        "# min on an axis - takes an additional argument\n",
        "print( M.min(axis=0) )  # returns 4 values, min for each of the 4 columns\n",
        "\n",
        "# max on an axis\n",
        "print( M.max(axis=1) )  # returns 3 values, max for each of the 3 rows"
      ],
      "execution_count": null,
      "outputs": [
        {
          "output_type": "stream",
          "text": [
            "[0.27956238 0.01062151 0.04994807 0.07005416]\n",
            "[0.43273427 0.61219929 0.61117799]\n"
          ],
          "name": "stdout"
        }
      ]
    },
    {
      "cell_type": "markdown",
      "metadata": {
        "id": "8wwrWvJrJ4sQ"
      },
      "source": [
        "Important note about 'axis' additional argument:\n",
        "The way the axis is specified can be confusing. The axis keyword specifies the DIMENSION of the array that will be collapsed, rather than the dimension that will be returned. \n",
        "\n",
        "So, specifying axis=0 means that the FIRST axis will be collapsed:\n",
        "for two-dimensional arrays, this means that the values within each COLUMN will be aggregated. "
      ]
    },
    {
      "cell_type": "markdown",
      "metadata": {
        "id": "Fcsj8aDiJ4sQ"
      },
      "source": [
        "Ref: https://books.google.com/books?id=xYmNDQAAQBAJ&pg=PA60&lpg=PA60&dq=The+way+the+axis+is+specified+can+be+confusing.+The+axis+keyword+specifies+the+DIMENSION+of+the+array+that+will+be+collapsed,+rather+than+the+dimension+that+will+be+returned.&source=bl&ots=XqeLj5nk2N&sig=ACfU3U3dogcaPpVlJMiWunOM05BsLYo48Q&hl=en&sa=X&ved=2ahUKEwj5s8Cl6NblAhVKpFkKHU2nAu0Q6AEwAHoECAkQAQ#v=onepage&q=The%20way%20the%20axis%20is%20specified%20can%20be%20confusing.%20The%20axis%20keyword%20specifies%20the%20DIMENSION%20of%20the%20array%20that%20will%20be%20collapsed%2C%20rather%20than%20the%20dimension%20that%20will%20be%20returned.&f=false"
      ]
    },
    {
      "cell_type": "markdown",
      "metadata": {
        "id": "QjqJ3TfEJ4sR"
      },
      "source": [
        "#### Many other aggregate functions are available in NumPy\n",
        "\n",
        "For example:\n",
        "np.mean, np.std, np.var, np.argmin, np.argmax, np.median, np.percentile, ...\n",
        "\n",
        "Review what each of these do. "
      ]
    }
  ]
}