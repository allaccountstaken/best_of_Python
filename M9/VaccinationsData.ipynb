{
 "cells": [
  {
   "cell_type": "markdown",
   "metadata": {},
   "source": [
    "1. Name of activity\n",
    "2. Your name\n",
    "3. Your UVA computing ID"
   ]
  },
  {
   "cell_type": "markdown",
   "metadata": {},
   "source": [
    "## Tasks\n",
    "#### Select a country, analyze its vaccination data, and answer the following questions:\n",
    " \n",
    "\n",
    "* Total number of vaccinations;\n",
    "* Percent of vaccinations from entire population;\n",
    "* Daily number of vaccinations;\n",
    "* Daily number of vaccination per million population;\n",
    "* People vaccinated;\n",
    "* Percent of vaccinated people from entire population.\n",
    "* Due to the impact of the weekend, the vaccine data may be inaccurate. Please calculate the vaccine administration 7-day rolling average. Draw the trend line of the number of people vaccinated each day."
   ]
  },
  {
   "cell_type": "code",
   "execution_count": 88,
   "metadata": {},
   "outputs": [],
   "source": [
    "import pandas as pd\n",
    "import seaborn as sns \n"
   ]
  },
  {
   "cell_type": "code",
   "execution_count": 2,
   "metadata": {},
   "outputs": [
    {
     "data": {
      "text/html": [
       "<div>\n",
       "<style scoped>\n",
       "    .dataframe tbody tr th:only-of-type {\n",
       "        vertical-align: middle;\n",
       "    }\n",
       "\n",
       "    .dataframe tbody tr th {\n",
       "        vertical-align: top;\n",
       "    }\n",
       "\n",
       "    .dataframe thead th {\n",
       "        text-align: right;\n",
       "    }\n",
       "</style>\n",
       "<table border=\"1\" class=\"dataframe\">\n",
       "  <thead>\n",
       "    <tr style=\"text-align: right;\">\n",
       "      <th></th>\n",
       "      <th>country</th>\n",
       "      <th>iso_code</th>\n",
       "      <th>total_vaccinations</th>\n",
       "      <th>people_vaccinated</th>\n",
       "      <th>people_fully_vaccinated</th>\n",
       "      <th>daily_vaccinations_raw</th>\n",
       "      <th>daily_vaccinations</th>\n",
       "      <th>total_vaccinations_per_hundred</th>\n",
       "      <th>people_vaccinated_per_hundred</th>\n",
       "      <th>people_fully_vaccinated_per_hundred</th>\n",
       "      <th>daily_vaccinations_per_million</th>\n",
       "      <th>vaccines</th>\n",
       "      <th>source_name</th>\n",
       "      <th>source_website</th>\n",
       "    </tr>\n",
       "    <tr>\n",
       "      <th>date</th>\n",
       "      <th></th>\n",
       "      <th></th>\n",
       "      <th></th>\n",
       "      <th></th>\n",
       "      <th></th>\n",
       "      <th></th>\n",
       "      <th></th>\n",
       "      <th></th>\n",
       "      <th></th>\n",
       "      <th></th>\n",
       "      <th></th>\n",
       "      <th></th>\n",
       "      <th></th>\n",
       "      <th></th>\n",
       "    </tr>\n",
       "  </thead>\n",
       "  <tbody>\n",
       "    <tr>\n",
       "      <th>2021-03-29</th>\n",
       "      <td>Zimbabwe</td>\n",
       "      <td>ZWE</td>\n",
       "      <td>81610.0</td>\n",
       "      <td>69751.0</td>\n",
       "      <td>11859.0</td>\n",
       "      <td>2471.0</td>\n",
       "      <td>5434.0</td>\n",
       "      <td>0.55</td>\n",
       "      <td>0.47</td>\n",
       "      <td>0.08</td>\n",
       "      <td>366.0</td>\n",
       "      <td>Sinopharm/Beijing</td>\n",
       "      <td>Ministry of Health</td>\n",
       "      <td>https://twitter.com/MoHCCZim/status/1378053949...</td>\n",
       "    </tr>\n",
       "    <tr>\n",
       "      <th>2021-03-30</th>\n",
       "      <td>Zimbabwe</td>\n",
       "      <td>ZWE</td>\n",
       "      <td>85866.0</td>\n",
       "      <td>72944.0</td>\n",
       "      <td>12922.0</td>\n",
       "      <td>4256.0</td>\n",
       "      <td>5810.0</td>\n",
       "      <td>0.58</td>\n",
       "      <td>0.49</td>\n",
       "      <td>0.09</td>\n",
       "      <td>391.0</td>\n",
       "      <td>Sinopharm/Beijing</td>\n",
       "      <td>Ministry of Health</td>\n",
       "      <td>https://twitter.com/MoHCCZim/status/1378053949...</td>\n",
       "    </tr>\n",
       "    <tr>\n",
       "      <th>2021-03-31</th>\n",
       "      <td>Zimbabwe</td>\n",
       "      <td>ZWE</td>\n",
       "      <td>91880.0</td>\n",
       "      <td>76995.0</td>\n",
       "      <td>14885.0</td>\n",
       "      <td>6014.0</td>\n",
       "      <td>5712.0</td>\n",
       "      <td>0.62</td>\n",
       "      <td>0.52</td>\n",
       "      <td>0.10</td>\n",
       "      <td>384.0</td>\n",
       "      <td>Sinopharm/Beijing</td>\n",
       "      <td>Ministry of Health</td>\n",
       "      <td>https://twitter.com/MoHCCZim/status/1378053949...</td>\n",
       "    </tr>\n",
       "    <tr>\n",
       "      <th>2021-04-01</th>\n",
       "      <td>Zimbabwe</td>\n",
       "      <td>ZWE</td>\n",
       "      <td>105307.0</td>\n",
       "      <td>87791.0</td>\n",
       "      <td>17516.0</td>\n",
       "      <td>13427.0</td>\n",
       "      <td>6617.0</td>\n",
       "      <td>0.71</td>\n",
       "      <td>0.59</td>\n",
       "      <td>0.12</td>\n",
       "      <td>445.0</td>\n",
       "      <td>Sinopharm/Beijing</td>\n",
       "      <td>Ministry of Health</td>\n",
       "      <td>https://twitter.com/MoHCCZim/status/1378053949...</td>\n",
       "    </tr>\n",
       "    <tr>\n",
       "      <th>2021-04-02</th>\n",
       "      <td>Zimbabwe</td>\n",
       "      <td>ZWE</td>\n",
       "      <td>124753.0</td>\n",
       "      <td>103815.0</td>\n",
       "      <td>20938.0</td>\n",
       "      <td>19446.0</td>\n",
       "      <td>8156.0</td>\n",
       "      <td>0.84</td>\n",
       "      <td>0.70</td>\n",
       "      <td>0.14</td>\n",
       "      <td>549.0</td>\n",
       "      <td>Sinopharm/Beijing</td>\n",
       "      <td>Ministry of Health</td>\n",
       "      <td>https://twitter.com/MoHCCZim/status/1378053949...</td>\n",
       "    </tr>\n",
       "  </tbody>\n",
       "</table>\n",
       "</div>"
      ],
      "text/plain": [
       "             country iso_code  total_vaccinations  people_vaccinated  \\\n",
       "date                                                                   \n",
       "2021-03-29  Zimbabwe      ZWE             81610.0            69751.0   \n",
       "2021-03-30  Zimbabwe      ZWE             85866.0            72944.0   \n",
       "2021-03-31  Zimbabwe      ZWE             91880.0            76995.0   \n",
       "2021-04-01  Zimbabwe      ZWE            105307.0            87791.0   \n",
       "2021-04-02  Zimbabwe      ZWE            124753.0           103815.0   \n",
       "\n",
       "            people_fully_vaccinated  daily_vaccinations_raw  \\\n",
       "date                                                          \n",
       "2021-03-29                  11859.0                  2471.0   \n",
       "2021-03-30                  12922.0                  4256.0   \n",
       "2021-03-31                  14885.0                  6014.0   \n",
       "2021-04-01                  17516.0                 13427.0   \n",
       "2021-04-02                  20938.0                 19446.0   \n",
       "\n",
       "            daily_vaccinations  total_vaccinations_per_hundred  \\\n",
       "date                                                             \n",
       "2021-03-29              5434.0                            0.55   \n",
       "2021-03-30              5810.0                            0.58   \n",
       "2021-03-31              5712.0                            0.62   \n",
       "2021-04-01              6617.0                            0.71   \n",
       "2021-04-02              8156.0                            0.84   \n",
       "\n",
       "            people_vaccinated_per_hundred  \\\n",
       "date                                        \n",
       "2021-03-29                           0.47   \n",
       "2021-03-30                           0.49   \n",
       "2021-03-31                           0.52   \n",
       "2021-04-01                           0.59   \n",
       "2021-04-02                           0.70   \n",
       "\n",
       "            people_fully_vaccinated_per_hundred  \\\n",
       "date                                              \n",
       "2021-03-29                                 0.08   \n",
       "2021-03-30                                 0.09   \n",
       "2021-03-31                                 0.10   \n",
       "2021-04-01                                 0.12   \n",
       "2021-04-02                                 0.14   \n",
       "\n",
       "            daily_vaccinations_per_million           vaccines  \\\n",
       "date                                                            \n",
       "2021-03-29                           366.0  Sinopharm/Beijing   \n",
       "2021-03-30                           391.0  Sinopharm/Beijing   \n",
       "2021-03-31                           384.0  Sinopharm/Beijing   \n",
       "2021-04-01                           445.0  Sinopharm/Beijing   \n",
       "2021-04-02                           549.0  Sinopharm/Beijing   \n",
       "\n",
       "                   source_name  \\\n",
       "date                             \n",
       "2021-03-29  Ministry of Health   \n",
       "2021-03-30  Ministry of Health   \n",
       "2021-03-31  Ministry of Health   \n",
       "2021-04-01  Ministry of Health   \n",
       "2021-04-02  Ministry of Health   \n",
       "\n",
       "                                               source_website  \n",
       "date                                                           \n",
       "2021-03-29  https://twitter.com/MoHCCZim/status/1378053949...  \n",
       "2021-03-30  https://twitter.com/MoHCCZim/status/1378053949...  \n",
       "2021-03-31  https://twitter.com/MoHCCZim/status/1378053949...  \n",
       "2021-04-01  https://twitter.com/MoHCCZim/status/1378053949...  \n",
       "2021-04-02  https://twitter.com/MoHCCZim/status/1378053949...  "
      ]
     },
     "execution_count": 2,
     "metadata": {},
     "output_type": "execute_result"
    }
   ],
   "source": [
    "df = pd.read_csv('country_vaccinations.csv', index_col=2, parse_dates=True)\n",
    "df.tail()"
   ]
  },
  {
   "cell_type": "markdown",
   "metadata": {},
   "source": [
    "Select a country `'United States'`; the choice will be stored in `selected_country` variable:"
   ]
  },
  {
   "cell_type": "code",
   "execution_count": 3,
   "metadata": {},
   "outputs": [
    {
     "data": {
      "text/plain": [
       "(105, 14)"
      ]
     },
     "execution_count": 3,
     "metadata": {},
     "output_type": "execute_result"
    }
   ],
   "source": [
    "selected_country = 'United States'\n",
    "df.loc[df.country == selected_country].shape"
   ]
  },
  {
   "cell_type": "markdown",
   "metadata": {},
   "source": [
    "#### Total number of vaccinations:"
   ]
  },
  {
   "cell_type": "code",
   "execution_count": 4,
   "metadata": {},
   "outputs": [
    {
     "data": {
      "text/plain": [
       "date\n",
       "2021-04-03    161688422.0\n",
       "Name: total_vaccinations, dtype: float64"
      ]
     },
     "execution_count": 4,
     "metadata": {},
     "output_type": "execute_result"
    }
   ],
   "source": [
    "df.loc[df.country == selected_country]['total_vaccinations'].tail(1)"
   ]
  },
  {
   "cell_type": "markdown",
   "metadata": {},
   "source": [
    "#### Percent of vaccinations from entire population: "
   ]
  },
  {
   "cell_type": "code",
   "execution_count": 6,
   "metadata": {},
   "outputs": [
    {
     "data": {
      "text/plain": [
       "date\n",
       "2021-04-03    31.16\n",
       "Name: people_vaccinated_per_hundred, dtype: float64"
      ]
     },
     "execution_count": 6,
     "metadata": {},
     "output_type": "execute_result"
    }
   ],
   "source": [
    "df.loc[df.country == selected_country]['people_vaccinated_per_hundred'].tail(1)"
   ]
  },
  {
   "cell_type": "markdown",
   "metadata": {},
   "source": [
    "#### Daily number of vaccinations:"
   ]
  },
  {
   "cell_type": "code",
   "execution_count": 37,
   "metadata": {},
   "outputs": [
    {
     "data": {
      "text/plain": [
       "date\n",
       "2021-04-03    3072527.0\n",
       "Name: daily_vaccinations, dtype: float64"
      ]
     },
     "execution_count": 37,
     "metadata": {},
     "output_type": "execute_result"
    }
   ],
   "source": [
    "df.loc[df.country == selected_country]['daily_vaccinations'].tail(1)"
   ]
  },
  {
   "cell_type": "markdown",
   "metadata": {},
   "source": [
    "#### Daily number of vaccination per million population:"
   ]
  },
  {
   "cell_type": "code",
   "execution_count": 39,
   "metadata": {},
   "outputs": [
    {
     "data": {
      "text/plain": [
       "date\n",
       "2021-04-03    9187.0\n",
       "Name: daily_vaccinations_per_million, dtype: float64"
      ]
     },
     "execution_count": 39,
     "metadata": {},
     "output_type": "execute_result"
    }
   ],
   "source": [
    "df.loc[df.country == selected_country]['daily_vaccinations_per_million'].tail(1)"
   ]
  },
  {
   "cell_type": "markdown",
   "metadata": {},
   "source": [
    "#### People vaccinated"
   ]
  },
  {
   "cell_type": "code",
   "execution_count": 9,
   "metadata": {},
   "outputs": [
    {
     "data": {
      "text/plain": [
       "date\n",
       "2021-04-03    104213478.0\n",
       "Name: people_vaccinated, dtype: float64"
      ]
     },
     "execution_count": 9,
     "metadata": {},
     "output_type": "execute_result"
    }
   ],
   "source": [
    "df.loc[df.country == selected_country]['people_vaccinated'].tail(1)"
   ]
  },
  {
   "cell_type": "markdown",
   "metadata": {},
   "source": [
    "#### Percent of vaccinated people from entire population."
   ]
  },
  {
   "cell_type": "code",
   "execution_count": 13,
   "metadata": {},
   "outputs": [
    {
     "data": {
      "text/plain": [
       "date\n",
       "2021-04-03    17.9\n",
       "Name: people_fully_vaccinated_per_hundred, dtype: float64"
      ]
     },
     "execution_count": 13,
     "metadata": {},
     "output_type": "execute_result"
    }
   ],
   "source": [
    "df.loc[df.country == selected_country]['people_fully_vaccinated_per_hundred'].tail(1)"
   ]
  },
  {
   "cell_type": "markdown",
   "metadata": {},
   "source": [
    "#### Due to the impact of the weekend, the vaccine data may be inaccurate. Please calculate the vaccine administration 7-day rolling average. Draw the trend line of the number of people vaccinated each day"
   ]
  },
  {
   "cell_type": "code",
   "execution_count": 76,
   "metadata": {},
   "outputs": [],
   "source": [
    "weakly_rolling_mean = df.loc[df.country == selected_country]['daily_vaccinations_per_million'].rolling(window=7).mean()\n",
    "daily_vacs_per_mill = df.loc[df.country == selected_country]['daily_vaccinations_per_million']"
   ]
  },
  {
   "cell_type": "code",
   "execution_count": 85,
   "metadata": {},
   "outputs": [
    {
     "data": {
      "text/plain": [
       "Text(0, 0.5, 'Daily vaccinations per million and 7-day rolling average')"
      ]
     },
     "execution_count": 85,
     "metadata": {},
     "output_type": "execute_result"
    },
    {
     "data": {
      "image/png": "[encoded data removed]",
      "text/plain": [
       "<Figure size 1440x360 with 1 Axes>"
      ]
     },
     "metadata": {
      "needs_background": "light"
     },
     "output_type": "display_data"
    }
   ],
   "source": [
    "plt.figure( figsize = (20, 5))\n",
    "\n",
    "sns.lineplot( x =  df.loc[df.country == selected_country].index,\n",
    "             y = df.loc[df.country == selected_country]['daily_vaccinations_per_million'],\n",
    "             data = df,\n",
    "             label = 'Daily vaccinations per million')\n",
    "  \n",
    "# plot using rolling average\n",
    "sns.lineplot( x = df.loc[df.country == selected_country].index,\n",
    "             y = df.loc[df.country == selected_country]['daily_vaccinations_per_million'].rolling(window=7).mean(),\n",
    "             data = df,\n",
    "             label = '7-day rolling avg')\n",
    "  \n",
    "plt.xlabel('Daily observations')\n",
    "\n",
    "  \n",
    "plt.ylabel('Daily vaccinations per million and 7-day rolling average')"
   ]
  },
  {
   "cell_type": "markdown",
   "metadata": {},
   "source": [
    "#### Checks:"
   ]
  },
  {
   "cell_type": "code",
   "execution_count": 53,
   "metadata": {},
   "outputs": [
    {
     "data": {
      "text/plain": [
       "date\n",
       "2021-04-03    334.446335\n",
       "dtype: float64"
      ]
     },
     "execution_count": 53,
     "metadata": {},
     "output_type": "execute_result"
    }
   ],
   "source": [
    "vaccines_count = df.loc[df.country == selected_country]['people_vaccinated'].tail(1) \n",
    "percent_share = (df.loc[df.country == selected_country]['people_vaccinated_per_hundred'].tail(1)/100)\n",
    "population_est_mil = (vaccines_count / percent_share) / 1000000\n",
    "population_est_mil # recreating population estoimate in millions"
   ]
  },
  {
   "cell_type": "markdown",
   "metadata": {},
   "source": [
    "#### Daily number of vaccination per million population, expected 9 thousand:"
   ]
  },
  {
   "cell_type": "code",
   "execution_count": 52,
   "metadata": {},
   "outputs": [
    {
     "data": {
      "text/plain": [
       "date\n",
       "2021-04-03    9186.905874\n",
       "dtype: float64"
      ]
     },
     "execution_count": 52,
     "metadata": {},
     "output_type": "execute_result"
    }
   ],
   "source": [
    "df.loc[df.country == selected_country]['daily_vaccinations'].tail(1) / population_est_mil"
   ]
  },
  {
   "cell_type": "markdown",
   "metadata": {},
   "source": [
    "#### Percent of people with at least 1 does, expected 31%:"
   ]
  },
  {
   "cell_type": "code",
   "execution_count": 47,
   "metadata": {},
   "outputs": [
    {
     "data": {
      "text/plain": [
       "date\n",
       "2021-04-03    0.3116\n",
       "dtype: float64"
      ]
     },
     "execution_count": 47,
     "metadata": {},
     "output_type": "execute_result"
    }
   ],
   "source": [
    "df.loc[df.country == selected_country]['people_vaccinated'].tail(1)/1000000 / population_est_mil"
   ]
  },
  {
   "cell_type": "markdown",
   "metadata": {},
   "source": [
    "#### Percent of fully vaccinated people, expected 18%:"
   ]
  },
  {
   "cell_type": "code",
   "execution_count": 46,
   "metadata": {},
   "outputs": [
    {
     "data": {
      "text/plain": [
       "date\n",
       "2021-04-03    0.178977\n",
       "dtype: float64"
      ]
     },
     "execution_count": 46,
     "metadata": {},
     "output_type": "execute_result"
    }
   ],
   "source": [
    "df.loc[df.country == selected_country]['people_fully_vaccinated'].tail(1)/1000000 / population_est_mil"
   ]
  },
  {
   "cell_type": "code",
   "execution_count": null,
   "metadata": {},
   "outputs": [],
   "source": []
  }
 ],
 "metadata": {
  "kernelspec": {
   "display_name": "Python 3",
   "language": "python",
   "name": "python3"
  },
  "language_info": {
   "codemirror_mode": {
    "name": "ipython",
    "version": 3
   },
   "file_extension": ".py",
   "mimetype": "text/x-python",
   "name": "python",
   "nbconvert_exporter": "python",
   "pygments_lexer": "ipython3",
   "version": "3.8.3"
  }
 },
 "nbformat": 4,
 "nbformat_minor": 4
}
