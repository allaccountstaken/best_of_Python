{
  "nbformat": 4,
  "nbformat_minor": 0,
  "metadata": {
    "colab": {
      "name": "Untitled6.ipynb",
      "provenance": [],
      "collapsed_sections": []
    },
    "kernelspec": {
      "name": "python3",
      "display_name": "Python 3"
    },
    "language_info": {
      "name": "python"
    }
  },
  "cells": [
    {
      "cell_type": "markdown",
      "metadata": {
        "id": "V3JgAyAciHG0"
      },
      "source": [
        "* Module 2 live session activity: Map, Filter, Reduce\n",
        "* Reduce examples\n",
        "* UVA ID: agp7dp\n"
      ]
    },
    {
      "cell_type": "code",
      "metadata": {
        "id": "mNYAjkGGOoi7"
      },
      "source": [
        "from functools import reduce"
      ],
      "execution_count": 1,
      "outputs": []
    },
    {
      "cell_type": "code",
      "metadata": {
        "id": "6E0TnSBCOq9H"
      },
      "source": [
        "# Define a simple function that takes at least 2 inputs\n",
        "def add_numbers(a, b):\n",
        "  result = a+b\n",
        "  print(f\"{a} + {b} = {result}\")\n",
        "  return result"
      ],
      "execution_count": 3,
      "outputs": []
    },
    {
      "cell_type": "code",
      "metadata": {
        "colab": {
          "base_uri": "https://localhost:8080/"
        },
        "id": "aeFlaFRUSQj6",
        "outputId": "b93b22e5-218e-4906-d942-75ac16e886f0"
      },
      "source": [
        "# Testing the function:\n",
        "add_numbers(10, 500)"
      ],
      "execution_count": 14,
      "outputs": [
        {
          "output_type": "stream",
          "name": "stdout",
          "text": [
            "10 + 500 = 510\n"
          ]
        },
        {
          "output_type": "execute_result",
          "data": {
            "text/plain": [
              "510"
            ]
          },
          "metadata": {},
          "execution_count": 14
        }
      ]
    },
    {
      "cell_type": "code",
      "metadata": {
        "colab": {
          "base_uri": "https://localhost:8080/"
        },
        "id": "Hq9A7NhVS6VB",
        "outputId": "4c560059-45f2-491d-8b9d-2b88cd67bc86"
      },
      "source": [
        "# Passing the function into reduce() along with an iterable list `numbers`\n",
        "numbers = [100, 200, 300, 400]\n",
        "reduce(add_numbers, numbers)"
      ],
      "execution_count": 18,
      "outputs": [
        {
          "output_type": "stream",
          "name": "stdout",
          "text": [
            "100 + 200 = 300\n",
            "300 + 300 = 600\n",
            "600 + 400 = 1000\n"
          ]
        },
        {
          "output_type": "execute_result",
          "data": {
            "text/plain": [
              "1000"
            ]
          },
          "metadata": {},
          "execution_count": 18
        }
      ]
    },
    {
      "cell_type": "code",
      "metadata": {
        "colab": {
          "base_uri": "https://localhost:8080/"
        },
        "id": "I28UsmfQUkkI",
        "outputId": "700898ae-29db-490d-8b1e-694a62b8594a"
      },
      "source": [
        "# Alternative\n",
        "sum(numbers)"
      ],
      "execution_count": 34,
      "outputs": [
        {
          "output_type": "execute_result",
          "data": {
            "text/plain": [
              "1000"
            ]
          },
          "metadata": {},
          "execution_count": 34
        }
      ]
    },
    {
      "cell_type": "code",
      "metadata": {
        "colab": {
          "base_uri": "https://localhost:8080/"
        },
        "id": "r-KnMZKCSanS",
        "outputId": "52268681-a98f-4a52-b94a-0b0efaf4fef0"
      },
      "source": [
        "# The optional argument: initializer\n",
        "init =100\n",
        "reduce(add_numbers, numbers, init)"
      ],
      "execution_count": 25,
      "outputs": [
        {
          "output_type": "stream",
          "name": "stdout",
          "text": [
            "100 + 100 = 200\n",
            "200 + 200 = 400\n",
            "400 + 300 = 700\n",
            "700 + 400 = 1100\n"
          ]
        },
        {
          "output_type": "execute_result",
          "data": {
            "text/plain": [
              "1100"
            ]
          },
          "metadata": {},
          "execution_count": 25
        }
      ]
    },
    {
      "cell_type": "code",
      "metadata": {
        "colab": {
          "base_uri": "https://localhost:8080/"
        },
        "id": "fbfzxwS8Vkgj",
        "outputId": "ef484d1a-db11-49c3-b066-96c4963eab49"
      },
      "source": [
        "sum(numbers, init)"
      ],
      "execution_count": 35,
      "outputs": [
        {
          "output_type": "execute_result",
          "data": {
            "text/plain": [
              "1100"
            ]
          },
          "metadata": {},
          "execution_count": 35
        }
      ]
    },
    {
      "cell_type": "code",
      "metadata": {
        "colab": {
          "base_uri": "https://localhost:8080/"
        },
        "id": "GA3op5RdSe40",
        "outputId": "7a9dec26-e785-455f-bfb7-2515200a6443"
      },
      "source": [
        "# Yet another way to get the same result\n",
        "reduce(lambda a, b: a+b, numbers, init)"
      ],
      "execution_count": 27,
      "outputs": [
        {
          "output_type": "execute_result",
          "data": {
            "text/plain": [
              "1100"
            ]
          },
          "metadata": {},
          "execution_count": 27
        }
      ]
    },
    {
      "cell_type": "code",
      "metadata": {
        "colab": {
          "base_uri": "https://localhost:8080/"
        },
        "id": "XPs0DvX6Vwnz",
        "outputId": "dd296000-0198-45c0-e174-cf3bfbc723e0"
      },
      "source": [
        "# add() is written in C and optimized for efficiency\n",
        "from operator import add\n",
        "reduce(add, numbers, init)"
      ],
      "execution_count": 32,
      "outputs": [
        {
          "output_type": "execute_result",
          "data": {
            "text/plain": [
              "1100"
            ]
          },
          "metadata": {},
          "execution_count": 32
        }
      ]
    },
    {
      "cell_type": "code",
      "metadata": {
        "colab": {
          "base_uri": "https://localhost:8080/"
        },
        "id": "ILkP3ci-WOZX",
        "outputId": "a4541737-daab-49e6-be2a-91eea094c4b6"
      },
      "source": [
        "# Another possible use cases - finding min and max\n",
        "reduce(max, numbers)"
      ],
      "execution_count": 38,
      "outputs": [
        {
          "output_type": "execute_result",
          "data": {
            "text/plain": [
              "400"
            ]
          },
          "metadata": {},
          "execution_count": 38
        }
      ]
    },
    {
      "cell_type": "code",
      "metadata": {
        "colab": {
          "base_uri": "https://localhost:8080/"
        },
        "id": "MGN8Ci-yYd1l",
        "outputId": "af3dbfb6-4bf9-46fa-9010-bdf4f4f9b1ac"
      },
      "source": [
        "reduce(lambda a, b: int(a or b), numbers)"
      ],
      "execution_count": 47,
      "outputs": [
        {
          "output_type": "execute_result",
          "data": {
            "text/plain": [
              "100"
            ]
          },
          "metadata": {},
          "execution_count": 47
        }
      ]
    },
    {
      "cell_type": "code",
      "metadata": {
        "id": "kpqSmLxdg4CJ"
      },
      "source": [
        ""
      ],
      "execution_count": null,
      "outputs": []
    }
  ]
}