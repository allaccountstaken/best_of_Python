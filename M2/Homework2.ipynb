{
  "nbformat": 4,
  "nbformat_minor": 0,
  "metadata": {
    "colab": {
      "name": "Homework2.ipynb",
      "provenance": []
    },
    "kernelspec": {
      "name": "python3",
      "display_name": "Python 3"
    },
    "language_info": {
      "name": "python"
    }
  },
  "cells": [
    {
      "cell_type": "markdown",
      "metadata": {
        "id": "lVVTskX__spY"
      },
      "source": [
        "## Homework 2\n",
        "*  Name of activity (Module 02 Exercise: Python)\n",
        "*  Dmitry Mikhaylov\n",
        "*  Your UVA computing ID: agp7dp"
      ]
    },
    {
      "cell_type": "code",
      "metadata": {
        "id": "Zscd4X-zAVOT"
      },
      "source": [
        "class Student:\n",
        "    # fields: name, id, grades(a list)\n",
        "    \n",
        "    #Local variable\n",
        "    grades = [] # initially empty\n",
        "    \n",
        "    def __init__(self, name, id):  # constructor\n",
        "        self.name = name\n",
        "        self.id = id\n",
        "    \n",
        "    def addGrade(self, grade): # add the grade to the list of grades\n",
        "        self.grades.append(grade)\n",
        "    \n",
        "    def showGrades(self): # displaying the grades\n",
        "        grds = '' # empty string\n",
        "        for grade in self.grades: # Loop through grades list\n",
        "            grds += str(grade) + ' '  # assign each grade to the string grds\n",
        "        return grds"
      ],
      "execution_count": 2,
      "outputs": []
    },
    {
      "cell_type": "code",
      "metadata": {
        "colab": {
          "base_uri": "https://localhost:8080/"
        },
        "id": "JI7e6MgoAcfD",
        "outputId": "8fd4d82d-287e-40cb-975d-3b5d652ce95a"
      },
      "source": [
        "student1 = Student('Jones', '123')\n",
        "print(str(student1.name) + ', ' + str(student1.id)) # Output: Jones, 123\n",
        "student1.addGrade(88)\n",
        "student1.addGrade(72)\n",
        "student1.addGrade(100)\n",
        "print(\"Grades: \" + student1.showGrades()) # showing grades for student1\n",
        "# print(student1) # Will NOT work, since we do not have a \"to-string\" (__str__) method\n",
        "# Output of the above line will be a memory address like:\n",
        "#      <__main__.Student object at 0x00000220B8611BE0>"
      ],
      "execution_count": 3,
      "outputs": [
        {
          "output_type": "stream",
          "name": "stdout",
          "text": [
            "Jones, 123\n",
            "Grades: 88 72 100 \n"
          ]
        }
      ]
    },
    {
      "cell_type": "code",
      "metadata": {
        "colab": {
          "base_uri": "https://localhost:8080/"
        },
        "id": "Vc_Y5mwx_r_j",
        "outputId": "5273b08a-a8c5-4472-8957-e340a0ec4e75"
      },
      "source": [
        "# ** TO THINK ABOUT: **\n",
        "# This is fine, however, what happens if you create a second Student object??\n",
        "# Local (\"global\") variable grades (a list - which is a mutable object) will\n",
        "# accumulate grades from ALL students... this behavior is not what we want. \n",
        "# Uncomment lines 46-51 below and see what happens.  How would you fix this?? \n",
        "# For now, the above file is fine for the above scenario. \n",
        "\n",
        "# =============================================================================\n",
        "s2 = Student('Clayton', '115')\n",
        "print(str(s2.name) + ', ' + str(s2.id)) \n",
        "s2.addGrade(85)\n",
        "s2.addGrade(95)\n",
        "s2.addGrade(99)\n",
        "print(\"Grades: \" + s2.showGrades())  # !!!\n",
        "# ============================================================================="
      ],
      "execution_count": 4,
      "outputs": [
        {
          "output_type": "stream",
          "name": "stdout",
          "text": [
            "Clayton, 115\n",
            "Grades: 88 72 100 85 95 99 \n"
          ]
        }
      ]
    },
    {
      "cell_type": "markdown",
      "metadata": {
        "id": "bR9UlknQM7OS"
      },
      "source": [
        "#### Discussion:\n",
        "The problem is that every new instance of `Student` shares access to the list of `grades` and thus no instance really has a unique record of grades. This can be solved by the following:\n",
        " \n",
        "\n",
        "1.   Derive new class `GradedStudent` that takes in `Student` as a base class\n",
        "2.   Add `self.grades = list(grades)` into the new constructor\n",
        "3. When averaging the grades make sure to account for possibility of no grades, such as in case of a new studnet. \n",
        "\n"
      ]
    },
    {
      "cell_type": "code",
      "metadata": {
        "id": "wVm6BhBNAvdX"
      },
      "source": [
        "class GradedStudent(Student):\n",
        "  \n",
        "\n",
        "  def __init__(self, name, id, grades): # modified constructor\n",
        "    Student.__init__(self, name, id)\n",
        "    self.grades = list(grades)\n",
        "  \n",
        "  def average(self): # average the list of grades\n",
        "    try:\n",
        "      avg = sum(self.grades) / len(self.grades)\n",
        "    except (IndexError, ZeroDivisionError): # if no grades yet, return 0\n",
        "      avg = 0\n",
        "    return avg\n",
        "\n",
        "  def __str__(self): # string representation of the class\n",
        "    result =  \"Graded student {} with ID {} has grades {} averaging {}.\".format(\n",
        "        self.name, str(self.id), str(self.grades), str(self.average())\n",
        "        )\n",
        "    return result"
      ],
      "execution_count": 146,
      "outputs": []
    },
    {
      "cell_type": "code",
      "metadata": {
        "id": "ZxJ-9utFBGqc"
      },
      "source": [
        "gs = GradedStudent(\"Bob\", 123, [33, 33, 22, 222])"
      ],
      "execution_count": 147,
      "outputs": []
    },
    {
      "cell_type": "code",
      "metadata": {
        "colab": {
          "base_uri": "https://localhost:8080/"
        },
        "id": "Byb9F6BQEk5r",
        "outputId": "28ddfbe7-eaf0-4d56-8c2c-9ba889a96c62"
      },
      "source": [
        "print(gs)"
      ],
      "execution_count": 148,
      "outputs": [
        {
          "output_type": "stream",
          "name": "stdout",
          "text": [
            "Graded student Bob with ID 123 has grades [33, 33, 22, 222] averaging 77.5.\n"
          ]
        }
      ]
    },
    {
      "cell_type": "code",
      "metadata": {
        "id": "2Q5kRz5_E59i"
      },
      "source": [
        "another_gs = GradedStudent(\"Alice\", 123, [777777, 888888, 99999])"
      ],
      "execution_count": 149,
      "outputs": []
    },
    {
      "cell_type": "code",
      "metadata": {
        "colab": {
          "base_uri": "https://localhost:8080/"
        },
        "id": "30KMxHIdFAVG",
        "outputId": "bc84f43f-c536-4399-ef10-cb843b8ce604"
      },
      "source": [
        "print(another_gs)"
      ],
      "execution_count": 150,
      "outputs": [
        {
          "output_type": "stream",
          "name": "stdout",
          "text": [
            "Graded student Alice with ID 123 has grades [777777, 888888, 99999] averaging 588888.0.\n"
          ]
        }
      ]
    },
    {
      "cell_type": "code",
      "metadata": {
        "id": "REn0Lk17LufJ"
      },
      "source": [
        "new_gs = GradedStudent(\"Cat\", 2242, []) # new studnet without any grades yet"
      ],
      "execution_count": 153,
      "outputs": []
    },
    {
      "cell_type": "code",
      "metadata": {
        "colab": {
          "base_uri": "https://localhost:8080/"
        },
        "id": "721dXH9kL1lH",
        "outputId": "9610be23-092b-432b-ac1f-c9fb5fcd417e"
      },
      "source": [
        "print(new_gs)"
      ],
      "execution_count": 154,
      "outputs": [
        {
          "output_type": "stream",
          "name": "stdout",
          "text": [
            "Graded student Cat with ID 2242 has grades [] averaging 0.\n"
          ]
        }
      ]
    },
    {
      "cell_type": "code",
      "metadata": {
        "id": "IBii0nvsL8sT"
      },
      "source": [
        "new_gs.addGrade(44)"
      ],
      "execution_count": 155,
      "outputs": []
    },
    {
      "cell_type": "code",
      "metadata": {
        "colab": {
          "base_uri": "https://localhost:8080/",
          "height": 35
        },
        "id": "JYvQ5U56MmeK",
        "outputId": "52c0a36c-6cd2-4188-a4c1-7db96fa5d458"
      },
      "source": [
        "new_gs.showGrades()"
      ],
      "execution_count": 156,
      "outputs": [
        {
          "output_type": "execute_result",
          "data": {
            "application/vnd.google.colaboratory.intrinsic+json": {
              "type": "string"
            },
            "text/plain": [
              "'44 '"
            ]
          },
          "metadata": {},
          "execution_count": 156
        }
      ]
    },
    {
      "cell_type": "code",
      "metadata": {
        "colab": {
          "base_uri": "https://localhost:8080/"
        },
        "id": "e8dovLZmMrrS",
        "outputId": "6b94d4a0-1607-4151-8b40-8308bf687c5e"
      },
      "source": [
        "print(new_gs)"
      ],
      "execution_count": 157,
      "outputs": [
        {
          "output_type": "stream",
          "name": "stdout",
          "text": [
            "Graded student Cat with ID 2242 has grades [44] averaging 44.0.\n"
          ]
        }
      ]
    },
    {
      "cell_type": "code",
      "metadata": {
        "id": "UEseWJSkMuNu"
      },
      "source": [
        ""
      ],
      "execution_count": null,
      "outputs": []
    }
  ]
}